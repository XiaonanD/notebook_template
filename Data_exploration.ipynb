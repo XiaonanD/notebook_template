{
 "cells": [
  {
   "cell_type": "markdown",
   "metadata": {},
   "source": [
    "# Data_challenge -biotech world"
   ]
  },
  {
   "cell_type": "code",
   "execution_count": 1,
   "metadata": {
    "collapsed": true
   },
   "outputs": [],
   "source": [
    "import pandas as pd\n",
    "import numpy as np\n",
    "import matplotlib.pyplot as plt\n",
    "%matplotlib inline"
   ]
  },
  {
   "cell_type": "code",
   "execution_count": 227,
   "metadata": {
    "collapsed": false
   },
   "outputs": [],
   "source": [
    "from pandas import scatter_matrix"
   ]
  },
  {
   "cell_type": "code",
   "execution_count": null,
   "metadata": {
    "collapsed": true
   },
   "outputs": [],
   "source": [
    "# plt.style.use('bmh')\n",
    "# plt.style.available"
   ]
  },
  {
   "cell_type": "code",
   "execution_count": null,
   "metadata": {
    "collapsed": true
   },
   "outputs": [],
   "source": [
    "Summary of data challenge\n",
    "\n",
    "1) #Class: (2 for benign, 4 for malignant)\n",
    "   Data balance: benigh/maligant = 2:1\n",
    "2) remove duplicates\n",
    "3) change column Bare_Nuclei: convert string to int and replace ? with -1\n",
    "4) data ---X, target --y\n",
    "5) split data into train/test (80/20)\n",
    "6) applied logistic regression and random forest and both gave me good results\n",
    "7) interpret results"
   ]
  },
  {
   "cell_type": "markdown",
   "metadata": {},
   "source": [
    "1) Load data\n",
    "======"
   ]
  },
  {
   "cell_type": "markdown",
   "metadata": {},
   "source": [
    "    The dataset consists of 699 cells for which you have the following features:\n",
    "    1. Sample code number: id number \n",
    "    2. Clump Thickness: 1 - 10 \n",
    "    3. Uniformity of Cell Size: 1 - 10 \n",
    "    4. Uniformity of Cell Shape: 1 - 10 \n",
    "    5. Marginal Adhesion: 1 - 10 \n",
    "    6. Single Epithelial Cell Size: 1 - 10 \n",
    "    7. Bare Nuclei: 1 - 10 \n",
    "    8. Bland Chromatin: 1 - 10 \n",
    "    9. Normal Nucleoli: 1 - 10 \n",
    "    10. Mitoses: 1 - 10 \n",
    "    11. Class: (2 for benign, 4 for malignant)"
   ]
  },
  {
   "cell_type": "code",
   "execution_count": 2,
   "metadata": {
    "collapsed": true
   },
   "outputs": [],
   "source": [
    "url = 'https://archive.ics.uci.edu/ml/machine-learning-databases/breast-cancer-wisconsin/breast-cancer-wisconsin.data'"
   ]
  },
  {
   "cell_type": "code",
   "execution_count": 3,
   "metadata": {
    "collapsed": true
   },
   "outputs": [],
   "source": [
    "col_names = ['id','Clump_Thickness',\n",
    "            'Cell_Size','Cell_Shape',\n",
    "            'Marginal_Adhesion','SingleEpithelial_Cell_Size',\n",
    "            'Bare_Nuclei','Bland_Chromatin',\n",
    "             'Normal_Nucleoli','Mitoses',\n",
    "            'Class']"
   ]
  },
  {
   "cell_type": "code",
   "execution_count": 51,
   "metadata": {
    "collapsed": false
   },
   "outputs": [
    {
     "data": {
      "text/html": [
       "<div>\n",
       "<table border=\"1\" class=\"dataframe\">\n",
       "  <thead>\n",
       "    <tr style=\"text-align: right;\">\n",
       "      <th></th>\n",
       "      <th>id</th>\n",
       "      <th>Clump_Thickness</th>\n",
       "      <th>Cell_Size</th>\n",
       "      <th>Cell_Shape</th>\n",
       "      <th>Marginal_Adhesion</th>\n",
       "      <th>SingleEpithelial_Cell_Size</th>\n",
       "      <th>Bare_Nuclei</th>\n",
       "      <th>Bland_Chromatin</th>\n",
       "      <th>Normal_Nucleoli</th>\n",
       "      <th>Mitoses</th>\n",
       "      <th>Class</th>\n",
       "    </tr>\n",
       "  </thead>\n",
       "  <tbody>\n",
       "    <tr>\n",
       "      <th>0</th>\n",
       "      <td>1000025</td>\n",
       "      <td>5</td>\n",
       "      <td>1</td>\n",
       "      <td>1</td>\n",
       "      <td>1</td>\n",
       "      <td>2</td>\n",
       "      <td>1</td>\n",
       "      <td>3</td>\n",
       "      <td>1</td>\n",
       "      <td>1</td>\n",
       "      <td>2</td>\n",
       "    </tr>\n",
       "    <tr>\n",
       "      <th>1</th>\n",
       "      <td>1002945</td>\n",
       "      <td>5</td>\n",
       "      <td>4</td>\n",
       "      <td>4</td>\n",
       "      <td>5</td>\n",
       "      <td>7</td>\n",
       "      <td>10</td>\n",
       "      <td>3</td>\n",
       "      <td>2</td>\n",
       "      <td>1</td>\n",
       "      <td>2</td>\n",
       "    </tr>\n",
       "  </tbody>\n",
       "</table>\n",
       "</div>"
      ],
      "text/plain": [
       "        id  Clump_Thickness  Cell_Size  Cell_Shape  Marginal_Adhesion  \\\n",
       "0  1000025                5          1           1                  1   \n",
       "1  1002945                5          4           4                  5   \n",
       "\n",
       "   SingleEpithelial_Cell_Size Bare_Nuclei  Bland_Chromatin  Normal_Nucleoli  \\\n",
       "0                           2           1                3                1   \n",
       "1                           7          10                3                2   \n",
       "\n",
       "   Mitoses  Class  \n",
       "0        1      2  \n",
       "1        1      2  "
      ]
     },
     "execution_count": 51,
     "metadata": {},
     "output_type": "execute_result"
    }
   ],
   "source": [
    "raw_data = pd.read_csv(url,header= None)\n",
    "raw_data.columns = col_names\n",
    "raw_data.head(2)"
   ]
  },
  {
   "cell_type": "markdown",
   "metadata": {},
   "source": [
    "# 2) Remove duplicates\n",
    "There are duplicate rows and list all of those duplicates below"
   ]
  },
  {
   "cell_type": "code",
   "execution_count": 52,
   "metadata": {
    "collapsed": false
   },
   "outputs": [
    {
     "data": {
      "text/plain": [
       "8"
      ]
     },
     "execution_count": 52,
     "metadata": {},
     "output_type": "execute_result"
    }
   ],
   "source": [
    "#raw data's size :(699, 11)\n",
    "raw_data.shape\n",
    "\n",
    "# there are duplicates. without duplicates the size:(691, 11)\n",
    "raw_data.drop_duplicates().shape \n",
    "\n",
    "# there are 8 duplicated rows\n",
    "raw_data.duplicated().sum()"
   ]
  },
  {
   "cell_type": "code",
   "execution_count": 20,
   "metadata": {
    "collapsed": false
   },
   "outputs": [
    {
     "data": {
      "text/plain": [
       "645"
      ]
     },
     "execution_count": 20,
     "metadata": {},
     "output_type": "execute_result"
    }
   ],
   "source": [
    "# for each id, let's check if it has a unique one record or multiple record\n",
    "# there are 645 unique ids, and there are 691 unique entire data, meaning some id has multiple records\n",
    "len(np.unique(raw_data.id))"
   ]
  },
  {
   "cell_type": "code",
   "execution_count": 15,
   "metadata": {
    "collapsed": false
   },
   "outputs": [
    {
     "data": {
      "text/html": [
       "<div>\n",
       "<table border=\"1\" class=\"dataframe\">\n",
       "  <thead>\n",
       "    <tr style=\"text-align: right;\">\n",
       "      <th></th>\n",
       "      <th>id</th>\n",
       "      <th>Clump_Thickness</th>\n",
       "      <th>Cell_Size</th>\n",
       "      <th>Cell_Shape</th>\n",
       "      <th>Marginal_Adhesion</th>\n",
       "      <th>SingleEpithelial_Cell_Size</th>\n",
       "      <th>Bare_Nuclei</th>\n",
       "      <th>Bland_Chromatin</th>\n",
       "      <th>Normal_Nucleoli</th>\n",
       "      <th>Mitoses</th>\n",
       "      <th>Class</th>\n",
       "    </tr>\n",
       "  </thead>\n",
       "  <tbody>\n",
       "    <tr>\n",
       "      <th>9</th>\n",
       "      <td>1033078</td>\n",
       "      <td>4</td>\n",
       "      <td>2</td>\n",
       "      <td>1</td>\n",
       "      <td>1</td>\n",
       "      <td>2</td>\n",
       "      <td>1</td>\n",
       "      <td>2</td>\n",
       "      <td>1</td>\n",
       "      <td>1</td>\n",
       "      <td>2</td>\n",
       "    </tr>\n",
       "    <tr>\n",
       "      <th>30</th>\n",
       "      <td>1070935</td>\n",
       "      <td>3</td>\n",
       "      <td>1</td>\n",
       "      <td>1</td>\n",
       "      <td>1</td>\n",
       "      <td>1</td>\n",
       "      <td>1</td>\n",
       "      <td>2</td>\n",
       "      <td>1</td>\n",
       "      <td>1</td>\n",
       "      <td>2</td>\n",
       "    </tr>\n",
       "    <tr>\n",
       "      <th>82</th>\n",
       "      <td>1143978</td>\n",
       "      <td>5</td>\n",
       "      <td>2</td>\n",
       "      <td>1</td>\n",
       "      <td>1</td>\n",
       "      <td>2</td>\n",
       "      <td>1</td>\n",
       "      <td>3</td>\n",
       "      <td>1</td>\n",
       "      <td>1</td>\n",
       "      <td>2</td>\n",
       "    </tr>\n",
       "  </tbody>\n",
       "</table>\n",
       "</div>"
      ],
      "text/plain": [
       "         id  Clump_Thickness  Cell_Size  Cell_Shape  Marginal_Adhesion  \\\n",
       "9   1033078                4          2           1                  1   \n",
       "30  1070935                3          1           1                  1   \n",
       "82  1143978                5          2           1                  1   \n",
       "\n",
       "    SingleEpithelial_Cell_Size Bare_Nuclei  Bland_Chromatin  Normal_Nucleoli  \\\n",
       "9                            2           1                2                1   \n",
       "30                           1           1                2                1   \n",
       "82                           2           1                3                1   \n",
       "\n",
       "    Mitoses  Class  \n",
       "9         1      2  \n",
       "30        1      2  \n",
       "82        1      2  "
      ]
     },
     "execution_count": 15,
     "metadata": {},
     "output_type": "execute_result"
    }
   ],
   "source": [
    "raw_data.loc[raw_data.id.duplicated()].head(3)"
   ]
  },
  {
   "cell_type": "code",
   "execution_count": 16,
   "metadata": {
    "collapsed": false
   },
   "outputs": [
    {
     "data": {
      "text/html": [
       "<div>\n",
       "<table border=\"1\" class=\"dataframe\">\n",
       "  <thead>\n",
       "    <tr style=\"text-align: right;\">\n",
       "      <th></th>\n",
       "      <th>id</th>\n",
       "      <th>Clump_Thickness</th>\n",
       "      <th>Cell_Size</th>\n",
       "      <th>Cell_Shape</th>\n",
       "      <th>Marginal_Adhesion</th>\n",
       "      <th>SingleEpithelial_Cell_Size</th>\n",
       "      <th>Bare_Nuclei</th>\n",
       "      <th>Bland_Chromatin</th>\n",
       "      <th>Normal_Nucleoli</th>\n",
       "      <th>Mitoses</th>\n",
       "      <th>Class</th>\n",
       "    </tr>\n",
       "  </thead>\n",
       "  <tbody>\n",
       "    <tr>\n",
       "      <th>81</th>\n",
       "      <td>1143978</td>\n",
       "      <td>4</td>\n",
       "      <td>1</td>\n",
       "      <td>1</td>\n",
       "      <td>2</td>\n",
       "      <td>2</td>\n",
       "      <td>1</td>\n",
       "      <td>2</td>\n",
       "      <td>1</td>\n",
       "      <td>1</td>\n",
       "      <td>2</td>\n",
       "    </tr>\n",
       "    <tr>\n",
       "      <th>82</th>\n",
       "      <td>1143978</td>\n",
       "      <td>5</td>\n",
       "      <td>2</td>\n",
       "      <td>1</td>\n",
       "      <td>1</td>\n",
       "      <td>2</td>\n",
       "      <td>1</td>\n",
       "      <td>3</td>\n",
       "      <td>1</td>\n",
       "      <td>1</td>\n",
       "      <td>2</td>\n",
       "    </tr>\n",
       "  </tbody>\n",
       "</table>\n",
       "</div>"
      ],
      "text/plain": [
       "         id  Clump_Thickness  Cell_Size  Cell_Shape  Marginal_Adhesion  \\\n",
       "81  1143978                4          1           1                  2   \n",
       "82  1143978                5          2           1                  1   \n",
       "\n",
       "    SingleEpithelial_Cell_Size Bare_Nuclei  Bland_Chromatin  Normal_Nucleoli  \\\n",
       "81                           2           1                2                1   \n",
       "82                           2           1                3                1   \n",
       "\n",
       "    Mitoses  Class  \n",
       "81        1      2  \n",
       "82        1      2  "
      ]
     },
     "execution_count": 16,
     "metadata": {},
     "output_type": "execute_result"
    }
   ],
   "source": [
    "# list an example here to see for one id that include multiple records\n",
    "raw_data[raw_data.id == 1143978 ]"
   ]
  },
  {
   "cell_type": "code",
   "execution_count": null,
   "metadata": {
    "collapsed": true
   },
   "outputs": [],
   "source": [
    "#Now let's remove duplicate (meaning the same row is duplicate) and analyze data"
   ]
  },
  {
   "cell_type": "code",
   "execution_count": 60,
   "metadata": {
    "collapsed": false
   },
   "outputs": [
    {
     "data": {
      "text/plain": [
       "8"
      ]
     },
     "execution_count": 60,
     "metadata": {},
     "output_type": "execute_result"
    }
   ],
   "source": [
    "raw_data.duplicated().sum() # there are 8 rows that are duplicates including id"
   ]
  },
  {
   "cell_type": "code",
   "execution_count": 61,
   "metadata": {
    "collapsed": false
   },
   "outputs": [
    {
     "data": {
      "text/html": [
       "<div>\n",
       "<table border=\"1\" class=\"dataframe\">\n",
       "  <thead>\n",
       "    <tr style=\"text-align: right;\">\n",
       "      <th></th>\n",
       "      <th>id</th>\n",
       "      <th>Clump_Thickness</th>\n",
       "      <th>Cell_Size</th>\n",
       "      <th>Cell_Shape</th>\n",
       "      <th>Marginal_Adhesion</th>\n",
       "      <th>SingleEpithelial_Cell_Size</th>\n",
       "      <th>Bare_Nuclei</th>\n",
       "      <th>Bland_Chromatin</th>\n",
       "      <th>Normal_Nucleoli</th>\n",
       "      <th>Mitoses</th>\n",
       "      <th>Class</th>\n",
       "    </tr>\n",
       "  </thead>\n",
       "  <tbody>\n",
       "    <tr>\n",
       "      <th>208</th>\n",
       "      <td>1218860</td>\n",
       "      <td>1</td>\n",
       "      <td>1</td>\n",
       "      <td>1</td>\n",
       "      <td>1</td>\n",
       "      <td>1</td>\n",
       "      <td>1</td>\n",
       "      <td>3</td>\n",
       "      <td>1</td>\n",
       "      <td>1</td>\n",
       "      <td>2</td>\n",
       "    </tr>\n",
       "    <tr>\n",
       "      <th>253</th>\n",
       "      <td>1100524</td>\n",
       "      <td>6</td>\n",
       "      <td>10</td>\n",
       "      <td>10</td>\n",
       "      <td>2</td>\n",
       "      <td>8</td>\n",
       "      <td>10</td>\n",
       "      <td>7</td>\n",
       "      <td>3</td>\n",
       "      <td>3</td>\n",
       "      <td>4</td>\n",
       "    </tr>\n",
       "    <tr>\n",
       "      <th>254</th>\n",
       "      <td>1116116</td>\n",
       "      <td>9</td>\n",
       "      <td>10</td>\n",
       "      <td>10</td>\n",
       "      <td>1</td>\n",
       "      <td>10</td>\n",
       "      <td>8</td>\n",
       "      <td>3</td>\n",
       "      <td>3</td>\n",
       "      <td>1</td>\n",
       "      <td>4</td>\n",
       "    </tr>\n",
       "    <tr>\n",
       "      <th>258</th>\n",
       "      <td>1198641</td>\n",
       "      <td>3</td>\n",
       "      <td>1</td>\n",
       "      <td>1</td>\n",
       "      <td>1</td>\n",
       "      <td>2</td>\n",
       "      <td>1</td>\n",
       "      <td>3</td>\n",
       "      <td>1</td>\n",
       "      <td>1</td>\n",
       "      <td>2</td>\n",
       "    </tr>\n",
       "    <tr>\n",
       "      <th>272</th>\n",
       "      <td>320675</td>\n",
       "      <td>3</td>\n",
       "      <td>3</td>\n",
       "      <td>5</td>\n",
       "      <td>2</td>\n",
       "      <td>3</td>\n",
       "      <td>10</td>\n",
       "      <td>7</td>\n",
       "      <td>1</td>\n",
       "      <td>1</td>\n",
       "      <td>4</td>\n",
       "    </tr>\n",
       "    <tr>\n",
       "      <th>338</th>\n",
       "      <td>704097</td>\n",
       "      <td>1</td>\n",
       "      <td>1</td>\n",
       "      <td>1</td>\n",
       "      <td>1</td>\n",
       "      <td>1</td>\n",
       "      <td>1</td>\n",
       "      <td>2</td>\n",
       "      <td>1</td>\n",
       "      <td>1</td>\n",
       "      <td>2</td>\n",
       "    </tr>\n",
       "    <tr>\n",
       "      <th>561</th>\n",
       "      <td>1321942</td>\n",
       "      <td>5</td>\n",
       "      <td>1</td>\n",
       "      <td>1</td>\n",
       "      <td>1</td>\n",
       "      <td>2</td>\n",
       "      <td>1</td>\n",
       "      <td>3</td>\n",
       "      <td>1</td>\n",
       "      <td>1</td>\n",
       "      <td>2</td>\n",
       "    </tr>\n",
       "    <tr>\n",
       "      <th>684</th>\n",
       "      <td>466906</td>\n",
       "      <td>1</td>\n",
       "      <td>1</td>\n",
       "      <td>1</td>\n",
       "      <td>1</td>\n",
       "      <td>2</td>\n",
       "      <td>1</td>\n",
       "      <td>1</td>\n",
       "      <td>1</td>\n",
       "      <td>1</td>\n",
       "      <td>2</td>\n",
       "    </tr>\n",
       "  </tbody>\n",
       "</table>\n",
       "</div>"
      ],
      "text/plain": [
       "          id  Clump_Thickness  Cell_Size  Cell_Shape  Marginal_Adhesion  \\\n",
       "208  1218860                1          1           1                  1   \n",
       "253  1100524                6         10          10                  2   \n",
       "254  1116116                9         10          10                  1   \n",
       "258  1198641                3          1           1                  1   \n",
       "272   320675                3          3           5                  2   \n",
       "338   704097                1          1           1                  1   \n",
       "561  1321942                5          1           1                  1   \n",
       "684   466906                1          1           1                  1   \n",
       "\n",
       "     SingleEpithelial_Cell_Size Bare_Nuclei  Bland_Chromatin  Normal_Nucleoli  \\\n",
       "208                           1           1                3                1   \n",
       "253                           8          10                7                3   \n",
       "254                          10           8                3                3   \n",
       "258                           2           1                3                1   \n",
       "272                           3          10                7                1   \n",
       "338                           1           1                2                1   \n",
       "561                           2           1                3                1   \n",
       "684                           2           1                1                1   \n",
       "\n",
       "     Mitoses  Class  \n",
       "208        1      2  \n",
       "253        3      4  \n",
       "254        1      4  \n",
       "258        1      2  \n",
       "272        1      4  \n",
       "338        1      2  \n",
       "561        1      2  \n",
       "684        1      2  "
      ]
     },
     "execution_count": 61,
     "metadata": {},
     "output_type": "execute_result"
    }
   ],
   "source": [
    "# duplicate rows --raw_data.duplicated()\n",
    "raw_data.loc[raw_data.duplicated()]"
   ]
  },
  {
   "cell_type": "code",
   "execution_count": 62,
   "metadata": {
    "collapsed": false
   },
   "outputs": [
    {
     "data": {
      "text/plain": [
       "54"
      ]
     },
     "execution_count": 62,
     "metadata": {},
     "output_type": "execute_result"
    }
   ],
   "source": [
    "raw_data.id.duplicated().sum()"
   ]
  },
  {
   "cell_type": "code",
   "execution_count": 1,
   "metadata": {
    "collapsed": false
   },
   "outputs": [],
   "source": [
    "# same id can have muliple different records\n",
    "# raw_data[raw_data.id == 1182404]"
   ]
  },
  {
   "cell_type": "code",
   "execution_count": null,
   "metadata": {
    "collapsed": true
   },
   "outputs": [],
   "source": [
    "# drop duplicates and inplace the raw_data"
   ]
  },
  {
   "cell_type": "code",
   "execution_count": 53,
   "metadata": {
    "collapsed": false
   },
   "outputs": [],
   "source": [
    "raw_data.drop_duplicates(keep = 'first',inplace=True)"
   ]
  },
  {
   "cell_type": "code",
   "execution_count": 7,
   "metadata": {
    "collapsed": false
   },
   "outputs": [
    {
     "data": {
      "text/plain": [
       "(691, 11)"
      ]
     },
     "execution_count": 7,
     "metadata": {},
     "output_type": "execute_result"
    }
   ],
   "source": [
    "raw_data.shape"
   ]
  },
  {
   "cell_type": "code",
   "execution_count": 66,
   "metadata": {
    "collapsed": false
   },
   "outputs": [
    {
     "data": {
      "text/plain": [
       "0"
      ]
     },
     "execution_count": 66,
     "metadata": {},
     "output_type": "execute_result"
    }
   ],
   "source": [
    "raw_data.duplicated().sum()"
   ]
  },
  {
   "cell_type": "markdown",
   "metadata": {},
   "source": [
    "    # After dropping duplicates, then no need to keep id, so get the dataset as data to drop id"
   ]
  },
  {
   "cell_type": "code",
   "execution_count": 54,
   "metadata": {
    "collapsed": false
   },
   "outputs": [
    {
     "data": {
      "text/plain": [
       "(691, 10)"
      ]
     },
     "execution_count": 54,
     "metadata": {},
     "output_type": "execute_result"
    }
   ],
   "source": [
    "data = raw_data.drop('id',axis = 1)\n",
    "data.shape"
   ]
  },
  {
   "cell_type": "code",
   "execution_count": 22,
   "metadata": {
    "collapsed": false
   },
   "outputs": [
    {
     "data": {
      "text/html": [
       "<div>\n",
       "<table border=\"1\" class=\"dataframe\">\n",
       "  <thead>\n",
       "    <tr style=\"text-align: right;\">\n",
       "      <th></th>\n",
       "      <th>Clump_Thickness</th>\n",
       "      <th>Cell_Size</th>\n",
       "      <th>Cell_Shape</th>\n",
       "      <th>Marginal_Adhesion</th>\n",
       "      <th>SingleEpithelial_Cell_Size</th>\n",
       "      <th>Bare_Nuclei</th>\n",
       "      <th>Bland_Chromatin</th>\n",
       "      <th>Normal_Nucleoli</th>\n",
       "      <th>Mitoses</th>\n",
       "      <th>Class</th>\n",
       "    </tr>\n",
       "  </thead>\n",
       "  <tbody>\n",
       "    <tr>\n",
       "      <th>28</th>\n",
       "      <td>2</td>\n",
       "      <td>1</td>\n",
       "      <td>1</td>\n",
       "      <td>1</td>\n",
       "      <td>2</td>\n",
       "      <td>1</td>\n",
       "      <td>2</td>\n",
       "      <td>1</td>\n",
       "      <td>1</td>\n",
       "      <td>2</td>\n",
       "    </tr>\n",
       "    <tr>\n",
       "      <th>35</th>\n",
       "      <td>2</td>\n",
       "      <td>1</td>\n",
       "      <td>1</td>\n",
       "      <td>1</td>\n",
       "      <td>2</td>\n",
       "      <td>1</td>\n",
       "      <td>2</td>\n",
       "      <td>1</td>\n",
       "      <td>1</td>\n",
       "      <td>2</td>\n",
       "    </tr>\n",
       "    <tr>\n",
       "      <th>48</th>\n",
       "      <td>4</td>\n",
       "      <td>1</td>\n",
       "      <td>1</td>\n",
       "      <td>3</td>\n",
       "      <td>2</td>\n",
       "      <td>1</td>\n",
       "      <td>3</td>\n",
       "      <td>1</td>\n",
       "      <td>1</td>\n",
       "      <td>2</td>\n",
       "    </tr>\n",
       "  </tbody>\n",
       "</table>\n",
       "</div>"
      ],
      "text/plain": [
       "    Clump_Thickness  Cell_Size  Cell_Shape  Marginal_Adhesion  \\\n",
       "28                2          1           1                  1   \n",
       "35                2          1           1                  1   \n",
       "48                4          1           1                  3   \n",
       "\n",
       "    SingleEpithelial_Cell_Size Bare_Nuclei  Bland_Chromatin  Normal_Nucleoli  \\\n",
       "28                           2           1                2                1   \n",
       "35                           2           1                2                1   \n",
       "48                           2           1                3                1   \n",
       "\n",
       "    Mitoses  Class  \n",
       "28        1      2  \n",
       "35        1      2  \n",
       "48        1      2  "
      ]
     },
     "execution_count": 22,
     "metadata": {},
     "output_type": "execute_result"
    }
   ],
   "source": [
    "# there are records that are the same, they are from different cell_id, we consider them as different data entries\n",
    "data.loc[data.duplicated()].head(3)"
   ]
  },
  {
   "cell_type": "markdown",
   "metadata": {},
   "source": [
    "# Fillna with median-code to do this"
   ]
  },
  {
   "cell_type": "code",
   "execution_count": null,
   "metadata": {
    "collapsed": true
   },
   "outputs": [],
   "source": [
    "median_features = numerical_features.dropna().median()\n",
    "median_features\n",
    "\n",
    "imputed_features = numerical_features.fillna(median_features)\n",
    "imputed_features.count()\n",
    "#imputed by median is more robust to outlier."
   ]
  },
  {
   "cell_type": "markdown",
   "metadata": {},
   "source": [
    "# 3) explore the data columns"
   ]
  },
  {
   "cell_type": "code",
   "execution_count": 23,
   "metadata": {
    "collapsed": false
   },
   "outputs": [
    {
     "data": {
      "text/plain": [
       "Clump_Thickness               0\n",
       "Cell_Size                     0\n",
       "Cell_Shape                    0\n",
       "Marginal_Adhesion             0\n",
       "SingleEpithelial_Cell_Size    0\n",
       "Bare_Nuclei                   0\n",
       "Bland_Chromatin               0\n",
       "Normal_Nucleoli               0\n",
       "Mitoses                       0\n",
       "Class                         0\n",
       "dtype: int64"
      ]
     },
     "execution_count": 23,
     "metadata": {},
     "output_type": "execute_result"
    }
   ],
   "source": [
    "# check if there are null values in each column\n",
    "data.isnull().sum()\n",
    "# solution: no nan values except Bare_Nuclei "
   ]
  },
  {
   "cell_type": "code",
   "execution_count": 37,
   "metadata": {
    "collapsed": false
   },
   "outputs": [
    {
     "data": {
      "text/html": [
       "<div>\n",
       "<table border=\"1\" class=\"dataframe\">\n",
       "  <thead>\n",
       "    <tr style=\"text-align: right;\">\n",
       "      <th></th>\n",
       "      <th>Clump_Thickness</th>\n",
       "      <th>Cell_Size</th>\n",
       "      <th>Cell_Shape</th>\n",
       "      <th>Marginal_Adhesion</th>\n",
       "      <th>SingleEpithelial_Cell_Size</th>\n",
       "      <th>Bland Chromatin</th>\n",
       "      <th>Normal Nucleoli</th>\n",
       "      <th>Mitoses</th>\n",
       "      <th>Class</th>\n",
       "    </tr>\n",
       "  </thead>\n",
       "  <tbody>\n",
       "    <tr>\n",
       "      <th>count</th>\n",
       "      <td>691.000000</td>\n",
       "      <td>691.000000</td>\n",
       "      <td>691.000000</td>\n",
       "      <td>691.000000</td>\n",
       "      <td>691.000000</td>\n",
       "      <td>691.000000</td>\n",
       "      <td>691.000000</td>\n",
       "      <td>691.000000</td>\n",
       "      <td>691.000000</td>\n",
       "    </tr>\n",
       "    <tr>\n",
       "      <th>mean</th>\n",
       "      <td>4.426918</td>\n",
       "      <td>3.130246</td>\n",
       "      <td>3.201158</td>\n",
       "      <td>2.824891</td>\n",
       "      <td>3.211288</td>\n",
       "      <td>3.435601</td>\n",
       "      <td>2.882779</td>\n",
       "      <td>1.593343</td>\n",
       "      <td>2.688857</td>\n",
       "    </tr>\n",
       "    <tr>\n",
       "      <th>std</th>\n",
       "      <td>2.815861</td>\n",
       "      <td>3.041328</td>\n",
       "      <td>2.959886</td>\n",
       "      <td>2.866552</td>\n",
       "      <td>2.199852</td>\n",
       "      <td>2.442345</td>\n",
       "      <td>3.066298</td>\n",
       "      <td>1.723129</td>\n",
       "      <td>0.951051</td>\n",
       "    </tr>\n",
       "    <tr>\n",
       "      <th>min</th>\n",
       "      <td>1.000000</td>\n",
       "      <td>1.000000</td>\n",
       "      <td>1.000000</td>\n",
       "      <td>1.000000</td>\n",
       "      <td>1.000000</td>\n",
       "      <td>1.000000</td>\n",
       "      <td>1.000000</td>\n",
       "      <td>1.000000</td>\n",
       "      <td>2.000000</td>\n",
       "    </tr>\n",
       "    <tr>\n",
       "      <th>25%</th>\n",
       "      <td>2.000000</td>\n",
       "      <td>1.000000</td>\n",
       "      <td>1.000000</td>\n",
       "      <td>1.000000</td>\n",
       "      <td>2.000000</td>\n",
       "      <td>2.000000</td>\n",
       "      <td>1.000000</td>\n",
       "      <td>1.000000</td>\n",
       "      <td>2.000000</td>\n",
       "    </tr>\n",
       "    <tr>\n",
       "      <th>50%</th>\n",
       "      <td>4.000000</td>\n",
       "      <td>1.000000</td>\n",
       "      <td>1.000000</td>\n",
       "      <td>1.000000</td>\n",
       "      <td>2.000000</td>\n",
       "      <td>3.000000</td>\n",
       "      <td>1.000000</td>\n",
       "      <td>1.000000</td>\n",
       "      <td>2.000000</td>\n",
       "    </tr>\n",
       "    <tr>\n",
       "      <th>75%</th>\n",
       "      <td>6.000000</td>\n",
       "      <td>5.000000</td>\n",
       "      <td>5.000000</td>\n",
       "      <td>4.000000</td>\n",
       "      <td>4.000000</td>\n",
       "      <td>5.000000</td>\n",
       "      <td>4.000000</td>\n",
       "      <td>1.000000</td>\n",
       "      <td>4.000000</td>\n",
       "    </tr>\n",
       "    <tr>\n",
       "      <th>max</th>\n",
       "      <td>10.000000</td>\n",
       "      <td>10.000000</td>\n",
       "      <td>10.000000</td>\n",
       "      <td>10.000000</td>\n",
       "      <td>10.000000</td>\n",
       "      <td>10.000000</td>\n",
       "      <td>10.000000</td>\n",
       "      <td>10.000000</td>\n",
       "      <td>4.000000</td>\n",
       "    </tr>\n",
       "  </tbody>\n",
       "</table>\n",
       "</div>"
      ],
      "text/plain": [
       "       Clump_Thickness   Cell_Size  Cell_Shape  Marginal_Adhesion  \\\n",
       "count       691.000000  691.000000  691.000000         691.000000   \n",
       "mean          4.426918    3.130246    3.201158           2.824891   \n",
       "std           2.815861    3.041328    2.959886           2.866552   \n",
       "min           1.000000    1.000000    1.000000           1.000000   \n",
       "25%           2.000000    1.000000    1.000000           1.000000   \n",
       "50%           4.000000    1.000000    1.000000           1.000000   \n",
       "75%           6.000000    5.000000    5.000000           4.000000   \n",
       "max          10.000000   10.000000   10.000000          10.000000   \n",
       "\n",
       "       SingleEpithelial_Cell_Size  Bland Chromatin  Normal Nucleoli  \\\n",
       "count                  691.000000       691.000000       691.000000   \n",
       "mean                     3.211288         3.435601         2.882779   \n",
       "std                      2.199852         2.442345         3.066298   \n",
       "min                      1.000000         1.000000         1.000000   \n",
       "25%                      2.000000         2.000000         1.000000   \n",
       "50%                      2.000000         3.000000         1.000000   \n",
       "75%                      4.000000         5.000000         4.000000   \n",
       "max                     10.000000        10.000000        10.000000   \n",
       "\n",
       "          Mitoses       Class  \n",
       "count  691.000000  691.000000  \n",
       "mean     1.593343    2.688857  \n",
       "std      1.723129    0.951051  \n",
       "min      1.000000    2.000000  \n",
       "25%      1.000000    2.000000  \n",
       "50%      1.000000    2.000000  \n",
       "75%      1.000000    4.000000  \n",
       "max     10.000000    4.000000  "
      ]
     },
     "execution_count": 37,
     "metadata": {},
     "output_type": "execute_result"
    }
   ],
   "source": [
    "data.describe()"
   ]
  },
  {
   "cell_type": "markdown",
   "metadata": {},
   "source": [
    "    # For column Bare_nuclei: it is a string column and with missing value as '?'\n",
    "    steps: 1) replace '?' with -1\n",
    "           2) convert string to int"
   ]
  },
  {
   "cell_type": "code",
   "execution_count": 97,
   "metadata": {
    "collapsed": false
   },
   "outputs": [
    {
     "data": {
      "text/plain": [
       "1     397\n",
       "10    130\n",
       "5      30\n",
       "2      30\n",
       "3      28\n",
       "8      20\n",
       "4      19\n",
       "?      16\n",
       "9       9\n",
       "7       8\n",
       "6       4\n",
       "Name: Bare_Nuclei, dtype: int64"
      ]
     },
     "execution_count": 97,
     "metadata": {},
     "output_type": "execute_result"
    }
   ],
   "source": [
    "# For Bare_nuclei:\n",
    "data.Bare_Nuclei.value_counts() "
   ]
  },
  {
   "cell_type": "code",
   "execution_count": 98,
   "metadata": {
    "collapsed": false
   },
   "outputs": [
    {
     "data": {
      "text/html": [
       "<div>\n",
       "<table border=\"1\" class=\"dataframe\">\n",
       "  <thead>\n",
       "    <tr style=\"text-align: right;\">\n",
       "      <th></th>\n",
       "      <th>Clump_Thickness</th>\n",
       "      <th>Cell_Size</th>\n",
       "      <th>Cell_Shape</th>\n",
       "      <th>Marginal_Adhesion</th>\n",
       "      <th>SingleEpithelial_Cell_Size</th>\n",
       "      <th>Bare_Nuclei</th>\n",
       "      <th>Bland_Chromatin</th>\n",
       "      <th>Normal_Nucleoli</th>\n",
       "      <th>Mitoses</th>\n",
       "      <th>Class</th>\n",
       "    </tr>\n",
       "  </thead>\n",
       "  <tbody>\n",
       "    <tr>\n",
       "      <th>23</th>\n",
       "      <td>8</td>\n",
       "      <td>4</td>\n",
       "      <td>5</td>\n",
       "      <td>1</td>\n",
       "      <td>2</td>\n",
       "      <td>?</td>\n",
       "      <td>7</td>\n",
       "      <td>3</td>\n",
       "      <td>1</td>\n",
       "      <td>4</td>\n",
       "    </tr>\n",
       "    <tr>\n",
       "      <th>40</th>\n",
       "      <td>6</td>\n",
       "      <td>6</td>\n",
       "      <td>6</td>\n",
       "      <td>9</td>\n",
       "      <td>6</td>\n",
       "      <td>?</td>\n",
       "      <td>7</td>\n",
       "      <td>8</td>\n",
       "      <td>1</td>\n",
       "      <td>2</td>\n",
       "    </tr>\n",
       "  </tbody>\n",
       "</table>\n",
       "</div>"
      ],
      "text/plain": [
       "    Clump_Thickness  Cell_Size  Cell_Shape  Marginal_Adhesion  \\\n",
       "23                8          4           5                  1   \n",
       "40                6          6           6                  9   \n",
       "\n",
       "    SingleEpithelial_Cell_Size Bare_Nuclei  Bland_Chromatin  Normal_Nucleoli  \\\n",
       "23                           2           ?                7                3   \n",
       "40                           6           ?                7                8   \n",
       "\n",
       "    Mitoses  Class  \n",
       "23        1      4  \n",
       "40        1      2  "
      ]
     },
     "execution_count": 98,
     "metadata": {},
     "output_type": "execute_result"
    }
   ],
   "source": [
    "# so there are unknow ? \n",
    "data[data.Bare_Nuclei == \"?\"].head(2)"
   ]
  },
  {
   "cell_type": "code",
   "execution_count": 56,
   "metadata": {
    "collapsed": false
   },
   "outputs": [],
   "source": [
    "#another way to change column data.Bare_Nuclei 's ? to np.nan\n",
    "\n",
    "data.loc[data.Bare_Nuclei == \"?\",'Bare_Nuclei'] = np.nan\n",
    "\n",
    "#convert string to float (np.nan has to conver to float, not int)\n",
    "data['Bare_Nuclei'] = data['Bare_Nuclei'].astype(float)\n",
    "data['Bare_Nuclei'] =data['Bare_Nuclei'].fillna(-1)"
   ]
  },
  {
   "cell_type": "code",
   "execution_count": null,
   "metadata": {
    "collapsed": true
   },
   "outputs": [],
   "source": [
    "# fill with -1 so I can plot"
   ]
  },
  {
   "cell_type": "code",
   "execution_count": 24,
   "metadata": {
    "collapsed": true
   },
   "outputs": [],
   "source": [
    "# Bare_Nuclei: replace ? with -1\n",
    "def replace_missing(value):\n",
    "    if value == '?':\n",
    "        return -1\n",
    "    else:\n",
    "        return int(value)"
   ]
  },
  {
   "cell_type": "code",
   "execution_count": 12,
   "metadata": {
    "collapsed": true
   },
   "outputs": [],
   "source": [
    "# replace ? with -1\n",
    "data.Bare_Nuclei = data.Bare_Nuclei.apply(replace_missing)"
   ]
  },
  {
   "cell_type": "code",
   "execution_count": 57,
   "metadata": {
    "collapsed": false
   },
   "outputs": [
    {
     "data": {
      "text/html": [
       "<div>\n",
       "<table border=\"1\" class=\"dataframe\">\n",
       "  <thead>\n",
       "    <tr style=\"text-align: right;\">\n",
       "      <th></th>\n",
       "      <th>Clump_Thickness</th>\n",
       "      <th>Cell_Size</th>\n",
       "      <th>Cell_Shape</th>\n",
       "      <th>Marginal_Adhesion</th>\n",
       "      <th>SingleEpithelial_Cell_Size</th>\n",
       "      <th>Bare_Nuclei</th>\n",
       "      <th>Bland_Chromatin</th>\n",
       "      <th>Normal_Nucleoli</th>\n",
       "      <th>Mitoses</th>\n",
       "      <th>Class</th>\n",
       "    </tr>\n",
       "  </thead>\n",
       "  <tbody>\n",
       "    <tr>\n",
       "      <th>23</th>\n",
       "      <td>8</td>\n",
       "      <td>4</td>\n",
       "      <td>5</td>\n",
       "      <td>1</td>\n",
       "      <td>2</td>\n",
       "      <td>NaN</td>\n",
       "      <td>7</td>\n",
       "      <td>3</td>\n",
       "      <td>1</td>\n",
       "      <td>4</td>\n",
       "    </tr>\n",
       "    <tr>\n",
       "      <th>40</th>\n",
       "      <td>6</td>\n",
       "      <td>6</td>\n",
       "      <td>6</td>\n",
       "      <td>9</td>\n",
       "      <td>6</td>\n",
       "      <td>NaN</td>\n",
       "      <td>7</td>\n",
       "      <td>8</td>\n",
       "      <td>1</td>\n",
       "      <td>2</td>\n",
       "    </tr>\n",
       "  </tbody>\n",
       "</table>\n",
       "</div>"
      ],
      "text/plain": [
       "    Clump_Thickness  Cell_Size  Cell_Shape  Marginal_Adhesion  \\\n",
       "23                8          4           5                  1   \n",
       "40                6          6           6                  9   \n",
       "\n",
       "    SingleEpithelial_Cell_Size  Bare_Nuclei  Bland_Chromatin  Normal_Nucleoli  \\\n",
       "23                           2          NaN                7                3   \n",
       "40                           6          NaN                7                8   \n",
       "\n",
       "    Mitoses  Class  \n",
       "23        1      4  \n",
       "40        1      2  "
      ]
     },
     "execution_count": 57,
     "metadata": {},
     "output_type": "execute_result"
    }
   ],
   "source": [
    "data.loc[[23, 40]]"
   ]
  },
  {
   "cell_type": "code",
   "execution_count": 58,
   "metadata": {
    "collapsed": false
   },
   "outputs": [
    {
     "data": {
      "text/html": [
       "<div>\n",
       "<table border=\"1\" class=\"dataframe\">\n",
       "  <thead>\n",
       "    <tr style=\"text-align: right;\">\n",
       "      <th></th>\n",
       "      <th>index</th>\n",
       "      <th>Bare_Nuclei</th>\n",
       "    </tr>\n",
       "  </thead>\n",
       "  <tbody>\n",
       "    <tr>\n",
       "      <th>0</th>\n",
       "      <td>1.0</td>\n",
       "      <td>0.588148</td>\n",
       "    </tr>\n",
       "    <tr>\n",
       "      <th>1</th>\n",
       "      <td>10.0</td>\n",
       "      <td>0.192593</td>\n",
       "    </tr>\n",
       "    <tr>\n",
       "      <th>2</th>\n",
       "      <td>5.0</td>\n",
       "      <td>0.044444</td>\n",
       "    </tr>\n",
       "    <tr>\n",
       "      <th>3</th>\n",
       "      <td>2.0</td>\n",
       "      <td>0.044444</td>\n",
       "    </tr>\n",
       "    <tr>\n",
       "      <th>4</th>\n",
       "      <td>3.0</td>\n",
       "      <td>0.041481</td>\n",
       "    </tr>\n",
       "    <tr>\n",
       "      <th>5</th>\n",
       "      <td>8.0</td>\n",
       "      <td>0.029630</td>\n",
       "    </tr>\n",
       "    <tr>\n",
       "      <th>6</th>\n",
       "      <td>4.0</td>\n",
       "      <td>0.028148</td>\n",
       "    </tr>\n",
       "    <tr>\n",
       "      <th>7</th>\n",
       "      <td>9.0</td>\n",
       "      <td>0.013333</td>\n",
       "    </tr>\n",
       "    <tr>\n",
       "      <th>8</th>\n",
       "      <td>7.0</td>\n",
       "      <td>0.011852</td>\n",
       "    </tr>\n",
       "    <tr>\n",
       "      <th>9</th>\n",
       "      <td>6.0</td>\n",
       "      <td>0.005926</td>\n",
       "    </tr>\n",
       "  </tbody>\n",
       "</table>\n",
       "</div>"
      ],
      "text/plain": [
       "   index  Bare_Nuclei\n",
       "0    1.0     0.588148\n",
       "1   10.0     0.192593\n",
       "2    5.0     0.044444\n",
       "3    2.0     0.044444\n",
       "4    3.0     0.041481\n",
       "5    8.0     0.029630\n",
       "6    4.0     0.028148\n",
       "7    9.0     0.013333\n",
       "8    7.0     0.011852\n",
       "9    6.0     0.005926"
      ]
     },
     "execution_count": 58,
     "metadata": {},
     "output_type": "execute_result"
    }
   ],
   "source": [
    "data.Bare_Nuclei.value_counts(normalize= True).reset_index()"
   ]
  },
  {
   "cell_type": "code",
   "execution_count": null,
   "metadata": {
    "collapsed": true
   },
   "outputs": [],
   "source": []
  },
  {
   "cell_type": "markdown",
   "metadata": {},
   "source": [
    "# Divide data into X and y"
   ]
  },
  {
   "cell_type": "markdown",
   "metadata": {},
   "source": [
    "    #Map the classes to 0 (benign) and 1 (malignant)\n",
    "    # change class 2-benign to 0\n",
    "         class 4- bad to 1\n"
   ]
  },
  {
   "cell_type": "code",
   "execution_count": 61,
   "metadata": {
    "collapsed": true
   },
   "outputs": [],
   "source": [
    "z = {2: 0, 4: 1}\n",
    "data['Class'] = data['Class'].map(z)"
   ]
  },
  {
   "cell_type": "code",
   "execution_count": 172,
   "metadata": {
    "collapsed": true
   },
   "outputs": [],
   "source": [
    "#Divide data into X and y\n",
    "target = data.Class  # y\n",
    "X = data.drop('Class', axis = 1) #X"
   ]
  },
  {
   "cell_type": "code",
   "execution_count": 173,
   "metadata": {
    "collapsed": false
   },
   "outputs": [
    {
     "data": {
      "text/plain": [
       "((691, 9), (691,))"
      ]
     },
     "execution_count": 173,
     "metadata": {},
     "output_type": "execute_result"
    }
   ],
   "source": [
    "X.shape, target.shape"
   ]
  },
  {
   "cell_type": "markdown",
   "metadata": {},
   "source": [
    "# check the data balance and assign X and y\n",
    "   #Class: (2 for benign, 4 for malignant)\n",
    "   Data balance: benigh/maligant = 2:1"
   ]
  },
  {
   "cell_type": "code",
   "execution_count": 132,
   "metadata": {
    "collapsed": false
   },
   "outputs": [
    {
     "data": {
      "text/plain": [
       "2    453\n",
       "4    238\n",
       "Name: Class, dtype: int64"
      ]
     },
     "execution_count": 132,
     "metadata": {},
     "output_type": "execute_result"
    }
   ],
   "source": [
    "target.value_counts() "
   ]
  },
  {
   "cell_type": "code",
   "execution_count": 37,
   "metadata": {
    "collapsed": false
   },
   "outputs": [
    {
     "data": {
      "text/plain": [
       "2    0.655222\n",
       "4    0.344778\n",
       "Name: Class, dtype: float64"
      ]
     },
     "execution_count": 37,
     "metadata": {},
     "output_type": "execute_result"
    }
   ],
   "source": [
    "y_label = target.value_counts(normalize= True)\n",
    "y_label"
   ]
  },
  {
   "cell_type": "code",
   "execution_count": 39,
   "metadata": {
    "collapsed": false
   },
   "outputs": [
    {
     "data": {
      "image/png": "[encoded data removed]",
      "text/plain": [
       "<matplotlib.figure.Figure at 0x110f771d0>"
      ]
     },
     "metadata": {},
     "output_type": "display_data"
    }
   ],
   "source": [
    "plt.pie(y_label, labels =['benign','bad'], autopct='%1.1f%%' )\n",
    "plt.show()"
   ]
  },
  {
   "cell_type": "code",
   "execution_count": 283,
   "metadata": {
    "collapsed": false
   },
   "outputs": [
    {
     "data": {
      "image/png": "[encoded data removed]",
      "text/plain": [
       "<matplotlib.figure.Figure at 0x128d64510>"
      ]
     },
     "metadata": {},
     "output_type": "display_data"
    }
   ],
   "source": [
    "plt.bar(range(2),target.value_counts(normalize= True))\n",
    "plt.xticks(range(2),['benign','bad'],fontsize = 15)\n",
    "plt.show()\n"
   ]
  },
  {
   "cell_type": "code",
   "execution_count": 216,
   "metadata": {
    "collapsed": false
   },
   "outputs": [
    {
     "data": {
      "image/png": "[encoded data removed]",
      "text/plain": [
       "<matplotlib.figure.Figure at 0x1153c54d0>"
      ]
     },
     "metadata": {},
     "output_type": "display_data"
    }
   ],
   "source": [
    "sns.countplot(x='Class',data=data)\n",
    "sns.despine()"
   ]
  },
  {
   "cell_type": "markdown",
   "metadata": {},
   "source": [
    "# explore dataset and plot features"
   ]
  },
  {
   "cell_type": "code",
   "execution_count": 138,
   "metadata": {
    "collapsed": true
   },
   "outputs": [],
   "source": [
    "feature_names = ['Clump_Thickness',\n",
    "            'Cell_Size','Cell_Shape',\n",
    "            'Marginal_Adhesion','SingleEpithelial_Cell_Size',\n",
    "            'Bare_Nuclei','Bland_Chromatin',\n",
    "             'Normal_Nucleoli','Mitoses'\n",
    "            ]\n",
    "class_0 = data[data.Class == 0] #benign\n",
    "class_1 = data[data.Class == 1] #bad\n"
   ]
  },
  {
   "cell_type": "markdown",
   "metadata": {},
   "source": [
    "# 1. check feature correlation and t-test for each feature on two labels"
   ]
  },
  {
   "cell_type": "markdown",
   "metadata": {},
   "source": [
    "     result: \n",
    "    1) comparing benign and bad in every feature, each of them has a very low p_value(indicating a strong stats significant differences). \n",
    "    2) some features are correlated"
   ]
  },
  {
   "cell_type": "code",
   "execution_count": 69,
   "metadata": {
    "collapsed": true
   },
   "outputs": [],
   "source": [
    "from scipy import stats"
   ]
  },
  {
   "cell_type": "code",
   "execution_count": 86,
   "metadata": {
    "collapsed": false
   },
   "outputs": [
    {
     "data": {
      "text/plain": [
       "{'Bare_Nuclei': [29.595447673640795, 5.4960209022986711e-87],\n",
       " 'Bland_Chromatin': [24.881993140688053, 2.2964533300474204e-74],\n",
       " 'Cell_Shape': [29.542402664944063, 1.9635454359825062e-87],\n",
       " 'Cell_Size': [28.938878288718826, 4.2793710387065262e-84],\n",
       " 'Clump_Thickness': [24.157142638872543, 3.1988064000147877e-77],\n",
       " 'Marginal_Adhesion': [19.876489549766401, 3.2776343043929226e-54],\n",
       " 'Mitoses': [9.1340045451503649, 2.4760788571104124e-17],\n",
       " 'Normal_Nucleoli': [20.727463202198486, 3.4131089754963107e-57],\n",
       " 'SingleEpithelial_Cell_Size': [19.243096368310056, 9.8591506283337103e-53]}"
      ]
     },
     "execution_count": 86,
     "metadata": {},
     "output_type": "execute_result"
    }
   ],
   "source": [
    "# check feature correlation and t-test for each feature on two labels\n",
    "tstats_dict = {}\n",
    "for column in feature_names:\n",
    "    t_score, p_value = stats.ttest_ind(class_1[column],class_0[column],equal_var = False,nan_policy = 'omit')\n",
    "    tstats_dict[column] = [t_score,p_value]\n",
    "\n",
    "tstats_dict"
   ]
  },
  {
   "cell_type": "code",
   "execution_count": 109,
   "metadata": {
    "collapsed": false
   },
   "outputs": [],
   "source": [
    "tstats_df = pd.DataFrame(tstats_dict,index =['t_score','p_value'] ) #if only one record per value, you need to add [ ] to make it as a list then to df\n",
    "tstats = tstats_df.T\n",
    "#tstats"
   ]
  },
  {
   "cell_type": "code",
   "execution_count": 108,
   "metadata": {
    "collapsed": false
   },
   "outputs": [
    {
     "data": {
      "text/html": [
       "<div>\n",
       "<table border=\"1\" class=\"dataframe\">\n",
       "  <thead>\n",
       "    <tr style=\"text-align: right;\">\n",
       "      <th></th>\n",
       "      <th>t_score</th>\n",
       "      <th>p_value</th>\n",
       "    </tr>\n",
       "  </thead>\n",
       "  <tbody>\n",
       "    <tr>\n",
       "      <th>Bare_Nuclei</th>\n",
       "      <td>29.595448</td>\n",
       "      <td>5.496021e-87</td>\n",
       "    </tr>\n",
       "    <tr>\n",
       "      <th>Cell_Shape</th>\n",
       "      <td>29.542403</td>\n",
       "      <td>1.963545e-87</td>\n",
       "    </tr>\n",
       "    <tr>\n",
       "      <th>Cell_Size</th>\n",
       "      <td>28.938878</td>\n",
       "      <td>4.279371e-84</td>\n",
       "    </tr>\n",
       "    <tr>\n",
       "      <th>Bland_Chromatin</th>\n",
       "      <td>24.881993</td>\n",
       "      <td>2.296453e-74</td>\n",
       "    </tr>\n",
       "    <tr>\n",
       "      <th>Clump_Thickness</th>\n",
       "      <td>24.157143</td>\n",
       "      <td>3.198806e-77</td>\n",
       "    </tr>\n",
       "    <tr>\n",
       "      <th>Normal_Nucleoli</th>\n",
       "      <td>20.727463</td>\n",
       "      <td>3.413109e-57</td>\n",
       "    </tr>\n",
       "    <tr>\n",
       "      <th>Marginal_Adhesion</th>\n",
       "      <td>19.876490</td>\n",
       "      <td>3.277634e-54</td>\n",
       "    </tr>\n",
       "    <tr>\n",
       "      <th>SingleEpithelial_Cell_Size</th>\n",
       "      <td>19.243096</td>\n",
       "      <td>9.859151e-53</td>\n",
       "    </tr>\n",
       "    <tr>\n",
       "      <th>Mitoses</th>\n",
       "      <td>9.134005</td>\n",
       "      <td>2.476079e-17</td>\n",
       "    </tr>\n",
       "  </tbody>\n",
       "</table>\n",
       "</div>"
      ],
      "text/plain": [
       "                              t_score       p_value\n",
       "Bare_Nuclei                 29.595448  5.496021e-87\n",
       "Cell_Shape                  29.542403  1.963545e-87\n",
       "Cell_Size                   28.938878  4.279371e-84\n",
       "Bland_Chromatin             24.881993  2.296453e-74\n",
       "Clump_Thickness             24.157143  3.198806e-77\n",
       "Normal_Nucleoli             20.727463  3.413109e-57\n",
       "Marginal_Adhesion           19.876490  3.277634e-54\n",
       "SingleEpithelial_Cell_Size  19.243096  9.859151e-53\n",
       "Mitoses                      9.134005  2.476079e-17"
      ]
     },
     "execution_count": 108,
     "metadata": {},
     "output_type": "execute_result"
    }
   ],
   "source": [
    "#df.sort(['a', 'b'], ascending=[True, False])\n",
    "tstats.sort_values('t_score',ascending= False)"
   ]
  },
  {
   "cell_type": "code",
   "execution_count": 111,
   "metadata": {
    "collapsed": true
   },
   "outputs": [],
   "source": [
    "import seaborn as sns"
   ]
  },
  {
   "cell_type": "code",
   "execution_count": 115,
   "metadata": {
    "collapsed": false
   },
   "outputs": [
    {
     "data": {
      "text/plain": [
       "Index([u'Clump_Thickness', u'Cell_Size', u'Cell_Shape', u'Marginal_Adhesion',\n",
       "       u'SingleEpithelial_Cell_Size', u'Bare_Nuclei', u'Bland_Chromatin',\n",
       "       u'Normal_Nucleoli', u'Mitoses'],\n",
       "      dtype='object')"
      ]
     },
     "execution_count": 115,
     "metadata": {},
     "output_type": "execute_result"
    }
   ],
   "source": [
    "X.columns"
   ]
  },
  {
   "cell_type": "code",
   "execution_count": 117,
   "metadata": {
    "collapsed": false
   },
   "outputs": [
    {
     "data": {
      "text/plain": [
       "Index([u'Clump_Thickness', u'Cell_Size', u'Cell_Shape', u'Marginal_Adhesion',\n",
       "       u'SingleEpithelial_Cell_Size', u'Bare_Nuclei', u'Bland_Chromatin',\n",
       "       u'Normal_Nucleoli', u'Mitoses'],\n",
       "      dtype='object')"
      ]
     },
     "execution_count": 117,
     "metadata": {},
     "output_type": "execute_result"
    }
   ],
   "source": [
    "corr.columns"
   ]
  },
  {
   "cell_type": "markdown",
   "metadata": {},
   "source": [
    "# plot correlation matrix of all numerical features"
   ]
  },
  {
   "cell_type": "code",
   "execution_count": 118,
   "metadata": {
    "collapsed": false
   },
   "outputs": [
    {
     "data": {
      "image/png": "[encoded data removed]",
      "text/plain": [
       "<matplotlib.figure.Figure at 0x11254fbd0>"
      ]
     },
     "metadata": {},
     "output_type": "display_data"
    }
   ],
   "source": [
    "# plot correlation matrix of all features\n",
    "\n",
    "# show correlations among predictors\n",
    "corr = X.corr()\n",
    "sns.heatmap(corr,\n",
    "            xticklabels= X.columns.values, # has to add.values\n",
    "            yticklabels = X.columns.values)\n",
    "\n",
    "plt.show()"
   ]
  },
  {
   "cell_type": "markdown",
   "metadata": {},
   "source": [
    "# 2. check scatter_matrix or use sns.pairplot(df, hue='cut')"
   ]
  },
  {
   "cell_type": "code",
   "execution_count": null,
   "metadata": {
    "collapsed": true
   },
   "outputs": [],
   "source": []
  },
  {
   "cell_type": "code",
   "execution_count": 239,
   "metadata": {
    "collapsed": false
   },
   "outputs": [
    {
     "data": {
      "image/png": "[encoded data removed]",
      "text/plain": [
       "<matplotlib.figure.Figure at 0x1274b1150>"
      ]
     },
     "metadata": {},
     "output_type": "display_data"
    }
   ],
   "source": [
    "colors = {0:'green', 1:'red'}\n",
    "scma = scatter_matrix(data[['Clump_Thickness',\n",
    "            'Cell_Size','Cell_Shape','Bare_Nuclei']],\n",
    "                c = data['Class'].apply(lambda x:colors[x]),alpha=0.2)"
   ]
  },
  {
   "cell_type": "code",
   "execution_count": 221,
   "metadata": {
    "collapsed": false
   },
   "outputs": [
    {
     "data": {
      "text/plain": [
       "<seaborn.axisgrid.PairGrid at 0x12456b350>"
      ]
     },
     "execution_count": 221,
     "metadata": {},
     "output_type": "execute_result"
    },
    {
     "data": {
      "image/png": "[encoded data removed]",
      "text/plain": [
       "<matplotlib.figure.Figure at 0x12456b5d0>"
      ]
     },
     "metadata": {},
     "output_type": "display_data"
    }
   ],
   "source": [
    "# sns.set(style=\"ticks\")\n",
    "sns.pairplot(data[['Clump_Thickness',\n",
    "            'Cell_Size','Cell_Shape','Bare_Nuclei','Class']], hue=\"Class\")\n",
    "# plt.savefig(\"1_seaborn_pair_plot.png\")"
   ]
  },
  {
   "cell_type": "code",
   "execution_count": null,
   "metadata": {
    "collapsed": true
   },
   "outputs": [],
   "source": [
    "# plot a box_plot of features"
   ]
  },
  {
   "cell_type": "code",
   "execution_count": null,
   "metadata": {
    "collapsed": true
   },
   "outputs": [],
   "source": [
    "fig, ax = plt.subplots(3,3,(figsize=(12,15)))\n",
    "\n",
    "for i, name in enumerate(feature_names):\n",
    "    ax.subplot(3,3,i+1)\n",
    "    plt.boxplot([class_0[name],class_1[name]],notch = True, sym = 'b+')\n",
    "    plt.xlabel(['benign','bad'])\n",
    "    plt.title(name)\n",
    "\n",
    "plt.show()"
   ]
  },
  {
   "cell_type": "code",
   "execution_count": 158,
   "metadata": {
    "collapsed": false
   },
   "outputs": [
    {
     "data": {
      "image/png": "[encoded data removed]",
      "text/plain": [
       "<matplotlib.figure.Figure at 0x1169cee50>"
      ]
     },
     "metadata": {},
     "output_type": "display_data"
    }
   ],
   "source": [
    "plt.figure(figsize=(12,15))\n",
    "\n",
    "for i, name in enumerate(feature_names):\n",
    "    plt.subplot(3,3,i+1)\n",
    "    plt.boxplot([class_0[name],class_1[name]],notch = True, sym = 'b+')\n",
    "    plt.xlabel(['benign','bad'])\n",
    "    plt.title(name)\n",
    "\n",
    "plt.show()"
   ]
  },
  {
   "cell_type": "code",
   "execution_count": 148,
   "metadata": {
    "collapsed": false
   },
   "outputs": [
    {
     "data": {
      "image/png": "[encoded data removed]",
      "text/plain": [
       "<matplotlib.figure.Figure at 0x1156f25d0>"
      ]
     },
     "metadata": {},
     "output_type": "display_data"
    }
   ],
   "source": [
    "plt.figure(figsize=(12,10))\n",
    "\n",
    "for i, name in enumerate(feature_names):\n",
    "    plt.subplot(3,3,i+1)\n",
    "    plt.hist(class_0[name],bins = 10, normed= True, alpha = 0.7,label ='benign')\n",
    "    plt.hist(class_1[name], bins = 10, normed= True, alpha = 0.7, label = 'maligant')\n",
    "    plt.legend(loc ='best')\n",
    "    plt.title(name)\n",
    "\n",
    "plt.show()"
   ]
  },
  {
   "cell_type": "code",
   "execution_count": 217,
   "metadata": {
    "collapsed": false
   },
   "outputs": [
    {
     "data": {
      "image/png": "[encoded data removed]",
      "text/plain": [
       "<matplotlib.figure.Figure at 0x1215b7510>"
      ]
     },
     "metadata": {},
     "output_type": "display_data"
    }
   ],
   "source": [
    "sns.barplot(x='Class', y='Cell_Size', data=data)\n",
    "sns.despine()"
   ]
  },
  {
   "cell_type": "code",
   "execution_count": 126,
   "metadata": {
    "collapsed": false
   },
   "outputs": [
    {
     "data": {
      "image/png": "[encoded data removed]",
      "text/plain": [
       "<matplotlib.figure.Figure at 0x114c07710>"
      ]
     },
     "metadata": {},
     "output_type": "display_data"
    }
   ],
   "source": [
    "# clump thickness\n",
    "# plot histogram of it\n",
    "\n",
    "fig, ((ax1, ax2, ax3), \n",
    "      (ax4, ax5,ax6),\n",
    "     (ax7, ax8, ax9)) = plt.subplots(ncols= 3, nrows= 3, figsize = (10,12))\n",
    "#ax1-clump thickness\n",
    "ax1.hist(data.Clump_Thickness, normed= True)\n",
    "ax1.set_title('Clump_Thickness')\n",
    "\n",
    "#ax2-Cell_Size\n",
    "ax2.hist(data.Cell_Size, normed= True)\n",
    "ax2.set_title('Cell_Size')\n",
    "\n",
    "#ax3-Cell_Shape\n",
    "ax3.hist(data.Cell_Shape, normed= True)\n",
    "ax3.set_title('Cell_Shape')\n",
    "\n",
    "# ax4- Marginal_Adhesion\n",
    "ax4.hist(data.Marginal_Adhesion, normed= True)\n",
    "ax4.set_title('Marginal_Adhesion')\n",
    "\n",
    "# ax5- SingleEpithelial_Cell_Size\n",
    "ax5.hist(data.SingleEpithelial_Cell_Size, normed= True)\n",
    "ax5.set_title('SingleEpithelial_Cell_Size')\n",
    "\n",
    "# ax6- Bare Nuclei \n",
    "ax6.hist(data.Bare_Nuclei, normed= True)\n",
    "ax6.set_xlim([-1.5, 10])\n",
    "ax6.set_title('Bare Nuclei')\n",
    "\n",
    "# ax7- Bland Chromatin\n",
    "ax7.hist(data.Bland_Chromatin, normed= True)\n",
    "ax7.set_title('Bland Chromatin')\n",
    "\n",
    "# ax8 -Normal Nucleoli\n",
    "ax8.hist(data.Normal_Nucleoli, normed= True)\n",
    "ax8.set_title('Normal Nucleoli')\n",
    "\n",
    "# ax9 -Mitoses\n",
    "ax9.hist(data.Mitoses, normed= True)\n",
    "ax9.set_title('Mitoses')\n",
    "\n",
    "plt.show()"
   ]
  },
  {
   "cell_type": "code",
   "execution_count": null,
   "metadata": {
    "collapsed": true
   },
   "outputs": [],
   "source": [
    "# from plots above, we can see \n",
    " Cell_size, Cell_Shape, Marginal_Adhesion, and Normal Nucleoli\n",
    " these four columns are very similar in hist distribution"
   ]
  },
  {
   "cell_type": "code",
   "execution_count": 133,
   "metadata": {
    "collapsed": false
   },
   "outputs": [
    {
     "data": {
      "text/plain": [
       "(9, 9)"
      ]
     },
     "execution_count": 133,
     "metadata": {},
     "output_type": "execute_result"
    }
   ],
   "source": [
    "data.corr().shape"
   ]
  },
  {
   "cell_type": "code",
   "execution_count": 195,
   "metadata": {
    "collapsed": false
   },
   "outputs": [
    {
     "data": {
      "image/png": "[encoded data removed]",
      "text/plain": [
       "<matplotlib.figure.Figure at 0x11308cfd0>"
      ]
     },
     "metadata": {},
     "output_type": "display_data"
    }
   ],
   "source": [
    "from matplotlib import cm\n",
    "fig, ax = plt.subplots()\n",
    "\n",
    "sub = data[['Cell_Size','Cell_Shape','Marginal_Adhesion','Normal_Nucleoli']]\n",
    "cax = ax.imshow(sub.corr(), interpolation=\"nearest\", cmap=cm.coolwarm)\n",
    "labels=['Cell_size','Cell_Shape','Marginal_Adhesion','Normal Nucleoli']\n",
    "ax.set_xticks(range(len(labels)))\n",
    "ax.set_xticklabels(labels, rotation = 30)\n",
    "ax.set_yticks(range(len(labels)))\n",
    "ax.set_yticklabels(labels)\n",
    "fig.colorbar(cax)\n",
    "plt.show()"
   ]
  },
  {
   "cell_type": "markdown",
   "metadata": {},
   "source": [
    "# Modeling"
   ]
  },
  {
   "cell_type": "code",
   "execution_count": 161,
   "metadata": {
    "collapsed": false
   },
   "outputs": [
    {
     "data": {
      "text/plain": [
       "((691, 10), (691,))"
      ]
     },
     "execution_count": 161,
     "metadata": {},
     "output_type": "execute_result"
    }
   ],
   "source": [
    "data.shape, target.shape"
   ]
  },
  {
   "cell_type": "markdown",
   "metadata": {},
   "source": [
    "# 1) split into training and test : 80/20\n"
   ]
  },
  {
   "cell_type": "code",
   "execution_count": 180,
   "metadata": {
    "collapsed": false
   },
   "outputs": [
    {
     "data": {
      "text/plain": [
       "array([2, 4])"
      ]
     },
     "execution_count": 180,
     "metadata": {},
     "output_type": "execute_result"
    }
   ],
   "source": [
    "np.unique(target)"
   ]
  },
  {
   "cell_type": "code",
   "execution_count": 182,
   "metadata": {
    "collapsed": false
   },
   "outputs": [
    {
     "name": "stdout",
     "output_type": "stream",
     "text": [
      "('target encoded label original : converted', {2: 0, 4: 1})\n"
     ]
    }
   ],
   "source": [
    "from sklearn.preprocessing import LabelEncoder\n",
    "le = LabelEncoder()\n",
    "le.fit(target)\n",
    "\n",
    "target_dict = dict(zip(target.unique(),le.transform(target.unique())))\n",
    "\n",
    "print (\"target encoded label original : converted\", target_dict)\n",
    "\n",
    "target = le.transform(target)\n"
   ]
  },
  {
   "cell_type": "markdown",
   "metadata": {},
   "source": [
    "Class: (2 for benign, 4 for malignant)"
   ]
  },
  {
   "cell_type": "code",
   "execution_count": 174,
   "metadata": {
    "collapsed": true
   },
   "outputs": [],
   "source": [
    "from sklearn.model_selection import train_test_split\n",
    "X_train, X_test, y_train, y_test = train_test_split(X, target, test_size=0.20, random_state=1234)"
   ]
  },
  {
   "cell_type": "code",
   "execution_count": 163,
   "metadata": {
    "collapsed": false
   },
   "outputs": [
    {
     "data": {
      "text/plain": [
       "((552, 9), (139, 9))"
      ]
     },
     "execution_count": 163,
     "metadata": {},
     "output_type": "execute_result"
    }
   ],
   "source": [
    "X_train.shape, X_test.shape"
   ]
  },
  {
   "cell_type": "markdown",
   "metadata": {},
   "source": [
    "# Cross validation on X_train using random forest"
   ]
  },
  {
   "cell_type": "code",
   "execution_count": 164,
   "metadata": {
    "collapsed": true
   },
   "outputs": [],
   "source": [
    "from sklearn.model_selection import GridSearchCV"
   ]
  },
  {
   "cell_type": "code",
   "execution_count": 165,
   "metadata": {
    "collapsed": true
   },
   "outputs": [],
   "source": [
    "from sklearn.pipeline import Pipeline\n",
    "from sklearn.preprocessing import StandardScaler\n",
    "from sklearn.preprocessing import Imputer\n",
    "from sklearn.ensemble import RandomForestClassifier"
   ]
  },
  {
   "cell_type": "code",
   "execution_count": null,
   "metadata": {
    "collapsed": true
   },
   "outputs": [],
   "source": [
    "# build a pipeline imputer first, standardscaler and then classifer"
   ]
  },
  {
   "cell_type": "code",
   "execution_count": null,
   "metadata": {
    "collapsed": true
   },
   "outputs": [],
   "source": []
  },
  {
   "cell_type": "code",
   "execution_count": 167,
   "metadata": {
    "collapsed": true
   },
   "outputs": [],
   "source": [
    "def model_evaluation(X_train, y_train, pipeline, param_grid, cv, scoring):\n",
    "    model = GridSearchCV(estimator= pipeline, \n",
    "                      param_grid= param_grid,\n",
    "                      cv = cv, \n",
    "                      scoring = scoring,\n",
    "                      n_jobs = 4)\n",
    "    model.fit(X_train, y_train)\n",
    "    print (\"best score: %.3f\" % model.best_score_)\n",
    "    print ('best Parameters: ', model.best_params_)\n",
    "    return model   "
   ]
  },
  {
   "cell_type": "markdown",
   "metadata": {},
   "source": [
    "# Random Forest- model 1"
   ]
  },
  {
   "cell_type": "code",
   "execution_count": 175,
   "metadata": {
    "collapsed": true
   },
   "outputs": [],
   "source": [
    "# step 1: imputation:Imputer to replace missing value -1 either to mean or median\n",
    "imputer = Imputer(missing_values= -1, strategy= 'median')\n",
    "# step 2: standardScaler\n",
    "scaler = StandardScaler()\n",
    "#step 3: classifer\n",
    "rf = RandomForestClassifier(n_estimators= 100)\n",
    "\n",
    "pipeline = Pipeline([\n",
    "        ('imp', imputer),\n",
    "        ('scaler', scaler),\n",
    "        ('clf', rf),\n",
    "            ])\n",
    "\n",
    "param_grid = {\n",
    "    'imp__strategy': ['median', 'mean'],\n",
    "    'clf__n_estimators': [100, 500],    \n",
    "}\n",
    "\n",
    "# param_grid = {   \n",
    "# }"
   ]
  },
  {
   "cell_type": "code",
   "execution_count": 177,
   "metadata": {
    "collapsed": false
   },
   "outputs": [
    {
     "name": "stdout",
     "output_type": "stream",
     "text": [
      "best score: 0.988\n",
      "('best Parameters: ', {'imp__strategy': 'mean', 'clf__n_estimators': 500})\n",
      "this training takes 12.13 seconds\n"
     ]
    }
   ],
   "source": [
    "from time import time\n",
    "\n",
    "start = time()\n",
    "model = model_evaluation(X_train, y_train, pipeline, param_grid, cv = 3, scoring = 'roc_auc')\n",
    "print ('this training takes %.2f seconds' %(time()-start))"
   ]
  },
  {
   "cell_type": "code",
   "execution_count": 178,
   "metadata": {
    "collapsed": true
   },
   "outputs": [],
   "source": [
    "# now after getting the best parameters, use entire training dataset\n",
    "# step 1: imputation:Imputer to replace missing value -1 either to mean or median\n",
    "imputer = Imputer(missing_values= -1, strategy= 'mean')\n",
    "\n",
    "X_train_1 = imputer.fit_transform(X_train)\n",
    "X_test_1 = imputer.transform(X_test)\n",
    "\n",
    "# step 2: standardScaler\n",
    "scaler = StandardScaler()\n",
    "X_train_final = scaler.fit_transform(X_train_1)\n",
    "X_test_final = scaler.transform(X_test_1)\n"
   ]
  },
  {
   "cell_type": "markdown",
   "metadata": {},
   "source": [
    "X_train_final, X_test_final are data after imputation and standardscaler"
   ]
  },
  {
   "cell_type": "code",
   "execution_count": 179,
   "metadata": {
    "collapsed": false,
    "scrolled": true
   },
   "outputs": [
    {
     "data": {
      "text/plain": [
       "((552, 9), (139, 9))"
      ]
     },
     "execution_count": 179,
     "metadata": {},
     "output_type": "execute_result"
    }
   ],
   "source": [
    "X_train_final.shape, X_test_final.shape"
   ]
  },
  {
   "cell_type": "code",
   "execution_count": 200,
   "metadata": {
    "collapsed": false,
    "scrolled": false
   },
   "outputs": [
    {
     "data": {
      "text/html": [
       "<div>\n",
       "<table border=\"1\" class=\"dataframe\">\n",
       "  <thead>\n",
       "    <tr style=\"text-align: right;\">\n",
       "      <th></th>\n",
       "      <th>Clump_Thickness</th>\n",
       "      <th>Cell_Size</th>\n",
       "      <th>Cell_Shape</th>\n",
       "      <th>Marginal_Adhesion</th>\n",
       "      <th>SingleEpithelial_Cell_Size</th>\n",
       "      <th>Bare_Nuclei</th>\n",
       "      <th>Bland_Chromatin</th>\n",
       "      <th>Normal_Nucleoli</th>\n",
       "      <th>Mitoses</th>\n",
       "    </tr>\n",
       "  </thead>\n",
       "  <tbody>\n",
       "    <tr>\n",
       "      <th>169</th>\n",
       "      <td>1</td>\n",
       "      <td>1</td>\n",
       "      <td>1</td>\n",
       "      <td>2</td>\n",
       "      <td>1</td>\n",
       "      <td>1</td>\n",
       "      <td>1</td>\n",
       "      <td>1</td>\n",
       "      <td>1</td>\n",
       "    </tr>\n",
       "    <tr>\n",
       "      <th>93</th>\n",
       "      <td>1</td>\n",
       "      <td>1</td>\n",
       "      <td>1</td>\n",
       "      <td>1</td>\n",
       "      <td>2</td>\n",
       "      <td>1</td>\n",
       "      <td>2</td>\n",
       "      <td>1</td>\n",
       "      <td>1</td>\n",
       "    </tr>\n",
       "  </tbody>\n",
       "</table>\n",
       "</div>"
      ],
      "text/plain": [
       "     Clump_Thickness  Cell_Size  Cell_Shape  Marginal_Adhesion  \\\n",
       "169                1          1           1                  2   \n",
       "93                 1          1           1                  1   \n",
       "\n",
       "     SingleEpithelial_Cell_Size  Bare_Nuclei  Bland_Chromatin  \\\n",
       "169                           1            1                1   \n",
       "93                            2            1                2   \n",
       "\n",
       "     Normal_Nucleoli  Mitoses  \n",
       "169                1        1  \n",
       "93                 1        1  "
      ]
     },
     "execution_count": 200,
     "metadata": {},
     "output_type": "execute_result"
    }
   ],
   "source": [
    "X_train.head(2)"
   ]
  },
  {
   "cell_type": "code",
   "execution_count": 180,
   "metadata": {
    "collapsed": false
   },
   "outputs": [
    {
     "data": {
      "text/plain": [
       "RandomForestClassifier(bootstrap=True, class_weight=None, criterion='gini',\n",
       "            max_depth=None, max_features='auto', max_leaf_nodes=None,\n",
       "            min_impurity_split=1e-07, min_samples_leaf=1,\n",
       "            min_samples_split=2, min_weight_fraction_leaf=0.0,\n",
       "            n_estimators=100, n_jobs=1, oob_score=False, random_state=None,\n",
       "            verbose=0, warm_start=False)"
      ]
     },
     "execution_count": 180,
     "metadata": {},
     "output_type": "execute_result"
    }
   ],
   "source": [
    "# Now train on the X_train_final\n",
    "\n",
    "rf = RandomForestClassifier(n_estimators= 100)\n",
    "rf.fit(X_train_final, y_train)\n"
   ]
  },
  {
   "cell_type": "code",
   "execution_count": 181,
   "metadata": {
    "collapsed": true
   },
   "outputs": [],
   "source": [
    "# plot importance"
   ]
  },
  {
   "cell_type": "code",
   "execution_count": 182,
   "metadata": {
    "collapsed": true
   },
   "outputs": [],
   "source": [
    "def plot_rf_importance(feature_importance, feature_name):\n",
    "    sorted_importance = sorted(zip(feature_importance, feature_name), key = lambda x:x[0], reverse = False)\n",
    "    sorted_importance = pd.DataFrame(sorted_importance)\n",
    "    \n",
    "    #plot the importance in a horizontal bar plot\n",
    "    x = range(sorted_importance.shape[0])\n",
    "    y = sorted_importance[0]\n",
    "    yticks = sorted_importance[1]\n",
    "    \n",
    "    fig, ax = plt.subplots()\n",
    "    ax.barh(x, y , alpha = 0.8, color = 'b')\n",
    "    ax.set_yticks(x)\n",
    "    ax.set_yticklabels(yticks)\n",
    "    plt.show()\n",
    "    "
   ]
  },
  {
   "cell_type": "code",
   "execution_count": 183,
   "metadata": {
    "collapsed": false
   },
   "outputs": [
    {
     "data": {
      "image/png": "[encoded data removed]",
      "text/plain": [
       "<matplotlib.figure.Figure at 0x11598a6d0>"
      ]
     },
     "metadata": {},
     "output_type": "display_data"
    }
   ],
   "source": [
    "feature_name = data.columns\n",
    "feature_importance = rf.feature_importances_\n",
    "\n",
    "plot_rf_importance(feature_importance, feature_name)"
   ]
  },
  {
   "cell_type": "code",
   "execution_count": 184,
   "metadata": {
    "collapsed": false
   },
   "outputs": [
    {
     "data": {
      "text/html": [
       "<div>\n",
       "<table border=\"1\" class=\"dataframe\">\n",
       "  <thead>\n",
       "    <tr style=\"text-align: right;\">\n",
       "      <th></th>\n",
       "      <th>Clump_Thickness</th>\n",
       "      <th>Cell_Size</th>\n",
       "      <th>Cell_Shape</th>\n",
       "      <th>Marginal_Adhesion</th>\n",
       "      <th>SingleEpithelial_Cell_Size</th>\n",
       "      <th>Bare_Nuclei</th>\n",
       "      <th>Bland_Chromatin</th>\n",
       "      <th>Normal_Nucleoli</th>\n",
       "      <th>Mitoses</th>\n",
       "    </tr>\n",
       "    <tr>\n",
       "      <th>Class</th>\n",
       "      <th></th>\n",
       "      <th></th>\n",
       "      <th></th>\n",
       "      <th></th>\n",
       "      <th></th>\n",
       "      <th></th>\n",
       "      <th></th>\n",
       "      <th></th>\n",
       "      <th></th>\n",
       "    </tr>\n",
       "  </thead>\n",
       "  <tbody>\n",
       "    <tr>\n",
       "      <th>0</th>\n",
       "      <td>2.964680</td>\n",
       "      <td>1.328918</td>\n",
       "      <td>1.448124</td>\n",
       "      <td>1.368653</td>\n",
       "      <td>2.125828</td>\n",
       "      <td>1.278146</td>\n",
       "      <td>2.097130</td>\n",
       "      <td>1.293598</td>\n",
       "      <td>1.064018</td>\n",
       "    </tr>\n",
       "    <tr>\n",
       "      <th>1</th>\n",
       "      <td>7.210084</td>\n",
       "      <td>6.558824</td>\n",
       "      <td>6.537815</td>\n",
       "      <td>5.596639</td>\n",
       "      <td>5.277311</td>\n",
       "      <td>7.533613</td>\n",
       "      <td>5.983193</td>\n",
       "      <td>5.907563</td>\n",
       "      <td>2.600840</td>\n",
       "    </tr>\n",
       "  </tbody>\n",
       "</table>\n",
       "</div>"
      ],
      "text/plain": [
       "       Clump_Thickness  Cell_Size  Cell_Shape  Marginal_Adhesion  \\\n",
       "Class                                                              \n",
       "0             2.964680   1.328918    1.448124           1.368653   \n",
       "1             7.210084   6.558824    6.537815           5.596639   \n",
       "\n",
       "       SingleEpithelial_Cell_Size  Bare_Nuclei  Bland_Chromatin  \\\n",
       "Class                                                             \n",
       "0                        2.125828     1.278146         2.097130   \n",
       "1                        5.277311     7.533613         5.983193   \n",
       "\n",
       "       Normal_Nucleoli   Mitoses  \n",
       "Class                             \n",
       "0             1.293598  1.064018  \n",
       "1             5.907563  2.600840  "
      ]
     },
     "execution_count": 184,
     "metadata": {},
     "output_type": "execute_result"
    }
   ],
   "source": [
    "data.groupby('Class').mean()"
   ]
  },
  {
   "cell_type": "code",
   "execution_count": 186,
   "metadata": {
    "collapsed": false
   },
   "outputs": [
    {
     "data": {
      "text/html": [
       "<div>\n",
       "<table border=\"1\" class=\"dataframe\">\n",
       "  <thead>\n",
       "    <tr style=\"text-align: right;\">\n",
       "      <th></th>\n",
       "      <th>Clump_Thickness</th>\n",
       "      <th>Cell_Size</th>\n",
       "      <th>Cell_Shape</th>\n",
       "      <th>Marginal_Adhesion</th>\n",
       "      <th>SingleEpithelial_Cell_Size</th>\n",
       "      <th>Bare_Nuclei</th>\n",
       "      <th>Bland_Chromatin</th>\n",
       "      <th>Normal_Nucleoli</th>\n",
       "      <th>Mitoses</th>\n",
       "    </tr>\n",
       "    <tr>\n",
       "      <th>Class</th>\n",
       "      <th></th>\n",
       "      <th></th>\n",
       "      <th></th>\n",
       "      <th></th>\n",
       "      <th></th>\n",
       "      <th></th>\n",
       "      <th></th>\n",
       "      <th></th>\n",
       "      <th></th>\n",
       "    </tr>\n",
       "  </thead>\n",
       "  <tbody>\n",
       "    <tr>\n",
       "      <th>0</th>\n",
       "      <td>1.673211</td>\n",
       "      <td>0.912052</td>\n",
       "      <td>1.002244</td>\n",
       "      <td>1.001586</td>\n",
       "      <td>0.919104</td>\n",
       "      <td>1.234599</td>\n",
       "      <td>1.082571</td>\n",
       "      <td>1.064254</td>\n",
       "      <td>0.504720</td>\n",
       "    </tr>\n",
       "    <tr>\n",
       "      <th>1</th>\n",
       "      <td>2.424815</td>\n",
       "      <td>2.708540</td>\n",
       "      <td>2.556666</td>\n",
       "      <td>3.200262</td>\n",
       "      <td>2.437140</td>\n",
       "      <td>3.213389</td>\n",
       "      <td>2.278067</td>\n",
       "      <td>3.346367</td>\n",
       "      <td>2.569769</td>\n",
       "    </tr>\n",
       "  </tbody>\n",
       "</table>\n",
       "</div>"
      ],
      "text/plain": [
       "       Clump_Thickness  Cell_Size  Cell_Shape  Marginal_Adhesion  \\\n",
       "Class                                                              \n",
       "0             1.673211   0.912052    1.002244           1.001586   \n",
       "1             2.424815   2.708540    2.556666           3.200262   \n",
       "\n",
       "       SingleEpithelial_Cell_Size  Bare_Nuclei  Bland_Chromatin  \\\n",
       "Class                                                             \n",
       "0                        0.919104     1.234599         1.082571   \n",
       "1                        2.437140     3.213389         2.278067   \n",
       "\n",
       "       Normal_Nucleoli   Mitoses  \n",
       "Class                             \n",
       "0             1.064254  0.504720  \n",
       "1             3.346367  2.569769  "
      ]
     },
     "execution_count": 186,
     "metadata": {},
     "output_type": "execute_result"
    }
   ],
   "source": [
    "data.groupby('Class').std()"
   ]
  },
  {
   "cell_type": "markdown",
   "metadata": {},
   "source": [
    "     # Validation-check on Test Dataset-Random Forest\n",
    "=================================="
   ]
  },
  {
   "cell_type": "code",
   "execution_count": 188,
   "metadata": {
    "collapsed": true
   },
   "outputs": [],
   "source": [
    "# use roc_auc as a metric to evaluate on test dataset\n",
    "y_pred_prob = rf.predict_proba(X_test_final)\n",
    "y_pred = rf.predict(X_test_final)"
   ]
  },
  {
   "cell_type": "code",
   "execution_count": 189,
   "metadata": {
    "collapsed": true
   },
   "outputs": [],
   "source": [
    "from sklearn.metrics import roc_curve, auc"
   ]
  },
  {
   "cell_type": "code",
   "execution_count": 190,
   "metadata": {
    "collapsed": true
   },
   "outputs": [],
   "source": [
    "def plot_roc_auc(y_test, y_pred_prob):\n",
    "    fpr, tpr, thresholds = roc_curve(y_test, y_pred_prob[:, 1])\n",
    "    roc_auc = auc(fpr, tpr)\n",
    "    \n",
    "    plt.plot(fpr, tpr, color = 'b', label = 'ROC_AUC is (area) %.2f' %roc_auc)\n",
    "    plt.xlabel('false positive rate or (1 - Specifity)')\n",
    "    plt.ylabel('true positive rate or recall')\n",
    "    # plot a random guess\n",
    "    plt.plot([0,1],[0,1], 'k--')\n",
    "    plt.legend(loc = 'best')\n",
    "    plt.show()\n",
    "    "
   ]
  },
  {
   "cell_type": "code",
   "execution_count": 191,
   "metadata": {
    "collapsed": false
   },
   "outputs": [
    {
     "data": {
      "image/png": "[encoded data removed]",
      "text/plain": [
       "<matplotlib.figure.Figure at 0x1153e79d0>"
      ]
     },
     "metadata": {},
     "output_type": "display_data"
    }
   ],
   "source": [
    "plot_roc_auc(y_test, y_pred_prob)"
   ]
  },
  {
   "cell_type": "code",
   "execution_count": 192,
   "metadata": {
    "collapsed": true
   },
   "outputs": [],
   "source": [
    "# use report to evaluate the sample\n",
    "from sklearn.metrics import classification_report\n",
    "target_names = ['benign', 'malignant']"
   ]
  },
  {
   "cell_type": "code",
   "execution_count": 193,
   "metadata": {
    "collapsed": false
   },
   "outputs": [
    {
     "name": "stdout",
     "output_type": "stream",
     "text": [
      "             precision    recall  f1-score   support\n",
      "\n",
      "     benign       1.00      1.00      1.00        97\n",
      "  malignant       1.00      1.00      1.00        42\n",
      "\n",
      "avg / total       1.00      1.00      1.00       139\n",
      "\n"
     ]
    }
   ],
   "source": [
    "print classification_report(y_test, y_pred,target_names= target_names)"
   ]
  },
  {
   "cell_type": "code",
   "execution_count": 281,
   "metadata": {
    "collapsed": false
   },
   "outputs": [],
   "source": [
    "# plot confusion matrix\n",
    "from sklearn.metrics import confusion_matrix\n",
    "def plot_cm(cm, title ='Confusion Matrix',\n",
    "           target_names = ['benign','bad']):\n",
    "    plt.imshow(cm,interpolation='nearest',cmap=plt.cm.Blues)\n",
    "    plt.title(title, fontsize = 15)\n",
    "    plt.colorbar()\n",
    "    \n",
    "    x = range(len(target_names))\n",
    "    plt.xticks(x, target_names, rotation = 60, fontsize = 12)\n",
    "    plt.yticks(x, target_names, fontsize = 12)\n",
    "    plt.ylabel('True Label',fontsize=15)\n",
    "    plt.xlabel('Predicted Label',fontsize = 15)\n",
    "    \n",
    "    \n",
    "    # Convenience function to adjust plot parameters for a clear layout.\n",
    "    plt.tight_layout()\n",
    "    "
   ]
  },
  {
   "cell_type": "code",
   "execution_count": 269,
   "metadata": {
    "collapsed": false
   },
   "outputs": [],
   "source": [
    "cm = confusion_matrix(y_test, y_pred)\n",
    "# do not normalized it , does not make sense--up to you\n",
    "# normalized can get TPR and TNR, but other two doesn't make sense\n",
    "cm_normed = 1.00* cm/cm.sum(axis = 1)\n",
    "cm_normed"
   ]
  },
  {
   "cell_type": "code",
   "execution_count": 279,
   "metadata": {
    "collapsed": false
   },
   "outputs": [
    {
     "data": {
      "image/png": "[encoded data removed]",
      "text/plain": [
       "<matplotlib.figure.Figure at 0x128929890>"
      ]
     },
     "metadata": {},
     "output_type": "display_data"
    }
   ],
   "source": [
    "plot_cm(cm)"
   ]
  },
  {
   "cell_type": "code",
   "execution_count": 282,
   "metadata": {
    "collapsed": false
   },
   "outputs": [
    {
     "data": {
      "image/png": "[encoded data removed]",
      "text/plain": [
       "<matplotlib.figure.Figure at 0x128ff3410>"
      ]
     },
     "metadata": {},
     "output_type": "display_data"
    }
   ],
   "source": [
    "plot_cm(cm_normed)"
   ]
  },
  {
   "cell_type": "markdown",
   "metadata": {},
   "source": [
    "# Logistic regression"
   ]
  },
  {
   "cell_type": "code",
   "execution_count": 195,
   "metadata": {
    "collapsed": true
   },
   "outputs": [],
   "source": [
    "from sklearn.linear_model import LogisticRegression"
   ]
  },
  {
   "cell_type": "code",
   "execution_count": 198,
   "metadata": {
    "collapsed": false
   },
   "outputs": [],
   "source": [
    "# step 1: imputation:Imputer to replace missing value -1 either to mean or median\n",
    "imputer = Imputer(missing_values= -1, strategy= 'median')\n",
    "# step 2: standardScaler\n",
    "scaler = StandardScaler()\n",
    "#step 3: classifer\n",
    "log = LogisticRegression(penalty= 'l1')\n",
    "\n",
    "pipeline = Pipeline([\n",
    "        ('imp', imputer),\n",
    "        ('scaler', scaler),\n",
    "        ('clf', log),\n",
    "            ])\n",
    "\n",
    "param_grid = {\n",
    "    'imp__strategy': ['median', 'mean'],\n",
    "    'clf__C': [0.1,0.5,0.8],    \n",
    "}\n"
   ]
  },
  {
   "cell_type": "code",
   "execution_count": 199,
   "metadata": {
    "collapsed": false
   },
   "outputs": [
    {
     "name": "stdout",
     "output_type": "stream",
     "text": [
      "best score: 0.993\n",
      "('best Parameters: ', {'clf__C': 0.5, 'imp__strategy': 'median'})\n",
      "this training takes 0.39 seconds\n"
     ]
    }
   ],
   "source": [
    "from time import time\n",
    "\n",
    "start = time()\n",
    "model = model_evaluation(X_train, y_train, pipeline, param_grid, cv = 3, scoring = 'roc_auc')\n",
    "print ('this training takes %.2f seconds' %(time()-start))"
   ]
  },
  {
   "cell_type": "code",
   "execution_count": 200,
   "metadata": {
    "collapsed": true
   },
   "outputs": [],
   "source": [
    "# now after getting the best parameters, use entire training dataset\n",
    "# step 1: imputation:Imputer to replace missing value -1 either to mean or median\n",
    "imputer = Imputer(missing_values= -1, strategy= 'median')\n",
    "\n",
    "X_train_1 = imputer.fit_transform(X_train)\n",
    "X_test_1 = imputer.transform(X_test)\n",
    "\n",
    "# step 2: standardScaler\n",
    "scaler = StandardScaler()\n",
    "X_train_final = scaler.fit_transform(X_train_1)\n",
    "X_test_final = scaler.transform(X_test_1)\n"
   ]
  },
  {
   "cell_type": "code",
   "execution_count": 201,
   "metadata": {
    "collapsed": false
   },
   "outputs": [
    {
     "data": {
      "text/plain": [
       "LogisticRegression(C=0.5, class_weight=None, dual=False, fit_intercept=True,\n",
       "          intercept_scaling=1, max_iter=100, multi_class='ovr', n_jobs=1,\n",
       "          penalty='l1', random_state=None, solver='liblinear', tol=0.0001,\n",
       "          verbose=0, warm_start=False)"
      ]
     },
     "execution_count": 201,
     "metadata": {},
     "output_type": "execute_result"
    }
   ],
   "source": [
    "# use logistic regression to run the model\n",
    "from sklearn.linear_model import LogisticRegression\n",
    "log = LogisticRegression(penalty= 'l1',C= 0.5)\n",
    "log.fit(X_train_final, y_train)"
   ]
  },
  {
   "cell_type": "code",
   "execution_count": 202,
   "metadata": {
    "collapsed": true
   },
   "outputs": [],
   "source": [
    "y2_pred_prob = log.predict_proba(X_test_final)\n",
    "y2_pred = log.predict(X_test_final)"
   ]
  },
  {
   "cell_type": "code",
   "execution_count": 203,
   "metadata": {
    "collapsed": true
   },
   "outputs": [],
   "source": [
    "feature_name = data.columns\n",
    "feature_importance = log.coef_[0] # need [0]"
   ]
  },
  {
   "cell_type": "code",
   "execution_count": 204,
   "metadata": {
    "collapsed": false
   },
   "outputs": [
    {
     "data": {
      "text/html": [
       "<div>\n",
       "<table border=\"1\" class=\"dataframe\">\n",
       "  <thead>\n",
       "    <tr style=\"text-align: right;\">\n",
       "      <th></th>\n",
       "      <th>0</th>\n",
       "      <th>1</th>\n",
       "    </tr>\n",
       "  </thead>\n",
       "  <tbody>\n",
       "    <tr>\n",
       "      <th>0</th>\n",
       "      <td>Bare_Nuclei</td>\n",
       "      <td>1.269033</td>\n",
       "    </tr>\n",
       "    <tr>\n",
       "      <th>1</th>\n",
       "      <td>Clump_Thickness</td>\n",
       "      <td>1.220718</td>\n",
       "    </tr>\n",
       "    <tr>\n",
       "      <th>2</th>\n",
       "      <td>Bland_Chromatin</td>\n",
       "      <td>0.793574</td>\n",
       "    </tr>\n",
       "    <tr>\n",
       "      <th>3</th>\n",
       "      <td>Cell_Shape</td>\n",
       "      <td>0.690836</td>\n",
       "    </tr>\n",
       "    <tr>\n",
       "      <th>4</th>\n",
       "      <td>Mitoses</td>\n",
       "      <td>0.627534</td>\n",
       "    </tr>\n",
       "    <tr>\n",
       "      <th>5</th>\n",
       "      <td>Marginal_Adhesion</td>\n",
       "      <td>0.486470</td>\n",
       "    </tr>\n",
       "    <tr>\n",
       "      <th>6</th>\n",
       "      <td>Normal_Nucleoli</td>\n",
       "      <td>0.413143</td>\n",
       "    </tr>\n",
       "    <tr>\n",
       "      <th>7</th>\n",
       "      <td>Cell_Size</td>\n",
       "      <td>0.300014</td>\n",
       "    </tr>\n",
       "    <tr>\n",
       "      <th>8</th>\n",
       "      <td>SingleEpithelial_Cell_Size</td>\n",
       "      <td>0.017048</td>\n",
       "    </tr>\n",
       "  </tbody>\n",
       "</table>\n",
       "</div>"
      ],
      "text/plain": [
       "                            0         1\n",
       "0                 Bare_Nuclei  1.269033\n",
       "1             Clump_Thickness  1.220718\n",
       "2             Bland_Chromatin  0.793574\n",
       "3                  Cell_Shape  0.690836\n",
       "4                     Mitoses  0.627534\n",
       "5           Marginal_Adhesion  0.486470\n",
       "6             Normal_Nucleoli  0.413143\n",
       "7                   Cell_Size  0.300014\n",
       "8  SingleEpithelial_Cell_Size  0.017048"
      ]
     },
     "execution_count": 204,
     "metadata": {},
     "output_type": "execute_result"
    }
   ],
   "source": [
    "sorted_features = sorted(zip(feature_name, feature_importance),key = lambda x: x[1], reverse = True)\n",
    "sorted_features = pd.DataFrame(sorted_features)\n",
    "sorted_features"
   ]
  },
  {
   "cell_type": "code",
   "execution_count": 205,
   "metadata": {
    "collapsed": false
   },
   "outputs": [
    {
     "name": "stdout",
     "output_type": "stream",
     "text": [
      "lasso regression\n"
     ]
    },
    {
     "data": {
      "image/png": "[encoded data removed]",
      "text/plain": [
       "<matplotlib.figure.Figure at 0x115a99dd0>"
      ]
     },
     "metadata": {},
     "output_type": "display_data"
    }
   ],
   "source": [
    "print('lasso regression')\n",
    "plot_rf_importance(feature_importance, feature_name)"
   ]
  },
  {
   "cell_type": "code",
   "execution_count": 238,
   "metadata": {
    "collapsed": false,
    "scrolled": true
   },
   "outputs": [
    {
     "data": {
      "image/png": "[encoded data removed]",
      "text/plain": [
       "<matplotlib.figure.Figure at 0x113e26290>"
      ]
     },
     "metadata": {},
     "output_type": "display_data"
    }
   ],
   "source": [
    "print('ridge regression')\n",
    "plot_rf_importance(feature_importance, feature_name)"
   ]
  },
  {
   "cell_type": "code",
   "execution_count": 206,
   "metadata": {
    "collapsed": false
   },
   "outputs": [
    {
     "data": {
      "image/png": "[encoded data removed]",
      "text/plain": [
       "<matplotlib.figure.Figure at 0x1118ce1d0>"
      ]
     },
     "metadata": {},
     "output_type": "display_data"
    }
   ],
   "source": [
    "plot_roc_auc(y_test, y2_pred_prob)"
   ]
  },
  {
   "cell_type": "code",
   "execution_count": 207,
   "metadata": {
    "collapsed": false
   },
   "outputs": [
    {
     "name": "stdout",
     "output_type": "stream",
     "text": [
      "             precision    recall  f1-score   support\n",
      "\n",
      "     benign       1.00      1.00      1.00        97\n",
      "        bad       1.00      1.00      1.00        42\n",
      "\n",
      "avg / total       1.00      1.00      1.00       139\n",
      "\n"
     ]
    }
   ],
   "source": [
    "print classification_report(y_test, y_pred, target_names = ['benign','bad'])"
   ]
  },
  {
   "cell_type": "code",
   "execution_count": null,
   "metadata": {
    "collapsed": true
   },
   "outputs": [],
   "source": []
  }
 ],
 "metadata": {
  "kernelspec": {
   "display_name": "Python [default]",
   "language": "python",
   "name": "python2"
  },
  "language_info": {
   "codemirror_mode": {
    "name": "ipython",
    "version": 2
   },
   "file_extension": ".py",
   "mimetype": "text/x-python",
   "name": "python",
   "nbconvert_exporter": "python",
   "pygments_lexer": "ipython2",
   "version": "2.7.13"
  }
 },
 "nbformat": 4,
 "nbformat_minor": 0
}
