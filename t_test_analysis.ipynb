{
 "cells": [
  {
   "cell_type": "code",
   "execution_count": 1,
   "metadata": {
    "collapsed": true
   },
   "outputs": [],
   "source": [
    "import pandas as pd\n",
    "import numpy as np\n",
    "from scipy import stats"
   ]
  },
  {
   "cell_type": "code",
   "execution_count": 2,
   "metadata": {},
   "outputs": [
    {
     "data": {
      "text/html": [
       "<div>\n",
       "<style>\n",
       "    .dataframe thead tr:only-child th {\n",
       "        text-align: right;\n",
       "    }\n",
       "\n",
       "    .dataframe thead th {\n",
       "        text-align: left;\n",
       "    }\n",
       "\n",
       "    .dataframe tbody tr th {\n",
       "        vertical-align: top;\n",
       "    }\n",
       "</style>\n",
       "<table border=\"1\" class=\"dataframe\">\n",
       "  <thead>\n",
       "    <tr style=\"text-align: right;\">\n",
       "      <th></th>\n",
       "      <th>unique_id</th>\n",
       "      <th>ab_test_name</th>\n",
       "      <th>ab_test_id</th>\n",
       "      <th>listening_minutes</th>\n",
       "    </tr>\n",
       "  </thead>\n",
       "  <tbody>\n",
       "    <tr>\n",
       "      <th>0</th>\n",
       "      <td>0040D2F8-48FF-474D-8BBB-1398A9DC7D8E-777</td>\n",
       "      <td>No Talk</td>\n",
       "      <td>2038</td>\n",
       "      <td>10.633333</td>\n",
       "    </tr>\n",
       "    <tr>\n",
       "      <th>1</th>\n",
       "      <td>054DD02C-1BEB-481B-B514-6DDD35FCF9BC-777</td>\n",
       "      <td>No Talk</td>\n",
       "      <td>2038</td>\n",
       "      <td>7.283333</td>\n",
       "    </tr>\n",
       "  </tbody>\n",
       "</table>\n",
       "</div>"
      ],
      "text/plain": [
       "                                  unique_id ab_test_name  ab_test_id  \\\n",
       "0  0040D2F8-48FF-474D-8BBB-1398A9DC7D8E-777      No Talk        2038   \n",
       "1  054DD02C-1BEB-481B-B514-6DDD35FCF9BC-777      No Talk        2038   \n",
       "\n",
       "   listening_minutes  \n",
       "0          10.633333  \n",
       "1           7.283333  "
      ]
     },
     "execution_count": 2,
     "metadata": {},
     "output_type": "execute_result"
    }
   ],
   "source": [
    "ios = pd.read_csv('raw_ios.csv') # load your raw data\n",
    "ios.head(2)"
   ]
  },
  {
   "cell_type": "markdown",
   "metadata": {},
   "source": [
    "1. ** stats summary **"
   ]
  },
  {
   "cell_type": "code",
   "execution_count": 5,
   "metadata": {},
   "outputs": [
    {
     "data": {
      "text/html": [
       "<div>\n",
       "<style>\n",
       "    .dataframe thead tr:only-child th {\n",
       "        text-align: right;\n",
       "    }\n",
       "\n",
       "    .dataframe thead th {\n",
       "        text-align: left;\n",
       "    }\n",
       "\n",
       "    .dataframe tbody tr th {\n",
       "        vertical-align: top;\n",
       "    }\n",
       "</style>\n",
       "<table border=\"1\" class=\"dataframe\">\n",
       "  <thead>\n",
       "    <tr style=\"text-align: right;\">\n",
       "      <th></th>\n",
       "      <th>mean</th>\n",
       "      <th>std</th>\n",
       "      <th>count</th>\n",
       "    </tr>\n",
       "    <tr>\n",
       "      <th>ab_test_name</th>\n",
       "      <th></th>\n",
       "      <th></th>\n",
       "      <th></th>\n",
       "    </tr>\n",
       "  </thead>\n",
       "  <tbody>\n",
       "    <tr>\n",
       "      <th>Control</th>\n",
       "      <td>25.237406</td>\n",
       "      <td>63.352985</td>\n",
       "      <td>114055</td>\n",
       "    </tr>\n",
       "    <tr>\n",
       "      <th>No Talk</th>\n",
       "      <td>25.227704</td>\n",
       "      <td>62.873564</td>\n",
       "      <td>113532</td>\n",
       "    </tr>\n",
       "  </tbody>\n",
       "</table>\n",
       "</div>"
      ],
      "text/plain": [
       "                   mean        std   count\n",
       "ab_test_name                              \n",
       "Control       25.237406  63.352985  114055\n",
       "No Talk       25.227704  62.873564  113532"
      ]
     },
     "execution_count": 5,
     "metadata": {},
     "output_type": "execute_result"
    }
   ],
   "source": [
    "# stats summary\n",
    "metric = 'listening_minutes'\n",
    "ios.groupby('ab_test_name')[metric].agg(['mean','std','count'])"
   ]
  },
  {
   "cell_type": "markdown",
   "metadata": {},
   "source": [
    "** 2. t_test analysis **\n",
    "    - 1) stats.ttest_ind is based on a two-tailed test, \n",
    "    - 2 )so for actual t_score = t_score but actual p_value = p_value/2\n",
    "reference: https://stackoverflow.com/questions/15984221/how-to-perform-two-sample-one-tailed-t-test-with-numpy-scipy\n"
   ]
  },
  {
   "cell_type": "code",
   "execution_count": 20,
   "metadata": {},
   "outputs": [
    {
     "name": "stdout",
     "output_type": "stream",
     "text": [
      "t_test results below:\n",
      "\n",
      "############################################################\n",
      "\n",
      "     Result for this experiment is \u001b[1mNOT SIGNIFICANT\u001b[0;0m\n",
      "\n",
      "1) the p_value for listening_minutes is: 0.49\n",
      "2) t_score for listening_minutes is 0.04\n",
      "\n",
      "############################################################\n"
     ]
    }
   ],
   "source": [
    "# t-test (one-tail analysis)\n",
    "\n",
    "############################################################\n",
    "\n",
    "####enter parameters below and do the t_test analysis#######\n",
    "\n",
    "############################################################\n",
    "\n",
    "\n",
    "control_name = 'Control' # change to your experiment group name\n",
    "test_name = 'No Talk'# change to your experiment group name\n",
    "\n",
    "metric = 'listening_minutes' # put metric that you are evaluating here\n",
    "\n",
    "df = ios # load your raw dataset\n",
    "\n",
    "############################################################\n",
    "\n",
    "######T_test analysis(no need to change below)##############\n",
    "\n",
    "############################################################\n",
    "from scipy import stats\n",
    "\n",
    "df_control = df[df.ab_test_name == control_name]\n",
    "df_test = df[df.ab_test_name == test_name]\n",
    "\n",
    "t_score, p_value =stats.ttest_ind(df_control[metric], df_test[metric],\n",
    "                equal_var= False,nan_policy = 'omit')\n",
    "\n",
    "p_value = p_value/2\n",
    "\n",
    "if p_value < 0.05:\n",
    "    sig = 'significant'\n",
    "else:\n",
    "    sig = 'not significant'\n",
    "\n",
    "start = \"\\033[1m\"\n",
    "end = \"\\033[0;0m\"\n",
    "\n",
    "print 't_test results below:'\n",
    "print ''\n",
    "print '############################################################'\n",
    "print ''\n",
    "print '     Result for this experiment is %s' % (start + sig.upper() + end)\n",
    "print ''\n",
    "print '1) the p_value(one-side) for %s is: %.2f' % (metric, p_value)\n",
    "print '2) t_score for %s is %.2f' % (metric, t_score)\n",
    "print ''\n",
    "print '############################################################'"
   ]
  },
  {
   "cell_type": "code",
   "execution_count": 18,
   "metadata": {},
   "outputs": [
    {
     "name": "stdout",
     "output_type": "stream",
     "text": [
      "The \u001b[1mtext\u001b[0;0m is bold.\n"
     ]
    }
   ],
   "source": [
    "start = \"\\033[1m\"\n",
    "end = \"\\033[0;0m\"\n",
    "print \"The \" + start + \"text\" + end + \" is bold.\"\n"
   ]
  },
  {
   "cell_type": "code",
   "execution_count": null,
   "metadata": {
    "collapsed": true
   },
   "outputs": [],
   "source": []
  },
  {
   "cell_type": "code",
   "execution_count": null,
   "metadata": {
    "collapsed": true
   },
   "outputs": [],
   "source": []
  }
 ],
 "metadata": {
  "kernelspec": {
   "display_name": "Python 2",
   "language": "python",
   "name": "python2"
  },
  "language_info": {
   "codemirror_mode": {
    "name": "ipython",
    "version": 2
   },
   "file_extension": ".py",
   "mimetype": "text/x-python",
   "name": "python",
   "nbconvert_exporter": "python",
   "pygments_lexer": "ipython2",
   "version": "2.7.13"
  }
 },
 "nbformat": 4,
 "nbformat_minor": 2
}
