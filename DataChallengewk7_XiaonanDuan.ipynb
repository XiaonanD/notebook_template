{
 "cells": [
  {
   "cell_type": "markdown",
   "metadata": {},
   "source": [
    "# Pricing-data challenge"
   ]
  },
  {
   "cell_type": "code",
   "execution_count": 5,
   "metadata": {
    "collapsed": true
   },
   "outputs": [],
   "source": [
    "import pandas as pd\n",
    "import numpy as np\n",
    "import matplotlib.pyplot as plt\n",
    "%matplotlib inline"
   ]
  },
  {
   "cell_type": "code",
   "execution_count": 6,
   "metadata": {
    "collapsed": false
   },
   "outputs": [
    {
     "name": "stderr",
     "output_type": "stream",
     "text": [
      "/Users/Xiaonan/anaconda/lib/python2.7/site-packages/matplotlib/__init__.py:1401: UserWarning:  This call to matplotlib.use() has no effect\n",
      "because the backend has already been chosen;\n",
      "matplotlib.use() must be called *before* pylab, matplotlib.pyplot,\n",
      "or matplotlib.backends is imported for the first time.\n",
      "\n",
      "  warnings.warn(_use_error_msg)\n"
     ]
    }
   ],
   "source": [
    "import pandas_profiling"
   ]
  },
  {
   "cell_type": "code",
   "execution_count": 9,
   "metadata": {
    "collapsed": true
   },
   "outputs": [],
   "source": [
    "# set random seed\n",
    "np.random.seed(1234)"
   ]
  },
  {
   "cell_type": "code",
   "execution_count": null,
   "metadata": {
    "collapsed": true
   },
   "outputs": [],
   "source": [
    "1) time length of experiment:  ('2015-03-02', '2015-05-31') # 3 month\n",
    "2) control/ treatment group size ratio: 2:1\n",
    "3) control group(0, price: 39) has higher conversion rate than treatment group and it is statistically sig."
   ]
  },
  {
   "cell_type": "markdown",
   "metadata": {},
   "source": [
    "# Q1: Should the company sell its software for $39 or $59?"
   ]
  },
  {
   "cell_type": "markdown",
   "metadata": {},
   "source": [
    "Result: first we need to assume/check if the control and treatment samples are representative of real population. \n",
    "    Revenue = # of purchase * unit price\n",
    "If so, since the size of control is 2 times larger than treatment group, we will use \n",
    "<font color = 'green'> total revenue/# of all users in each group </font> to compare.\n",
    "    \n",
    "   - control: 0.7767 v.s. treatment 0.91684 \n",
    "   - p-value = 1.5407498604678382e-08\n",
    "   * we favor treatment group, so the company should sell at $59."
   ]
  },
  {
   "cell_type": "markdown",
   "metadata": {
    "collapsed": true
   },
   "source": [
    "# 0) I need to do data cleaning"
   ]
  },
  {
   "cell_type": "code",
   "execution_count": null,
   "metadata": {
    "collapsed": true
   },
   "outputs": [],
   "source": [
    "a. Bad time\n",
    "b. plot Coordinates\n",
    "c."
   ]
  },
  {
   "cell_type": "code",
   "execution_count": null,
   "metadata": {
    "collapsed": true
   },
   "outputs": [],
   "source": []
  },
  {
   "cell_type": "code",
   "execution_count": null,
   "metadata": {
    "collapsed": true
   },
   "outputs": [],
   "source": []
  },
  {
   "cell_type": "markdown",
   "metadata": {},
   "source": [
    "# 1 )Load Data"
   ]
  },
  {
   "cell_type": "code",
   "execution_count": 10,
   "metadata": {
    "collapsed": false
   },
   "outputs": [],
   "source": [
    "test_result = pd.read_csv('Pricing_Test/test_results.csv')\n",
    "user = pd.read_csv('Pricing_Test/user_table.csv')"
   ]
  },
  {
   "cell_type": "code",
   "execution_count": 8,
   "metadata": {
    "collapsed": false
   },
   "outputs": [
    {
     "data": {
      "text/html": [
       "<meta charset=\"UTF-8\">\n",
       "\n",
       "<style>\n",
       "\n",
       "        .variablerow {\n",
       "            border: 1px solid #e1e1e8;\n",
       "            border-top: hidden;\n",
       "            padding-top: 2em;\n",
       "            padding-bottom: 2em;\n",
       "            padding-left: 1em;\n",
       "            padding-right: 1em;\n",
       "        }\n",
       "\n",
       "        .headerrow {\n",
       "            border: 1px solid #e1e1e8;\n",
       "            background-color: #f5f5f5;\n",
       "            padding: 2em;\n",
       "        }\n",
       "        .namecol {\n",
       "            margin-top: -1em;\n",
       "            overflow-x: auto;\n",
       "        }\n",
       "\n",
       "        .dl-horizontal dt {\n",
       "            text-align: left;\n",
       "            padding-right: 1em;\n",
       "            white-space: normal;\n",
       "        }\n",
       "\n",
       "        .dl-horizontal dd {\n",
       "            margin-left: 0;\n",
       "        }\n",
       "\n",
       "        .ignore {\n",
       "            opacity: 0.4;\n",
       "        }\n",
       "\n",
       "        .container.pandas-profiling {\n",
       "            max-width:975px;\n",
       "        }\n",
       "\n",
       "        .col-md-12 {\n",
       "            padding-left: 2em;\n",
       "        }\n",
       "\n",
       "        .indent {\n",
       "            margin-left: 1em;\n",
       "        }\n",
       "\n",
       "        /* Table example_values */\n",
       "            table.example_values {\n",
       "                border: 0;\n",
       "            }\n",
       "\n",
       "            .example_values th {\n",
       "                border: 0;\n",
       "                padding: 0 ;\n",
       "                color: #555;\n",
       "                font-weight: 600;\n",
       "            }\n",
       "\n",
       "            .example_values tr, .example_values td{\n",
       "                border: 0;\n",
       "                padding: 0;\n",
       "                color: #555;\n",
       "            }\n",
       "\n",
       "        /* STATS */\n",
       "            table.stats {\n",
       "                border: 0;\n",
       "            }\n",
       "\n",
       "            .stats th {\n",
       "                border: 0;\n",
       "                padding: 0 2em 0 0;\n",
       "                color: #555;\n",
       "                font-weight: 600;\n",
       "            }\n",
       "\n",
       "            .stats tr {\n",
       "                border: 0;\n",
       "            }\n",
       "\n",
       "            .stats tr:hover{\n",
       "                text-decoration: underline;\n",
       "            }\n",
       "\n",
       "            .stats td{\n",
       "                color: #555;\n",
       "                padding: 1px;\n",
       "                border: 0;\n",
       "            }\n",
       "\n",
       "\n",
       "        /* Sample table */\n",
       "            table.sample {\n",
       "                border: 0;\n",
       "                margin-bottom: 2em;\n",
       "                margin-left:1em;\n",
       "            }\n",
       "            .sample tr {\n",
       "                border:0;\n",
       "            }\n",
       "            .sample td, .sample th{\n",
       "                padding: 0.5em;\n",
       "                white-space: nowrap;\n",
       "                border: none;\n",
       "\n",
       "            }\n",
       "\n",
       "            .sample thead {\n",
       "                border-top: 0;\n",
       "                border-bottom: 2px solid #ddd;\n",
       "            }\n",
       "\n",
       "            .sample td {\n",
       "                width:100%;\n",
       "            }\n",
       "\n",
       "\n",
       "        /* There is no good solution available to make the divs equal height and then center ... */\n",
       "            .histogram {\n",
       "                margin-top: 3em;\n",
       "            }\n",
       "        /* Freq table */\n",
       "\n",
       "            table.freq {\n",
       "                margin-bottom: 2em;\n",
       "                border: 0;\n",
       "            }\n",
       "            table.freq th, table.freq tr, table.freq td {\n",
       "                border: 0;\n",
       "                padding: 0;\n",
       "            }\n",
       "\n",
       "            .freq thead {\n",
       "                font-weight: 600;\n",
       "                white-space: nowrap;\n",
       "                overflow: hidden;\n",
       "                text-overflow: ellipsis;\n",
       "\n",
       "            }\n",
       "\n",
       "            td.fillremaining{\n",
       "                width:auto;\n",
       "                max-width: none;\n",
       "            }\n",
       "\n",
       "            td.number, th.number {\n",
       "                text-align:right ;\n",
       "            }\n",
       "\n",
       "        /* Freq mini */\n",
       "            .freq.mini td{\n",
       "                width: 50%;\n",
       "                padding: 1px;\n",
       "                font-size: 12px;\n",
       "\n",
       "            }\n",
       "            table.freq.mini {\n",
       "                 width:100%;\n",
       "            }\n",
       "            .freq.mini th {\n",
       "                overflow: hidden;\n",
       "                text-overflow: ellipsis;\n",
       "                white-space: nowrap;\n",
       "                max-width: 5em;\n",
       "                font-weight: 400;\n",
       "                text-align:right;\n",
       "                padding-right: 0.5em;\n",
       "            }\n",
       "\n",
       "            .missing {\n",
       "                color: #a94442;\n",
       "            }\n",
       "            .alert, .alert > th, .alert > td {\n",
       "                color: #a94442;\n",
       "            }\n",
       "\n",
       "\n",
       "        /* Bars in tables */\n",
       "            .freq .bar{\n",
       "                float: left;\n",
       "                width: 0;\n",
       "                height: 100%;\n",
       "                line-height: 20px;\n",
       "                color: #fff;\n",
       "                text-align: center;\n",
       "                background-color: #337ab7;\n",
       "                border-radius: 3px;\n",
       "                margin-right: 4px;\n",
       "            }\n",
       "            .other .bar {\n",
       "                background-color: #999;\n",
       "            }\n",
       "            .missing .bar{\n",
       "                background-color: #a94442;\n",
       "            }\n",
       "            .tooltip-inner {\n",
       "                width: 100%;\n",
       "                white-space: nowrap;\n",
       "                text-align:left;\n",
       "            }\n",
       "\n",
       "            .extrapadding{\n",
       "                padding: 2em;\n",
       "            }\n",
       "\n",
       "</style>\n",
       "\n",
       "<div class=\"container pandas-profiling\">\n",
       "    <div class=\"row headerrow highlight\">\n",
       "        <h1>Overview</h1>\n",
       "    </div>\n",
       "    <div class=\"row variablerow\">\n",
       "    <div class=\"col-md-6 namecol\">\n",
       "        <p class=\"h4\">Dataset info</p>\n",
       "        <table class=\"stats\" style=\"margin-left: 1em;\">\n",
       "            <tbody>\n",
       "            <tr>\n",
       "                <th>Number of variables</th>\n",
       "                <td>8 </td>\n",
       "            </tr>\n",
       "            <tr>\n",
       "                <th>Number of observations</th>\n",
       "                <td>316800 </td>\n",
       "            </tr>\n",
       "            <tr>\n",
       "                <th>Total Missing (%)</th>\n",
       "                <td>0.0% </td>\n",
       "            </tr>\n",
       "            <tr>\n",
       "                <th>Total size in memory</th>\n",
       "                <td>19.3 MiB </td>\n",
       "            </tr>\n",
       "            <tr>\n",
       "                <th>Average record size in memory</th>\n",
       "                <td>64.0 B </td>\n",
       "            </tr>\n",
       "            </tbody>\n",
       "        </table>\n",
       "    </div>\n",
       "    <div class=\"col-md-6 namecol\">\n",
       "        <p class=\"h4\">Variables types</p>\n",
       "        <table class=\"stats\" style=\"margin-left: 1em;\">\n",
       "            <tbody>\n",
       "            <tr>\n",
       "                <th>Numeric</th>\n",
       "                <td>3 </td>\n",
       "            </tr>\n",
       "            <tr>\n",
       "                <th>Categorical</th>\n",
       "                <td>4 </td>\n",
       "            </tr>\n",
       "            <tr>\n",
       "                <th>Date</th>\n",
       "                <td>0 </td>\n",
       "            </tr>\n",
       "            <tr>\n",
       "                <th>Text (Unique)</th>\n",
       "                <td>0 </td>\n",
       "            </tr>\n",
       "            <tr>\n",
       "                <th>Rejected</th>\n",
       "                <td>1 </td>\n",
       "            </tr>\n",
       "            </tbody>\n",
       "        </table>\n",
       "    </div>\n",
       "    <div class=\"col-md-12\" style=\"padding-left: 1em;\">\n",
       "        <p class=\"h4\">Warnings</p>\n",
       "        <ul class=\"list-unstyled\"><li><code>converted</code> has 310992 / 98.2% zeros</l><li><code>price</code> is highly correlated with <code>test</code> (ρ = 0.9975) <span class=\"label label-primary\">Rejected</span></l><li><code>test</code> has 202727 / 64.0% zeros</l><li><code>timestamp</code> has a high cardinality: 140931 distinct values  <span class=\"label label-warning\">Warning</span></l> </ul>\n",
       "    </div>\n",
       "</div>\n",
       "    <div class=\"row headerrow highlight\">\n",
       "        <h1>Variables</h1>\n",
       "    </div>\n",
       "    <div class=\"row variablerow\">\n",
       "    <div class=\"col-md-3 namecol\">\n",
       "        <p class=\"h4\">converted<br/>\n",
       "            <small>Numeric</small>\n",
       "        </p>\n",
       "    </div><div class=\"col-md-6\">\n",
       "    <div class=\"row\">\n",
       "        <div class=\"col-sm-6\">\n",
       "            <table class=\"stats \">\n",
       "                <tr>\n",
       "                    <th>Distinct count</th>\n",
       "                    <td>2</td>\n",
       "                </tr>\n",
       "                <tr>\n",
       "                    <th>Unique (%)</th>\n",
       "                    <td>0.0%</td>\n",
       "                </tr>\n",
       "                <tr class=\"ignore\">\n",
       "                    <th>Missing (%)</th>\n",
       "                    <td>0.0%</td>\n",
       "                </tr>\n",
       "                <tr class=\"ignore\">\n",
       "                    <th>Missing (n)</th>\n",
       "                    <td>0</td>\n",
       "                </tr>\n",
       "                <tr class=\"ignore\">\n",
       "                    <th>Infinite (%)</th>\n",
       "                    <td>0.0%</td>\n",
       "                </tr>\n",
       "                <tr class=\"ignore\">\n",
       "                    <th>Infinite (n)</th>\n",
       "                    <td>0</td>\n",
       "                </tr>\n",
       "            </table>\n",
       "\n",
       "        </div>\n",
       "        <div class=\"col-sm-6\">\n",
       "            <table class=\"stats \">\n",
       "\n",
       "                <tr>\n",
       "                    <th>Mean</th>\n",
       "                    <td>0.018333</td>\n",
       "                </tr>\n",
       "                <tr>\n",
       "                    <th>Minimum</th>\n",
       "                    <td>0</td>\n",
       "                </tr>\n",
       "                <tr>\n",
       "                    <th>Maximum</th>\n",
       "                    <td>1</td>\n",
       "                </tr>\n",
       "                <tr class=\"alert\">\n",
       "                    <th>Zeros (%)</th>\n",
       "                    <td>98.2%</td>\n",
       "                </tr>\n",
       "            </table>\n",
       "        </div>\n",
       "    </div>\n",
       "</div>\n",
       "<div class=\"col-md-3 collapse in\" id=\"minihistogram6373619203965435763\">\n",
       "    <img src=\"data:image/png;base64,iVBORw0KGgoAAAANSUhEUgAAAMgAAABLCAYAAAA1fMjoAAAABHNCSVQICAgIfAhkiAAAAAlwSFlzAAAPYQAAD2EBqD%2BnaQAAAQpJREFUeJzt1sEJAkEQRUEVQzIIc/JsTgaxObV3kQcKy4hU3Rv%2B5TFznJk5AG%2BdVg%2BAX3ZePeDV5fb4%2BGa7X3dYAl4QSAKBIBAIAoEgEAgCgSAQCAKBIBAIAoEgEAgCgSAQCAKBIBAIAoEgEAgCgSAQCAKBIBAIAoEgEAgCgSAQCAKBIBAIAoEgEAgCgSAQCAKBIBAIAoEgEAgCgSAQCAKBIBAIAoEgEAgCgSAQCAKBIBAI59UD%2BF%2BX2%2BPjm%2B1%2B3WHJ944zM6tHwK/yxYIgEAgCgSAQCAKBIBAIAoEgEAgCgSAQCAKBIBAIAoEgEAgCgSAQCAKBIBAIAoEgEAgCgSAQCAKBIBAIAoHwBJV2DpGLuzL6AAAAAElFTkSuQmCC\">\n",
       "\n",
       "</div>\n",
       "<div class=\"col-md-12 text-right\">\n",
       "    <a role=\"button\" data-toggle=\"collapse\" data-target=\"#descriptives6373619203965435763,#minihistogram6373619203965435763\"\n",
       "       aria-expanded=\"false\" aria-controls=\"collapseExample\">\n",
       "        Toggle details\n",
       "    </a>\n",
       "</div>\n",
       "<div class=\"row collapse col-md-12\" id=\"descriptives6373619203965435763\">\n",
       "    <ul class=\"nav nav-tabs\" role=\"tablist\">\n",
       "        <li role=\"presentation\" class=\"active\"><a href=\"#quantiles6373619203965435763\"\n",
       "                                                  aria-controls=\"quantiles6373619203965435763\" role=\"tab\"\n",
       "                                                  data-toggle=\"tab\">Statistics</a></li>\n",
       "        <li role=\"presentation\"><a href=\"#histogram6373619203965435763\" aria-controls=\"histogram6373619203965435763\"\n",
       "                                   role=\"tab\" data-toggle=\"tab\">Histogram</a></li>\n",
       "        <li role=\"presentation\"><a href=\"#common6373619203965435763\" aria-controls=\"common6373619203965435763\"\n",
       "                                   role=\"tab\" data-toggle=\"tab\">Common Values</a></li>\n",
       "        <li role=\"presentation\"><a href=\"#extreme6373619203965435763\" aria-controls=\"extreme6373619203965435763\"\n",
       "                                   role=\"tab\" data-toggle=\"tab\">Extreme Values</a></li>\n",
       "\n",
       "    </ul>\n",
       "\n",
       "    <div class=\"tab-content\">\n",
       "        <div role=\"tabpanel\" class=\"tab-pane active row\" id=\"quantiles6373619203965435763\">\n",
       "            <div class=\"col-md-4 col-md-offset-1\">\n",
       "                <p class=\"h4\">Quantile statistics</p>\n",
       "                <table class=\"stats indent\">\n",
       "                    <tr>\n",
       "                        <th>Minimum</th>\n",
       "                        <td>0</td>\n",
       "                    </tr>\n",
       "                    <tr>\n",
       "                        <th>5-th percentile</th>\n",
       "                        <td>0</td>\n",
       "                    </tr>\n",
       "                    <tr>\n",
       "                        <th>Q1</th>\n",
       "                        <td>0</td>\n",
       "                    </tr>\n",
       "                    <tr>\n",
       "                        <th>Median</th>\n",
       "                        <td>0</td>\n",
       "                    </tr>\n",
       "                    <tr>\n",
       "                        <th>Q3</th>\n",
       "                        <td>0</td>\n",
       "                    </tr>\n",
       "                    <tr>\n",
       "                        <th>95-th percentile</th>\n",
       "                        <td>0</td>\n",
       "                    </tr>\n",
       "                    <tr>\n",
       "                        <th>Maximum</th>\n",
       "                        <td>1</td>\n",
       "                    </tr>\n",
       "                    <tr>\n",
       "                        <th>Range</th>\n",
       "                        <td>1</td>\n",
       "                    </tr>\n",
       "                    <tr>\n",
       "                        <th>Interquartile range</th>\n",
       "                        <td>0</td>\n",
       "                    </tr>\n",
       "                </table>\n",
       "            </div>\n",
       "            <div class=\"col-md-4 col-md-offset-2\">\n",
       "                <p class=\"h4\">Descriptive statistics</p>\n",
       "                <table class=\"stats indent\">\n",
       "                    <tr>\n",
       "                        <th>Standard deviation</th>\n",
       "                        <td>0.13415</td>\n",
       "                    </tr>\n",
       "                    <tr>\n",
       "                        <th>Coef of variation</th>\n",
       "                        <td>7.3175</td>\n",
       "                    </tr>\n",
       "                    <tr>\n",
       "                        <th>Kurtosis</th>\n",
       "                        <td>49.565</td>\n",
       "                    </tr>\n",
       "                    <tr>\n",
       "                        <th>Mean</th>\n",
       "                        <td>0.018333</td>\n",
       "                    </tr>\n",
       "                    <tr>\n",
       "                        <th>MAD</th>\n",
       "                        <td>0.035994</td>\n",
       "                    </tr>\n",
       "                    <tr class=\"\">\n",
       "                        <th>Skewness</th>\n",
       "                        <td>7.1809</td>\n",
       "                    </tr>\n",
       "                    <tr>\n",
       "                        <th>Sum</th>\n",
       "                        <td>5808</td>\n",
       "                    </tr>\n",
       "                    <tr>\n",
       "                        <th>Variance</th>\n",
       "                        <td>0.017997</td>\n",
       "                    </tr>\n",
       "                    <tr>\n",
       "                        <th>Memory size</th>\n",
       "                        <td>2.4 MiB</td>\n",
       "                    </tr>\n",
       "                </table>\n",
       "            </div>\n",
       "        </div>\n",
       "        <div role=\"tabpanel\" class=\"tab-pane col-md-8 col-md-offset-2\" id=\"histogram6373619203965435763\">\n",
       "            <img src=\"data:image/png;base64,iVBORw0KGgoAAAANSUhEUgAAAlgAAAGQCAYAAAByNR6YAAAABHNCSVQICAgIfAhkiAAAAAlwSFlzAAAPYQAAD2EBqD%2BnaQAAIABJREFUeJzt3XtUVPe9//8XwxQYtBSUy8%2Bo31ipVkQcCFTTRHOONhqrpl6jifWg0bT2iHJymqYWTBQvkVRyD6YJiVRMbGKV5nKykpiStkk9arRYBi8hQW0MCUWHFpZGx8GB/fvDr/PtiFHAPQ6Dz8da88d8Pns%2B%2B73fCxYv9t5sQgzDMAQAAADTWAJdAAAAQFdDwAIAADAZAQsAAMBkBCwAAACTEbAAAABMRsACAAAwGQELAADAZAQsAAAAkxGwAAAATEbAAgAAMBkBCwAAwGQELAAAAJMRsAAAAExGwAIAADAZAQsAAMBkBCwAAACTEbAAAABMRsACAAAwGQELAADAZAQsAAAAkxGwAAAATEbAAgAAMBkBCwAAwGQELAAAAJMRsAAAAExGwAIAADAZAQsAAMBkBCwAAACTEbAAAABMRsACAAAwGQELAADAZAQsAAAAkxGwAAAATEbAAgAAMBkBCwAAwGQELAAAAJMRsAAAAExGwAIAADAZAQsAAMBk1kAXcK1wOk%2BavqbFEqIePbrpn/88pZYWw/T1r2X01n/orX/RX/%2Bht/7jz97GxX3d1PXaijNYQcxiCVFISIgslpBAl9Ll0Fv/obf%2BRX/9h976T1fsLQELAADAZAQsAAAAkxGwAAAATEbAAgAAMBkBCwAAwGQELAAAAJMRsAAAAExGwAIAADAZAQsAAMBkBCwAAACTEbAAAABMRsACAAAwGQELAADAZNZAF4Ark7H0nUCX0GZv33tzoEsAAOCq4AwWAACAyQhYAAAAJiNgAQAAmIyABQAAYDICFgAAgMkCGrCOHj2q%2BfPnKy0tTf/%2B7/%2BuF154wTtXU1OjuXPnKjU1VePHj9f27dt9Prtjxw5NnDhRdrtdmZmZqqmp8ZnfsGGDRo4cqbS0NOXm5srlcnnn3G63cnNzlZGRoREjRqi4uNjns5fbNwAAwKUELGC1tLToxz/%2BsWJiYvTqq69qxYoV%2BtWvfqX/%2BZ//kWEYysrKUmxsrEpLSzVp0iQtWrRItbW1kqTa2lplZWVp6tSp2rp1q3r06KGFCxfKMAxJ0rZt21RYWKiVK1eqpKREDodDBQUF3n2vXbtW%2B/fvV0lJiZYvX67CwkK98865xx1cbt8AAACXE7DnYNXX1yspKUl5eXnq3r27%2BvXrp%2B9%2B97sqLy9XbGysampq9MorrygyMlKJiYnauXOnSktLtXjxYm3ZskVDhgzRvHnzJEn5%2Bfm6%2BeabtXv3bg0fPlwbN27UnDlzNGrUKEnSihUrNH/%2BfN1///0yDENbtmzR888/r%2BTkZCUnJ6u6ulqbNm3SuHHjtGvXrkvuGwAA4HICdgYrPj5eTzzxhLp37y7DMFReXq49e/Zo2LBhcjgcGjx4sCIjI73bp6enq6KiQpLkcDiUkZHhnbPZbEpOTlZFRYWam5u1b98%2Bn/nU1FSdPXtWVVVVqqqqksfjUVpams/aDodDLS0tl903AADA5XSKJ7mPHj1atbW1GjVqlG677TatWbNG8fHxPtv07NlTdXV1kiSn0/mV8ydOnJDb7faZt1qtio6OVl1dnSwWi2JiYhQWFuadj42NldvtVmNj4yXXbqvjx4/L6XT6jFmtka3WvVKhocH1NwpWa/DUe763wdbjYEBv/Yv%2B%2Bg%2B99Z%2Bu2NtOEbCeeuop1dfXKy8vT/n5%2BXK5XD4BSJLCwsLU1NQkSZecP3PmjPf9xeYNw7jonCQ1NTVddt9tsXnzZhUWFvqMZWVlKTs7u81rdEUxMd0CXUK7RUXZAl1Cl0Vv/Yv%2B%2Bg%2B99Z%2Bu1NtOEbBSUlIknfvrvp/97GeaNm2az1/9SefCT0REhCQpPDy8VeBpampSVFSUwsPDve8vnLfZbGpubr7onCRFREQoPDxcjY2NX7nvtpg5c6ZGjx7tM2a1Rqqh4VSb12iLYEv6Zh%2B/P4WGWhQVZdOJEy41N7cEupwuhd76F/31H3rrP/7sbaB%2BuQ/oTe4VFRW69dZbvWPf%2Bta3dPbsWcXFxenIkSOttj9/iS0hIUH19fWt5pOSkhQdHa3w8HDV19crMTFRkuTxeNTY2Ki4uDgZhqGGhgZ5PB5ZrecO3%2Bl0KiIiQlFRUUpISNChQ4e%2Bct9tER8f32p7p/OkPJ5r%2BxsyGI%2B/ubklKOsOBvTWv%2Biv/9Bb/%2BlKvQ3YKZDPP/9cixYt0rFjx7xj%2B/fvV48ePZSenq4DBw54L/dJUnl5uex2uyTJbrervLzcO%2BdyuXTw4EHZ7XZZLBalpKT4zFdUVMhqtWrQoEFKSkqS1Wr1uWm9vLxcKSkpslgsstvtl9w3AADA5QQsYKWkpCg5OVm5ubk6dOiQ3n//fRUUFOgnP/mJhg0bpl69eiknJ0fV1dUqKipSZWWlpk%2BfLkmaNm2a9u7dq6KiIlVXVysnJ0d9%2BvTR8OHDJUmzZs3S%2BvXrVVZWpsrKSuXl5WnGjBmy2Wyy2WyaPHmy8vLyVFlZqbKyMhUXFyszM1OSLrtvAACAywkxzj%2BdMwCOHTumVatWaefOnbLZbJo9e7YWLFigkJAQHT16VEuXLpXD4dD111%2Bv3Nxc3XTTTd7Pvv/%2B%2B1qzZo3q6uqUlpamVatWqW/fvt75oqIibdiwQU1NTRo7dqyWL1/uvT/L5XIpLy9P7777rrp376758%2Bdr7ty53s9ebt8d4XSevKLPX4zVatGYR/5s%2Brr%2B8va9Nwe6hDazWi2KiemmhoZTXeZ0dWdBb/2L/voPvfUff/Y2Lu7rpq7XVgENWNcSAhYBC%2BfQW/%2Biv/5Db/2nKwas4PozNAAAgCBAwAIAADAZAQsAAMBkBCwAAACTEbAAAABMRsACAAAwGQELAADAZAQsAAAAkxGwAAAATEbAAgAAMBkBCwAAwGQELAAAAJMRsAAAAExGwAIAADAZAQsAAMBkBCwAAACTEbAAAABMRsACAAAwGQELAADAZAQsAAAAkxGwAAAATEbAAgAAMBkBCwAAwGQELAAAAJMRsAAAAExGwAIAADAZAQsAAMBkBCwAAACTEbAAAABMRsACAAAwGQELAADAZAQsAAAAkxGwAAAATEbAAgAAMBkBCwAAwGQELAAAAJMRsAAAAEwWsIB17NgxZWdna9iwYRo5cqTy8/PldrslSatXr9a3v/1tn9dLL73k/eyOHTs0ceJE2e12ZWZmqqamxmftDRs2aOTIkUpLS1Nubq5cLpd3zu12Kzc3VxkZGRoxYoSKi4t9PltTU6O5c%2BcqNTVV48eP1/bt2/3YBQAA0BUFJGAZhqHs7Gy5XC5t2rRJjz/%2BuP74xz/qiSeekCQdPnxY9913n7Zv3%2B59TZs2TZJUW1urrKwsTZ06VVu3blWPHj20cOFCGYYhSdq2bZsKCwu1cuVKlZSUyOFwqKCgwLvvtWvXav/%2B/SopKdHy5ctVWFiod955x1tXVlaWYmNjVVpaqkmTJmnRokWqra29yh0CAADBLCAB68iRI6qoqFB%2Bfr4GDBigjIwMZWdn680335R0LmANHjxYcXFx3pfNZpMkbdmyRUOGDNG8efM0YMAA5efn64svvtDu3bslSRs3btScOXM0atQoDR06VCtWrFBpaalcLpdOnz6tLVu2aOnSpUpOTtaYMWN0zz33aNOmTZKkXbt2qaamRitXrlRiYqIWLFig1NRUlZaWBqJNAAAgSAUkYMXFxemFF15QbGysz/iXX36pL7/8UseOHVO/fv0u%2BlmHw6GMjAzve5vNpuTkZFVUVKi5uVn79u3zmU9NTdXZs2dVVVWlqqoqeTwepaWleefT09PlcDjU0tIih8OhwYMHKzIy0me%2BoqLCpCMHAADXAmsgdhoVFaWRI0d637e0tOill17SjTfeqMOHDyskJETPPvusPvjgA0VHR%2Bvuu%2B/WlClTJElOp1Px8fE%2B6/Xs2VN1dXU6ceKE3G63z7zValV0dLTq6upksVgUExOjsLAw73xsbKzcbrcaGxsvuXZ7HD9%2BXE6n02fMao1stfaVCg0Nrr9RsFqDp97zvQ22HgcDeutf9Nd/6K3/dMXeBiRgXaigoEAHDx7U1q1bdeDAAYWEhKh///6aPXu29uzZowcffFDdu3fXmDFj5HK5fAKSJIWFhampqUlnzpzxvr/YvGEYF52TpKampkuu3R6bN29WYWGhz1hWVpays7PbtU5XExPTLdAltFtUlC3QJXRZ9Na/6K//0Fv/6Uq9DXjAKigoUElJiR5//HENHDhQAwYM0KhRoxQdHS1JGjRokD799FO9/PLLGjNmjMLDw1sFnqamJkVFRSk8PNz7/sJ5m82m5ubmi85JUkREhMLDw9XY2NhqPiIiol3HNHPmTI0ePdpnzGqNVEPDqXatcznBlvTNPn5/Cg21KCrKphMnXGpubgl0OV0KvfUv%2Bus/9NZ//NnbQP1yH9CAtWrVKr388ssqKCjQbbfdJkkKCQnxhqvz%2Bvfvr127dkmSEhISVF9f7zNfX1%2BvpKQkRUdHKzw8XPX19UpMTJQkeTweNTY2Ki4uToZhqKGhQR6PR1bruUN3Op2KiIhQVFSUEhISdOjQoVZrt/fSXnx8fKvPOJ0n5fFc29%2BQwXj8zc0tQVl3MKC3/kV//Yfe%2Bk9X6m3AToEUFhbqlVde0WOPPaYJEyZ4x5988knNnTvXZ9uqqir1799fkmS321VeXu6dc7lcOnjwoOx2uywWi1JSUnzmKyoqZLVaNWjQICUlJclqtfrctF5eXq6UlBRZLBbZ7XYdOHDAe6nx/Lzdbjf78AEAQBcWkIB1%2BPBhPfPMM/rRj36k9PR0OZ1O72vUqFHas2eP1q9fr88%2B%2B0y/%2Bc1v9Nprr2nevHmSpGnTpmnv3r0qKipSdXW1cnJy1KdPHw0fPlySNGvWLK1fv15lZWWqrKxUXl6eZsyYIZvNJpvNpsmTJysvL0%2BVlZUqKytTcXGxMjMzJUnDhg1Tr169lJOTo%2BrqahUVFamyslLTp08PRJsAAECQCjHOP6HzKioqKtKjjz560bmPP/5YZWVleuqpp/Tpp5%2Bqd%2B/e%2Bu///m%2BNHTvWu83777%2BvNWvWqK6uTmlpaVq1apX69u3rs/6GDRvU1NSksWPHavny5d77s1wul/Ly8vTuu%2B%2Bqe/fumj9/vs8Zs6NHj2rp0qVyOBy6/vrrlZubq5tuuumKj9npPHnFa1zIarVozCN/Nn1df3n73psDXUKbWa0WxcR0U0PDqS5zurqzoLf%2BRX/9h976jz97Gxf3dVPXa6uABKxrEQGLgIVz6K1/0V//obf%2B0xUDVnD9GRoAAEAQIGABAACYjIAFAABgMgIWAACAyQhYAAAAJiNgAQAAmIyABQAAYDICFgAAgMkIWAAAACYjYAEAAJiMgAUAAGAyAhYAAIDJCFgAAAAmI2ABAACYjIAFAABgMgIWAACAyQhYAAAAJiNgAQAAmIyABQAAYDICFgAAgMkIWAAAACYjYAEAAJiMgAUAAGAyAhYAAIDJCFgAAAAmI2ABAACYjIAFAABgMgIWAACAyQhYAAAAJiNgAQAAmIyABQAAYDICFgAAgMkIWAAAACYjYAEAAJiMgAUAAGAyAhYAAIDJCFgAAAAmC1jAOnbsmLKzszVs2DCNHDlS%2Bfn5crvdkqSamhrNnTtXqampGj9%2BvLZv3%2B7z2R07dmjixImy2%2B3KzMxUTU2Nz/yGDRs0cuRIpaWlKTc3Vy6XyzvndruVm5urjIwMjRgxQsXFxT6fvdy%2BAQAALicgAcswDGVnZ8vlcmnTpk16/PHH9cc//lFPPPGEDMNQVlaWYmNjVVpaqkmTJmnRokWqra2VJNXW1iorK0tTp07V1q1b1aNHDy1cuFCGYUiStm3bpsLCQq1cuVIlJSVyOBwqKCjw7nvt2rXav3%2B/SkpKtHz5chUWFuqdd97x1nWpfQMAALSFNRA7PXLkiCoqKvS///u/io2NlSRlZ2frl7/8pW655RbV1NTolVdeUWRkpBITE7Vz506VlpZq8eLF2rJli4YMGaJ58%2BZJkvLz83XzzTdr9%2B7dGj58uDZu3Kg5c%2BZo1KhRkqQVK1Zo/vz5uv/%2B%2B2UYhrZs2aLnn39eycnJSk5OVnV1tTZt2qRx48Zp165dl9w3AABAWwTkDFZcXJxeeOEFb7g678svv5TD4dDgwYMVGRnpHU9PT1dFRYUkyeFwKCMjwztns9mUnJysiooKNTc3a9%2B%2BfT7zqampOnv2rKqqqlRVVSWPx6O0tDSftR0Oh1paWi67bwAAgLYIyBmsqKgojRw50vu%2BpaVFL730km688UY5nU7Fx8f7bN%2BzZ0/V1dVJ0iXnT5w4Ibfb7TNvtVoVHR2turo6WSwWxcTEKCwszDsfGxsrt9utxsbGy%2B67rY4fPy6n0%2BkzZrVGtlr7SoWGBtffKFitwVPv%2Bd4GW4%2BDAb31L/rrP/TWf7pibwMSsC5UUFCggwcPauvWrdqwYYNPAJKksLAwNTU1SZJcLtdXzp85c8b7/mLzhmFcdE6SmpqaLrl2e2zevFmFhYU%2BY1lZWcrOzm7XOl1NTEy3QJfQblFRtkCX0GXRW/%2Biv/5Db/2nK/U24AGroKBAJSUlevzxxzVw4ECFh4ersbHRZ5umpiZFRERIksLDw1sFnqamJkVFRSk8PNz7/sJ5m82m5ubmi85JUkRExGX33VYzZ87U6NGjfcas1kg1NJxq1zqXE2xJ3%2Bzj96fQUIuiomw6ccKl5uaWQJfTpdBb/6K//kNv/cefvQ3UL/cBDVirVq3Syy%2B/rIKCAt12222SpISEBB06dMhnu/r6eu/ltYSEBNXX17eaT0pKUnR0tMLDw1VfX6/ExERJksfjUWNjo%2BLi4mQYhhoaGuTxeGS1njt0p9OpiIgIRUVFXXbfbRUfH9/qM07nSXk81/Y3ZDAef3NzS1DWHQzorX/RX/%2Bht/7TlXrboVMgd9xxh1555RWdPHmywzsuLCzUK6%2B8oscee0wTJkzwjtvtdh04cMB7uU%2BSysvLZbfbvfPl5eXeOZfLpYMHD8put8tisSglJcVnvqKiQlarVYMGDVJSUpKsVqvPTevl5eVKSUmRxWK57L4BAADaokMB68Ybb9Szzz6rESNG6Kc//am2b9/ufQ5VWxw%2BfFjPPPOMfvSjHyk9PV1Op9P7GjZsmHr16qWcnBxVV1erqKhIlZWVmj59uiRp2rRp2rt3r4qKilRdXa2cnBz16dNHw4cPlyTNmjVL69evV1lZmSorK5WXl6cZM2bIZrPJZrNp8uTJysvLU2VlpcrKylRcXKzMzExJuuy%2BAQAA2iLEaE8y%2BheGYWjHjh167bXXVFZWpqioKE2ePFmTJ0/WN7/5zUt%2BtqioSI8%2B%2BuhF5z7%2B%2BGMdPXpUS5culcPh0PXXX6/c3FzddNNN3m3ef/99rVmzRnV1dUpLS9OqVavUt29fn/U3bNigpqYmjR07VsuXL/fen%2BVyuZSXl6d3331X3bt31/z58zV37lzvZy%2B3745yOjt%2Btu%2BrWK0WjXnkz6av6y9v33tzoEtoM6vVopiYbmpoONVlTld3FvTWv%2Biv/9Bb//Fnb%2BPivm7qem3V4YD1r1wul1588UU988wzcrvduuGGGzRnzhyNHTvWjBq7BAIWAQvn0Fv/or/%2BQ2/9pysGrCu6yf348eN644039MYbb%2BiTTz7RDTfcoClTpqiurk4PPPCA9uzZo6VLl5pVKwAAQFDoUMB6/fXX9frrr%2BvDDz9Ujx49NHnyZD311FPq16%2Bfd5tevXrpoYceImABAIBrTocC1tKlSzVq1CitW7dOt9xyiyyW1vfK9%2B/fX7Nnz77iAgEAAIJNhwLWBx98oJiYGDU2NnrDVWVlpZKTkxUaGipJuuGGG3TDDTeYVykAAECQ6NBjGr788kuNGzdOzz//vHfsxz/%2BsSZNmqS///3vphUHAAAQjDoUsNasWaPrr79ed999t3fsrbfeUq9evZSfn29acQAAAMGoQwHrL3/5i37xi18oLi7OO9ajRw/9/Oc/165du0wrDgAAIBh1KGBZrVadOHGi1bjL5WrXE90BAAC6og4FrFtuuUWrV6/WZ5995h2rqalRfn6%2BRo4caVpxAAAAwahDf0W4ZMkS3X333brtttsUFRUlSTpx4oSSk5OVk5NjaoEAAADBpkMBq2fPnnr11Ve1Y8cOVVdXy2q16lvf%2Bpa%2B%2B93vKiQkxOwaAQAAgkqH/1VOaGioRo4cySVBAACAC3QoYDmdTj3xxBPau3evzp492%2BrG9vfee8%2BU4gAAAIJRhwLWgw8%2BqP3792vChAn6%2BtcD81%2BqAQAAOqsOBaxdu3bphRdeUEZGhtn1AAAABL0OPaYhMjJSPXv2NLsWAACALqFDAWvSpEl64YUX1NzcbHY9AAAAQa9DlwgbGxv15ptv6k9/%2BpP69u2rsLAwn/mNGzeaUhwAAEAw6vBjGiZOnGhmHQAAAF1GhwJWfn6%2B2XUAAAB0GR26B0uSjh8/rsLCQt133336xz/%2BoXfeeUdHjhwxszYAAICg1KGAdfToUd1%2B%2B%2B169dVXtW3bNp0%2BfVpvvfWWpk2bJofDYXaNAAAAQaVDAevhhx/WrbfeqrKyMn3ta1%2BTJD322GMaPXq0HnnkEVMLBAAACDYdClh79%2B7V3Xff7fOPna1WqxYuXKiDBw%2BaVhwAAEAw6lDAamlpUUtLS6vxU6dOKTQ09IqLAgAACGYdClgjRozQc8895xOyGhsbVVBQoBtvvNG04gAAAIJRhwLWL37xC%2B3fv18jRoyQ2%2B3Wf/7nf2rUqFH6/PPPtWTJErNrBAAACCodeg5WQkKCXnvtNb355pv66KOP1NLSorvuukuTJk1S9%2B7dza4RAAAgqHT4Se42m0133HGHmbUAAAB0CR0KWJmZmZec538RAgCAa1mHAlbv3r193ns8Hh09elSffPKJ5syZY0phAAAAwcrU/0W4bt061dXVXVFBAAAAwa7D/4vwYiZNmqS3337bzCUBAACCjqkB669//SsPGgUAANc8025y//LLL/Xxxx9r1qxZV1wUAABAMOtQwLruuut8/g%2BhJH3ta1/T7Nmz9YMf/MCUwgAAAIJVhwLWww8/bHYdAAAAXUaH7sHas2dPm1%2BX09TUpIkTJ%2BrDDz/0jq1evVrf/va3fV4vvfSSd37Hjh2aOHGi7Ha7MjMzVVNT47Pmhg0bNHLkSKWlpSk3N1cul8s753a7lZubq4yMDI0YMULFxcU%2Bn62pqdHcuXOVmpqq8ePHa/v27R1pEQAAuIZ16AzWf/zHf3gvERqG4R2/cCwkJEQfffTRV67jdrt13333qbq62mf88OHDuu%2B%2B%2BzRlyhTv2Pl/wVNbW6usrCwtXrxYI0eO1Lp167Rw4UK98cYbCgkJ0bZt21RYWKiCggL17NlTOTk5Kigo0LJlyyRJa9eu1f79%2B1VSUqLa2lotWbJE1113ncaNGyfDMJSVlaWBAweqtLRUZWVlWrRokd566y1dd911HWkVAAC4BnXoDNazzz6r3r1764knntDOnTtVXl6uDRs26Jvf/KZ%2B%2BtOf6r333tN7772nsrKyr1zj0KFDmjFjhj777LNWc4cPH9bgwYMVFxfnfdlsNknSli1bNGTIEM2bN08DBgxQfn6%2BvvjiC%2B3evVvSuafIz5kzR6NGjdLQoUO1YsUKlZaWyuVy6fTp09qyZYuWLl2q5ORkjRkzRvfcc482bdokSdq1a5dqamq0cuVKJSYmasGCBUpNTVVpaWlH2gQAAK5RHQpY%2Bfn5WrZsmW677TbFxMSoW7duuvHGG7Vy5Uq9/PLL6t27t/f1VXbv3q3hw4dr8%2BbNPuNffvmljh07pn79%2Bl30cw6HQxkZGd73NptNycnJqqioUHNzs/bt2%2Bczn5qaqrNnz6qqqkpVVVXyeDxKS0vzzqenp8vhcKilpUUOh0ODBw9WZGSkz3xFRUV7WwQAAK5hHbpEePz48YuGp%2B7du6uhoaFNa3zV4xwOHz6skJAQPfvss/rggw8UHR2tu%2B%2B%2B23u50Ol0Kj4%2B3uczPXv2VF1dnU6cOCG32%2B0zb7VaFR0drbq6OlksFsXExCgsLMw7HxsbK7fbrcbGxkuu3R7Hjx%2BX0%2Bn0GbNaI1utfaVCQ019jJnfWa3BU%2B/53gZbj4MBvfUv%2Bus/9NZ/umJvOxSwUlNT9dhjj%2BmXv/yl996oxsZGFRQU6Lvf/e4VFXTkyBGFhISof//%2Bmj17tvbs2aMHH3xQ3bt315gxY%2BRyuXwCkiSFhYWpqalJZ86c8b6/2LxhGBedk87dbH%2Bptdtj8%2BbNKiws9BnLyspSdnZ2u9bpamJiugW6hHaLirIFuoQui976F/31H3rrP12ptx0KWA888IAyMzN1yy23qF%2B/fjIMQ59%2B%2Bqni4uK0cePGKypo8uTJGjVqlKKjoyVJgwYN0qeffqqXX35ZY8aMUXh4eKvA09TUpKioKIWHh3vfXzhvs9nU3Nx80TlJioiIUHh4uBobG1vNR0REtOsYZs6cqdGjR/uMWa2Ramg41a51LifYkr7Zx%2B9PoaEWRUXZdOKES83NLYEup0uht/5Ff/2H3vqPP3sbqF/uOxSwEhMT9dZbb%2BnNN9/U4cOHJUk//OEPNWHCBO/N6B0VEhLiDVfn9e/fX7t27ZIkJSQkqL6%2B3me%2Bvr5eSUlJio6OVnh4uOrr65WYmChJ8ng8amxsVFxcnAzDUENDgzwej6zWc4fudDoVERGhqKgoJSQk6NChQ63Wbu%2Blvfj4%2BFafcTpPyuO5tr8hg/H4m5tbgrLuYEBv/Yv%2B%2Bg%2B99Z%2Bu1NsOnwL5xje%2BoTvuuEOzZ89WTk6OJk2adMXhSpKefPJJzZ0712esqqpK/fv3lyTZ7XaVl5d751wulw4ePCi73S6LxaKUlBSf%2BYqKClmtVg0aNEhJSUmyWq0%2BN62Xl5crJSVFFotFdrtdBw4c8F5qPD9vt9uv%2BLgAAMC1o0MByzAMPfLII/rOd76jiRMnqq6uTkuWLNHSpUt19uzZKypo1KhR2rNnj9avX6/PPvtMv/nNb/Taa69p3rzvFrRtAAAZdElEQVR5kqRp06Zp7969KioqUnV1tXJyctSnTx8NHz5c0rmb59evX6%2BysjJVVlYqLy9PM2bMkM1mk81m0%2BTJk5WXl6fKykqVlZWpuLjY%2B78Vhw0bpl69eiknJ0fV1dUqKipSZWWlpk%2BffkXHBAAAri0dClgvvviiXn/9dS1fvtx7U/itt96qsrKyVjd3t9fQoUP15JNP6vXXX9fEiRP14osv6tFHH/U%2BWqFPnz56%2BumnVVpaqunTp6uxsVHr1q3zPuR0woQJWrBggZYtW6Z58%2BZp6NChuv/%2B%2B73r5%2BTkKDk5WXPmzNGKFSu0ePFijR07VpIUGhqqZ555Rk6nU1OnTtUbb7yhdevW8ZBRAADQLiHGvz6KvY0mTJige%2B%2B9V2PGjFFaWpreeOMN9e3bV7///e%2BVn5%2BvP/zhD/6oNag5nSdNX9NqtWjMI382fV1/efvemwNdQptZrRbFxHRTQ8OpLnM/QGdBb/2L/voPvfUff/Y2Lu7rpq7XVh06g/X5558rKSmp1figQYNaPf8JAADgWtOhgNW7d2/t27ev1fgHH3ygvn37XnFRAAAAwaxDj2mYP3%2B%2BVqxYIafTKcMwtHPnTm3evFkvvviifvGLX5hdIwAAQFDpUMCaNm2aPB6PfvWrX%2BnMmTNatmyZevTooXvvvVd33XWX2TUCAAAElQ4FrDfffFPjxo3TzJkz9c9//lOGYahnz55m1wYAABCUOnQP1sqVK703s/fo0YNwBQAA8C86FLD69eunTz75xOxaAAAAuoQOXSIcNGiQfvazn%2BmFF15Qv379vP9k%2Bbz8/HxTigMAAAhGHQpYf/vb35Seni5JPPcKAADgAm0OWGvXrtWiRYsUGRmpF1980Z81AQAABLU234P161//Wi6Xy2fsxz/%2BsY4fP256UQAAAMGszQHrYv%2BycM%2BePXK73aYWBAAAEOw69FeEAAAA%2BGoELAAAAJO1K2CFhIT4qw4AAIAuo12PaVi9erXPM6/Onj2rgoICdevWzWc7noMFAACuZW0OWN/5zndaPfMqLS1NDQ0NamhoML0wAACAYNXmgMWzrwAAANqGm9wBAABMRsACAAAwGQELAADAZAQsAAAAkxGwAAAATEbAAgAAMBkBCwAAwGQELAAAAJMRsAAAAExGwAIAADAZAQsAAMBkBCwAAACTEbAAAABMRsACAAAwGQELAADAZAQsAAAAkxGwAAAATEbAAgAAMBkBCwAAwGQBD1hNTU2aOHGiPvzwQ%2B9YTU2N5s6dq9TUVI0fP17bt2/3%2BcyOHTs0ceJE2e12ZWZmqqamxmd%2Bw4YNGjlypNLS0pSbmyuXy%2BWdc7vdys3NVUZGhkaMGKHi4mKfz15u3wAAAJcT0IDldrv105/%2BVNXV1d4xwzCUlZWl2NhYlZaWatKkSVq0aJFqa2slSbW1tcrKytLUqVO1detW9ejRQwsXLpRhGJKkbdu2qbCwUCtXrlRJSYkcDocKCgq8669du1b79%2B9XSUmJli9frsLCQr3zzjtt2jcAAEBbBCxgHTp0SDNmzNBnn33mM75r1y7V1NRo5cqVSkxM1IIFC5SamqrS0lJJ0pYtWzRkyBDNmzdPAwYMUH5%2Bvr744gvt3r1bkrRx40bNmTNHo0aN0tChQ7VixQqVlpbK5XLp9OnT2rJli5YuXark5GSNGTNG99xzjzZt2tSmfQMAALRFwALW7t27NXz4cG3evNln3OFwaPDgwYqMjPSOpaenq6KiwjufkZHhnbPZbEpOTlZFRYWam5u1b98%2Bn/nU1FSdPXtWVVVVqqqqksfjUVpams/aDodDLS0tl903AABAW1gDteNZs2ZddNzpdCo%2BPt5nrGfPnqqrq7vs/IkTJ%2BR2u33mrVaroqOjVVdXJ4vFopiYGIWFhXnnY2Nj5Xa71djYeNl9t9Xx48fldDp9xqzWyFZrX6nQ0IDfQtcuVmvw1Hu%2Bt8HW42BAb/2L/voPvfWfrtjbgAWsr%2BJyuXwCkCSFhYWpqanpsvNnzpzxvr/YvGEYF52Tzt1sf7l9t9XmzZtVWFjoM5aVlaXs7Ox2rdPVxMR0C3QJ7RYVZQt0CV0WvfUv%2Bus/9NZ/ulJvO13ACg8PV2Njo89YU1OTIiIivPMXBp6mpiZFRUUpPDzc%2B/7CeZvNpubm5ovOSVJERMRl991WM2fO1OjRo33GrNZINTScatc6lxNsSd/s4/en0FCLoqJsOnHCpebmlkCX06XQW/%2Biv/5Db/3Hn70N1C/3nS5gJSQk6NChQz5j9fX13strCQkJqq%2BvbzWflJSk6OhohYeHq76%2BXomJiZIkj8ejxsZGxcXFyTAMNTQ0yOPxyGo9d%2BhOp1MRERGKioq67L7bKj4%2BvtVnnM6T8niu7W/IYDz%2B5uaWoKw7GNBb/6K//kNv/acr9bbTnQKx2%2B06cOCA93KfJJWXl8tut3vny8vLvXMul0sHDx6U3W6XxWJRSkqKz3xFRYWsVqsGDRqkpKQkWa1Wn5vWy8vLlZKSIovFctl9AwAAtEWnC1jDhg1Tr169lJOTo%2BrqahUVFamyslLTp0%2BXJE2bNk179%2B5VUVGRqqurlZOToz59%2Bmj48OGSzt08v379epWVlamyslJ5eXmaMWOGbDabbDabJk%2BerLy8PFVWVqqsrEzFxcXKzMxs074BAADaotMFrNDQUD3zzDNyOp2aOnWq3njjDa1bt07XXXedJKlPnz56%2BumnVVpaqunTp6uxsVHr1q1TSEiIJGnChAlasGCBli1bpnnz5mno0KG6//77vevn5OQoOTlZc%2BbM0YoVK7R48WKNHTu2TfsGAABoixDj/CPQ4VdO50nT17RaLRrzyJ9NX9df3r735kCX0GZWq0UxMd3U0HCqy9wP0FnQW/%2Biv/5Db/3Hn72Ni/u6qeu1Vac7gwUAABDsCFgAAAAmI2ABAACYjIAFAABgMgIWAACAyQhYAAAAJiNgAQAAmIyABQAAYDICFgAAgMkIWAAAACYjYAEAAJiMgAUAAGAyAhYAAIDJCFgAAAAmI2ABAACYjIAFAABgMgIWAACAyQhYAAAAJiNgAQAAmIyABQAAYDICFgAAgMkIWAAAACYjYAEAAJiMgAUAAGAyAhYAAIDJCFgAAAAmI2ABAACYjIAFAABgMgIWAACAyQhYAAAAJiNgAQAAmIyABQAAYDICFgAAgMkIWAAAACYjYAEAAJiMgAUAAGAyAhYAAIDJOm3A%2Bv3vf69vf/vbPq/s7GxJUk1NjebOnavU1FSNHz9e27dv9/nsjh07NHHiRNntdmVmZqqmpsZnfsOGDRo5cqTS0tKUm5srl8vlnXO73crNzVVGRoZGjBih4uJi/x8sAADoUjptwDp06JBGjRql7du3e1%2BrV6%2BWYRjKyspSbGysSktLNWnSJC1atEi1tbWSpNraWmVlZWnq1KnaunWrevTooYULF8owDEnStm3bVFhYqJUrV6qkpEQOh0MFBQXe/a5du1b79%2B9XSUmJli9frsLCQr3zzjsB6QEAAAhOnTZgHT58WAMHDlRcXJz3FRUVpV27dqmmpkYrV65UYmKiFixYoNTUVJWWlkqStmzZoiFDhmjevHkaMGCA8vPz9cUXX2j37t2SpI0bN2rOnDkaNWqUhg4dqhUrVqi0tFQul0unT5/Wli1btHTpUiUnJ2vMmDG65557tGnTpkC2AgAABJlOHbD69evXatzhcGjw4MGKjIz0jqWnp6uiosI7n5GR4Z2z2WxKTk5WRUWFmpubtW/fPp/51NRUnT17VlVVVaqqqpLH41FaWprP2g6HQy0tLX44SgAA0BVZA13AxRiGob/97W/avn27nnvuOTU3N2vcuHHKzs6W0%2BlUfHy8z/Y9e/ZUXV2dJF1y/sSJE3K73T7zVqtV0dHRqqurk8ViUUxMjMLCwrzzsbGxcrvdamxsVI8ePdpU//Hjx%2BV0On3GrNbIVnVdqdDQTpuPL8pqDZ56z/c22HocDOitf9Ff/6G3/tMVe9spA1Ztba1cLpfCwsL0xBNP6PPPP9fq1at15swZ7/i/CgsLU1NTkyRdcv7MmTPe9xebNwzjonOSvOu3xebNm1VYWOgzlpWV5b1J/1oVE9Mt0CW0W1SULdAldFn01r/or//QW//pSr3tlAGrd%2B/e%2BvDDD/WNb3xDISEhSkpKUktLi%2B6//35NmTLF56/%2BpHPhJyIiQpIUHh7eKgw1NTUpKipK4eHh3vcXzttsNjU3N190TpJ3/baYOXOmRo8e7TNmtUaqoeFUm9doi2BL%2BmYfvz%2BFhloUFWXTiRMuNTdzedhM9Na/6K//0Fv/8WdvA/XLfacMWJIUHR3t8z4xMVFut1txcXE6cuSIz1x9fb338ltCQoLq6%2BtbzSclJSk6Olrh4eGqr69XYmKiJMnj8aixsVFxcXEyDEMNDQ3yeDyyWs%2B1xul0KiIiQlFRUW2uPT4%2BvtXlQKfzpDyea/sbMhiPv7m5JSjrDgb01r/or//QW//pSr3tlKdA/vznP2v48OE%2BZ6o%2B%2BugjRUdHKz09XQcOHPBe7pOk8vJy2e12SZLdbld5ebl3zuVy6eDBg7Lb7bJYLEpJSfGZr6iokNVq1aBBg5SUlCSr1eq9Yf782ikpKbJYOmWrAABAJ9QpU0NaWprCw8P1wAMP6MiRI3r//fe1du1a3XPPPRo2bJh69eqlnJwcVVdXq6ioSJWVlZo%2Bfbokadq0adq7d6%2BKiopUXV2tnJwc9enTR8OHD5ckzZo1S%2BvXr1dZWZkqKyuVl5enGTNmyGazyWazafLkycrLy1NlZaXKyspUXFyszMzMQLYDAAAEmRDj/BM4O5nq6mqtWbNGFRUV6tatm%2B68805lZWUpJCRER48e1dKlS%2BVwOHT99dcrNzdXN910k/ez77//vtasWaO6ujqlpaVp1apV6tu3r3e%2BqKhIGzZsUFNTk8aOHavly5d7789yuVzKy8vTu%2B%2B%2Bq%2B7du2v%2B/PmaO3fuFR%2BP03nyite4kNVq0ZhH/mz6uv7y9r03B7qENrNaLYqJ6aaGhlNd5nR1Z0Fv/Yv%2B%2Bg%2B99R9/9jYu7uumrtdWnTZgdTUELAIWzqG3/kV//Yfe%2Bk9XDFid8hIhAABAMCNgAQAAmIyABQAAYDICFgAAgMkIWAAAACYjYAEAAJiMgAUAAGAyAhYAAIDJCFgAAAAmI2ABAACYjIAFAABgMgIWAACAyQhYAAAAJiNgAQAAmIyABQAAYDICFgAAgMkIWAAAACYjYAEAAJiMgAUAAGAyAhYAAIDJCFgAAAAmI2ABAACYjIAFAABgMgIWAACAyQhYAAAAJiNgAQAAmIyABQAAYDICFgAAgMkIWAAAACYjYAEAAJiMgAUAAGAyAhYAAIDJCFgAAAAmI2ABAACYjIAFAABgMgIWAACAyayBLgAAAPjH95/430CX0GZ/eWhcoEswFWewLsLtdis3N1cZGRkaMWKEiouLA10SAAAIIpzBuoi1a9dq//79KikpUW1trZYsWaLrrrtO48Z1rXQNAAD8g4B1gdOnT2vLli16/vnnlZycrOTkZFVXV2vTpk0ELAAA0CZcIrxAVVWVPB6P0tLSvGPp6elyOBxqaWkJYGUAACBYcAbrAk6nUzExMQoLC/OOxcbGyu12q7GxUT169LjsGsePH5fT6fQZs1ojFR8fb2qtoaHBlY%2Bt1uCp93xvg63HwYDe%2Bhf99R96639dqbcErAu4XC6fcCXJ%2B76pqalNa2zevFmFhYU%2BY4sWLdLixYvNKfL/On78uOb8f9WaOXOm6eHtWnf8%2BHGVlLxAb/2A3voX/fWfYOxtsPxl3vHjx/X0008HVW8vp%2BtERZOEh4e3ClLn30dERLRpjZkzZ%2Bp3v/udz2vmzJmm1%2Bp0OlVYWNjqbBmuHL31H3rrX/TXf%2Bit/3TF3nIG6wIJCQlqaGiQx%2BOR1XquPU6nUxEREYqKimrTGvHx8V0mgQMAgPbjDNYFkpKSZLVaVVFR4R0rLy9XSkqKLBbaBQAALo/EcAGbzabJkycrLy9PlZWVKisrU3FxsTIzMwNdGgAACBKheXl5eYEuorO58cYbdfDgQT366KPauXOnfvKTn2jatGmBLuuiunXrpmHDhqlbt26BLqXLobf%2BQ2/9i/76D731n67W2xDDMIxAFwEAANCVcIkQAADAZAQsAAAAkxGwAAAATEbAAgAAMBkBCwAAwGQELAAAAJMRsAAAAExGwAIAADAZAauTc7vdys3NVUZGhkaMGKHi4uKv3PbgwYO64447ZLfbNW3aNO3fv/8qVhp82tPbP/3pT5o0aZLS0tJ0%2B%2B2367333ruKlQaf9vT2vM8//1xpaWn68MMPr0KFwa09/f3444911113aejQobr99tu1a9euq1hp8GlPb3//%2B9/r%2B9//vtLS0nTXXXfpwIEDV7HS4NXU1KSJEyde8nu9S/w8M9CprVy50rj99tuN/fv3G%2B%2B%2B%2B66RlpZmvP322622O3XqlHHzzTcbDz/8sHHo0CFj1apVxk033WScOnUqAFUHh7b29qOPPjKSk5ONkpIS49NPPzVeeuklIzk52fjoo48CUHVwaGtv/9X8%2BfONgQMHGrt27bpKVQavtvb3xIkTxk033WQ88MADxqeffmo8%2BeSTRnp6ulFfXx%2BAqoNDW3v7ySefGCkpKcarr75qHD161FixYoVx8803G6dPnw5A1cHjzJkzRlZW1iW/17vKzzMCVid26tQpIyUlxeeLcN26dcbs2bNbbbtlyxZj9OjRRktLi2EYhtHS0mKMGTPGKC0tvWr1BpP29LagoMCYP3%2B%2Bz9i8efOMxx57zO91BqP29Pa8119/3bjzzjsJWG3Qnv6WlJQYt956q%2BHxeLxjU6dONf70pz9dlVqDTXt6%2B%2Btf/9qYMmWK9/3JkyeNgQMHGpWVlVel1mBUXV1t/OAHPzBuv/32S36vd5WfZ1wi7MSqqqrk8XiUlpbmHUtPT5fD4VBLS4vPtg6HQ%2Bnp6QoJCZEkhYSE6IYbblBFRcVVrTlYtKe3U6ZM0c9%2B9rNWa5w8edLvdQaj9vRWkhoaGlRQUKCVK1dezTKDVnv6u3v3bn3ve99TaGiod6y0tFT/9m//dtXqDSbt6W10dLQOHTqk8vJytbS06He/%2B526d%2B%2Bu//N//s/VLjto7N69W8OHD9fmzZsvuV1X%2BXlmDXQB%2BGpOp1MxMTEKCwvzjsXGxsrtdquxsVE9evTw2fZb3/qWz%2Bd79uyp6urqq1ZvMGlPbxMTE30%2BW11drZ07d%2BrOO%2B%2B8avUGk/b0VpIefvhhTZkyRQMGDLjapQal9vS3pqZGQ4cO1YMPPqg//OEP6t27t5YsWaL09PRAlN7ptae348eP1x/%2B8AfNmjVLoaGhslgseu655/SNb3wjEKUHhVmzZrVpu67y84wzWJ2Yy%2BXy%2BUaX5H3f1NTUpm0v3A7ntKe3/%2Bqf//ynFi9erBtuuEHf%2B973/FpjsGpPb3fs2KHy8nItXLjwqtUX7NrT39OnT6uoqEhxcXF6/vnn9Z3vfEfz58/X3//%2B96tWbzBpT28bGhrkdDq1bNky/fa3v9WkSZOUk5Ojf/zjH1et3q6qq/w8I2B1YuHh4a2%2BoM6/j4iIaNO2F26Hc9rT2/Pq6%2Bs1Z84cGYahp556ShYL3z4X09benjlzRsuWLdPy5cv5Om2H9nzthoaGKikpSdnZ2Ro8eLDuv/9%2B9evXT6%2B//vpVqzeYtKe3jzzyiAYOHKgf/vCHGjJkiFatWiWbzabS0tKrVm9X1VV%2BnvETohNLSEhQQ0ODPB6Pd8zpdCoiIkJRUVGttq2vr/cZq6%2BvV3x8/FWpNdi0p7eSdOzYMf3whz9UU1OTNm7c2OoyF/6ftva2srJSNTU1ys7OVlpamve%2Blx/96EdatmzZVa87WLTnazcuLk79%2B/f3GevXrx9nsL5Ce3p74MABDRo0yPveYrFo0KBBqq2tvWr1dlVd5ecZAasTS0pKktVq9bmxr7y8XCkpKa3Ontjtdv31r3%2BVYRiSJMMwtHfvXtnt9qtac7BoT29Pnz6te%2B65RxaLRS%2B99JISEhKudrlBpa29HTp0qN5991299tpr3pckrV69Wv/1X/911esOFu352k1NTdXHH3/sM3bkyBH17t37qtQabNrT2/j4eB0%2BfNhn7G9/%2B5v69OlzVWrtyrrKzzMCVidms9k0efJk5eXlqbKyUmVlZSouLlZmZqakc79ZnTlzRpI0btw4nThxQg899JAOHTqkhx56SC6XS9///vcDeQidVnt6%2B9xzz%2Bmzzz7TL3/5S%2B%2Bc0%2Bnkrwi/Qlt7GxERoeuvv97nJZ377bVnz56BPIROrT1fu3feeac%2B/vhjPf300zp69KiefPJJ1dTUaNKkSYE8hE6rPb2dMWOGfvvb3%2Bq1117T0aNH9cgjj6i2tlZTpkwJ5CEErS758yygD4nAZZ0%2Bfdr4%2Bc9/bqSmphojRowwfv3rX3vnBg4c6PNcEIfDYUyePNlISUkxpk%2Bfbhw4cCAAFQePtvb2tttuMwYOHNjqtWTJkgBV3vm15%2Bv2X/EcrLZpT3//8pe/GFOmTDGGDBliTJo0ydi9e3cAKg4e7entb3/7W2PcuHFGamqqcddddxn79%2B8PQMXB6cLv9a748yzEMP7vOTgAAACYgkuEAAAAJiNgAQAAmIyABQAAYDICFgAAgMkIWAAAACYjYAEAAJiMgAUAAGAyAhYAAIDJCFgAAAAmI2ABAACYjIAFAABgMgIWAACAyQhYAAAAJvv/AVtny/euj9fHAAAAAElFTkSuQmCC\"/>\n",
       "        </div>\n",
       "        <div role=\"tabpanel\" class=\"tab-pane col-md-12\" id=\"common6373619203965435763\">\n",
       "            \n",
       "<table class=\"freq table table-hover\">\n",
       "    <thead>\n",
       "    <tr>\n",
       "        <td class=\"fillremaining\">Value</td>\n",
       "        <td class=\"number\">Count</td>\n",
       "        <td class=\"number\">Frequency (%)</td>\n",
       "        <td style=\"min-width:200px\">&nbsp;</td>\n",
       "    </tr>\n",
       "    </thead>\n",
       "    <tr class=\"\">\n",
       "        <td class=\"fillremaining\">0</td>\n",
       "        <td class=\"number\">310992</td>\n",
       "        <td class=\"number\">98.2%</td>\n",
       "        <td>\n",
       "            <div class=\"bar\" style=\"width:100%\">&nbsp;</div>\n",
       "        </td>\n",
       "</tr><tr class=\"\">\n",
       "        <td class=\"fillremaining\">1</td>\n",
       "        <td class=\"number\">5808</td>\n",
       "        <td class=\"number\">1.8%</td>\n",
       "        <td>\n",
       "            <div class=\"bar\" style=\"width:2%\">&nbsp;</div>\n",
       "        </td>\n",
       "</tr>\n",
       "</table>\n",
       "        </div>\n",
       "        <div role=\"tabpanel\" class=\"tab-pane col-md-12\"  id=\"extreme6373619203965435763\">\n",
       "            <p class=\"h4\">Minimum 5 values</p>\n",
       "            \n",
       "<table class=\"freq table table-hover\">\n",
       "    <thead>\n",
       "    <tr>\n",
       "        <td class=\"fillremaining\">Value</td>\n",
       "        <td class=\"number\">Count</td>\n",
       "        <td class=\"number\">Frequency (%)</td>\n",
       "        <td style=\"min-width:200px\">&nbsp;</td>\n",
       "    </tr>\n",
       "    </thead>\n",
       "    <tr class=\"\">\n",
       "        <td class=\"fillremaining\">0</td>\n",
       "        <td class=\"number\">310992</td>\n",
       "        <td class=\"number\">98.2%</td>\n",
       "        <td>\n",
       "            <div class=\"bar\" style=\"width:100%\">&nbsp;</div>\n",
       "        </td>\n",
       "</tr><tr class=\"\">\n",
       "        <td class=\"fillremaining\">1</td>\n",
       "        <td class=\"number\">5808</td>\n",
       "        <td class=\"number\">1.8%</td>\n",
       "        <td>\n",
       "            <div class=\"bar\" style=\"width:2%\">&nbsp;</div>\n",
       "        </td>\n",
       "</tr>\n",
       "</table>\n",
       "            <p class=\"h4\">Maximum 5 values</p>\n",
       "            \n",
       "<table class=\"freq table table-hover\">\n",
       "    <thead>\n",
       "    <tr>\n",
       "        <td class=\"fillremaining\">Value</td>\n",
       "        <td class=\"number\">Count</td>\n",
       "        <td class=\"number\">Frequency (%)</td>\n",
       "        <td style=\"min-width:200px\">&nbsp;</td>\n",
       "    </tr>\n",
       "    </thead>\n",
       "    <tr class=\"\">\n",
       "        <td class=\"fillremaining\">0</td>\n",
       "        <td class=\"number\">310992</td>\n",
       "        <td class=\"number\">98.2%</td>\n",
       "        <td>\n",
       "            <div class=\"bar\" style=\"width:100%\">&nbsp;</div>\n",
       "        </td>\n",
       "</tr><tr class=\"\">\n",
       "        <td class=\"fillremaining\">1</td>\n",
       "        <td class=\"number\">5808</td>\n",
       "        <td class=\"number\">1.8%</td>\n",
       "        <td>\n",
       "            <div class=\"bar\" style=\"width:2%\">&nbsp;</div>\n",
       "        </td>\n",
       "</tr>\n",
       "</table>\n",
       "        </div>\n",
       "    </div>\n",
       "</div>\n",
       "</div><div class=\"row variablerow\">\n",
       "    <div class=\"col-md-3 namecol\">\n",
       "        <p class=\"h4\">device<br/>\n",
       "            <small>Categorical</small>\n",
       "        </p>\n",
       "    </div><div class=\"col-md-3\">\n",
       "    <table class=\"stats \">\n",
       "        <tr class=\"\">\n",
       "            <th>Distinct count</th>\n",
       "            <td>2</td>\n",
       "        </tr>\n",
       "        <tr>\n",
       "            <th>Unique (%)</th>\n",
       "            <td>0.0%</td>\n",
       "        </tr>\n",
       "        <tr class=\"ignore\">\n",
       "            <th>Missing (%)</th>\n",
       "            <td>0.0%</td>\n",
       "        </tr>\n",
       "        <tr class=\"ignore\">\n",
       "            <th>Missing (n)</th>\n",
       "            <td>0</td>\n",
       "        </tr>\n",
       "    </table>\n",
       "</div>\n",
       "<div class=\"col-md-6 collapse in\" id=\"minifreqtable-8805839946697303080\">\n",
       "    <table class=\"mini freq\">\n",
       "        <tr class=\"\">\n",
       "    <th>mobile</th>\n",
       "    <td>\n",
       "        <div class=\"bar\" style=\"width:100%\" data-toggle=\"tooltip\" data-placement=\"right\" data-html=\"true\"\n",
       "             data-delay=500 title=\"Percentage: 58.9%\">\n",
       "            186471\n",
       "        </div>\n",
       "        \n",
       "    </td>\n",
       "</tr><tr class=\"\">\n",
       "    <th>web</th>\n",
       "    <td>\n",
       "        <div class=\"bar\" style=\"width:70%\" data-toggle=\"tooltip\" data-placement=\"right\" data-html=\"true\"\n",
       "             data-delay=500 title=\"Percentage: 41.1%\">\n",
       "            130329\n",
       "        </div>\n",
       "        \n",
       "    </td>\n",
       "</tr>\n",
       "    </table>\n",
       "</div>\n",
       "<div class=\"col-md-12 text-right\">\n",
       "    <a role=\"button\" data-toggle=\"collapse\" data-target=\"#freqtable-8805839946697303080, #minifreqtable-8805839946697303080\"\n",
       "       aria-expanded=\"true\" aria-controls=\"collapseExample\">\n",
       "        Toggle details\n",
       "    </a>\n",
       "</div>\n",
       "<div class=\"col-md-12 extrapadding collapse\" id=\"freqtable-8805839946697303080\">\n",
       "    \n",
       "<table class=\"freq table table-hover\">\n",
       "    <thead>\n",
       "    <tr>\n",
       "        <td class=\"fillremaining\">Value</td>\n",
       "        <td class=\"number\">Count</td>\n",
       "        <td class=\"number\">Frequency (%)</td>\n",
       "        <td style=\"min-width:200px\">&nbsp;</td>\n",
       "    </tr>\n",
       "    </thead>\n",
       "    <tr class=\"\">\n",
       "        <td class=\"fillremaining\">mobile</td>\n",
       "        <td class=\"number\">186471</td>\n",
       "        <td class=\"number\">58.9%</td>\n",
       "        <td>\n",
       "            <div class=\"bar\" style=\"width:100%\">&nbsp;</div>\n",
       "        </td>\n",
       "</tr><tr class=\"\">\n",
       "        <td class=\"fillremaining\">web</td>\n",
       "        <td class=\"number\">130329</td>\n",
       "        <td class=\"number\">41.1%</td>\n",
       "        <td>\n",
       "            <div class=\"bar\" style=\"width:70%\">&nbsp;</div>\n",
       "        </td>\n",
       "</tr>\n",
       "</table>\n",
       "</div>\n",
       "</div><div class=\"row variablerow\">\n",
       "    <div class=\"col-md-3 namecol\">\n",
       "        <p class=\"h4\">operative_system<br/>\n",
       "            <small>Categorical</small>\n",
       "        </p>\n",
       "    </div><div class=\"col-md-3\">\n",
       "    <table class=\"stats \">\n",
       "        <tr class=\"\">\n",
       "            <th>Distinct count</th>\n",
       "            <td>6</td>\n",
       "        </tr>\n",
       "        <tr>\n",
       "            <th>Unique (%)</th>\n",
       "            <td>0.0%</td>\n",
       "        </tr>\n",
       "        <tr class=\"ignore\">\n",
       "            <th>Missing (%)</th>\n",
       "            <td>0.0%</td>\n",
       "        </tr>\n",
       "        <tr class=\"ignore\">\n",
       "            <th>Missing (n)</th>\n",
       "            <td>0</td>\n",
       "        </tr>\n",
       "    </table>\n",
       "</div>\n",
       "<div class=\"col-md-6 collapse in\" id=\"minifreqtable5770448337602498549\">\n",
       "    <table class=\"mini freq\">\n",
       "        <tr class=\"\">\n",
       "    <th>windows</th>\n",
       "    <td>\n",
       "        <div class=\"bar\" style=\"width:100%\" data-toggle=\"tooltip\" data-placement=\"right\" data-html=\"true\"\n",
       "             data-delay=500 title=\"Percentage: 31.9%\">\n",
       "            100976\n",
       "        </div>\n",
       "        \n",
       "    </td>\n",
       "</tr><tr class=\"\">\n",
       "    <th>iOS</th>\n",
       "    <td>\n",
       "        <div class=\"bar\" style=\"width:94%\" data-toggle=\"tooltip\" data-placement=\"right\" data-html=\"true\"\n",
       "             data-delay=500 title=\"Percentage: 30.1%\">\n",
       "            95465\n",
       "        </div>\n",
       "        \n",
       "    </td>\n",
       "</tr><tr class=\"\">\n",
       "    <th>android</th>\n",
       "    <td>\n",
       "        <div class=\"bar\" style=\"width:74%\" data-toggle=\"tooltip\" data-placement=\"right\" data-html=\"true\"\n",
       "             data-delay=500 title=\"Percentage: 23.7%\">\n",
       "            74935\n",
       "        </div>\n",
       "        \n",
       "    </td>\n",
       "</tr><tr class=\"other\">\n",
       "    <th>Other values (3)</th>\n",
       "    <td>\n",
       "        <div class=\"bar\" style=\"width:45%\" data-toggle=\"tooltip\" data-placement=\"right\" data-html=\"true\"\n",
       "             data-delay=500 title=\"Percentage: 14.3%\">\n",
       "            45424\n",
       "        </div>\n",
       "        \n",
       "    </td>\n",
       "</tr>\n",
       "    </table>\n",
       "</div>\n",
       "<div class=\"col-md-12 text-right\">\n",
       "    <a role=\"button\" data-toggle=\"collapse\" data-target=\"#freqtable5770448337602498549, #minifreqtable5770448337602498549\"\n",
       "       aria-expanded=\"true\" aria-controls=\"collapseExample\">\n",
       "        Toggle details\n",
       "    </a>\n",
       "</div>\n",
       "<div class=\"col-md-12 extrapadding collapse\" id=\"freqtable5770448337602498549\">\n",
       "    \n",
       "<table class=\"freq table table-hover\">\n",
       "    <thead>\n",
       "    <tr>\n",
       "        <td class=\"fillremaining\">Value</td>\n",
       "        <td class=\"number\">Count</td>\n",
       "        <td class=\"number\">Frequency (%)</td>\n",
       "        <td style=\"min-width:200px\">&nbsp;</td>\n",
       "    </tr>\n",
       "    </thead>\n",
       "    <tr class=\"\">\n",
       "        <td class=\"fillremaining\">windows</td>\n",
       "        <td class=\"number\">100976</td>\n",
       "        <td class=\"number\">31.9%</td>\n",
       "        <td>\n",
       "            <div class=\"bar\" style=\"width:100%\">&nbsp;</div>\n",
       "        </td>\n",
       "</tr><tr class=\"\">\n",
       "        <td class=\"fillremaining\">iOS</td>\n",
       "        <td class=\"number\">95465</td>\n",
       "        <td class=\"number\">30.1%</td>\n",
       "        <td>\n",
       "            <div class=\"bar\" style=\"width:94%\">&nbsp;</div>\n",
       "        </td>\n",
       "</tr><tr class=\"\">\n",
       "        <td class=\"fillremaining\">android</td>\n",
       "        <td class=\"number\">74935</td>\n",
       "        <td class=\"number\">23.7%</td>\n",
       "        <td>\n",
       "            <div class=\"bar\" style=\"width:74%\">&nbsp;</div>\n",
       "        </td>\n",
       "</tr><tr class=\"\">\n",
       "        <td class=\"fillremaining\">mac</td>\n",
       "        <td class=\"number\">25085</td>\n",
       "        <td class=\"number\">7.9%</td>\n",
       "        <td>\n",
       "            <div class=\"bar\" style=\"width:25%\">&nbsp;</div>\n",
       "        </td>\n",
       "</tr><tr class=\"\">\n",
       "        <td class=\"fillremaining\">other</td>\n",
       "        <td class=\"number\">16204</td>\n",
       "        <td class=\"number\">5.1%</td>\n",
       "        <td>\n",
       "            <div class=\"bar\" style=\"width:16%\">&nbsp;</div>\n",
       "        </td>\n",
       "</tr><tr class=\"\">\n",
       "        <td class=\"fillremaining\">linux</td>\n",
       "        <td class=\"number\">4135</td>\n",
       "        <td class=\"number\">1.3%</td>\n",
       "        <td>\n",
       "            <div class=\"bar\" style=\"width:5%\">&nbsp;</div>\n",
       "        </td>\n",
       "</tr>\n",
       "</table>\n",
       "</div>\n",
       "</div><div class=\"row variablerow ignore\">\n",
       "    <div class=\"col-md-3 namecol\">\n",
       "        <p class=\"h4\"><s><code>price</code></s><br/>\n",
       "            <small>Highly correlated</small>\n",
       "        </p>\n",
       "    </div><div class=\"col-md-3\">\n",
       "    <p><em>This variable is highly correlated with <code>test</code> and should be ignored for analysis</em></p>\n",
       "</div>\n",
       "<div class=\"col-md-6\">\n",
       "    <table class=\"stats \">\n",
       "        <tr>\n",
       "            <th>Correlation</th>\n",
       "            <td>0.9975</td>\n",
       "        </tr>\n",
       "    </table>\n",
       "</div>\n",
       "</div><div class=\"row variablerow\">\n",
       "    <div class=\"col-md-3 namecol\">\n",
       "        <p class=\"h4\">source<br/>\n",
       "            <small>Categorical</small>\n",
       "        </p>\n",
       "    </div><div class=\"col-md-3\">\n",
       "    <table class=\"stats \">\n",
       "        <tr class=\"\">\n",
       "            <th>Distinct count</th>\n",
       "            <td>12</td>\n",
       "        </tr>\n",
       "        <tr>\n",
       "            <th>Unique (%)</th>\n",
       "            <td>0.0%</td>\n",
       "        </tr>\n",
       "        <tr class=\"ignore\">\n",
       "            <th>Missing (%)</th>\n",
       "            <td>0.0%</td>\n",
       "        </tr>\n",
       "        <tr class=\"ignore\">\n",
       "            <th>Missing (n)</th>\n",
       "            <td>0</td>\n",
       "        </tr>\n",
       "    </table>\n",
       "</div>\n",
       "<div class=\"col-md-6 collapse in\" id=\"minifreqtable5651783255543141937\">\n",
       "    <table class=\"mini freq\">\n",
       "        <tr class=\"\">\n",
       "    <th>direct_traffic</th>\n",
       "    <td>\n",
       "        <div class=\"bar\" style=\"width:42%\" data-toggle=\"tooltip\" data-placement=\"right\" data-html=\"true\"\n",
       "             data-delay=500 title=\"Percentage: 19.1%\">\n",
       "            60357\n",
       "        </div>\n",
       "        \n",
       "    </td>\n",
       "</tr><tr class=\"\">\n",
       "    <th>ads-google</th>\n",
       "    <td>\n",
       "        <div class=\"bar\" style=\"width:41%\" data-toggle=\"tooltip\" data-placement=\"right\" data-html=\"true\"\n",
       "             data-delay=500 title=\"Percentage: 18.7%\">\n",
       "            59379\n",
       "        </div>\n",
       "        \n",
       "    </td>\n",
       "</tr><tr class=\"\">\n",
       "    <th>ads_facebook</th>\n",
       "    <td>\n",
       "        <div class=\"bar\" style=\"width:37%\" data-toggle=\"tooltip\" data-placement=\"right\" data-html=\"true\"\n",
       "             data-delay=500 title=\"Percentage: 16.9%\">\n",
       "            53396\n",
       "        </div>\n",
       "        \n",
       "    </td>\n",
       "</tr><tr class=\"other\">\n",
       "    <th>Other values (9)</th>\n",
       "    <td>\n",
       "        <div class=\"bar\" style=\"width:100%\" data-toggle=\"tooltip\" data-placement=\"right\" data-html=\"true\"\n",
       "             data-delay=500 title=\"Percentage: 45.3%\">\n",
       "            143668\n",
       "        </div>\n",
       "        \n",
       "    </td>\n",
       "</tr>\n",
       "    </table>\n",
       "</div>\n",
       "<div class=\"col-md-12 text-right\">\n",
       "    <a role=\"button\" data-toggle=\"collapse\" data-target=\"#freqtable5651783255543141937, #minifreqtable5651783255543141937\"\n",
       "       aria-expanded=\"true\" aria-controls=\"collapseExample\">\n",
       "        Toggle details\n",
       "    </a>\n",
       "</div>\n",
       "<div class=\"col-md-12 extrapadding collapse\" id=\"freqtable5651783255543141937\">\n",
       "    \n",
       "<table class=\"freq table table-hover\">\n",
       "    <thead>\n",
       "    <tr>\n",
       "        <td class=\"fillremaining\">Value</td>\n",
       "        <td class=\"number\">Count</td>\n",
       "        <td class=\"number\">Frequency (%)</td>\n",
       "        <td style=\"min-width:200px\">&nbsp;</td>\n",
       "    </tr>\n",
       "    </thead>\n",
       "    <tr class=\"\">\n",
       "        <td class=\"fillremaining\">direct_traffic</td>\n",
       "        <td class=\"number\">60357</td>\n",
       "        <td class=\"number\">19.1%</td>\n",
       "        <td>\n",
       "            <div class=\"bar\" style=\"width:100%\">&nbsp;</div>\n",
       "        </td>\n",
       "</tr><tr class=\"\">\n",
       "        <td class=\"fillremaining\">ads-google</td>\n",
       "        <td class=\"number\">59379</td>\n",
       "        <td class=\"number\">18.7%</td>\n",
       "        <td>\n",
       "            <div class=\"bar\" style=\"width:98%\">&nbsp;</div>\n",
       "        </td>\n",
       "</tr><tr class=\"\">\n",
       "        <td class=\"fillremaining\">ads_facebook</td>\n",
       "        <td class=\"number\">53396</td>\n",
       "        <td class=\"number\">16.9%</td>\n",
       "        <td>\n",
       "            <div class=\"bar\" style=\"width:88%\">&nbsp;</div>\n",
       "        </td>\n",
       "</tr><tr class=\"\">\n",
       "        <td class=\"fillremaining\">ads_other</td>\n",
       "        <td class=\"number\">29876</td>\n",
       "        <td class=\"number\">9.4%</td>\n",
       "        <td>\n",
       "            <div class=\"bar\" style=\"width:50%\">&nbsp;</div>\n",
       "        </td>\n",
       "</tr><tr class=\"\">\n",
       "        <td class=\"fillremaining\">seo-google</td>\n",
       "        <td class=\"number\">23175</td>\n",
       "        <td class=\"number\">7.3%</td>\n",
       "        <td>\n",
       "            <div class=\"bar\" style=\"width:39%\">&nbsp;</div>\n",
       "        </td>\n",
       "</tr><tr class=\"\">\n",
       "        <td class=\"fillremaining\">ads-bing</td>\n",
       "        <td class=\"number\">22873</td>\n",
       "        <td class=\"number\">7.2%</td>\n",
       "        <td>\n",
       "            <div class=\"bar\" style=\"width:38%\">&nbsp;</div>\n",
       "        </td>\n",
       "</tr><tr class=\"\">\n",
       "        <td class=\"fillremaining\">seo_facebook</td>\n",
       "        <td class=\"number\">21205</td>\n",
       "        <td class=\"number\">6.7%</td>\n",
       "        <td>\n",
       "            <div class=\"bar\" style=\"width:35%\">&nbsp;</div>\n",
       "        </td>\n",
       "</tr><tr class=\"\">\n",
       "        <td class=\"fillremaining\">friend_referral</td>\n",
       "        <td class=\"number\">20695</td>\n",
       "        <td class=\"number\">6.5%</td>\n",
       "        <td>\n",
       "            <div class=\"bar\" style=\"width:34%\">&nbsp;</div>\n",
       "        </td>\n",
       "</tr><tr class=\"\">\n",
       "        <td class=\"fillremaining\">seo-other</td>\n",
       "        <td class=\"number\">9260</td>\n",
       "        <td class=\"number\">2.9%</td>\n",
       "        <td>\n",
       "            <div class=\"bar\" style=\"width:16%\">&nbsp;</div>\n",
       "        </td>\n",
       "</tr><tr class=\"\">\n",
       "        <td class=\"fillremaining\">ads-yahoo</td>\n",
       "        <td class=\"number\">7583</td>\n",
       "        <td class=\"number\">2.4%</td>\n",
       "        <td>\n",
       "            <div class=\"bar\" style=\"width:13%\">&nbsp;</div>\n",
       "        </td>\n",
       "</tr><tr class=\"other\">\n",
       "        <td class=\"fillremaining\">Other values (2)</td>\n",
       "        <td class=\"number\">9001</td>\n",
       "        <td class=\"number\">2.8%</td>\n",
       "        <td>\n",
       "            <div class=\"bar\" style=\"width:15%\">&nbsp;</div>\n",
       "        </td>\n",
       "</tr>\n",
       "</table>\n",
       "</div>\n",
       "</div><div class=\"row variablerow\">\n",
       "    <div class=\"col-md-3 namecol\">\n",
       "        <p class=\"h4\">test<br/>\n",
       "            <small>Numeric</small>\n",
       "        </p>\n",
       "    </div><div class=\"col-md-6\">\n",
       "    <div class=\"row\">\n",
       "        <div class=\"col-sm-6\">\n",
       "            <table class=\"stats \">\n",
       "                <tr>\n",
       "                    <th>Distinct count</th>\n",
       "                    <td>2</td>\n",
       "                </tr>\n",
       "                <tr>\n",
       "                    <th>Unique (%)</th>\n",
       "                    <td>0.0%</td>\n",
       "                </tr>\n",
       "                <tr class=\"ignore\">\n",
       "                    <th>Missing (%)</th>\n",
       "                    <td>0.0%</td>\n",
       "                </tr>\n",
       "                <tr class=\"ignore\">\n",
       "                    <th>Missing (n)</th>\n",
       "                    <td>0</td>\n",
       "                </tr>\n",
       "                <tr class=\"ignore\">\n",
       "                    <th>Infinite (%)</th>\n",
       "                    <td>0.0%</td>\n",
       "                </tr>\n",
       "                <tr class=\"ignore\">\n",
       "                    <th>Infinite (n)</th>\n",
       "                    <td>0</td>\n",
       "                </tr>\n",
       "            </table>\n",
       "\n",
       "        </div>\n",
       "        <div class=\"col-sm-6\">\n",
       "            <table class=\"stats \">\n",
       "\n",
       "                <tr>\n",
       "                    <th>Mean</th>\n",
       "                    <td>0.36008</td>\n",
       "                </tr>\n",
       "                <tr>\n",
       "                    <th>Minimum</th>\n",
       "                    <td>0</td>\n",
       "                </tr>\n",
       "                <tr>\n",
       "                    <th>Maximum</th>\n",
       "                    <td>1</td>\n",
       "                </tr>\n",
       "                <tr class=\"alert\">\n",
       "                    <th>Zeros (%)</th>\n",
       "                    <td>64.0%</td>\n",
       "                </tr>\n",
       "            </table>\n",
       "        </div>\n",
       "    </div>\n",
       "</div>\n",
       "<div class=\"col-md-3 collapse in\" id=\"minihistogram2314058222102390712\">\n",
       "    <img src=\"data:image/png;base64,iVBORw0KGgoAAAANSUhEUgAAAMgAAABLCAYAAAA1fMjoAAAABHNCSVQICAgIfAhkiAAAAAlwSFlzAAAPYQAAD2EBqD%2BnaQAAAQRJREFUeJzt3LEJAkEURVFXLMki7MnYnizCnr65yAUDmWU5Jx94yeVns83MnICvzqsHwJ5dVg/4dL0/f37zetz%2BsARcEEgCgSAQCAKBIBAIAoEgEAgCgSAQCAKBIBAIAoEgEAgCgSAQCAKBIBAIAoEgEAgCgbC7Txs4jiN8wOGCQBAIBIFAEAgEgUAQCASBQBAIBIFAEAgEgUAQCASBQBAIBIFAEAgEgUAQCASBQBAIBIFAEAgEgUAQCASBQNhmZlaPgL1yQSAIBIJAIAgEgkAgCASCQCAIBIJAIAgEgkAgCASCQCAIBIJAIAgEgkAgCASCQCAIBIJAIAgEgkAgCASCQCC8AeqtDpH4%2B2/lAAAAAElFTkSuQmCC\">\n",
       "\n",
       "</div>\n",
       "<div class=\"col-md-12 text-right\">\n",
       "    <a role=\"button\" data-toggle=\"collapse\" data-target=\"#descriptives2314058222102390712,#minihistogram2314058222102390712\"\n",
       "       aria-expanded=\"false\" aria-controls=\"collapseExample\">\n",
       "        Toggle details\n",
       "    </a>\n",
       "</div>\n",
       "<div class=\"row collapse col-md-12\" id=\"descriptives2314058222102390712\">\n",
       "    <ul class=\"nav nav-tabs\" role=\"tablist\">\n",
       "        <li role=\"presentation\" class=\"active\"><a href=\"#quantiles2314058222102390712\"\n",
       "                                                  aria-controls=\"quantiles2314058222102390712\" role=\"tab\"\n",
       "                                                  data-toggle=\"tab\">Statistics</a></li>\n",
       "        <li role=\"presentation\"><a href=\"#histogram2314058222102390712\" aria-controls=\"histogram2314058222102390712\"\n",
       "                                   role=\"tab\" data-toggle=\"tab\">Histogram</a></li>\n",
       "        <li role=\"presentation\"><a href=\"#common2314058222102390712\" aria-controls=\"common2314058222102390712\"\n",
       "                                   role=\"tab\" data-toggle=\"tab\">Common Values</a></li>\n",
       "        <li role=\"presentation\"><a href=\"#extreme2314058222102390712\" aria-controls=\"extreme2314058222102390712\"\n",
       "                                   role=\"tab\" data-toggle=\"tab\">Extreme Values</a></li>\n",
       "\n",
       "    </ul>\n",
       "\n",
       "    <div class=\"tab-content\">\n",
       "        <div role=\"tabpanel\" class=\"tab-pane active row\" id=\"quantiles2314058222102390712\">\n",
       "            <div class=\"col-md-4 col-md-offset-1\">\n",
       "                <p class=\"h4\">Quantile statistics</p>\n",
       "                <table class=\"stats indent\">\n",
       "                    <tr>\n",
       "                        <th>Minimum</th>\n",
       "                        <td>0</td>\n",
       "                    </tr>\n",
       "                    <tr>\n",
       "                        <th>5-th percentile</th>\n",
       "                        <td>0</td>\n",
       "                    </tr>\n",
       "                    <tr>\n",
       "                        <th>Q1</th>\n",
       "                        <td>0</td>\n",
       "                    </tr>\n",
       "                    <tr>\n",
       "                        <th>Median</th>\n",
       "                        <td>0</td>\n",
       "                    </tr>\n",
       "                    <tr>\n",
       "                        <th>Q3</th>\n",
       "                        <td>1</td>\n",
       "                    </tr>\n",
       "                    <tr>\n",
       "                        <th>95-th percentile</th>\n",
       "                        <td>1</td>\n",
       "                    </tr>\n",
       "                    <tr>\n",
       "                        <th>Maximum</th>\n",
       "                        <td>1</td>\n",
       "                    </tr>\n",
       "                    <tr>\n",
       "                        <th>Range</th>\n",
       "                        <td>1</td>\n",
       "                    </tr>\n",
       "                    <tr>\n",
       "                        <th>Interquartile range</th>\n",
       "                        <td>1</td>\n",
       "                    </tr>\n",
       "                </table>\n",
       "            </div>\n",
       "            <div class=\"col-md-4 col-md-offset-2\">\n",
       "                <p class=\"h4\">Descriptive statistics</p>\n",
       "                <table class=\"stats indent\">\n",
       "                    <tr>\n",
       "                        <th>Standard deviation</th>\n",
       "                        <td>0.48002</td>\n",
       "                    </tr>\n",
       "                    <tr>\n",
       "                        <th>Coef of variation</th>\n",
       "                        <td>1.3331</td>\n",
       "                    </tr>\n",
       "                    <tr>\n",
       "                        <th>Kurtosis</th>\n",
       "                        <td>-1.6601</td>\n",
       "                    </tr>\n",
       "                    <tr>\n",
       "                        <th>Mean</th>\n",
       "                        <td>0.36008</td>\n",
       "                    </tr>\n",
       "                    <tr>\n",
       "                        <th>MAD</th>\n",
       "                        <td>0.46084</td>\n",
       "                    </tr>\n",
       "                    <tr class=\"\">\n",
       "                        <th>Skewness</th>\n",
       "                        <td>0.58298</td>\n",
       "                    </tr>\n",
       "                    <tr>\n",
       "                        <th>Sum</th>\n",
       "                        <td>114073</td>\n",
       "                    </tr>\n",
       "                    <tr>\n",
       "                        <th>Variance</th>\n",
       "                        <td>0.23042</td>\n",
       "                    </tr>\n",
       "                    <tr>\n",
       "                        <th>Memory size</th>\n",
       "                        <td>2.4 MiB</td>\n",
       "                    </tr>\n",
       "                </table>\n",
       "            </div>\n",
       "        </div>\n",
       "        <div role=\"tabpanel\" class=\"tab-pane col-md-8 col-md-offset-2\" id=\"histogram2314058222102390712\">\n",
       "            <img src=\"data:image/png;base64,iVBORw0KGgoAAAANSUhEUgAAAlgAAAGQCAYAAAByNR6YAAAABHNCSVQICAgIfAhkiAAAAAlwSFlzAAAPYQAAD2EBqD%2BnaQAAIABJREFUeJzs3X9cVHXe//8nwwQM0gQK%2BNXcb65uphICwWq7Sdfiprlq%2Bat0swJT2/YS4bZXZgWWobm6l1SbBW0XJYlp5RLbj%2B2q3KXb1ZZr/lhcQDMKNQv1gw57Qf4IZhw43z/8ON8dcRPwjMPg4367zR/n/Z55n9d53eTmk3POHIIMwzAEAAAA01j8XQAAAEBPQ8ACAAAwGQELAADAZAQsAAAAkxGwAAAATEbAAgAAMBkBCwAAwGQELAAAAJMRsAAAAExGwAIAADAZAQsAAMBkBCwAAACTEbAAAABMRsACAAAwGQELAADAZAQsAAAAkxGwAAAATEbAAgAAMBkBCwAAwGQELAAAAJMRsAAAAExGwAIAADAZAQsAAMBkBCwAAACTEbAAAABMRsACAAAwGQELAADAZAQsAAAAkxGwAAAATEbAAgAAMBkBCwAAwGQELAAAAJMRsAAAAExGwAIAADAZAQsAAMBkBCwAAACTEbAAAABMRsACAAAwGQELAADAZFZ/F3CpcDiOm76mxRKk3r176X//96Ta2gzT17%2BU0Vvfobe%2BRX99h976ji97GxNzuanrdRRnsAKYxRKkoKAgWSxB/i6lx6G3vkNvfYv%2B%2Bg699Z2e2FsCFgAAgMkIWAAAACYjYAEAAJiMgAUAAGAyAhYAAIDJCFgAAAAmI2ABAACYjIAFAABgMgIWAACAyQhYAAAAJiNgAQAAmIyABQAAYDK/BawjR44oOztbI0eOVGpqqlauXCmn0ylJqqur0%2BzZs5WYmKgJEyZo8%2BbNXp/dsmWLJk2apISEBKWnp6uurs5rfu3atUpNTVVSUpJyc3PV3NzsmXM6ncrNzVVKSopGjx6t4uJir8%2Beb98AAADnY/XHTg3DUHZ2tux2uzZs2KBvvvlGubm5slgsevDBB5WZmakhQ4aorKxM5eXlWrBggd599131799fhw8fVmZmprKyspSamqrCwkLNnz9fb7/9toKCgrRp0yYVFBQoPz9fffr0UU5OjvLz87VkyRJJ0qpVq7R7926VlJTo8OHDeuihh9S/f3%2BNHz9ehmF85767o5TF7/u7hA5771c3%2BLsEAAAuCr8ErP3796uyslJ//etfFR0dLUnKzs7Wf/7nf%2BrGG29UXV2dXnvtNYWHh2vw4MH65JNPVFZWpqysLJWWluraa6/VnDlzJEkrV67UDTfcoO3bt2vUqFFat26dMjIylJaWJklaunSp5s6dq0WLFskwDJWWluqFF15QXFyc4uLiVFtbqw0bNmj8%2BPHaunXrd%2B4bAACgI/xyiTAmJkYvvviiJ1ydceLECVVVVWn48OEKDw/3jCcnJ6uyslKSVFVVpZSUFM%2BczWZTXFycKisr1draql27dnnNJyYm6tSpU6qpqVFNTY3cbreSkpK81q6qqlJbW9t59w0AANARfjmDZbfblZqa6tlua2vT%2BvXrdf3118vhcCg2Ntbr/X369FF9fb0kfef8sWPH5HQ6veatVqsiIyNVX18vi8WiqKgohYSEeOajo6PldDrV1NR03n131NGjR%2BVwOLzGrNbwdmtfqODgwPqOgtUaOPWe6W2g9TgQ0Fvfor%2B%2BQ299pyf21i8B62z5%2Bfnas2ePXn/9da1du9YrAElSSEiIXC6XJKm5uflfzre0tHi2zzVvGMY55yTJ5XJ959qdsXHjRhUUFHiNZWZmKjs7u1Pr9DRRUb38XUKn2e02f5fQY9Fb36K/vkNvfacn9dbvASs/P18lJSX67W9/qyFDhig0NFRNTU1e73G5XAoLC5MkhYaGtgs8LpdLdrtdoaGhnu2z5202m1pbW885J0lhYWHn3XdHzZw5U2PGjPEas1rD1dh4slPrnE%2BgJX2zj9%2BXgoMtstttOnasWa2tbf4up0eht75Ff32H3vqOL3vrr1/u/RqwHn/8cb366qvKz8/XzTffLEnq27ev9u7d6/W%2BhoYGz%2BW1vn37qqGhod38sGHDFBkZqdDQUDU0NGjw4MGSJLfbraamJsXExMgwDDU2NsrtdstqPX3oDodDYWFhstvt5913R8XGxrb7jMNxXG73pf0DGYjH39raFpB1BwJ661v013fore/0pN767RRIQUGBXnvtNT311FOaOHGiZzwhIUGffvqp53KfJFVUVCghIcEzX1FR4Zlrbm7Wnj17lJCQIIvFovj4eK/5yspKWa1WDR06VMOGDZPVavW6ab2iokLx8fGyWCzn3TcAAEBH%2BCVg7du3T88995zuvfdeJScny%2BFweF4jR45Uv379lJOTo9raWhUVFam6ulq33XabJGn69OnauXOnioqKVFtbq5ycHA0YMECjRo2SJM2aNUtr1qxReXm5qqurlZeXpxkzZshms8lms2nKlCnKy8tTdXW1ysvLVVxcrPT0dEk6774BAAA6IsgwDONi77SoqEhPPvnkOec%2B//xzffXVV1q8eLGqqqp01VVXKTc3Vz/%2B8Y897/nLX/6iFStWqL6%2BXklJSXr88cf1ve99z2v9tWvXyuVyady4cXrsscc892c1NzcrLy9Pf/rTnxQREaG5c%2Bdq9uzZns%2Beb99d5XAcv%2BA1zma1WjT2iY9NX9dXAulBo1arRVFRvdTYeLLHnK7uLuitb9Ff36G3vuPL3sbEXG7qeh3ll4B1KSJgEbBwGr31LfrrO/TWd3piwAqsr6EBAAAEAAIWAACAyQhYAAAAJiNgAQAAmIyABQAAYDICFgAAgMkIWAAAACYjYAEAAJiMgAUAAGAyAhYAAIDJCFgAAAAmI2ABAACYjIAFAABgMgIWAACAyQhYAAAAJiNgAQAAmIyABQAAYDICFgAAgMkIWAAAACYjYAEAAJiMgAUAAGAyAhYAAIDJCFgAAAAmI2ABAACYjIAFAABgMr8HLJfLpUmTJmnbtm2SpIcffljXXHNNu1d6errnM7feemu7%2BS%2B%2B%2BMIzv3btWqWmpiopKUm5ublqbm72zDmdTuXm5iolJUWjR49WcXGxVz11dXWaPXu2EhMTNWHCBG3evNnHHQAAAD2N1Z87dzqdWrhwoWpraz1jixcv1sKFCz3bhw4d0t133%2B0JWK2trTpw4IDWr1%2BvgQMHet4XFRUlSdq0aZMKCgqUn5%2BvPn36KCcnR/n5%2BVqyZIkkadWqVdq9e7dKSkp0%2BPBhPfTQQ%2Brfv7/Gjx8vwzCUmZmpIUOGqKysTOXl5VqwYIHeffdd9e/f/yJ0BAAA9AR%2BC1h79%2B7VwoULZRiG1/jll1%2Buyy%2B/3LP98MMPa/z48brpppskSQcPHtSpU6c0YsQIhYaGtlt33bp1ysjIUFpamiRp6dKlmjt3rhYtWiTDMFRaWqoXXnhBcXFxiouLU21trTZs2KDx48dr69atqqur02uvvabw8HANHjxYn3zyicrKypSVleXDbgAAgJ7Eb5cIt2/frlGjRmnjxo3/8j2ffPKJduzYofvvv98ztnfvXvXr1%2B%2Bc4aq1tVW7du1SSkqKZywxMVGnTp1STU2Nampq5Ha7lZSU5JlPTk5WVVWV2traVFVVpeHDhys8PNxrvrKy8kIPFwAAXEL8dgZr1qxZ531PUVGRpk6dqn79%2BnnG9u3bp8suu0z33Xefdu/ere9///t68MEHNWLECB07dkxOp1OxsbGe91utVkVGRqq%2Bvl4Wi0VRUVEKCQnxzEdHR8vpdKqpqUkOh8Prs5LUp08f1dfXm3DEAADgUuHXe7C%2BS11dnbZu3arFixd7jX/55Zf65ptvdPvttys7O1u///3vlZGRoXfffdfznn8OUGe2XS6XDMM455x0%2Bmb75ubmf/nZzjh69KgcDofXmNUa3i68XajgYL9/R6FTrNbAqfdMbwOtx4GA3voW/fUdeus7PbG33TZgbdq0ScOGDdMPfvADr/HHH39cLS0tioiIkCTl5eVp586deuuttzRjxgxJaheIXC6XbDabWltbzzknSWFhYQoNDVVTU1O7%2BbCwsE7VvnHjRhUUFHiNZWZmKjs7u1Pr9DRRUb38XUKn2e02f5fQY9Fb36K/vkNvfacn9bbbBqyPP/5YP/3pT9uNW61WT7iSpKCgIA0aNEhHjhxRZGSkQkND1dDQoMGDB0uS3G63mpqaFBMTI8Mw1NjYKLfbLav19KE7HA6FhYXJbrerb9%2B%2B2rt3r9f%2BGhoaOn3maebMmRozZsxZdYersfFkp9Y5n0BL%2BmYfvy8FB1tkt9t07FizWlvb/F1Oj0JvfYv%2B%2Bg699R1f9tZfv9x3y4BlGIZ27dqlX/7yl%2B3m7r77bo0aNUoLFiyQJLW1tenzzz/XnXfeKYvFovj4eFVUVGjUqFGSpMrKSlmtVg0dOlTS6YBWWVnpuRG%2BoqJC8fHxslgsSkhIUFFRkVpaWjxnrSoqKpScnNyp%2BmNjY9uFMofjuNzuS/sHMhCPv7W1LSDrDgT01rfor%2B/QW9/pSb3tlqdADh06pJMnT7a7PChJY8aM0dq1a/XBBx9o//79WrZsmY4fP66pU6dKOn3z/Jo1a1ReXq7q6mrl5eVpxowZstlsstlsmjJlivLy8lRdXa3y8nIVFxd7nrE1cuRI9evXTzk5OaqtrVVRUZGqq6t12223XdTjBwAAga1bnsH6xz/%2BIUm64oor2s3Nnj1bTqdTy5cvV0NDgxISEvTSSy95LhtOnDhRhw4d0pIlS%2BRyuTRu3DgtWrTI8/mcnBzl5eUpIyNDERERysrK0rhx4yRJwcHBeu6557R48WJNmzZNV111lQoLC3nIKAAA6JQg4%2BwnfcInHI7jpq9ptVo09omPTV/XV9771Q3%2BLqHDrFaLoqJ6qbHxZI85Xd1d0Fvfor%2B%2BQ299x5e9jYm5/Pxv8oFueYkQAAAgkBGwAAAATEbAAgAAMBkBCwAAwGQELAAAAJMRsAAAAExGwAIAADAZAQsAAMBkBCwAAACTEbAAAABMRsACAAAwGQELAADAZAQsAAAAkxGwAAAATEbAAgAAMBkBCwAAwGQELAAAAJMRsAAAAExGwAIAADAZAQsAAMBkBCwAAACTEbAAAABMRsACAAAwGQELAADAZAQsAAAAkxGwAAAATOb3gOVyuTRp0iRt27bNM7Z8%2BXJdc801Xq/169d75rds2aJJkyYpISFB6enpqqur81pz7dq1Sk1NVVJSknJzc9Xc3OyZczqdys3NVUpKikaPHq3i4mKvz9bV1Wn27NlKTEzUhAkTtHnzZh8dOQAA6Kn8GrCcTqfuv/9%2B1dbWeo3v27dPCxcu1ObNmz2v6dOnS5IOHz6szMxMTZs2Ta%2B//rp69%2B6t%2BfPnyzAMSdKmTZtUUFCgZcuWqaSkRFVVVcrPz/esvWrVKu3evVslJSV67LHHVFBQoPfff1%2BSZBiGMjMzFR0drbKyMk2ePFkLFizQ4cOHL1JHAABAT%2BC3gLV3717NmDFDX3/9dbu5ffv2afjw4YqJifG8bDabJKm0tFTXXnut5syZo6uvvlorV67UoUOHtH37dknSunXrlJGRobS0NI0YMUJLly5VWVmZmpub9e2336q0tFSLFy9WXFycxo4dq3nz5mnDhg2SpK1bt6qurk7Lli3T4MGDdd999ykxMVFlZWUXrzEAACDg%2BS1gbd%2B%2BXaNGjdLGjRu9xk%2BcOKEjR45o4MCB5/xcVVWVUlJSPNs2m01xcXGqrKxUa2urdu3a5TWfmJioU6dOqaamRjU1NXK73UpKSvLMJycnq6qqSm1tbaqqqtLw4cMVHh7uNV9ZWWnSUQMAgEuB1V87njVr1jnH9%2B3bp6CgID3//PP66KOPFBkZqXvuuUdTp06VJDkcDsXGxnp9pk%2BfPqqvr9exY8fkdDq95q1WqyIjI1VfXy%2BLxaKoqCiFhIR45qOjo%2BV0OtXU1PSdawMAAHSU3wLWv7J//34FBQVp0KBBuuuuu7Rjxw49%2BuijioiI0NixY9Xc3OwVkCQpJCRELpdLLS0tnu1zzRuGcc456fTN9t%2B1dmccPXpUDofDa8xqDW8X3i5UcLDfv6PQKVZr4NR7preB1uNAQG99i/76Dr31nZ7Y224XsKZMmaK0tDRFRkZKkoYOHaoDBw7o1Vdf1dixYxUaGtou8LhcLtntdoWGhnq2z5632WxqbW0955wkhYWFKTQ0VE1NTe3mw8LCOnUMGzduVEFBgddYZmamsrOzO7VOTxMV1cvfJXSa3W7zdwk9Fr31LfrrO/TWd3pSb7tdwAoKCvKEqzMGDRqkrVu3SpL69u2rhoYGr/mGhgYNGzZMkZGRCg0NVUNDgwYPHixJcrvdampqUkxMjAzDUGNjo9xut6zW04fucDgUFhYmu92uvn37au/eve3W7uyZp5kzZ2rMmDFeY1ZruBobT3ZqnfMJtKRv9vH7UnCwRXa7TceONau1tc3f5fQo9Na36K/v0Fvf8WVv/fXLfbcLWKtXr9bf//53rV271jNWU1OjQYMGSZISEhJUUVHhmWtubtaePXu0YMECWSwWxcfHq6KiQqNGjZIkVVZWymq1aujQoZJO35NVWVnpuRG%2BoqJC8fHxslgsSkhIUFFRkVpaWjxnrSoqKpScnNypY4iNjW0XyhyO43K7L%2B0fyEA8/tbWtoCsOxDQW9%2Biv75Db32nJ/W2250CSUtL044dO7RmzRp9/fXXeuWVV/Tmm29qzpw5kqTp06dr586dKioqUm1trXJycjRgwABPoJo1a5bWrFmj8vJyVVdXKy8vTzNmzJDNZpPNZtOUKVOUl5en6upqlZeXq7i4WOnp6ZKkkSNHql%2B/fsrJyVFtba2KiopUXV2t2267zW/9AAAAgafbncEaMWKEVq9erWeeeUarV6/WlVdeqSeffNLzaIUBAwbo2Wef1YoVK1RYWKikpCQVFhYqKChIkjRx4kQdOnRIS5Yskcvl0rhx47Ro0SLP%2Bjk5OcrLy1NGRoYiIiKUlZWlcePGSZKCg4P13HPPafHixZo2bZquuuoqFRYWqn///he/EQAAIGAFGWcegQ6fcjiOm76m1WrR2Cc%2BNn1dX3nvVzf4u4QOs1otiorqpcbGkz3mdHV3QW99i/76Dr31HV/2NibmclPX66hud4kQAAAg0BGwAAAATEbAAgAAMBkBCwAAwGQELAAAAJMRsAAAAExGwAIAADAZAQsAAMBkBCwAAACTEbAAAABMRsACAAAwGQELAADAZAQsAAAAkxGwAAAATEbAAgAAMBkBCwAAwGQELAAAAJMRsAAAAExGwAIAADAZAQsAAMBkBCwAAACTEbAAAABMRsACAAAwGQELAADAZAQsAAAAkxGwAAAATNalgHX77bfrtdde0/Hjxy%2B4AJfLpUmTJmnbtm2escrKSv385z9XUlKSbr75ZpWWlnp95tZbb9U111zj9friiy8882vXrlVqaqqSkpKUm5ur5uZmz5zT6VRubq5SUlI0evRoFRcXe61dV1en2bNnKzExURMmTNDmzZsv%2BBgBAMClpUsB6/rrr9fzzz%2Bv0aNH6/7779fmzZtlGEan13E6nbr//vtVW1vrGXM4HLr33ns1cuRIvfHGG8rOztbjjz%2BuDz/8UJLU2tqqAwcOaP369dq8ebPnNWjQIEnSpk2bVFBQoGXLlqmkpERVVVXKz8/3rL9q1Srt3r1bJSUleuyxx1RQUKD3339fkmQYhjIzMxUdHa2ysjJNnjxZCxYs0OHDh7vSJgAAcImyduVDCxcu1P33368tW7bozTffVFZWlux2u6ZMmaIpU6bo%2B9///nnX2Lt3rxYuXNgumJWXlys6Olr333%2B/JGngwIHatm2b/vjHP%2BonP/mJDh48qFOnTmnEiBEKDQ1tt%2B66deuUkZGhtLQ0SdLSpUs1d%2B5cLVq0SIZhqLS0VC%2B88ILi4uIUFxen2tpabdiwQePHj9fWrVtVV1en1157TeHh4Ro8eLA%2B%2BeQTlZWVKSsrqyutAgAAl6Au34MVFBSkG264Qfn5%2BdqyZYvuvPNOlZSUaMKECbrzzjv1pz/96Ts/v337do0aNUobN270Gk9NTdXKlSvbvf/EiROSTgezfv36nTNctba2ateuXUpJSfGMJSYm6tSpU6qpqVFNTY3cbreSkpI888nJyaqqqlJbW5uqqqo0fPhwhYeHe81XVlZ2rCkAAADq4hmsM44ePaq3335bb7/9tr744gtdd911mjp1qurr6/XII49ox44dWrx48Tk/O2vWrHOODxgwQAMGDPBs/%2BMf/9B///d/e84g7du3T5dddpnuu%2B8%2B7d69W9///vf14IMPasSIETp27JicTqdiY2P//wO0WhUZGan6%2BnpZLBZFRUUpJCTEMx8dHS2n06mmpiY5HA6vz0pSnz59VF9f3%2Bm%2BOBwOrzGrNbzd2hcqODiwvqNgtQZOvWd6G2g9DgT01rfor%2B/QW9/pib3tUsB666239NZbb2nbtm3q3bu3pkyZomeeeUYDBw70vKdfv3769a9//S8DVke0tLQoKytL0dHRmjlzpiTpyy%2B/1DfffKPbb79d2dnZ%2Bv3vf6%2BMjAy9%2B%2B67ns/9c4A6s%2B1yuWQYxjnnpNM32zc3N//Lz3bGxo0bVVBQ4DWWmZmp7OzsTq3T00RF9fJ3CZ1mt9v8XUKPRW99i/76Dr31nZ7U2y4FrMWLFystLU2FhYW68cYbZbG0T5yDBg3SXXfd1eXCTp48qfnz5%2BvAgQN65ZVXZLOdbvrjjz%2BulpYWRURESJLy8vK0c%2BdOvfXWW5oxY4YktQtELpdLNptNra2t55yTpLCwMIWGhqqpqandfFhYWKdqnzlzpsaMGeM1ZrWGq7HxZKfWOZ9AS/pmH78vBQdbZLfbdOxYs1pb2/xdTo9Cb32L/voOvfUdX/bWX7/cdylgffTRR4qKilJTU5MnXFVXVysuLk7BwcGSpOuuu07XXXddl4o6ceKE5s2bp6%2B//lolJSVeZ8asVqsnXEmn7wUbNGiQjhw5osjISIWGhqqhoUGDBw%2BWJLndbjU1NSkmJkaGYaixsVFut1tW6%2BlDdzgcCgsLk91uV9%2B%2BfbV3716vWhoaGjp9aS82NrbdZxyO43K7L%2B0fyEA8/tbWtoCsOxDQW9%2Biv75Db32nJ/W2S6dATpw4ofHjx%2BuFF17wjP3iF7/Q5MmT9X/%2Bz/%2B5oILa2tq0YMECHTx4UC%2B//LKuvvpqr/m7777b6/JbW1ubPv/8cw0aNEgWi0Xx8fGqqKjwzFdWVspqtWro0KEaNmyYrFar103rFRUVio%2BPl8ViUUJCgj799FO1tLR4zSckJFzQMQEAgEtLlwLWihUrdNVVV%2Bmee%2B7xjL377rvq16/fOb8B2Bmvv/66tm3bpuXLl8tut8vhcMjhcHgu3Y0ZM0Zr167VBx98oP3792vZsmU6fvy4pk6dKun0zfNr1qxReXm5qqurlZeXpxkzZshms8lms2nKlCnKy8tTdXW1ysvLVVxcrPT0dEnSyJEj1a9fP%2BXk5Ki2tlZFRUWqrq7WbbfddkHHBAAALi1dukT4t7/9Tb///e8VExPjGevdu7cefPBB3XnnnRdU0KZNm9TW1qb77rvPa3zkyJF6%2BeWXNXv2bDmdTi1fvlwNDQ1KSEjQSy%2B95LlsOHHiRB06dEhLliyRy%2BXSuHHjtGjRIs86OTk5ysvLU0ZGhiIiIpSVlaVx48ZJkoKDg/Xcc89p8eLFmjZtmq666ioVFhaqf//%2BF3RMAADg0hJkdOER7Gee5J6YmOg1Xl1drblz52rHjh2mFdhTOBwX/meFzma1WjT2iY9NX9dX3vvVDf4uocOsVouionqpsfFkj7kfoLugt75Ff32H3vqOL3sbE3O5qet1VJcuEd54441avny5vv76a89YXV2dVq5cqdTUVNOKAwAACERdukT40EMP6Z577tHNN98su90uSTp27Jji4uKUk5NjaoEAAACBpksBq0%2BfPnrjjTe0ZcsW1dbWymq16gc/%2BIF%2B9KMfKSgoyOwaAQAAAkqX/1ROcHCwUlNTuSQIAABwli4FLIfDoaefflo7d%2B7UqVOndPZ98h988IEpxQEAAASiLgWsRx99VLt379bEiRN1%2BeX%2BuTsfAACgu%2BpSwNq6datefPFFpaSkmF0PAABAwOvSYxrCw8PVp08fs2sBAADoEboUsCZPnqwXX3xRra2tZtcDAAAQ8Lp0ibCpqUnvvPOOPvzwQ33ve99TSEiI1/y6detMKQ4AACAQdfkxDZMmTTKzDgAAYLKfPf1Xf5fQYX/79Xh/l2CqLgWslStXml0HAABAj9Gle7Ak6ejRoyooKNDChQv1j3/8Q%2B%2B//772799vZm0AAAABqUsB66uvvtItt9yiN954Q5s2bdK3336rd999V9OnT1dVVZXZNQIAAASULgWs3/zmN7rppptUXl6uyy67TJL01FNPacyYMXriiSdMLRAAACDQdClg7dy5U/fcc4/XH3a2Wq2aP3%2B%2B9uzZY1pxAAAAgahLAautrU1tbW3txk%2BePKng4OALLgoAACCQdSlgjR49Wv/1X//lFbKampqUn5%2Bv66%2B/3rTiAAAAAlGXAtbDDz%2Bs3bt3a/To0XI6nfr3f/93paWl6eDBg3rooYfMrhEAACCgdOk5WH379tWbb76pd955R5999pna2tp0xx13aPLkyYqIiDC7RgAAgIDS5Se522w23X777WbWAgAA0CN0KWClp6d/5zx/ixAAAFzKuhSwrrzySq9tt9utr776Sl988YUyMjJMKQwAACBQmfq3CAsLC1VfX39BBQEAAAS6Lv8twnOZPHmy3nvvPTOXBAAACDimBqy///3vnX7QqMvl0qRJk7Rt2zbPWF1dnWbPnq3ExERNmDBBmzdv9vrMli1bNGnSJCUkJCg9PV11dXVe82vXrlVqaqqSkpKUm5ur5uZmz5zT6VRubq5SUlI0evRoFRcXe332fPsGAAA4H9Nucj9x4oQ%2B//xzzZo1q8PrOJ1OLVy4ULW1tZ4xwzCUmZmpIUOGqKysTOXl5VqwYIHeffdd9e/fX4cPH1ZmZqaysrKUmpqqwsJCzZ8/X2%2B//baCgoK0adMmFRQlDqb7AAAgAElEQVQUKD8/X3369FFOTo7y8/O1ZMkSSdKqVau0e/dulZSU6PDhw3rooYfUv39/jR8//rz7BgAA6IguBaz%2B/ft7/R1CSbrssst011136dZbb%2B3QGnv37tXChQtlGIbX%2BNatW1VXV6fXXntN4eHhGjx4sD755BOVlZUpKytLpaWluvbaazVnzhxJp%2B8Hu%2BGGG7R9%2B3aNGjVK69atU0ZGhtLS0iRJS5cu1dy5c7Vo0SIZhqHS0lK98MILiouLU1xcnGpra7VhwwaNHz/%2BvPsGAADoiC4FrN/85jcXvOMzgeg//uM/lJiY6BmvqqrS8OHDFR4e7hlLTk5WZWWlZz4lJcUzZ7PZFBcXp8rKSqWkpGjXrl1asGCBZz4xMVGnTp1STU2NDMOQ2%2B1WUlKS19rPP/%2B82trazrtvAACAjuhSwNqxY0eH3/vDH/7wnOP/6lKiw%2BFQbGys11ifPn083078rvljx47J6XR6zVutVkVGRqq%2Bvl4Wi0VRUVEKCQnxzEdHR8vpdKqpqem8%2BwYAAOiILgWsu%2B%2B%2B23OJ8J8v8Z09FhQUpM8%2B%2B6xTazc3N3sFIEkKCQmRy%2BU673xLS4tn%2B1zzhmGcc046fbP9%2BfbdUUePHpXD4fAas1rD24W3CxUcbOp3FHzOag2ces/0NtB6HAjorW/RX9%2Bht77Xk3rbpYD1/PPPa/ny5Vq0aJFGjhypkJAQ7dq1S8uWLdPUqVM1YcKELhcUGhqqpqYmrzGXy6WwsDDP/NmBx%2BVyyW63KzQ01LN99rzNZlNra%2Bs55yQpLCzsvPvuqI0bN6qgoMBrLDMzU9nZ2Z1ap6eJiurl7xI6zW63%2BbuEHove%2Bhb99R166zs9qbddftDokiVLdOONN3rGrr/%2Bei1btkwPPvig7r333i4X1LdvX%2B3du9drrKGhwXP2p2/fvmpoaGg3P2zYMEVGRio0NFQNDQ0aPHiwpNNPmW9qalJMTIwMw1BjY6Pcbres1tOH7nA4FBYWJrvdft59d9TMmTM1ZswYrzGrNVyNjSc7tc75BFrSN/v4fSk42CK73aZjx5rV2trm73J6FHrrW/TXd%2Bit7/mit/765b5LAevo0aPt/lyOJEVERKixsfGCCkpISFBRUZFaWlo8Z44qKiqUnJzsma%2BoqPC8v7m5WXv27NGCBQtksVgUHx%2BviooKjRo1SpJUWVkpq9WqoUOHSjp9T9aZG%2BLPrB0fHy%2BLxXLefXdUbGxsu1DmcByX231p/0AG4vG3trYFZN2BgN76Fv31HXrrOz2pt106BZKYmKinnnpKJ06c8Iw1NTUpPz9fP/rRjy6ooJEjR6pfv37KyclRbW2tioqKVF1drdtuu02SNH36dO3cuVNFRUWqra1VTk6OBgwY4AlUs2bN0po1a1ReXq7q6mrl5eVpxowZstlsstlsmjJlivLy8lRdXa3y8nIVFxd7nut1vn0DAAB0RJfOYD3yyCNKT0/XjTfeqIEDB8owDB04cEAxMTFat27dBRUUHBys5557TosXL9a0adN01VVXqbCw0POgzwEDBujZZ5/VihUrVFhYqKSkJBUWFnpusJ84caIOHTqkJUuWyOVyady4cVq0aJFn/ZycHOXl5SkjI0MRERHKysrSuHHjOrRvAACAjggyzn7SZwd98803euedd7Rv3z5J0vDhwzVx4kTZbD3nBjUzORzHTV/TarVo7BMfm76ur7z3qxv8XUKHWa0WRUX1UmPjyR5zurq7oLe%2BRX99JxB7%2B7On/%2BrvEjrsb78e75PexsRcbup6HdWlM1iSdMUVV%2Bj222/XwYMH9b3vfU/S6ae5AwAAXOq6dA%2BWYRh64okn9MMf/lCTJk1SfX29HnroIS1evFinTp0yu0YAAICA0qWA9fLLL%2Butt97SY4895nkw50033aTy8vJ2z38CAAC41HQpYG3cuFFLlizRtGnTPDeXT5gwQcuXL9cf//hHUwsEAAAINF0KWAcPHtSwYcPajQ8dOrTdn4gBAAC41HQpYF155ZXatWtXu/GPPvrIc8M7AADApapL3yKcO3euli5dKofDIcMw9Mknn2jjxo16%2BeWX9fDDD5tdIwAAQEDpUsCaPn263G63fve736mlpUVLlixR79699atf/Up33HGH2TUCAAAElC4FrHfeeUfjx4/XzJkz9b//%2B78yDEN9%2BvQxuzYAAICA1KV7sJYtW%2Ba5mb13796EKwAAgH/SpYA1cOBAffHFF2bXAgAA0CN06RLh0KFD9cADD%2BjFF1/UwIEDFRoa6jW/cuVKU4oDAAAIRF0KWF9%2B%2BaWSk5MliedeAQAAnKXDAWvVqlVasGCBwsPD9fLLL/uyJgAAgIDW4XuwXnrpJTU3N3uN/eIXv9DRo0dNLwoAACCQdThgGYbRbmzHjh1yOp2mFgQAABDouvQtQgAAAPxrBCwAAACTdSpgBQUF%2BaoOAACAHqNTj2lYvny51zOvTp06pfz8fPXq1cvrfTwHCwAAXMo6HLB%2B%2BMMftnvmVVJSkhobG9XY2Gh6YQAAAIGqwwGLZ18BAAB0DDe5AwAAmIyABQAAYDICFgAAgMkIWAAAACbrlgHrD3/4g6655pp2r6FDh0o6/biIs%2BfWr1/v%2BfyWLVs0adIkJSQkKD09XXV1dV7rr127VqmpqUpKSlJubq7X31h0Op3Kzc1VSkqKRo8ereLi4otz0AAAoMfo1HOwLpYJEyYoNTXVs%2B12u5WRkaGf/OQnkqR9%2B/Zp4cKFmjp1quc9ERERkqTDhw8rMzNTWVlZSk1NVWFhoebPn6%2B3335bQUFB2rRpkwoKCpSfn68%2BffooJydH%2Bfn5WrJkiSRp1apV2r17t0pKSnT48GE99NBD6t%2B/v8aPH3/xGgAAAAJatzyDFRYWppiYGM/r7bfflmEYeuCBBySdDljDhw/3eo/NZpMklZaW6tprr9WcOXN09dVXa%2BXKlTp06JC2b98uSVq3bp0yMjKUlpamESNGaOnSpSorK1Nzc7O%2B/fZblZaWavHixYqLi9PYsWM1b948bdiwwW%2B9AAAAgadbBqx/1tTUpBdeeEELFy5USEiITpw4oSNHjmjgwIHnfH9VVZVSUlI82zabTXFxcaqsrFRra6t27drlNZ%2BYmKhTp06ppqZGNTU1crvdSkpK8swnJyerqqpKbW1tPjtGAADQs3TLS4T/7NVXX1VsbKznEt2%2BffsUFBSk559/Xh999JEiIyN1zz33eC4XOhwOxcbGeq3Rp08f1dfX69ixY3I6nV7zVqtVkZGRqq%2Bvl8ViUVRUlEJCQjzz0dHRcjqdampqUu/evTtU89GjR9s99d5qDW9X14UKDu72%2BdiL1Ro49Z7pbaD1OBDQW9%2Biv75Db32vJ/W2WwcswzBUWlqqefPmecb279%2BvoKAgDRo0SHfddZd27NihRx99VBERERo7dqyam5u9ApIkhYSEyOVyqaWlxbN9rnnDMM45J0kul6vDdW/cuFEFBQVeY5mZmcrOzu7wGj1RVFSv87%2Bpm7Hbbf4uoceit75Ff32H3vpOT%2Bpttw5Yu3bt0pEjRzRx4kTP2JQpU5SWlqbIyEhJ0tChQ3XgwAG9%2BuqrGjt2rEJDQ9uFIZfLJbvd7vlD1eeat9lsam1tPeecdPq%2BsI6aOXOmxowZ4zVmtYarsfFkh9foiEBL%2BmYfvy8FB1tkt9t07FizWlu5PGwmeutb9Nd36K3v%2BaK3/vrlvlsHrI8//lgpKSm64oorPGNBQUGecHXGoEGDtHXrVklS37591dDQ4DXf0NCgYcOGKTIyUqGhoWpoaNDgwYMlnf6GYlNTk2JiYmQYhhobG%2BV2u2W1nm6Nw%2BFQWFiY7HZ7h%2BuOjY1tdznQ4Tgut/vS/oEMxONvbW0LyLoDAb31LfrrO/TWd3pSb7v1KZDq6mpdd911XmOrV6/W7NmzvcZqamo0aNAgSVJCQoIqKio8c83NzdqzZ48SEhJksVgUHx/vNV9ZWSmr1aqhQ4dq2LBhslqtqqys9MxXVFQoPj5eFku3bhUAAOhGunVqqK2t1Q9%2B8AOvsbS0NO3YsUNr1qzR119/rVdeeUVvvvmm5syZI0maPn26du7cqaKiItXW1ionJ0cDBgzQqFGjJEmzZs3SmjVrVF5erurqauXl5WnGjBmy2Wyy2WyaMmWK8vLyVF1drfLychUXFys9Pf2iHzsAAAhc3foSYUNDQ7tLcyNGjNDq1av1zDPPaPXq1bryyiv15JNPeh6tMGDAAD377LNasWKFCgsLlZSUpMLCQgUFBUmSJk6cqEOHDmnJkiVyuVwaN26cFi1a5Fk/JydHeXl5ysjIUEREhLKysjRu3LiLd9AAACDgBRmGYfi7iEuBw3Hc9DWtVovGPvGx6ev6ynu/usHfJXSY1WpRVFQvNTae7DH3A3QX9Na36K/vBGJvf/b0X/1dQof97dfjfdLbmJjLTV2vo7r1JUIAAIBARMACAAAwGQELAADAZAQsAAAAkxGwAAAATEbAAgAAMBkBCwAAwGQELAAAAJMRsAAAAExGwAIAADAZAQsAAMBkBCwAAACTEbAAAABMRsACAAAwGQELAADAZAQsAAAAkxGwAAAATEbAAgAAMBkBCwAAwGQELAAAAJMRsAAAAExGwAIAADAZAQsAAMBkBCwAAACTEbAAAABM1m0D1p///Gddc801Xq/s7GxJUl1dnWbPnq3ExERNmDBBmzdv9vrsli1bNGnSJCUkJCg9PV11dXVe82vXrlVqaqqSkpKUm5ur5uZmz5zT6VRubq5SUlI0evRoFRcX%2B/5gAQBAj9JtA9bevXuVlpamzZs3e17Lly%2BXYRjKzMxUdHS0ysrKNHnyZC1YsECHDx%2BWJB0%2BfFiZmZmaNm2aXn/9dfXu3Vvz58%2BXYRiSpE2bNqmgoEDLli1TSUmJqqqqlJ%2Bf79nvqlWrtHv3bpWUlOixxx5TQUGB3n//fb/0AAAABKZuG7D27dunIUOGKCYmxvOy2%2B3aunWr6urqtGzZMg0ePFj33XefEhMTVVZWJkkqLS3Vtddeqzlz5ujqq6/WypUrdejQIW3fvl2StG7dOmVkZCgtLU0jRozQ0qVLVVZWpubmZn377bcqLS3V4sWLFRcXp7Fjx2revHnasGGDP1sBAAACTLcOWAMHDmw3XlVVpeHDhys8PNwzlpycrMrKSs98SkqKZ85msykuLk6VlZVqbW3Vrl27vOYTExN16tQp1dTUqKamRm63W0lJSV5rV1VVqa2tzQdHCQAAeqJuGbAMw9CXX36pzZs36%2Babb9ZNN92kJ554Qi6XSw6HQ7GxsV7v79Onj%2Brr6yXpO%2BePHTsmp9PpNW%2B1WhUZGan6%2Bno5HA5FRUUpJCTEMx8dHS2n06mmpiYfHjEAAOhJrP4u4FwOHz6s5uZmhYSE6Omnn9bBgwe1fPlytbS0eMb/WUhIiFwulyR953xLS4tn%2B1zzhmGcc06SZ/2OOHr0qBwOh9eY1RreLvhdqODgbpmP/yWrNXDqPdPbQOtxIKC3vkV/fYfe%2Bl5P6m23DFhXXnmltm3bpiuuuEJBQUEaNmyY2tratGjRIk2dOtXrW3/S6fATFhYmSQoNDW0Xhlwul%2Bx2u0JDQz3bZ8/bbDa1traec06SZ/2O2LhxowoKCrzGMjMzPd%2BCvFRFRfXydwmdZrfb/F1Cj0VvfYv%2B%2Bg699Z2e1NtuGbAkKTIy0mt78ODBcjqdiomJ0f79%2B73mGhoaPGeH%2Bvbtq4aGhnbzw4YNU2RkpEJDQ9XQ0KDBgwdLktxut5qamhQTEyPDMNTY2Ci32y2r9XRrHA6HwsLCZLfbO1z7zJkzNWbMGK8xqzVcjY0nO7xGRwRa0jf7%2BH0pONgiu92mY8ea1drK/Xdmore%2BRX99h976ni96669f7rtlwPr444/1wAMP6MMPP5TNdjrNfvbZZ4qMjFRycrKKi4vV0tLiOatUUVGh5ORkSVJCQoIqKio8azU3N2vPnj1asGCBLBaL4uPjVVFRoVGjRkmSKisrZbVaNXToUEmn78mqrKz03AhfUVGh%2BPh4WSwdDzOxsbHtLgc6HMfldl/aP5CBePytrW0BWXcgoLe%2BRX99h976Tk/qbbc8BZKUlKTQ0FA98sgj2r9/v/7yl79o1apVmjdvnkaOHKl%2B/fopJydHtbW1KioqUnV1tW677TZJ0vTp07Vz504VFRWptrZWOTk5GjBggCdQzZo1S2vWrFF5ebmqq6uVl5enGTNmyGazyWazacqUKcrLy1N1dbXKy8tVXFys9PR0f7YDAAAEmG55BisiIkJr1qzRihUrNH36dPXq1Us///nPNW/ePAUFBem5557T4sWLNW3aNF111VUqLCxU//79JUkDBgzQs88%2BqxUrVqiwsFBJSUkqLCxUUFCQJGnixIk6dOiQlixZIpfLpXHjxmnRokWefefk5CgvL08ZGRmKiIhQVlaWxo0b55c%2BAACAwBRknHnEOXzK4Thu%2BppWq0Vjn/jY9HV95b1f3eDvEjrMarUoKqqXGhtP9pjT1d0FvfUt%2Bus7gdjbnz39V3%2BX0GF/%2B/V4n/Q2JuZyU9frqG55iRAAACCQEbAAAABMRsACAAAwGQELAADAZAQsAAAAkxGwAAAATEbAAgAAMBkBCwAAwGQELAAAAJMRsAAAAExGwAIAADAZAQsAAMBkBCwAAACTEbAAAABMRsACAAAwGQELAADAZAQsAAAAkxGwAAAATEbAAgAAMBkBCwAAwGQELAAAAJMRsAAAAExGwAIAADAZAQsAAMBkBCwAAACTEbAAAABM1m0D1pEjR5Sdna2RI0cqNTVVK1eulNPplCQtX75c11xzjddr/fr1ns9u2bJFkyZNUkJCgtLT01VXV%2Be19tq1a5WamqqkpCTl5uaqubnZM%2Bd0OpWbm6uUlBSNHj1axcXFF%2BeAAQBAj9EtA5ZhGMrOzlZzc7M2bNig3/72t/qf//kfPf3005Kkffv2aeHChdq8ebPnNX36dEnS4cOHlZmZqWnTpun1119X7969NX/%2BfBmGIUnatGmTCgoKtGzZMpWUlKiqqkr5%2Bfmefa9atUq7d%2B9WSUmJHnvsMRUUFOj999%2B/%2BE0AAAABq1sGrP3796uyslIrV67U1VdfrZSUFGVnZ%2Budd96RdDpgDR8%2BXDExMZ6XzWaTJJWWluraa6/VnDlzdPXVV2vlypU6dOiQtm/fLklat26dMjIylJaWphEjRmjp0qUqKytTc3Ozvv32W5WWlmrx4sWKi4vT2LFjNW/ePG3YsMFvvQAAAIGnWwasmJgYvfjii4qOjvYaP3HihE6cOKEjR45o4MCB5/xsVVWVUlJSPNs2m01xcXGqrKxUa2urdu3a5TWfmJioU6dOqaamRjU1NXK73UpKSvLMJycnq6qqSm1tbeYeJAAA6LGs/i7gXOx2u1JTUz3bbW1tWr9%2Bva6//nrt27dPQUFBev755/XRRx8pMjJS99xzj6ZOnSpJcjgcio2N9VqvT58%2Bqq%2Bv17Fjx%2BR0Or3mrVarIiMjVV9fL4vFoqioKIWEhHjmo6Oj5XQ61dTUpN69e3eo/qNHj8rhcHiNWa3h7eq6UMHB3TIf/0tWa%2BDUe6a3gdbjQEBvfYv%2B%2Bg699b2e1NtuGbDOlp%2Bfrz179uj111/Xp59%2BqqCgIA0aNEh33XWXduzYoUcffVQREREaO3asmpubvQKSJIWEhMjlcqmlpcWzfa55wzDOOSdJLperw/Vu3LhRBQUFXmOZmZnKzs7u8Bo9UVRUL3%2BX0Gl2u83fJfRY9Na36K/v0Fvf6Um97fYBKz8/XyUlJfrtb3%2BrIUOG6Oqrr1ZaWpoiIyMlSUOHDtWBAwf06quvauzYsQoNDW0Xhlwul%2Bx2u0JDQz3bZ8/bbDa1traec06SwsLCOlzzzJkzNWbMGK8xqzVcjY0nO7xGRwRa0jf7%2BH0pONgiu92mY8ea1drK5WEz0Vvfor%2B%2BQ299zxe99dcv9906YD3%2B%2BON69dVXlZ%2Bfr5tvvlmSFBQU5AlXZwwaNEhbt26VJPXt21cNDQ1e8w0NDRo2bJgiIyMVGhqqhoYGDR48WJLkdrvV1NSkmJgYGYahxsZGud1uWa2nW%2BNwOBQWFia73d7humNjY9tdDnQ4jsvtvrR/IAPx%2BFtb2wKy7kBAb32L/voOvfWdntTbbnsKpKCgQK%2B99pqeeuopTZw40TO%2BevVqzZ492%2Bu9NTU1GjRokCQpISFBFRUVnrnm5mbt2bNHCQkJslgsio%2BP95qvrKyU1WrV0KFDNWzYMFmtVlVWVnrmKyoqFB8fL4ul27YKAAB0M90yNezbt0/PPfec7r33XiUnJ8vhcHheaWlp2rFjh9asWaOvv/5ar7zyit58803NmTNHkjR9%2BnTt3LlTRUVFqq2tVU5OjgYMGKBRo0ZJkmbNmqU1a9aovLxc1dXVysvL04wZM2Sz2WSz2TRlyhTl5eWpurpa5eXlKi4uVnp6uj/bAQAAAky3vET4wQcfqLW1Vb/73e/0u9/9zmvu888/1%2BrVq/XMM89o9erVuvLKK/Xkk096Hq0wYMAAPfvss1qxYoUKCwuVlJSkwsJCBQUFSZImTpyoQ4cOacmSJXK5XBo3bpwWLVrkWT8nJ0d5eXnKyMhQRESEsrKyNG7cuIt38AAAIOAFGWcecQ6fcjiOm76m1WrR2Cc%2BNn1dX3nvVzf4u4QOs1otiorqpcbGkz3mfoDugt76Fv31nUDs7c%2Be/qu/S%2Biwv/16vE96GxNzuanrdVS3vEQIAAAQyAhYAAAAJiNgAQAAmIyABQAAYDICFgAAgMkIWAAAACYjYAEAAJiMgAUAAGAyAhYAAIDJCFgAAAAmI2ABAACYjIAFAABgMgIWAACAyQhYAAAAJiNgAQAAmIyABQAAYDICFgAAgMkIWAAAACYjYAEAAJiMgAUAAGAyAhYAAIDJCFgAAAAmI2ABAACYjIAFAABgMgIWAACAyQhYAAAAJiNgnYPT6VRubq5SUlI0evRoFRcX%2B7skAAAQQKz%2BLqA7WrVqlXbv3q2SkhIdPnxYDz30kPr376/x48f7uzQAABAACFhn%2Bfbbb1VaWqoXXnhBcXFxiouLU21trTZs2EDAAgAAHcIlwrPU1NTI7XYrKSnJM5acnKyqqiq1tbX5sTIAABAoOIN1FofDoaioKIWEhHjGoqOj5XQ61dTUpN69e593jaNHj8rhcHiNWa3hio2NNbXW4ODAysdWa%2BDUe6a3gdbjQEBvfYv%2B%2Bg699b2e1FsC1lmam5u9wpUkz7bL5erQGhs3blRBQYHX2IIFC5SVlWVOkf/X0aNHlfH/1GrmzJmmh7dL3dGjR1VS8iK99QF661v013cCsbd/%2B3Vg3Npy9OhRPfvsswHV2/PpOVHRJKGhoe2C1JntsLCwDq0xc%2BZM/eEPf/B6zZw50/RaHQ6HCgoK2p0tw4Wjt75Db32L/voOvfWdnthbzmCdpW/fvmpsbJTb7ZbVero9DodDYWFhstvtHVojNja2xyRwAADQeZzBOsuwYcNktVpVWVnpGauoqFB8fLwsFtoFAADOj8RwFpvNpilTpigvL0/V1dUqLy9XcXGx0tPT/V0aAAAIEMF5eXl5/i6iu7n%2B%2Buu1Z88ePfnkk/rkk0/0y1/%2BUtOnT/d3WefUq1cvjRw5Ur169fJ3KT0OvfUdeutb9Nd36K3v9LTeBhmGYfi7CAAAgJ6ES4QAAAAmI2ABAACYjIAFAABgMgIWAACAyQhYAAAAJiNgAQAAmIyABQAAYDICFgAAgMkIWN2c0%2BlUbm6uUlJSNHr0aBUXF//L9%2B7Zs0e33367EhISNH36dO3evfsiVhp4OtPbDz/8UJMnT1ZSUpJuueUWffDBBxex0sDTmd6ecfDgQSUlJWnbtm0XocLA1pn%2Bfv7557rjjjs0YsQI3XLLLdq6detFrDTwdKa3f/7zn/Wzn/1MSUlJuuOOO/Tpp59exEoDl8vl0qRJk77zZ71H/H9moFtbtmyZccsttxi7d%2B82/vSnPxlJSUnGe%2B%2B91%2B59J0%2BeNG644QbjN7/5jbF3717j8ccfN3784x8bJ0%2Be9EPVgaGjvf3ss8%2BMuLg4o6SkxDhw4ICxfv16Iy4uzvjss8/8UHVg6Ghv/9ncuXONIUOGGFu3br1IVQaujvb32LFjxo9//GPjkUceMQ4cOGCsXr3aSE5ONhoaGvxQdWDoaG%2B/%2BOILIz4%2B3njjjTeMr776yli6dKlxww03GN9%2B%2B60fqg4cLS0tRmZm5nf%2BrPeU/88IWN3YyZMnjfj4eK9/hIWFhcZdd93V7r2lpaXGmDFjjLa2NsMwDKOtrc0YO3asUVZWdtHqDSSd6W1%2Bfr4xd%2B5cr7E5c%2BYYTz31lM/rDESd6e0Zb731lvHzn/%2BcgNUBnelvSUmJcdNNNxlut9szNm3aNOPDDz%2B8KLUGms709qWXXjKmTp3q2T5%2B/LgxZMgQo7q6%2BqLUGohqa2uNW2%2B91bjlllu%2B82e9p/x/xiXCbqympkZut1tJSUmeseTkZFVVVamtrc3rvVVVVUpOTlZQUJAkKSgoSNddd50qKysvas2BojO9nTp1qh544IF2axw/ftzndQaizvRWkhobG5Wfn69ly5ZdzDIDVmf6u337dv30pz9VcHCwZ6ysrEz/9m//dtHqDSSd6W1kZKT27t2riooKtbW16Q9/%2BIMiIiL0//5/7dxNKHR7HAfw752RZ2yI8bKgh7xMyMsg2dhZGDZjSvJSLLBRxgpZGApFzQaroSjZmFJsJUtKXiIW8hZTpBkvWcwg9b8L95n7DNe9c%2BrcM3Om76fO4pz5T33Pr//p/5szM%2BfnT6Vjq8b29jYqKiqwtLT0r%2BMiZT2LCnUA%2Bp7b7UZ8fDyio6P9xxITE/H6%2BoqnpyckJCQEjM3Ozg54v16vx%2BnpqWJ51URKbbOysgLee3p6iq2tLTQ2NiqWV02k1BYAxsfHYbFYkJOTo3RUVZJSX5fLhaKiIgwODmJjYwOpqano7%2B9HWVlZKKKHPSm1ra2txcbGBpqbm6necE4AAAO6SURBVKHVaqHRaOBwOBAXFxeK6KrQ3Nwc1LhIWc94ByuM%2BXy%2BgAsdgH//7e0tqLGfx9EHKbX93cPDA7q7u1FaWoqqqqr/NaNaSant5uYmdnd30dXVpVg%2BtZNSX6/Xi5mZGSQlJWF2dhbl5eVob2/H7e2tYnnVREptHx8f4Xa7YbPZ4HQ6YTabMTAwgPv7e8XyRqpIWc/YYIWxHz9%2BfJlQv/Z1Ol1QYz%2BPow9SavuLx%2BNBW1sbhBCYmpqCRsPL558EW9uXlxfYbDYMDQ1xnkogZe5qtVrk5eXBarUiPz8fvb29yMjIwOrqqmJ51URKbe12OwwGA1paWlBQUICRkRHExMRgeXlZsbyRKlLWM64QYSwlJQWPj494f3/3H3O73dDpdIiNjf0y1uPxBBzzeDxITk5WJKvaSKktANzd3aGlpQVvb29YWFj48jUX/S3Y2h4eHsLlcsFqtaKkpMT/u5fOzk7YbDbFc6uFlLmblJSEzMzMgGMZGRm8g/UNKbU9Pj5Gbm6uf1%2Bj0SA3Nxc3NzeK5Y1UkbKescEKY3l5eYiKigr4Yd/u7i4KCwu/3D0pLi7G/v4%2BhBAAACEE9vb2UFxcrGhmtZBSW6/Xi46ODmg0GiwuLiIlJUXpuKoSbG2LioqwtraGlZUV/wYAo6Oj6OnpUTy3WkiZu0ajEScnJwHHLi4ukJqaqkhWtZFS2%2BTkZJyfnwccu7y8RFpamiJZI1mkrGdssMJYTEwM6urqMDw8jMPDQ6yvr2Nubg6tra0APj5Zvby8AABMJhOen58xNjaGs7MzjI2NwefzoaamJpSnELak1NbhcOD6%2BhoTExP%2B19xuN/9F%2BI1ga6vT6ZCenh6wAR%2BfXvV6fShPIaxJmbuNjY04OTnB9PQ0rq6uMDk5CZfLBbPZHMpTCFtSatvQ0ACn04mVlRVcXV3Bbrfj5uYGFosllKegWhG5noX0IRH0n7xer%2Bjr6xNGo1FUVlaK%2Bfl5/2sGgyHguSAHBweirq5OFBYWivr6enF8fByCxOoRbG2rq6uFwWD4svX394coefiTMm9/x%2BdgBUdKfXd2doTFYhEFBQXCbDaL7e3tECRWDym1dTqdwmQyCaPRKJqamsTR0VEIEqvT52s9EtezP4T46x4cEREREcmCXxESERERyYwNFhEREZHM2GARERERyYwNFhEREZHM2GARERERyYwNFhEREZHM2GARERERyYwNFhEREZHM2GARERERyYwNFhEREZHM2GARERERyYwNFhEREZHM2GARERERyexPLU8LEMgD/JIAAAAASUVORK5CYII%3D\"/>\n",
       "        </div>\n",
       "        <div role=\"tabpanel\" class=\"tab-pane col-md-12\" id=\"common2314058222102390712\">\n",
       "            \n",
       "<table class=\"freq table table-hover\">\n",
       "    <thead>\n",
       "    <tr>\n",
       "        <td class=\"fillremaining\">Value</td>\n",
       "        <td class=\"number\">Count</td>\n",
       "        <td class=\"number\">Frequency (%)</td>\n",
       "        <td style=\"min-width:200px\">&nbsp;</td>\n",
       "    </tr>\n",
       "    </thead>\n",
       "    <tr class=\"\">\n",
       "        <td class=\"fillremaining\">0</td>\n",
       "        <td class=\"number\">202727</td>\n",
       "        <td class=\"number\">64.0%</td>\n",
       "        <td>\n",
       "            <div class=\"bar\" style=\"width:100%\">&nbsp;</div>\n",
       "        </td>\n",
       "</tr><tr class=\"\">\n",
       "        <td class=\"fillremaining\">1</td>\n",
       "        <td class=\"number\">114073</td>\n",
       "        <td class=\"number\">36.0%</td>\n",
       "        <td>\n",
       "            <div class=\"bar\" style=\"width:56%\">&nbsp;</div>\n",
       "        </td>\n",
       "</tr>\n",
       "</table>\n",
       "        </div>\n",
       "        <div role=\"tabpanel\" class=\"tab-pane col-md-12\"  id=\"extreme2314058222102390712\">\n",
       "            <p class=\"h4\">Minimum 5 values</p>\n",
       "            \n",
       "<table class=\"freq table table-hover\">\n",
       "    <thead>\n",
       "    <tr>\n",
       "        <td class=\"fillremaining\">Value</td>\n",
       "        <td class=\"number\">Count</td>\n",
       "        <td class=\"number\">Frequency (%)</td>\n",
       "        <td style=\"min-width:200px\">&nbsp;</td>\n",
       "    </tr>\n",
       "    </thead>\n",
       "    <tr class=\"\">\n",
       "        <td class=\"fillremaining\">0</td>\n",
       "        <td class=\"number\">202727</td>\n",
       "        <td class=\"number\">64.0%</td>\n",
       "        <td>\n",
       "            <div class=\"bar\" style=\"width:100%\">&nbsp;</div>\n",
       "        </td>\n",
       "</tr><tr class=\"\">\n",
       "        <td class=\"fillremaining\">1</td>\n",
       "        <td class=\"number\">114073</td>\n",
       "        <td class=\"number\">36.0%</td>\n",
       "        <td>\n",
       "            <div class=\"bar\" style=\"width:56%\">&nbsp;</div>\n",
       "        </td>\n",
       "</tr>\n",
       "</table>\n",
       "            <p class=\"h4\">Maximum 5 values</p>\n",
       "            \n",
       "<table class=\"freq table table-hover\">\n",
       "    <thead>\n",
       "    <tr>\n",
       "        <td class=\"fillremaining\">Value</td>\n",
       "        <td class=\"number\">Count</td>\n",
       "        <td class=\"number\">Frequency (%)</td>\n",
       "        <td style=\"min-width:200px\">&nbsp;</td>\n",
       "    </tr>\n",
       "    </thead>\n",
       "    <tr class=\"\">\n",
       "        <td class=\"fillremaining\">0</td>\n",
       "        <td class=\"number\">202727</td>\n",
       "        <td class=\"number\">64.0%</td>\n",
       "        <td>\n",
       "            <div class=\"bar\" style=\"width:100%\">&nbsp;</div>\n",
       "        </td>\n",
       "</tr><tr class=\"\">\n",
       "        <td class=\"fillremaining\">1</td>\n",
       "        <td class=\"number\">114073</td>\n",
       "        <td class=\"number\">36.0%</td>\n",
       "        <td>\n",
       "            <div class=\"bar\" style=\"width:56%\">&nbsp;</div>\n",
       "        </td>\n",
       "</tr>\n",
       "</table>\n",
       "        </div>\n",
       "    </div>\n",
       "</div>\n",
       "</div><div class=\"row variablerow\">\n",
       "    <div class=\"col-md-3 namecol\">\n",
       "        <p class=\"h4\">timestamp<br/>\n",
       "            <small>Categorical</small>\n",
       "        </p>\n",
       "    </div><div class=\"col-md-3\">\n",
       "    <table class=\"stats \">\n",
       "        <tr class=\"alert\">\n",
       "            <th>Distinct count</th>\n",
       "            <td>140931</td>\n",
       "        </tr>\n",
       "        <tr>\n",
       "            <th>Unique (%)</th>\n",
       "            <td>44.5%</td>\n",
       "        </tr>\n",
       "        <tr class=\"ignore\">\n",
       "            <th>Missing (%)</th>\n",
       "            <td>0.0%</td>\n",
       "        </tr>\n",
       "        <tr class=\"ignore\">\n",
       "            <th>Missing (n)</th>\n",
       "            <td>0</td>\n",
       "        </tr>\n",
       "    </table>\n",
       "</div>\n",
       "<div class=\"col-md-6 collapse in\" id=\"minifreqtable1020477123525792329\">\n",
       "    <table class=\"mini freq\">\n",
       "        <tr class=\"\">\n",
       "    <th>2015-04-12 11:51:16</th>\n",
       "    <td>\n",
       "        <div class=\"bar\" style=\"width:1%\" data-toggle=\"tooltip\" data-placement=\"right\" data-html=\"true\"\n",
       "             data-delay=500 title=\"Percentage: 0.0%\">\n",
       "            &nbsp;\n",
       "        </div>\n",
       "        12\n",
       "    </td>\n",
       "</tr><tr class=\"\">\n",
       "    <th>2015-05-25 07:27:08</th>\n",
       "    <td>\n",
       "        <div class=\"bar\" style=\"width:1%\" data-toggle=\"tooltip\" data-placement=\"right\" data-html=\"true\"\n",
       "             data-delay=500 title=\"Percentage: 0.0%\">\n",
       "            &nbsp;\n",
       "        </div>\n",
       "        11\n",
       "    </td>\n",
       "</tr><tr class=\"\">\n",
       "    <th>2015-04-04 17:38:26</th>\n",
       "    <td>\n",
       "        <div class=\"bar\" style=\"width:1%\" data-toggle=\"tooltip\" data-placement=\"right\" data-html=\"true\"\n",
       "             data-delay=500 title=\"Percentage: 0.0%\">\n",
       "            &nbsp;\n",
       "        </div>\n",
       "        11\n",
       "    </td>\n",
       "</tr><tr class=\"other\">\n",
       "    <th>Other values (140928)</th>\n",
       "    <td>\n",
       "        <div class=\"bar\" style=\"width:100%\" data-toggle=\"tooltip\" data-placement=\"right\" data-html=\"true\"\n",
       "             data-delay=500 title=\"Percentage: 100.0%\">\n",
       "            316766\n",
       "        </div>\n",
       "        \n",
       "    </td>\n",
       "</tr>\n",
       "    </table>\n",
       "</div>\n",
       "<div class=\"col-md-12 text-right\">\n",
       "    <a role=\"button\" data-toggle=\"collapse\" data-target=\"#freqtable1020477123525792329, #minifreqtable1020477123525792329\"\n",
       "       aria-expanded=\"true\" aria-controls=\"collapseExample\">\n",
       "        Toggle details\n",
       "    </a>\n",
       "</div>\n",
       "<div class=\"col-md-12 extrapadding collapse\" id=\"freqtable1020477123525792329\">\n",
       "    \n",
       "<table class=\"freq table table-hover\">\n",
       "    <thead>\n",
       "    <tr>\n",
       "        <td class=\"fillremaining\">Value</td>\n",
       "        <td class=\"number\">Count</td>\n",
       "        <td class=\"number\">Frequency (%)</td>\n",
       "        <td style=\"min-width:200px\">&nbsp;</td>\n",
       "    </tr>\n",
       "    </thead>\n",
       "    <tr class=\"\">\n",
       "        <td class=\"fillremaining\">2015-04-12 11:51:16</td>\n",
       "        <td class=\"number\">12</td>\n",
       "        <td class=\"number\">0.0%</td>\n",
       "        <td>\n",
       "            <div class=\"bar\" style=\"width:1%\">&nbsp;</div>\n",
       "        </td>\n",
       "</tr><tr class=\"\">\n",
       "        <td class=\"fillremaining\">2015-05-25 07:27:08</td>\n",
       "        <td class=\"number\">11</td>\n",
       "        <td class=\"number\">0.0%</td>\n",
       "        <td>\n",
       "            <div class=\"bar\" style=\"width:1%\">&nbsp;</div>\n",
       "        </td>\n",
       "</tr><tr class=\"\">\n",
       "        <td class=\"fillremaining\">2015-04-04 17:38:26</td>\n",
       "        <td class=\"number\">11</td>\n",
       "        <td class=\"number\">0.0%</td>\n",
       "        <td>\n",
       "            <div class=\"bar\" style=\"width:1%\">&nbsp;</div>\n",
       "        </td>\n",
       "</tr><tr class=\"\">\n",
       "        <td class=\"fillremaining\">2015-04-10 08:29:07</td>\n",
       "        <td class=\"number\">11</td>\n",
       "        <td class=\"number\">0.0%</td>\n",
       "        <td>\n",
       "            <div class=\"bar\" style=\"width:1%\">&nbsp;</div>\n",
       "        </td>\n",
       "</tr><tr class=\"\">\n",
       "        <td class=\"fillremaining\">2015-05-29 10:07:09</td>\n",
       "        <td class=\"number\">10</td>\n",
       "        <td class=\"number\">0.0%</td>\n",
       "        <td>\n",
       "            <div class=\"bar\" style=\"width:1%\">&nbsp;</div>\n",
       "        </td>\n",
       "</tr><tr class=\"\">\n",
       "        <td class=\"fillremaining\">2015-03-06 12:23:20</td>\n",
       "        <td class=\"number\">10</td>\n",
       "        <td class=\"number\">0.0%</td>\n",
       "        <td>\n",
       "            <div class=\"bar\" style=\"width:1%\">&nbsp;</div>\n",
       "        </td>\n",
       "</tr><tr class=\"\">\n",
       "        <td class=\"fillremaining\">2015-03-21 18:19:19</td>\n",
       "        <td class=\"number\">10</td>\n",
       "        <td class=\"number\">0.0%</td>\n",
       "        <td>\n",
       "            <div class=\"bar\" style=\"width:1%\">&nbsp;</div>\n",
       "        </td>\n",
       "</tr><tr class=\"\">\n",
       "        <td class=\"fillremaining\">2015-05-14 16:41:42</td>\n",
       "        <td class=\"number\">10</td>\n",
       "        <td class=\"number\">0.0%</td>\n",
       "        <td>\n",
       "            <div class=\"bar\" style=\"width:1%\">&nbsp;</div>\n",
       "        </td>\n",
       "</tr><tr class=\"\">\n",
       "        <td class=\"fillremaining\">2015-05-01 08:20:45</td>\n",
       "        <td class=\"number\">10</td>\n",
       "        <td class=\"number\">0.0%</td>\n",
       "        <td>\n",
       "            <div class=\"bar\" style=\"width:1%\">&nbsp;</div>\n",
       "        </td>\n",
       "</tr><tr class=\"\">\n",
       "        <td class=\"fillremaining\">2015-03-26 11:59:06</td>\n",
       "        <td class=\"number\">10</td>\n",
       "        <td class=\"number\">0.0%</td>\n",
       "        <td>\n",
       "            <div class=\"bar\" style=\"width:1%\">&nbsp;</div>\n",
       "        </td>\n",
       "</tr><tr class=\"other\">\n",
       "        <td class=\"fillremaining\">Other values (140921)</td>\n",
       "        <td class=\"number\">316695</td>\n",
       "        <td class=\"number\">100.0%</td>\n",
       "        <td>\n",
       "            <div class=\"bar\" style=\"width:100%\">&nbsp;</div>\n",
       "        </td>\n",
       "</tr>\n",
       "</table>\n",
       "</div>\n",
       "</div><div class=\"row variablerow\">\n",
       "    <div class=\"col-md-3 namecol\">\n",
       "        <p class=\"h4\">user_id<br/>\n",
       "            <small>Numeric</small>\n",
       "        </p>\n",
       "    </div><div class=\"col-md-6\">\n",
       "    <div class=\"row\">\n",
       "        <div class=\"col-sm-6\">\n",
       "            <table class=\"stats \">\n",
       "                <tr>\n",
       "                    <th>Distinct count</th>\n",
       "                    <td>316800</td>\n",
       "                </tr>\n",
       "                <tr>\n",
       "                    <th>Unique (%)</th>\n",
       "                    <td>100.0%</td>\n",
       "                </tr>\n",
       "                <tr class=\"ignore\">\n",
       "                    <th>Missing (%)</th>\n",
       "                    <td>0.0%</td>\n",
       "                </tr>\n",
       "                <tr class=\"ignore\">\n",
       "                    <th>Missing (n)</th>\n",
       "                    <td>0</td>\n",
       "                </tr>\n",
       "                <tr class=\"ignore\">\n",
       "                    <th>Infinite (%)</th>\n",
       "                    <td>0.0%</td>\n",
       "                </tr>\n",
       "                <tr class=\"ignore\">\n",
       "                    <th>Infinite (n)</th>\n",
       "                    <td>0</td>\n",
       "                </tr>\n",
       "            </table>\n",
       "\n",
       "        </div>\n",
       "        <div class=\"col-sm-6\">\n",
       "            <table class=\"stats \">\n",
       "\n",
       "                <tr>\n",
       "                    <th>Mean</th>\n",
       "                    <td>499280</td>\n",
       "                </tr>\n",
       "                <tr>\n",
       "                    <th>Minimum</th>\n",
       "                    <td>3</td>\n",
       "                </tr>\n",
       "                <tr>\n",
       "                    <th>Maximum</th>\n",
       "                    <td>1000000</td>\n",
       "                </tr>\n",
       "                <tr class=\"ignore\">\n",
       "                    <th>Zeros (%)</th>\n",
       "                    <td>0.0%</td>\n",
       "                </tr>\n",
       "            </table>\n",
       "        </div>\n",
       "    </div>\n",
       "</div>\n",
       "<div class=\"col-md-3 collapse in\" id=\"minihistogram7309639220342486308\">\n",
       "    <img src=\"data:image/png;base64,iVBORw0KGgoAAAANSUhEUgAAAMgAAABLCAYAAAA1fMjoAAAABHNCSVQICAgIfAhkiAAAAAlwSFlzAAAPYQAAD2EBqD%2BnaQAAAQxJREFUeJzt1sEJAjEQQFFXLMki7MmzPVmEPY13kQ8qsou%2Bdw9MID/JMjOzA57arz0AbNlh7QEeHc/Xl9fcLqcvTPK5X9rLv1q29sV651DxO7Z2QfhiQRAIBIFAEAgEgUAQCASBQBAIBIFAEAgEgUAQCASBQBAIBIFAEAgEgUAQCASBQBAIBIFAEAgEgUAQCASBQBAIBIFAEAgEgUAQCASBQBAIBIFAEAgEgUAQCASBQBAIBIFAEAgEgUAQCASBQBAIBIFAWGZm1h4CtsoLAkEgEAQCQSAQBAJBIBAEAkEgEAQCQSAQBAJBIBAEAkEgEAQCQSAQBAJBIBAEAkEgEAQCQSAQBAJBIBAEAuEOy3AViu/HeHkAAAAASUVORK5CYII%3D\">\n",
       "\n",
       "</div>\n",
       "<div class=\"col-md-12 text-right\">\n",
       "    <a role=\"button\" data-toggle=\"collapse\" data-target=\"#descriptives7309639220342486308,#minihistogram7309639220342486308\"\n",
       "       aria-expanded=\"false\" aria-controls=\"collapseExample\">\n",
       "        Toggle details\n",
       "    </a>\n",
       "</div>\n",
       "<div class=\"row collapse col-md-12\" id=\"descriptives7309639220342486308\">\n",
       "    <ul class=\"nav nav-tabs\" role=\"tablist\">\n",
       "        <li role=\"presentation\" class=\"active\"><a href=\"#quantiles7309639220342486308\"\n",
       "                                                  aria-controls=\"quantiles7309639220342486308\" role=\"tab\"\n",
       "                                                  data-toggle=\"tab\">Statistics</a></li>\n",
       "        <li role=\"presentation\"><a href=\"#histogram7309639220342486308\" aria-controls=\"histogram7309639220342486308\"\n",
       "                                   role=\"tab\" data-toggle=\"tab\">Histogram</a></li>\n",
       "        <li role=\"presentation\"><a href=\"#common7309639220342486308\" aria-controls=\"common7309639220342486308\"\n",
       "                                   role=\"tab\" data-toggle=\"tab\">Common Values</a></li>\n",
       "        <li role=\"presentation\"><a href=\"#extreme7309639220342486308\" aria-controls=\"extreme7309639220342486308\"\n",
       "                                   role=\"tab\" data-toggle=\"tab\">Extreme Values</a></li>\n",
       "\n",
       "    </ul>\n",
       "\n",
       "    <div class=\"tab-content\">\n",
       "        <div role=\"tabpanel\" class=\"tab-pane active row\" id=\"quantiles7309639220342486308\">\n",
       "            <div class=\"col-md-4 col-md-offset-1\">\n",
       "                <p class=\"h4\">Quantile statistics</p>\n",
       "                <table class=\"stats indent\">\n",
       "                    <tr>\n",
       "                        <th>Minimum</th>\n",
       "                        <td>3</td>\n",
       "                    </tr>\n",
       "                    <tr>\n",
       "                        <th>5-th percentile</th>\n",
       "                        <td>49739</td>\n",
       "                    </tr>\n",
       "                    <tr>\n",
       "                        <th>Q1</th>\n",
       "                        <td>249530</td>\n",
       "                    </tr>\n",
       "                    <tr>\n",
       "                        <th>Median</th>\n",
       "                        <td>499020</td>\n",
       "                    </tr>\n",
       "                    <tr>\n",
       "                        <th>Q3</th>\n",
       "                        <td>749030</td>\n",
       "                    </tr>\n",
       "                    <tr>\n",
       "                        <th>95-th percentile</th>\n",
       "                        <td>949730</td>\n",
       "                    </tr>\n",
       "                    <tr>\n",
       "                        <th>Maximum</th>\n",
       "                        <td>1000000</td>\n",
       "                    </tr>\n",
       "                    <tr>\n",
       "                        <th>Range</th>\n",
       "                        <td>999997</td>\n",
       "                    </tr>\n",
       "                    <tr>\n",
       "                        <th>Interquartile range</th>\n",
       "                        <td>499500</td>\n",
       "                    </tr>\n",
       "                </table>\n",
       "            </div>\n",
       "            <div class=\"col-md-4 col-md-offset-2\">\n",
       "                <p class=\"h4\">Descriptive statistics</p>\n",
       "                <table class=\"stats indent\">\n",
       "                    <tr>\n",
       "                        <th>Standard deviation</th>\n",
       "                        <td>288590</td>\n",
       "                    </tr>\n",
       "                    <tr>\n",
       "                        <th>Coef of variation</th>\n",
       "                        <td>0.57801</td>\n",
       "                    </tr>\n",
       "                    <tr>\n",
       "                        <th>Kurtosis</th>\n",
       "                        <td>-1.1988</td>\n",
       "                    </tr>\n",
       "                    <tr>\n",
       "                        <th>Mean</th>\n",
       "                        <td>499280</td>\n",
       "                    </tr>\n",
       "                    <tr>\n",
       "                        <th>MAD</th>\n",
       "                        <td>249870</td>\n",
       "                    </tr>\n",
       "                    <tr class=\"\">\n",
       "                        <th>Skewness</th>\n",
       "                        <td>0.0014772</td>\n",
       "                    </tr>\n",
       "                    <tr>\n",
       "                        <th>Sum</th>\n",
       "                        <td>158172329095</td>\n",
       "                    </tr>\n",
       "                    <tr>\n",
       "                        <th>Variance</th>\n",
       "                        <td>83285000000</td>\n",
       "                    </tr>\n",
       "                    <tr>\n",
       "                        <th>Memory size</th>\n",
       "                        <td>2.4 MiB</td>\n",
       "                    </tr>\n",
       "                </table>\n",
       "            </div>\n",
       "        </div>\n",
       "        <div role=\"tabpanel\" class=\"tab-pane col-md-8 col-md-offset-2\" id=\"histogram7309639220342486308\">\n",
       "            <img src=\"data:image/png;base64,iVBORw0KGgoAAAANSUhEUgAAAlgAAAGQCAYAAAByNR6YAAAABHNCSVQICAgIfAhkiAAAAAlwSFlzAAAPYQAAD2EBqD%2BnaQAAIABJREFUeJzt3W10VOW99/FfwjTJAE2TkITbgksqlRJCSMakgEpYJ1SQA1iQVDilHkD0YA/BHFtLlVAhPEhaUsGHYDUCJioFFlBp5bSg9FhaigiGzgTEaACFSBoyOU1WBIYZJtn3C2733RGQKFfIA9/PWvNiX/%2BZa1/zH5bzc%2B%2BdPWGWZVkCAACAMeFtvQAAAIDOhoAFAABgGAELAADAMAIWAACAYQQsAAAAwwhYAAAAhhGwAAAADCNgAQAAGEbAAgAAMIyABQAAYBgBCwAAwDACFgAAgGEELAAAAMMIWAAAAIYRsAAAAAwjYAEAABhGwAIAADCMgAUAAGAYAQsAAMAwAhYAAIBhBCwAAADDCFgAAACGEbAAAAAMI2ABAAAYRsACAAAwjIAFAABgGAELAADAMAIWAACAYQQsAAAAwwhYAAAAhhGwAAAADCNgAQAAGEbAAgAAMIyABQAAYBgBCwAAwDACFgAAgGEELAAAAMMIWAAAAIYRsAAAAAxztPUCrhVe7yfG5wwPD1NcXDf94x%2Bn1dxsGZ//WkZvWw%2B9bV30t/XQ29bTmr1NSPiq0flaiiNYHVh4eJjCwsIUHh7W1kvpdOht66G3rYv%2Bth5623o6Y28JWAAAAIYRsAAAAAwjYAEAABhGwAIAADCMgAUAAGAYAQsAAMAwAhYAAIBhBCwAAADDCFgAAACGEbAAAAAMI2ABAAAYRsACAAAwjIAFAABgmKOtF4ArkzFvW1svocX%2B8NBtbb0EAACuCgIWgKuuI/2PgcT/HAD44ghYuGr%2B9cm/tvUSvpB3Hh/d1kv4Qjpaf9F6OlqARevhfw7aDgELuAS%2BpPApwiuAL4qL3AEAAAzjCBYAAJ1URzr62tEuy7gcjmABAAAYRsACAAAwjIAFAABgGAELAADAMAIWAACAYQQsAAAAwwhYAAAAhrXbgHXs2DHdd999crlc%2Bpd/%2BRetWrXKrlVVVWn69OlKS0vTmDFjtGvXrpDX7t69W%2BPGjVNqaqqmTp2qqqqqkHpJSYkyMzPlcrmUl5cnn89n1/x%2Bv/Ly8pSRkaFhw4ZpzZo1rftGAQBAp9MuA1Zzc7Nmzpyp2NhYvfrqq1q4cKF%2B9atf6bXXXpNlWcrJyVF8fLw2b96s8ePHa/bs2aqurpYkVVdXKycnRxMnTtSmTZsUFxenWbNmybIsSdL27dtVVFSkRYsWqbS0VB6PR4WFhfa%2Bly1bpoMHD6q0tFQLFixQUVGRtm3jJ1MAAEDLtcs7udfV1SkpKUn5%2Bfnq3r27%2BvTpo1tuuUVlZWWKj49XVVWV1q9fr65du6pv37566623tHnzZj344IPauHGjBg4cqBkzZkiSCgoKdNttt2nv3r0aMmSIXnrpJU2bNk1ZWVmSpIULF%2Bq%2B%2B%2B7TnDlzZFmWNm7cqBdeeEHJyclKTk5WZWWl1q5dq9GjO9cdZgEAQOtpl0ewEhMT9eSTT6p79%2B6yLEtlZWXat2%2BfBg8eLI/HowEDBqhr167289PT0%2BV2uyVJHo9HGRkZds3pdCo5OVlut1tNTU06cOBASD0tLU3nzp1TRUWFKioqFAwG5XK5Qub2eDxqbm6%2BCu8cAAB0Bu3yCNY/GzFihKqrq5WVlaU77rhDS5cuVWJiYshzevTooZqaGkmS1%2Bu9ZL2xsVF%2Bvz%2Bk7nA4FBMTo5qaGoWHhys2NlYRERF2PT4%2BXn6/Xw0NDYqLi2vRmmtra%2BX1ekPGHI6uF6zrSnXp0i7zMQAAX0pn%2Bl5r9wHr6aefVl1dnfLz81VQUCCfzxcSgCQpIiJCgUBAkj63fvbsWXv7YnXLsi5ak2TP3xIbNmxQUVFRyFhOTo5yc3NbPAcAANea6GhnWy/BmHYfsFJSUiSd/%2Bu%2Bn/zkJ8rOzg75qz/pfPiJioqSJEVGRl4QhgKBgKKjoxUZGWlvf7budDrV1NR00Zoke/6WmDx5skaMGBEy5nB0VX396RbP0RKdKekDANDY6FNTk9lLcmJjuxmdr6XaZcCqq6uT2%2B3W7bffbo9985vf1Llz55SQkKCjR49e8PxPT7/17NlTdXV1F9STkpIUExOjyMhI1dXVqW/fvpKkYDCohoYGJSQkyLIs1dfXKxgMyuE43xqv16uoqChFR0e3eP2JiYkXnA70ej9RMMh1XAAAXEpTU3On%2Ba5sl4dAPv74Y82ePVsnT560xw4ePKi4uDilp6fr3XfftU/3SVJZWZlSU1MlSampqSorK7NrPp9Phw4dUmpqqsLDw5WSkhJSd7vdcjgc6t%2B/v5KSkuRwOOwL5j%2BdOyUlReHh7bJVAACgHWqXqSElJUXJycnKy8vT4cOHtXPnThUWFuqHP/yhBg8erOuuu05z585VZWWliouLVV5eru9973uSpOzsbO3fv1/FxcWqrKzU3Llz1bt3bw0ZMkSSNGXKFK1evVo7duxQeXm58vPzNWnSJDmdTjmdTk2YMEH5%2BfkqLy/Xjh07tGbNGk2dOrUt2wEAADqYMOvTO3C2MydPntTixYv11ltvyel06p577tEDDzygsLAwHTt2TPPmzZPH49ENN9ygvLw83XrrrfZrd%2B7cqaVLl6qmpkYul0uLFy/W9ddfb9eLi4tVUlKiQCCgUaNGacGCBfb1WT6fT/n5%2BXr99dfVvXt33XfffZo%2BffoVvx%2Bv95MrnuOzHI5wjfzlX4zPCwDA1fbO46NVX3/a%2BCnChISvGp2vpdptwOpsCFgAAFxaZwtY7fIUIQAAQEdGwAIAADCMgAUAAGAYAQsAAMAwAhYAAIBhBCwAAADDCFgAAACGEbAAAAAMI2ABAAAYRsACAAAwjIAFAABgGAELAADAMAIWAACAYQQsAAAAwwhYAAAAhhGwAAAADCNgAQAAGEbAAgAAMIyABQAAYBgBCwAAwDACFgAAgGEELAAAAMMIWAAAAIYRsAAAAAwjYAEAABhGwAIAADCMgAUAAGAYAQsAAMAwAhYAAIBhBCwAAADDCFgAAACGEbAAAAAMI2ABAAAYRsACAAAwjIAFAABgWLsNWCdPnlRubq4GDx6szMxMFRQUyO/3S5KWLFmib33rWyGPV155xX7t7t27NW7cOKWmpmrq1KmqqqoKmbukpESZmZlyuVzKy8uTz%2Beza36/X3l5ecrIyNCwYcO0Zs2aq/OGAQBAp9EuA5ZlWcrNzZXP59PatWu1YsUKvfnmm3ryySclSUeOHNHDDz%2BsXbt22Y/s7GxJUnV1tXJycjRx4kRt2rRJcXFxmjVrlizLkiRt375dRUVFWrRokUpLS%2BXxeFRYWGjve9myZTp48KBKS0u1YMECFRUVadu2bVe/CQAAoMNqlwHr6NGjcrvdKigo0E033aSMjAzl5uZq69atks4HrAEDBighIcF%2BOJ1OSdLGjRs1cOBAzZgxQzfddJMKCgp04sQJ7d27V5L00ksvadq0acrKytKgQYO0cOFCbd68WT6fT2fOnNHGjRs1b948JScna%2BTIkbr//vu1du3aNusFAADoeNplwEpISNCqVasUHx8fMn7q1CmdOnVKJ0%2BeVJ8%2BfS76Wo/Ho4yMDHvb6XQqOTlZbrdbTU1NOnDgQEg9LS1N586dU0VFhSoqKhQMBuVyuex6enq6PB6Pmpubzb5JAADQabXLgBUdHa3MzEx7u7m5Wa%2B88oqGDh2qI0eOKCwsTM8995yGDx%2Bu7373u3r11Vft53q9XiUmJobM16NHD9XU1KixsVF%2Bvz%2Bk7nA4FBMTo5qaGnm9XsXGxioiIsKux8fHy%2B/3q6GhoRXfMQAA6Ewcbb2AligsLNShQ4e0adMmvfvuuwoLC9ONN96oe%2B65R/v27dNjjz2m7t27a%2BTIkfL5fCEBSZIiIiIUCAR09uxZe/tidcuyLlqTpEAg0OL11tbWyuv1how5HF0vCH5XqkuXdpmPAQD4UjrT91q7D1iFhYUqLS3VihUr1K9fP910003KyspSTEyMJKl///766KOPtG7dOo0cOVKRkZEXhKFAIKDo6GhFRkba25%2BtO51ONTU1XbQmSVFRUS1e84YNG1RUVBQylpOTo9zc3BbPAQDAtSY62tnWSzCmXQesxYsXa926dSosLNQdd9whSQoLC7PD1aduvPFG7dmzR5LUs2dP1dXVhdTr6uqUlJSkmJgYRUZGqq6uTn379pUkBYNBNTQ0KCEhQZZlqb6%2BXsFgUA7H%2BdZ4vV5FRUUpOjq6xeuePHmyRowYETLmcHRVff3pL9aAy%2BhMSR8AgMZGn5qazF7zHBvbzeh8LdVuA1ZRUZHWr1%2Bv5cuXa/To0fb4U089pb/97W8qKSmxxyoqKnTjjTdKklJTU1VWVmbXfD6fDh06pNmzZys8PFwpKSkqKyvTkCFDJElut1sOh0P9%2B/eXdP6aLLfbbV8IX1ZWppSUFIWHtzzMJCYmXnA60Ov9RMEgF8oDAHApTU3Nnea7sl0eAjly5IieffZZ/cd//IfS09Pl9XrtR1ZWlvbt26fVq1fr%2BPHj%2BvWvf60tW7ZoxowZkqTs7Gzt379fxcXFqqys1Ny5c9W7d287UE2ZMkWrV6/Wjh07VF5ervz8fE2aNElOp1NOp1MTJkxQfn6%2BysvLtWPHDq1Zs0ZTp05ty3YAAIAOJsz69A6c7UhxcbGeeOKJi9bef/997dixQ08//bQ%2B%2Bugj9erVSz/60Y80atQo%2Bzk7d%2B7U0qVLVVNTI5fLpcWLF%2Bv6668Pmb%2BkpESBQECjRo3SggUL7OuzfD6f8vPz9frrr6t79%2B667777NH369Ct%2BT17vJ1c8x2c5HOEa%2Bcu/GJ8XAICr7Z3HR6u%2B/rTxI1gJCV81Ol9LtcuA1RkRsAAAuLTOFrDa5SlCAACAjoyABQAAYBgBCwAAwDACFgAAgGEELAAAAMMIWAAAAIYRsAAAAAwjYAEAABhGwAIAADCMgAUAAGAYAQsAAMAwAhYAAIBhBCwAAADDCFgAAACGEbAAAAAMI2ABAAAYRsACAAAwjIAFAABgGAELAADAMAIWAACAYQQsAAAAwwhYAAAAhhGwAAAADCNgAQAAGEbAAgAAMIyABQAAYBgBCwAAwDACFgAAgGEELAAAAMMIWAAAAIYRsAAAAAwjYAEAABhGwAIAADCMgAUAAGAYAQsAAMAwAhYAAIBh7TZgnTx5Urm5uRo8eLAyMzNVUFAgv98vSaqqqtL06dOVlpamMWPGaNeuXSGv3b17t8aNG6fU1FRNnTpVVVVVIfWSkhJlZmbK5XIpLy9PPp/Prvn9fuXl5SkjI0PDhg3TmjVrWv/NAgCATqVdBizLspSbmyufz6e1a9dqxYoVevPNN/Xkk0/Ksizl5OQoPj5emzdv1vjx4zV79mxVV1dLkqqrq5WTk6OJEydq06ZNiouL06xZs2RZliRp%2B/btKioq0qJFi1RaWiqPx6PCwkJ738uWLdPBgwdVWlqqBQsWqKioSNu2bWuTPgAAgI7J0dYLuJijR4/K7Xbrr3/9q%2BLj4yVJubm5%2BsUvfqHhw4erqqpK69evV9euXdW3b1%2B99dZb2rx5sx588EFt3LhRAwcO1IwZMyRJBQUFuu2227R3714NGTJEL730kqZNm6asrCxJ0sKFC3Xfffdpzpw5sixLGzdu1AsvvKDk5GQlJyersrJSa9eu1ejRo9usHwAAoGNpl0ewEhIStGrVKjtcferUqVPyeDwaMGCAunbtao%2Bnp6fL7XZLkjwejzIyMuya0%2BlUcnKy3G63mpqadODAgZB6Wlqazp07p4qKClVUVCgYDMrlcoXM7fF41Nzc3FpvFwAAdDLGA9bdd9%2Bt9evX65NPPvnSc0RHRyszM9Pebm5u1iuvvKKhQ4fK6/UqMTEx5Pk9evRQTU2NJH1uvbGxUX6/P6TucDgUExOjmpoaeb1excbGKiIiwq7Hx8fL7/eroaHhS78fAABwbTF%2BinDo0KF67rnnVFBQoO985zuaOHGibrvtNoWFhX3pOQsLC3Xo0CFt2rRJJSUlIQFIkiIiIhQIBCRJPp/vkvWzZ8/a2xerW5Z10Zoke/6WqK2tldfrDRlzOLpeEPyuVJcu7fIAJAAAX0pn%2Bl4zHrAefvhh/fjHP9bu3bu1ZcsWPfjgg4qOjtaECRM0YcIEfeMb3/hC8xUWFqq0tFQrVqxQv379FBkZecHRpEAgoKioKElSZGTkBWEoEAgoOjpakZGR9vZn606nU01NTRetSbLnb4kNGzaoqKgoZCwnJ0e5ubktngMAgGtNdLSzrZdgTKtc5B4WFqbbbrtNt912m3w%2Bn15%2B%2BWU9%2B%2ByzKi4u1s0336xp06Zp1KhRl51n8eLFWrdunQoLC3XHHXdIknr27KnDhw%2BHPK%2Burs4%2BOtSzZ0/V1dVdUE9KSlJMTIwiIyNVV1envn37SpKCwaAaGhqUkJAgy7JUX1%2BvYDAoh%2BN8a7xer6KiohQdHd3i9z958mSNGDEiZMzh6Kr6%2BtMtnqMlOlPSBwCgsdGnpiaz1zzHxnYzOl9LtdpfEdbW1up3v/udfve73%2BmDDz7QzTffrLvuuks1NTX62c9%2Bpn379mnevHmXfH1RUZHWr1%2Bv5cuXh/wFX2pqqoqLi3X27Fn7qFJZWZnS09PtellZmf18n8%2BnQ4cOafbs2QoPD1dKSorKyso0ZMgQSZLb7ZbD4VD//v0lnb8my%2B122xfCl5WVKSUlReHhLQ8ziYmJF5wO9Ho/UTDIhfIAAFxKU1Nzp/muNB6wfvvb3%2Bq3v/2t3n77bcXFxWnChAl6%2Bumn1adPH/s51113nR5//PFLBqwjR47o2Wef1cyZM5Wenh5yPdPgwYN13XXXae7cuZo1a5befPNNlZeXq6CgQJKUnZ2t1atXq7i4WFlZWVq5cqV69%2B5tB6opU6Zo/vz56tevnxITE5Wfn69JkybJ6Tx/WHLChAnKz8/X0qVLVVtbqzVr1thzAwAAtESY9ekdOA0ZOHCgsrKylJ2dreHDh1/0yM/%2B/fv15ptv6uGHH77oHMXFxXriiScuWnv//fd17NgxzZs3Tx6PRzfccIPy8vJ066232s/ZuXOnli5dqpqaGrlcLi1evFjXX399yPwlJSUKBAIaNWqUFixYYF%2Bf5fP5lJ%2Bfr9dff13du3fXfffdp%2BnTp19BR87zer/8X1VeisMRrpG//IvxeQEAuNreeXy06utPGz%2BClZDwVaPztZTxgPWPf/xDsbGxamhoUGxsrCSpvLxcycnJ6tKli8lddSgELAAALq2zBSzjV0mfOnVKo0eP1gsvvGCPzZw5U%2BPHj9ff//5307sDAABod4wHrKVLl%2BqGG27Qvffea4/9/ve/13XXXce1TAAA4JpgPGC98847evTRR5WQkGCPxcXF6ac//an27NljencAAADtjvGA5XA41NjYeMG4z%2BeT4cu9AAAA2iXjAWv48OFasmSJjh8/bo9VVVWpoKAg5PcFAQAAOivj98F65JFHdO%2B99%2BqOO%2B6w737e2Nio5ORkzZ071/TuAAAA2h3jAatHjx569dVXtXv3blVWVsrhcOib3/ymbrnlliv6wWcAAICOolV%2BKqdLly7KzMzklCAAALgmGQ9YXq9XTz75pPbv369z585dcGH7H//4R9O7BAAAaFeMB6zHHntMBw8e1NixY/XVr7bN3VMBAADakvGAtWfPHq1atUoZGRmmpwYAAOgQjN%2BmoWvXrurRo4fpaQEAADoM4wFr/PjxWrVqlZqamkxPDQAA0CEYP0XY0NCgrVu36k9/%2BpOuv/56RUREhNRfeukl07sEAABoV1rlNg3jxo1rjWkBAAA6BOMBq6CgwPSUAAAAHYrxa7Akqba2VkVFRXr44Yf1v//7v9q2bZuOHj3aGrsCAABod4wHrGPHjunOO%2B/Uq6%2B%2Bqu3bt%2BvMmTP6/e9/r%2BzsbHk8HtO7AwAAaHeMB6yf//znuv3227Vjxw595StfkSQtX75cI0aM0C9/%2BUvTuwMAAGh3jAes/fv369577w35YWeHw6FZs2bp0KFDpncHAADQ7hgPWM3NzWpubr5g/PTp0%2BrSpYvp3QEAALQ7xgPWsGHD9Pzzz4eErIaGBhUWFmro0KGmdwcAANDuGA9Yjz76qA4ePKhhw4bJ7/frP//zP5WVlaWPP/5YjzzyiOndAQAAtDvG74PVs2dPbdmyRVu3btV7772n5uZmff/739f48ePVvXt307sDAABod1rlTu5Op1N33313a0wNAADQ7hkPWFOnTv3cOr9FCAAAOjvjAatXr14h28FgUMeOHdMHH3ygadOmmd4dAABAu3PVfotw5cqVqqmpMb07AACAdqdVfovwYsaPH68//OEPV2t3AAAAbeaqBay//e1v3GgUAABcE67KRe6nTp3S%2B%2B%2B/rylTppjeHQAAQLtjPGB9/etfD/kdQkn6yle%2BonvuuUff/e53Te8OAACg3TEesH7%2B85%2BbnhIAAKBDMR6w9u3b1%2BLnfvvb3za9ewAAgDZnPGD9%2B7//u32K0LIse/yzY2FhYXrvvfdM7x4AAKDNGQ9Yzz33nJYsWaI5c%2BZo8ODBioiI0IEDB7Ro0SLdddddGjNmjOldAgAAtCvGb9NQUFCg%2BfPn64477lBsbKy6deumoUOHatGiRVq3bp169eplP1oiEAho3Lhxevvtt%2B2xJUuW6Fvf%2BlbI45VXXrHru3fv1rhx45SamqqpU6eqqqoqZM6SkhJlZmbK5XIpLy9PPp/Prvn9fuXl5SkjI0PDhg3TmjVrrrAjAADgWmM8YNXW1l40PHXv3l319fVfaC6/368f//jHqqysDBk/cuSIHn74Ye3atct%2BZGdnS5Kqq6uVk5OjiRMnatOmTYqLi9OsWbPsU5Pbt29XUVGRFi1apNLSUnk8HhUWFtpzL1u2TAcPHlRpaakWLFigoqIibdu27Yu2AQAAXMOMB6y0tDQtX75cp06dsscaGhpUWFioW265pcXzHD58WJMmTdLx48cvqB05ckQDBgxQQkKC/XA6nZKkjRs3auDAgZoxY4ZuuukmFRQU6MSJE9q7d6%2Bk8z82PW3aNGVlZWnQoEFauHChNm/eLJ/PpzNnzmjjxo2aN2%2BekpOTNXLkSN1///1au3btFXYFAABcS4wHrJ/97Gdyu90aPny4Jk6cqLvuuktZWVmqqqrS/PnzWzzP3r17NWTIEG3YsCFk/NSpUzp58qT69Olz0dd5PB5lZGTY206nU8nJyXK73WpqatKBAwdC6mlpaTp37pwqKipUUVGhYDAol8tl19PT0%2BXxeNTc3NzitQMAgGub8Yvc%2B/btq9///vfaunWrjhw5Ikn6wQ9%2BoLFjx9pHmVriUnd9P3LkiMLCwvTcc8/pz3/%2Bs2JiYnTvvffqrrvukiR5vV4lJiaGvKZHjx6qqalRY2Oj/H5/SN3hcCgmJkY1NTUKDw9XbGysIiIi7Hp8fLz8fr8aGhoUFxfX4vUDAIBrl/GAJUlf%2B9rXdPfdd%2Bvjjz/W9ddfL%2Bn83dxNOHr0qMLCwnTjjTfqnnvu0b59%2B/TYY4%2Bpe/fuGjlypHw%2BX0hAkqSIiAgFAgGdPXvW3r5Y3bKsi9ak8xfbt1Rtba28Xm/ImMPR9YLgd6W6dLlqPyUJAECr60zfa8YDlmVZeuKJJ/Tyyy/r3Llz2r59u1asWCGn06n8/PwrDloTJkxQVlaWYmJiJEn9%2B/fXRx99pHXr1mnkyJGKjIy8IAwFAgFFR0crMjLS3v5s3el0qqmp6aI1SYqKimrxGjds2KCioqKQsZycHOXm5rZ4DgAArjXR0S0/09XeGQ9YL7/8sn77299qwYIFWrRokSTp9ttv18KFCxUfH68f/ehHVzR/WFiYHa4%2BdeONN2rPnj2SpJ49e6quri6kXldXp6SkJMXExCgyMlJ1dXXq27evJCkYDKqhoUEJCQmyLEv19fUKBoNyOM63xuv1KioqStHR0S1e4%2BTJkzVixIiQMYejq%2BrrT3/h9/t5OlPSBwCgsdGnpiaz1zzHxnYzOl9LGf%2BG3rBhg%2BbPn6%2BJEyfad28fM2aMlixZotdee%2B2K53/qqac0ffr0kLGKigrdeOONkqTU1FSVlZXZNZ/Pp0OHDik1NVXh4eFKSUkJqbvdbjkcDvXv319JSUlyOBxyu912vaysTCkpKQoPb3mrEhMTlZycHPKIi4tXMNhs9GH6HyEAAG2pqcns92Qw2Hbfk8YD1scff6ykpKQLxvv373/BdUlfRlZWlvbt26fVq1fr%2BPHj%2BvWvf60tW7ZoxowZkqTs7Gzt379fxcXFqqys1Ny5c9W7d28NGTJE0vmL51evXq0dO3aovLxc%2Bfn5mjRpkpxOp5xOpyZMmKD8/HyVl5drx44dWrNmjaZOnXrF6wYAANcO46cIe/XqpQMHDqh3794h43/%2B85/tC96vxKBBg/TUU0/p6aef1lNPPaVevXrpiSeesG%2Bt0Lt3bz3zzDNaunSpVq5cKZfLpZUrV9pH08aOHasTJ05o/vz5CgQCGjVqlObMmWPPP3fuXOXn52vatGnq3r27HnzwQY0aNeqK1w0AAK4dYdY//yKzAZs3b1ZhYaFmzZql5cuXKy8vT8ePH9fLL7%2BsRx99VN///vdN7q7D8Ho/MT6nwxGukb/8i/F5AQC42t55fLTq608bP62XkPBVo/O1lPEjWNnZ2QoGg/rVr36ls2fPav78%2BYqLi9NDDz10zYYrAABwbTEesLZu3arRo0dr8uTJ%2Bsc//iHLstSjRw/TuwEAAGi3jF/kvmjRIvti9ri4OMIVAAC45hgPWH369NEHH3xgeloAAIAOw/gpwv79%2B%2BsnP/mJVq1apT59%2Bth3T/9UQUGB6V0CAAC0K8YD1ocffqj09HRJMnLfKwAAgI7GSMBatmyZZs%2Bera5du%2Brll182MSUAAECHZeQarBdffFE%2Bny9kbObMmaqtrTUxPQAAQIdiJGBd7F6l%2B/btk9/vNzE9AABAh2L8rwgBAACudQQsAAAAw4wFrE9/TBkAAOBaZ%2Bw2DUuWLAm559W5c%2BdUWFiobt26hTyP%2B2ABAIDOzkjA%2Bva3v33BPa%2B1pFyxAAAV0UlEQVRcLpfq6%2BtVX19vYhcAAAAdhpGAxb2vAAAA/j8ucgcAADCMgAUAAGAYAQsAAMAwAhYAAIBhBCwAAADDCFgAAACGEbAAAAAMI2ABAAAYRsACAAAwjIAFAABgGAELAADAMAIWAACAYQQsAAAAwwhYAAAAhhGwAAAADCNgAQAAGEbAAgAAMIyABQAAYBgBCwAAwDACFgAAgGEELAAAAMPafcAKBAIaN26c3n77bXusqqpK06dPV1pamsaMGaNdu3aFvGb37t0aN26cUlNTNXXqVFVVVYXUS0pKlJmZKZfLpby8PPl8Prvm9/uVl5enjIwMDRs2TGvWrGndNwgAADqddh2w/H6/fvzjH6uystIesyxLOTk5io%2BP1%2BbNmzV%2B/HjNnj1b1dXVkqTq6mrl5ORo4sSJ2rRpk%2BLi4jRr1ixZliVJ2r59u4qKirRo0SKVlpbK4/GosLDQnn/ZsmU6ePCgSktLtWDBAhUVFWnbtm1X940DAIAOrd0GrMOHD2vSpEk6fvx4yPiePXtUVVWlRYsWqW/fvnrggQeUlpamzZs3S5I2btyogQMHasaMGbrppptUUFCgEydOaO/evZKkl156SdOmTVNWVpYGDRqkhQsXavPmzfL5fDpz5ow2btyoefPmKTk5WSNHjtT999%2BvtWvXXvX3DwAAOq52G7D27t2rIUOGaMOGDSHjHo9HAwYMUNeuXe2x9PR0ud1uu56RkWHXnE6nkpOT5Xa71dTUpAMHDoTU09LSdO7cOVVUVKiiokLBYFAulytkbo/Ho%2Bbm5tZ6qwAAoJNxtPUCLmXKlCkXHfd6vUpMTAwZ69Gjh2pqai5bb2xslN/vD6k7HA7FxMSopqZG4eHhio2NVUREhF2Pj4%2BX3%2B9XQ0OD4uLiWrT22tpaeb3ekDGHo%2BsF67pSXbq023wMAMAX1pm%2B19ptwLoUn88XEoAkKSIiQoFA4LL1s2fP2tsXq1uWddGaJHv%2BltiwYYOKiopCxnJycpSbm9viOQAAuNZERzvbegnGdLiAFRkZqYaGhpCxQCCgqKgou/7ZMBQIBBQdHa3IyEh7%2B7N1p9Oppqami9Yk2fO3xOTJkzVixIiQMYejq%2BrrT7d4jpboTEkfAIDGRp%2BamsxekhMb283ofC3V4QJWz549dfjw4ZCxuro6%2B/Rbz549VVdXd0E9KSlJMTExioyMVF1dnfr27StJCgaDamhoUEJCgizLUn19vYLBoByO863xer2KiopSdHR0i9eYmJh4welAr/cTBYNcxwUAwKU0NTV3mu/KDncIJDU1Ve%2B%2B%2B659uk%2BSysrKlJqaatfLysrsms/n06FDh5Samqrw8HClpKSE1N1utxwOh/r376%2BkpCQ5HA77gvlP505JSVF4eIdrFQAAaCMdLjUMHjxY1113nebOnavKykoVFxervLxc3/ve9yRJ2dnZ2r9/v4qLi1VZWam5c%2Beqd%2B/eGjJkiKTzF8%2BvXr1aO3bsUHl5ufLz8zVp0iQ5nU45nU5NmDBB%2Bfn5Ki8v144dO7RmzRpNnTq1Ld8yAADoYDrcKcIuXbro2Wef1bx58zRx4kTdcMMNWrlypb7%2B9a9Lknr37q1nnnlGS5cu1cqVK%2BVyubRy5UqFhYVJksaOHasTJ05o/vz5CgQCGjVqlObMmWPPP3fuXOXn52vatGnq3r27HnzwQY0aNapN3isAAOiYwqxPb3GOVuX1fmJ8TocjXCN/%2BRfj8wIAcLW98/ho1defNn4NVkLCV43O11Id7hQhAABAe0fAAgAAMIyABQAAYBgBCwAAwDACFgAAgGEELAAAAMMIWAAAAIYRsAAAAAwjYAEAABhGwAIAADCMgAUAAGAYAQsAAMAwAhYAAIBhBCwAAADDCFgAAACGEbAAAAAMI2ABAAAYRsACAAAwjIAFAABgGAELAADAMAIWAACAYQQsAAAAwwhYAAAAhhGwAAAADCNgAQAAGEbAAgAAMIyABQAAYBgBCwAAwDACFgAAgGEELAAAAMMIWAAAAIYRsAAAAAwjYAEAABhGwAIAADCMgAUAAGAYAQsAAMCwDhuw3njjDX3rW98KeeTm5kqSqqqqNH36dKWlpWnMmDHatWtXyGt3796tcePGKTU1VVOnTlVVVVVIvaSkRJmZmXK5XMrLy5PP57tq7wsAAHR8HTZgHT58WFlZWdq1a5f9WLJkiSzLUk5OjuLj47V582aNHz9es2fPVnV1tSSpurpaOTk5mjhxojZt2qS4uDjNmjVLlmVJkrZv366ioiItWrRIpaWl8ng8KiwsbMu3CgAAOpgOG7COHDmifv36KSEhwX5ER0drz549qqqq0qJFi9S3b1898MADSktL0%2BbNmyVJGzdu1MCBAzVjxgzddNNNKigo0IkTJ7R3715J0ksvvaRp06YpKytLgwYN0sKFC7V582aOYgEAgBbr0AGrT58%2BF4x7PB4NGDBAXbt2tcfS09PldrvtekZGhl1zOp1KTk6W2%2B1WU1OTDhw4EFJPS0vTuXPnVFFR0XpvBgAAdCqOtl7Al2FZlj788EPt2rVLzz//vJqamjR69Gjl5ubK6/UqMTEx5Pk9evRQTU2NJH1uvbGxUX6/P6TucDgUExNjv74lamtr5fV6Q8Ycjq4X7PdKdenSYfMxAAAX6Ezfax0yYFVXV8vn8ykiIkJPPvmkPv74Yy1ZskRnz561x/9ZRESEAoGAJH1u/ezZs/b2pV7fEhs2bFBRUVHIWE5Ojn0RPgAAuFB0tLOtl2BMhwxYvXr10ttvv62vfe1rCgsLU1JSkpqbmzVnzhzdddddF1wvFQgEFBUVJUmKjIy8ICwFAgFFR0crMjLS3v5s3els%2BYc%2BefJkjRgxImTM4eiq%2BvrTLZ6jJTpT0gcAoLHRp6amZqNzxsZ2MzpfS3XIgCVJMTExIdt9%2B/aV3%2B9XQkKCjh49GlKrq6uzT8/17NlTdXV1F9STkpIUExOjyMhI1dXVqW/fvpKkYDCohoYGJSQktHhtiYmJF5wO9Ho/UTBo9h8NAACdSVNTc6f5ruyQh0D%2B8pe/aMiQISFHqt577z3FxMQoPT1d7777rn26T5LKysqUmpoqSUpNTVVZWZld8/l8OnTokFJTUxUeHq6UlJSQutvtlsPhUP/%2B/a/COwMAAJ1BhwxYLpdLkZGR%2BtnPfqajR49q586dWrZsme6//34NHjxY1113nebOnavKykoVFxervLxc3/ve9yRJ2dnZ2r9/v4qLi1VZWam5c%2Beqd%2B/eGjJkiCRpypQpWr16tXbs2KHy8nLl5%2Bdr0qRJX%2BgUIQAAuLaFWZ/eYbODqays1NKlS%2BV2u9WtWzf927/9m3JychQWFqZjx45p3rx58ng8uuGGG5SXl6dbb73Vfu3OnTu1dOlS1dTUyOVyafHixbr%2B%2BuvtenFxsUpKShQIBDRq1CgtWLDAvj7ry/J6P7mi11%2BMwxGukb/8i/F5AQC42t55fLTq608bP0WYkPBVo/O1VIcNWB0NAQsAgEvrbAGrQ54iBAAAaM8IWAAAAIYRsAAAAAwjYAEAABhGwAIAADCMgAUAAGAYAQsAAMAwAhYAAIBhBCwAAADDCFgAAACGEbAAAAAMI2ABAAAYRsACAAAwjIAFAABgGAELAADAMAIWAACAYQQsAAAAwwhYAAAAhhGwAAAADCNgAQAAGEbAAgAAMIyABQAAYBgBCwAAwDACFgAAgGEELAAAAMMIWAAAAIYRsAAAAAwjYAEAABhGwAIAADCMgAUAAGAYAQsAAMAwAhYAAIBhBCwAAADDCFgAAACGEbAAAAAMI2ABAAAYRsC6CL/fr7y8PGVkZGjYsGFas2ZNWy8JAAB0II62XkB7tGzZMh08eFClpaWqrq7WI488oq9//esaPXp0Wy8NAAB0AASszzhz5ow2btyoF154QcnJyUpOTlZlZaXWrl1LwAIAAC3CKcLPqKioUDAYlMvlssfS09Pl8XjU3NzchisDAAAdBUewPsPr9So2NlYRERH2WHx8vPx%2BvxoaGhQXF3fZOWpra%2BX1ekPGHI6uSkxMNLrWLl3IxwCAzqMzfa8RsD7D5/OFhCtJ9nYgEGjRHBs2bFBRUVHI2OzZs/Xggw%2BaWeT/U1tbq2n/p1KTJ082Ht6udbW1tdqwYQO9bQX0tnXR39ZDb1tPbW2tnnnmmU7V284TFQ2JjIy8IEh9uh0VFdWiOSZPnqzf/OY3IY/JkycbX6vX61VRUdEFR8tw5eht66G3rYv%2Bth5623o6Y285gvUZPXv2VH19vYLBoByO8%2B3xer2KiopSdHR0i%2BZITEzsNAkcAAB8cRzB%2BoykpCQ5HA653W57rKysTCkpKQoPp10AAODySAyf4XQ6NWHCBOXn56u8vFw7duzQmjVrNHXq1LZeGgAA6CC65Ofn57f1ItqboUOH6tChQ3riiSf01ltv6Yc//KGys7PbelkX1a1bNw0ePFjdunVr66V0OvS29dDb1kV/Ww%2B9bT2drbdhlmVZbb0IAACAzoRThAAAAIYRsAAAAAwjYAEAABhGwAIAADCMgAUAAGAYAQsAAMAwAhYAAIBhBCwAAADDCFgdlN/vV15enjIyMjRs2DCtWbOmrZfUZk6ePKnc3FwNHjxYmZmZKigokN/vlyRVVVVp%2BvTpSktL05gxY7Rr166Q1%2B7evVvjxo1Tamqqpk6dqqqqqpB6SUmJMjMz5XK5lJeXJ5/PZ9cu9xlcbt8dzcyZM/Xoo4/a2/T2ygUCAS1cuFDf/va3deutt2r58uX69N7P9PfK/P3vf9cDDzygm2%2B%2BWSNGjFBJSYldo7dfXiAQ0Lhx4/T222/bY%2B25n5fbd6uy0CEtWrTIuvPOO62DBw9ar7/%2BuuVyuaw//OEPbb2sq665udmaNGmSdf/991sffPCBtW/fPmvkyJHWz3/%2Bc6u5udm68847rYcfftg6fPiw9dxzz1mpqanWiRMnLMuyrBMnTlhpaWnW6tWrrQ8%2B%2BMD6r//6L2vcuHFWc3OzZVmWtW3bNis9Pd36n//5H8vj8VhjxoyxFi5caO/78z6Dy%2B27o9m6davVr18/65FHHrEs6/Lvj962zGOPPWaNGjXK8ng81u7du60hQ4ZY69ato78GTJo0yXrooYesDz/80HrjjTes1NRU6/XXX6e3V%2BDs2bNWTk6O1a9fP2vPnj2WZbXv/xZcbt%2BtjYDVAZ0%2BfdpKSUmx/4FblmWtXLnSuueee9pwVW3j8OHDVr9%2B/Syv12uPvfbaa9awYcOs3bt3W2lpadbp06ft2rRp06ynn37asizLevLJJ0N6dubMGcvlctl9nTJliv1cy7Ksffv2WYMGDbLOnDlz2c/gcvvuSOrr663hw4db2dnZdsCit1euvr7eGjBggPX222/bY88//7z16KOP0t8r1NDQYPXr1896//337bHZs2dbCxcupLdfUmVlpfXd737XuvPOO0MCVnvu5%2BX23do4RdgBVVRUKBgMyuVy2WPp6enyeDxqbm5uw5VdfQkJCVq1apXi4%2BNDxk%2BdOiWPx6MBAwaoa9eu9nh6errcbrckyePxKCMjw645nU4lJyfL7XarqalJBw4cCKmnpaXp3LlzqqiouOxncLl9dyS/%2BMUvNH78eH3zm9%2B0x%2BjtlSsrK1P37t01ePBge2zmzJkqKCigv1coKipKTqdTv/nNb3Tu3DkdPXpU%2B/fvV1JSEr39kvbu3ashQ4Zow4YNIePtuZ%2Bft%2B%2BrgYDVAXm9XsXGxioiIsIei4%2BPl9/vV0NDQxuu7OqLjo5WZmamvd3c3KxXXnlFQ4cOldfrVWJiYsjze/TooZqaGkn63HpjY6P8fn9I3eFwKCYmRjU1NZf9DC63747irbfe0jvvvKNZs2aFjNPbK1dVVaVevXppy5YtGj16tL7zne9o5cqVam5upr9XKDIyUvPnz9eGDRuUmpqqf/3Xf9Xw4cN1991309svacqUKcrLy5PT6QwZb8/9bOt%2BO67KXmCUz%2BcL%2BQcnyd4OBAJtsaR2o7CwUIcOHdKmTZtUUlJy0T592qNL9TEQCOjs2bP29sXqlmV97mfweXN3FH6/XwsWLND8%2BfMVFRUVUrvc%2B6O3l3fmzBkdO3ZM69evV0FBgbxer%2BbPny%2Bn00l/DThy5IiysrJ07733qrKyUosXL9Ytt9xCbw1rz/1s634TsDqgyMjIC/6BfLr92S/Ca0lhYaFKS0u1YsUK9evXT5GRkRcc0QsEAnaPLtXH6OhoRUZG2tufrTudTjU1NX3uZ3C5fXcERUVFGjhwYMgRwk/R2yvncDh06tQpPfHEE%2BrVq5ckqbq6WuvWrdOtt95Kf6/AW2%2B9pU2bNmnnzp2KiopSSkqKTp48qV/96lcaOnQovTWoPf%2B34PP2fTVwirAD6tmzp%2Brr6xUMBu0xr9erqKioq/YPp71ZvHixXnzxRRUWFuqOO%2B6QdL5PdXV1Ic%2Brq6uzDxlfqp6QkKCYmBhFRkaG1IPBoBoaGpSQkHDZz%2BBy%2B%2B4I/vu//1s7duyQy%2BWSy%2BXSa6%2B9ptdee00ul4veGpCQkKDIyEg7XEnSN77xDf3973%2Bnv1fo4MGDuuGGG0KCy4ABA1RdXU1vDWvP/fy8fV8NBKwOKCkpSQ6HI%2BRCvbKyMqWkpCg8/Nr7SIuKirR%2B/XotX75cY8eOtcdTU1P17rvv2oehpfN9Sk1NtetlZWV2zefz6dChQ0pNTVV4eLhSUlJC6m63Ww6HQ/3797/sZ3C5fXcEL7/8sl577TVt2bJFW7Zs0YgRIzRixAht2bKF3hqQmpoqv9%2BvDz/80B47evSoevXqRX%2BvUGJioo4dOxZy9OLo0aPq3bs3vTWsPffz8/Z9VVyVv1WEcY899pg1duxYy%2BPxWG%2B88YZ18803W9u3b2/rZV11hw8ftpKSkqwVK1ZYtbW1IY9gMGiNGTPGeuihh6wPPvjAev755620tDT7HilVVVVWSkqK9fzzz9v3SLnzzjvte6Rs3brVuvnmm6033njD8ng81tixY63Fixfb%2B/68z%2BBy%2B%2B6IHnnkEfs2DfTWjJkzZ1qTJ0%2B23nvvPevPf/6zNXToUKu0tJT%2BXqHGxkbrtttus%2BbMmWMdPXrU%2BuMf/2gNHjzYWrduHb014J9v09Ce%2B3m5fbc2AlYHdebMGeunP/2plZaWZg0bNsx68cUX23pJbeL555%2B3%2BvXrd9GHZVnWRx99ZP3gBz%2BwBg4caI0dO9b661//GvL6P/3pT9aoUaOsQYMGWdOmTbOOHz9%2Bwfy33HKLlZ6ebs2dO9c6e/asXbvcZ3C5fXc0/xywLIvemtDY2GjNmTPHSktLs2655RbrmWeesf/jT3%2BvTGVlpTV9%2BnTr5ptvtm6//XbrxRdfpLeG/HPAsqz23c/L7bs1hVnW//tdBgAAABhx7V2wAwAA0MoIWAAAAIYRsAAAAAwjYAEAABhGwAIAADCMgAUAAGAYAQsAAMAwAhYAAIBhBCwAAADDCFgAAACGEbAAAAAMI2ABAAAYRsACAAAw7P8CoLzdbPbGJgIAAAAASUVORK5CYII%3D\"/>\n",
       "        </div>\n",
       "        <div role=\"tabpanel\" class=\"tab-pane col-md-12\" id=\"common7309639220342486308\">\n",
       "            \n",
       "<table class=\"freq table table-hover\">\n",
       "    <thead>\n",
       "    <tr>\n",
       "        <td class=\"fillremaining\">Value</td>\n",
       "        <td class=\"number\">Count</td>\n",
       "        <td class=\"number\">Frequency (%)</td>\n",
       "        <td style=\"min-width:200px\">&nbsp;</td>\n",
       "    </tr>\n",
       "    </thead>\n",
       "    <tr class=\"\">\n",
       "        <td class=\"fillremaining\">2047</td>\n",
       "        <td class=\"number\">1</td>\n",
       "        <td class=\"number\">0.0%</td>\n",
       "        <td>\n",
       "            <div class=\"bar\" style=\"width:1%\">&nbsp;</div>\n",
       "        </td>\n",
       "</tr><tr class=\"\">\n",
       "        <td class=\"fillremaining\">338394</td>\n",
       "        <td class=\"number\">1</td>\n",
       "        <td class=\"number\">0.0%</td>\n",
       "        <td>\n",
       "            <div class=\"bar\" style=\"width:1%\">&nbsp;</div>\n",
       "        </td>\n",
       "</tr><tr class=\"\">\n",
       "        <td class=\"fillremaining\">465846</td>\n",
       "        <td class=\"number\">1</td>\n",
       "        <td class=\"number\">0.0%</td>\n",
       "        <td>\n",
       "            <div class=\"bar\" style=\"width:1%\">&nbsp;</div>\n",
       "        </td>\n",
       "</tr><tr class=\"\">\n",
       "        <td class=\"fillremaining\">407572</td>\n",
       "        <td class=\"number\">1</td>\n",
       "        <td class=\"number\">0.0%</td>\n",
       "        <td>\n",
       "            <div class=\"bar\" style=\"width:1%\">&nbsp;</div>\n",
       "        </td>\n",
       "</tr><tr class=\"\">\n",
       "        <td class=\"fillremaining\">753429</td>\n",
       "        <td class=\"number\">1</td>\n",
       "        <td class=\"number\">0.0%</td>\n",
       "        <td>\n",
       "            <div class=\"bar\" style=\"width:1%\">&nbsp;</div>\n",
       "        </td>\n",
       "</tr><tr class=\"\">\n",
       "        <td class=\"fillremaining\">490426</td>\n",
       "        <td class=\"number\">1</td>\n",
       "        <td class=\"number\">0.0%</td>\n",
       "        <td>\n",
       "            <div class=\"bar\" style=\"width:1%\">&nbsp;</div>\n",
       "        </td>\n",
       "</tr><tr class=\"\">\n",
       "        <td class=\"fillremaining\">482238</td>\n",
       "        <td class=\"number\">1</td>\n",
       "        <td class=\"number\">0.0%</td>\n",
       "        <td>\n",
       "            <div class=\"bar\" style=\"width:1%\">&nbsp;</div>\n",
       "        </td>\n",
       "</tr><tr class=\"\">\n",
       "        <td class=\"fillremaining\">310210</td>\n",
       "        <td class=\"number\">1</td>\n",
       "        <td class=\"number\">0.0%</td>\n",
       "        <td>\n",
       "            <div class=\"bar\" style=\"width:1%\">&nbsp;</div>\n",
       "        </td>\n",
       "</tr><tr class=\"\">\n",
       "        <td class=\"fillremaining\">308163</td>\n",
       "        <td class=\"number\">1</td>\n",
       "        <td class=\"number\">0.0%</td>\n",
       "        <td>\n",
       "            <div class=\"bar\" style=\"width:1%\">&nbsp;</div>\n",
       "        </td>\n",
       "</tr><tr class=\"\">\n",
       "        <td class=\"fillremaining\">609605</td>\n",
       "        <td class=\"number\">1</td>\n",
       "        <td class=\"number\">0.0%</td>\n",
       "        <td>\n",
       "            <div class=\"bar\" style=\"width:1%\">&nbsp;</div>\n",
       "        </td>\n",
       "</tr><tr class=\"other\">\n",
       "        <td class=\"fillremaining\">Other values (316790)</td>\n",
       "        <td class=\"number\">316790</td>\n",
       "        <td class=\"number\">100.0%</td>\n",
       "        <td>\n",
       "            <div class=\"bar\" style=\"width:100%\">&nbsp;</div>\n",
       "        </td>\n",
       "</tr>\n",
       "</table>\n",
       "        </div>\n",
       "        <div role=\"tabpanel\" class=\"tab-pane col-md-12\"  id=\"extreme7309639220342486308\">\n",
       "            <p class=\"h4\">Minimum 5 values</p>\n",
       "            \n",
       "<table class=\"freq table table-hover\">\n",
       "    <thead>\n",
       "    <tr>\n",
       "        <td class=\"fillremaining\">Value</td>\n",
       "        <td class=\"number\">Count</td>\n",
       "        <td class=\"number\">Frequency (%)</td>\n",
       "        <td style=\"min-width:200px\">&nbsp;</td>\n",
       "    </tr>\n",
       "    </thead>\n",
       "    <tr class=\"\">\n",
       "        <td class=\"fillremaining\">3</td>\n",
       "        <td class=\"number\">1</td>\n",
       "        <td class=\"number\">0.0%</td>\n",
       "        <td>\n",
       "            <div class=\"bar\" style=\"width:100%\">&nbsp;</div>\n",
       "        </td>\n",
       "</tr><tr class=\"\">\n",
       "        <td class=\"fillremaining\">9</td>\n",
       "        <td class=\"number\">1</td>\n",
       "        <td class=\"number\">0.0%</td>\n",
       "        <td>\n",
       "            <div class=\"bar\" style=\"width:100%\">&nbsp;</div>\n",
       "        </td>\n",
       "</tr><tr class=\"\">\n",
       "        <td class=\"fillremaining\">14</td>\n",
       "        <td class=\"number\">1</td>\n",
       "        <td class=\"number\">0.0%</td>\n",
       "        <td>\n",
       "            <div class=\"bar\" style=\"width:100%\">&nbsp;</div>\n",
       "        </td>\n",
       "</tr><tr class=\"\">\n",
       "        <td class=\"fillremaining\">16</td>\n",
       "        <td class=\"number\">1</td>\n",
       "        <td class=\"number\">0.0%</td>\n",
       "        <td>\n",
       "            <div class=\"bar\" style=\"width:100%\">&nbsp;</div>\n",
       "        </td>\n",
       "</tr><tr class=\"\">\n",
       "        <td class=\"fillremaining\">19</td>\n",
       "        <td class=\"number\">1</td>\n",
       "        <td class=\"number\">0.0%</td>\n",
       "        <td>\n",
       "            <div class=\"bar\" style=\"width:100%\">&nbsp;</div>\n",
       "        </td>\n",
       "</tr>\n",
       "</table>\n",
       "            <p class=\"h4\">Maximum 5 values</p>\n",
       "            \n",
       "<table class=\"freq table table-hover\">\n",
       "    <thead>\n",
       "    <tr>\n",
       "        <td class=\"fillremaining\">Value</td>\n",
       "        <td class=\"number\">Count</td>\n",
       "        <td class=\"number\">Frequency (%)</td>\n",
       "        <td style=\"min-width:200px\">&nbsp;</td>\n",
       "    </tr>\n",
       "    </thead>\n",
       "    <tr class=\"\">\n",
       "        <td class=\"fillremaining\">999993</td>\n",
       "        <td class=\"number\">1</td>\n",
       "        <td class=\"number\">0.0%</td>\n",
       "        <td>\n",
       "            <div class=\"bar\" style=\"width:100%\">&nbsp;</div>\n",
       "        </td>\n",
       "</tr><tr class=\"\">\n",
       "        <td class=\"fillremaining\">999995</td>\n",
       "        <td class=\"number\">1</td>\n",
       "        <td class=\"number\">0.0%</td>\n",
       "        <td>\n",
       "            <div class=\"bar\" style=\"width:100%\">&nbsp;</div>\n",
       "        </td>\n",
       "</tr><tr class=\"\">\n",
       "        <td class=\"fillremaining\">999997</td>\n",
       "        <td class=\"number\">1</td>\n",
       "        <td class=\"number\">0.0%</td>\n",
       "        <td>\n",
       "            <div class=\"bar\" style=\"width:100%\">&nbsp;</div>\n",
       "        </td>\n",
       "</tr><tr class=\"\">\n",
       "        <td class=\"fillremaining\">999999</td>\n",
       "        <td class=\"number\">1</td>\n",
       "        <td class=\"number\">0.0%</td>\n",
       "        <td>\n",
       "            <div class=\"bar\" style=\"width:100%\">&nbsp;</div>\n",
       "        </td>\n",
       "</tr><tr class=\"\">\n",
       "        <td class=\"fillremaining\">1000000</td>\n",
       "        <td class=\"number\">1</td>\n",
       "        <td class=\"number\">0.0%</td>\n",
       "        <td>\n",
       "            <div class=\"bar\" style=\"width:100%\">&nbsp;</div>\n",
       "        </td>\n",
       "</tr>\n",
       "</table>\n",
       "        </div>\n",
       "    </div>\n",
       "</div>\n",
       "</div>\n",
       "    <div class=\"row headerrow highlight\">\n",
       "        <h1>Sample</h1>\n",
       "    </div>\n",
       "    <div class=\"row variablerow\">\n",
       "    <div class=\"col-md-12\" style=\"overflow:scroll; width: 100%%; overflow-y: hidden;\">\n",
       "        <table border=\"1\" class=\"dataframe sample\">\n",
       "  <thead>\n",
       "    <tr style=\"text-align: right;\">\n",
       "      <th></th>\n",
       "      <th>user_id</th>\n",
       "      <th>timestamp</th>\n",
       "      <th>source</th>\n",
       "      <th>device</th>\n",
       "      <th>operative_system</th>\n",
       "      <th>test</th>\n",
       "      <th>price</th>\n",
       "      <th>converted</th>\n",
       "    </tr>\n",
       "  </thead>\n",
       "  <tbody>\n",
       "    <tr>\n",
       "      <th>0</th>\n",
       "      <td>604839</td>\n",
       "      <td>2015-05-08 03:38:34</td>\n",
       "      <td>ads_facebook</td>\n",
       "      <td>mobile</td>\n",
       "      <td>iOS</td>\n",
       "      <td>0</td>\n",
       "      <td>39</td>\n",
       "      <td>0</td>\n",
       "    </tr>\n",
       "    <tr>\n",
       "      <th>1</th>\n",
       "      <td>624057</td>\n",
       "      <td>2015-05-10 21:08:46</td>\n",
       "      <td>seo-google</td>\n",
       "      <td>mobile</td>\n",
       "      <td>android</td>\n",
       "      <td>0</td>\n",
       "      <td>39</td>\n",
       "      <td>0</td>\n",
       "    </tr>\n",
       "    <tr>\n",
       "      <th>2</th>\n",
       "      <td>317970</td>\n",
       "      <td>2015-04-04 15:01:23</td>\n",
       "      <td>ads-bing</td>\n",
       "      <td>mobile</td>\n",
       "      <td>android</td>\n",
       "      <td>0</td>\n",
       "      <td>39</td>\n",
       "      <td>0</td>\n",
       "    </tr>\n",
       "    <tr>\n",
       "      <th>3</th>\n",
       "      <td>685636</td>\n",
       "      <td>2015-05-07 07:26:01</td>\n",
       "      <td>direct_traffic</td>\n",
       "      <td>mobile</td>\n",
       "      <td>iOS</td>\n",
       "      <td>1</td>\n",
       "      <td>59</td>\n",
       "      <td>0</td>\n",
       "    </tr>\n",
       "    <tr>\n",
       "      <th>4</th>\n",
       "      <td>820854</td>\n",
       "      <td>2015-05-24 11:04:40</td>\n",
       "      <td>ads_facebook</td>\n",
       "      <td>web</td>\n",
       "      <td>mac</td>\n",
       "      <td>0</td>\n",
       "      <td>39</td>\n",
       "      <td>0</td>\n",
       "    </tr>\n",
       "  </tbody>\n",
       "</table>\n",
       "    </div>\n",
       "</div>\n",
       "</div>"
      ],
      "text/plain": [
       "<pandas_profiling.ProfileReport at 0x10f4739d0>"
      ]
     },
     "execution_count": 8,
     "metadata": {},
     "output_type": "execute_result"
    }
   ],
   "source": [
    "pandas_profiling.ProfileReport(test_result)"
   ]
  },
  {
   "cell_type": "code",
   "execution_count": 17,
   "metadata": {
    "collapsed": false
   },
   "outputs": [
    {
     "data": {
      "text/html": [
       "<div>\n",
       "<table border=\"1\" class=\"dataframe\">\n",
       "  <thead>\n",
       "    <tr style=\"text-align: right;\">\n",
       "      <th></th>\n",
       "      <th>user_id</th>\n",
       "      <th>timestamp</th>\n",
       "      <th>source</th>\n",
       "      <th>device</th>\n",
       "      <th>operative_system</th>\n",
       "      <th>test</th>\n",
       "      <th>price</th>\n",
       "      <th>converted</th>\n",
       "    </tr>\n",
       "  </thead>\n",
       "  <tbody>\n",
       "    <tr>\n",
       "      <th>count</th>\n",
       "      <td>316800.000000</td>\n",
       "      <td>316800</td>\n",
       "      <td>316800</td>\n",
       "      <td>316800</td>\n",
       "      <td>316800</td>\n",
       "      <td>316800.000000</td>\n",
       "      <td>316800.000000</td>\n",
       "      <td>316800.000000</td>\n",
       "    </tr>\n",
       "    <tr>\n",
       "      <th>unique</th>\n",
       "      <td>NaN</td>\n",
       "      <td>140931</td>\n",
       "      <td>12</td>\n",
       "      <td>2</td>\n",
       "      <td>6</td>\n",
       "      <td>NaN</td>\n",
       "      <td>NaN</td>\n",
       "      <td>NaN</td>\n",
       "    </tr>\n",
       "    <tr>\n",
       "      <th>top</th>\n",
       "      <td>NaN</td>\n",
       "      <td>2015-04-12 11:51:16</td>\n",
       "      <td>direct_traffic</td>\n",
       "      <td>mobile</td>\n",
       "      <td>windows</td>\n",
       "      <td>NaN</td>\n",
       "      <td>NaN</td>\n",
       "      <td>NaN</td>\n",
       "    </tr>\n",
       "    <tr>\n",
       "      <th>freq</th>\n",
       "      <td>NaN</td>\n",
       "      <td>12</td>\n",
       "      <td>60357</td>\n",
       "      <td>186471</td>\n",
       "      <td>100976</td>\n",
       "      <td>NaN</td>\n",
       "      <td>NaN</td>\n",
       "      <td>NaN</td>\n",
       "    </tr>\n",
       "    <tr>\n",
       "      <th>mean</th>\n",
       "      <td>499281.341840</td>\n",
       "      <td>NaN</td>\n",
       "      <td>NaN</td>\n",
       "      <td>NaN</td>\n",
       "      <td>NaN</td>\n",
       "      <td>0.360079</td>\n",
       "      <td>46.205051</td>\n",
       "      <td>0.018333</td>\n",
       "    </tr>\n",
       "    <tr>\n",
       "      <th>std</th>\n",
       "      <td>288591.154044</td>\n",
       "      <td>NaN</td>\n",
       "      <td>NaN</td>\n",
       "      <td>NaN</td>\n",
       "      <td>NaN</td>\n",
       "      <td>0.480024</td>\n",
       "      <td>9.601487</td>\n",
       "      <td>0.134154</td>\n",
       "    </tr>\n",
       "    <tr>\n",
       "      <th>min</th>\n",
       "      <td>3.000000</td>\n",
       "      <td>NaN</td>\n",
       "      <td>NaN</td>\n",
       "      <td>NaN</td>\n",
       "      <td>NaN</td>\n",
       "      <td>0.000000</td>\n",
       "      <td>39.000000</td>\n",
       "      <td>0.000000</td>\n",
       "    </tr>\n",
       "    <tr>\n",
       "      <th>25%</th>\n",
       "      <td>249525.750000</td>\n",
       "      <td>NaN</td>\n",
       "      <td>NaN</td>\n",
       "      <td>NaN</td>\n",
       "      <td>NaN</td>\n",
       "      <td>0.000000</td>\n",
       "      <td>39.000000</td>\n",
       "      <td>0.000000</td>\n",
       "    </tr>\n",
       "    <tr>\n",
       "      <th>50%</th>\n",
       "      <td>499021.500000</td>\n",
       "      <td>NaN</td>\n",
       "      <td>NaN</td>\n",
       "      <td>NaN</td>\n",
       "      <td>NaN</td>\n",
       "      <td>0.000000</td>\n",
       "      <td>39.000000</td>\n",
       "      <td>0.000000</td>\n",
       "    </tr>\n",
       "    <tr>\n",
       "      <th>75%</th>\n",
       "      <td>749025.500000</td>\n",
       "      <td>NaN</td>\n",
       "      <td>NaN</td>\n",
       "      <td>NaN</td>\n",
       "      <td>NaN</td>\n",
       "      <td>1.000000</td>\n",
       "      <td>59.000000</td>\n",
       "      <td>0.000000</td>\n",
       "    </tr>\n",
       "    <tr>\n",
       "      <th>max</th>\n",
       "      <td>1000000.000000</td>\n",
       "      <td>NaN</td>\n",
       "      <td>NaN</td>\n",
       "      <td>NaN</td>\n",
       "      <td>NaN</td>\n",
       "      <td>1.000000</td>\n",
       "      <td>59.000000</td>\n",
       "      <td>1.000000</td>\n",
       "    </tr>\n",
       "  </tbody>\n",
       "</table>\n",
       "</div>"
      ],
      "text/plain": [
       "               user_id            timestamp          source  device  \\\n",
       "count    316800.000000               316800          316800  316800   \n",
       "unique             NaN               140931              12       2   \n",
       "top                NaN  2015-04-12 11:51:16  direct_traffic  mobile   \n",
       "freq               NaN                   12           60357  186471   \n",
       "mean     499281.341840                  NaN             NaN     NaN   \n",
       "std      288591.154044                  NaN             NaN     NaN   \n",
       "min           3.000000                  NaN             NaN     NaN   \n",
       "25%      249525.750000                  NaN             NaN     NaN   \n",
       "50%      499021.500000                  NaN             NaN     NaN   \n",
       "75%      749025.500000                  NaN             NaN     NaN   \n",
       "max     1000000.000000                  NaN             NaN     NaN   \n",
       "\n",
       "       operative_system           test          price      converted  \n",
       "count            316800  316800.000000  316800.000000  316800.000000  \n",
       "unique                6            NaN            NaN            NaN  \n",
       "top             windows            NaN            NaN            NaN  \n",
       "freq             100976            NaN            NaN            NaN  \n",
       "mean                NaN       0.360079      46.205051       0.018333  \n",
       "std                 NaN       0.480024       9.601487       0.134154  \n",
       "min                 NaN       0.000000      39.000000       0.000000  \n",
       "25%                 NaN       0.000000      39.000000       0.000000  \n",
       "50%                 NaN       0.000000      39.000000       0.000000  \n",
       "75%                 NaN       1.000000      59.000000       0.000000  \n",
       "max                 NaN       1.000000      59.000000       1.000000  "
      ]
     },
     "execution_count": 17,
     "metadata": {},
     "output_type": "execute_result"
    }
   ],
   "source": [
    "test_result.describe(include= 'all')"
   ]
  },
  {
   "cell_type": "code",
   "execution_count": 11,
   "metadata": {
    "collapsed": false
   },
   "outputs": [
    {
     "name": "stdout",
     "output_type": "stream",
     "text": [
      "<class 'pandas.core.frame.DataFrame'>\n",
      "RangeIndex: 316800 entries, 0 to 316799\n",
      "Data columns (total 8 columns):\n",
      "user_id             316800 non-null int64\n",
      "timestamp           316800 non-null object\n",
      "source              316800 non-null object\n",
      "device              316800 non-null object\n",
      "operative_system    316800 non-null object\n",
      "test                316800 non-null int64\n",
      "price               316800 non-null int64\n",
      "converted           316800 non-null int64\n",
      "dtypes: int64(4), object(4)\n",
      "memory usage: 19.3+ MB\n"
     ]
    }
   ],
   "source": [
    "test_result.info()"
   ]
  },
  {
   "cell_type": "code",
   "execution_count": 12,
   "metadata": {
    "collapsed": false
   },
   "outputs": [
    {
     "name": "stdout",
     "output_type": "stream",
     "text": [
      "<class 'pandas.core.frame.DataFrame'>\n",
      "RangeIndex: 275616 entries, 0 to 275615\n",
      "Data columns (total 5 columns):\n",
      "user_id    275616 non-null int64\n",
      "city       275616 non-null object\n",
      "country    275616 non-null object\n",
      "lat        275616 non-null float64\n",
      "long       275616 non-null float64\n",
      "dtypes: float64(2), int64(1), object(2)\n",
      "memory usage: 10.5+ MB\n"
     ]
    }
   ],
   "source": [
    "user.info()"
   ]
  },
  {
   "cell_type": "code",
   "execution_count": 3,
   "metadata": {
    "collapsed": false
   },
   "outputs": [
    {
     "data": {
      "text/html": [
       "<div>\n",
       "<table border=\"1\" class=\"dataframe\">\n",
       "  <thead>\n",
       "    <tr style=\"text-align: right;\">\n",
       "      <th></th>\n",
       "      <th>user_id</th>\n",
       "      <th>timestamp</th>\n",
       "      <th>source</th>\n",
       "      <th>device</th>\n",
       "      <th>operative_system</th>\n",
       "      <th>test</th>\n",
       "      <th>price</th>\n",
       "      <th>converted</th>\n",
       "    </tr>\n",
       "  </thead>\n",
       "  <tbody>\n",
       "    <tr>\n",
       "      <th>0</th>\n",
       "      <td>604839</td>\n",
       "      <td>2015-05-08 03:38:34</td>\n",
       "      <td>ads_facebook</td>\n",
       "      <td>mobile</td>\n",
       "      <td>iOS</td>\n",
       "      <td>0</td>\n",
       "      <td>39</td>\n",
       "      <td>0</td>\n",
       "    </tr>\n",
       "    <tr>\n",
       "      <th>1</th>\n",
       "      <td>624057</td>\n",
       "      <td>2015-05-10 21:08:46</td>\n",
       "      <td>seo-google</td>\n",
       "      <td>mobile</td>\n",
       "      <td>android</td>\n",
       "      <td>0</td>\n",
       "      <td>39</td>\n",
       "      <td>0</td>\n",
       "    </tr>\n",
       "  </tbody>\n",
       "</table>\n",
       "</div>"
      ],
      "text/plain": [
       "   user_id            timestamp        source  device operative_system  test  \\\n",
       "0   604839  2015-05-08 03:38:34  ads_facebook  mobile              iOS     0   \n",
       "1   624057  2015-05-10 21:08:46    seo-google  mobile          android     0   \n",
       "\n",
       "   price  converted  \n",
       "0     39          0  \n",
       "1     39          0  "
      ]
     },
     "execution_count": 3,
     "metadata": {},
     "output_type": "execute_result"
    }
   ],
   "source": [
    "test_result.head(2)"
   ]
  },
  {
   "cell_type": "code",
   "execution_count": 4,
   "metadata": {
    "collapsed": false
   },
   "outputs": [
    {
     "data": {
      "text/html": [
       "<div>\n",
       "<table border=\"1\" class=\"dataframe\">\n",
       "  <thead>\n",
       "    <tr style=\"text-align: right;\">\n",
       "      <th></th>\n",
       "      <th>user_id</th>\n",
       "      <th>city</th>\n",
       "      <th>country</th>\n",
       "      <th>lat</th>\n",
       "      <th>long</th>\n",
       "    </tr>\n",
       "  </thead>\n",
       "  <tbody>\n",
       "    <tr>\n",
       "      <th>0</th>\n",
       "      <td>510335</td>\n",
       "      <td>Peabody</td>\n",
       "      <td>USA</td>\n",
       "      <td>42.53</td>\n",
       "      <td>-70.97</td>\n",
       "    </tr>\n",
       "    <tr>\n",
       "      <th>1</th>\n",
       "      <td>89568</td>\n",
       "      <td>Reno</td>\n",
       "      <td>USA</td>\n",
       "      <td>39.54</td>\n",
       "      <td>-119.82</td>\n",
       "    </tr>\n",
       "    <tr>\n",
       "      <th>2</th>\n",
       "      <td>434134</td>\n",
       "      <td>Rialto</td>\n",
       "      <td>USA</td>\n",
       "      <td>34.11</td>\n",
       "      <td>-117.39</td>\n",
       "    </tr>\n",
       "  </tbody>\n",
       "</table>\n",
       "</div>"
      ],
      "text/plain": [
       "   user_id     city country    lat    long\n",
       "0   510335  Peabody     USA  42.53  -70.97\n",
       "1    89568     Reno     USA  39.54 -119.82\n",
       "2   434134   Rialto     USA  34.11 -117.39"
      ]
     },
     "execution_count": 4,
     "metadata": {},
     "output_type": "execute_result"
    }
   ],
   "source": [
    "user.head(3)"
   ]
  },
  {
   "cell_type": "code",
   "execution_count": 63,
   "metadata": {
    "collapsed": false
   },
   "outputs": [
    {
     "data": {
      "text/plain": [
       "(275616, 12)"
      ]
     },
     "execution_count": 63,
     "metadata": {},
     "output_type": "execute_result"
    }
   ],
   "source": [
    "# inner join so there are no null\n",
    "data = pd.merge(test_result, user, on = 'user_id', how = 'inner')\n",
    "data.shape"
   ]
  },
  {
   "cell_type": "code",
   "execution_count": 31,
   "metadata": {
    "collapsed": false
   },
   "outputs": [
    {
     "data": {
      "text/plain": [
       "user_id              int64\n",
       "timestamp           object\n",
       "source              object\n",
       "device              object\n",
       "operative_system    object\n",
       "test                 int64\n",
       "price                int64\n",
       "converted            int64\n",
       "dtype: object"
      ]
     },
     "execution_count": 31,
     "metadata": {},
     "output_type": "execute_result"
    }
   ],
   "source": [
    "test_result.dtypes"
   ]
  },
  {
   "cell_type": "markdown",
   "metadata": {},
   "source": [
    "    # no missing value for both tables"
   ]
  },
  {
   "cell_type": "code",
   "execution_count": 6,
   "metadata": {
    "collapsed": false
   },
   "outputs": [
    {
     "data": {
      "text/plain": [
       "user_id    0\n",
       "city       0\n",
       "country    0\n",
       "lat        0\n",
       "long       0\n",
       "dtype: int64"
      ]
     },
     "execution_count": 6,
     "metadata": {},
     "output_type": "execute_result"
    }
   ],
   "source": [
    "test_result.isnull().sum() # no missing value\n",
    "user.isnull().sum()"
   ]
  },
  {
   "cell_type": "markdown",
   "metadata": {
    "collapsed": true
   },
   "source": [
    "    # no duplicated rows for both tables"
   ]
  },
  {
   "cell_type": "code",
   "execution_count": 9,
   "metadata": {
    "collapsed": false
   },
   "outputs": [
    {
     "data": {
      "text/plain": [
       "0"
      ]
     },
     "execution_count": 9,
     "metadata": {},
     "output_type": "execute_result"
    }
   ],
   "source": [
    "test_result.duplicated().sum() # 0\n",
    "user.duplicated().sum() #0"
   ]
  },
  {
   "cell_type": "code",
   "execution_count": 13,
   "metadata": {
    "collapsed": false
   },
   "outputs": [
    {
     "data": {
      "text/plain": [
       "275616"
      ]
     },
     "execution_count": 13,
     "metadata": {},
     "output_type": "execute_result"
    }
   ],
   "source": [
    "# unique user_id in test_result: 316,800\n",
    "len(np.unique(test_result.user_id)) #316,800\n",
    "\n",
    "# unique user_id in user: 275,616\n",
    "len(np.unique(user.user_id)) #275616"
   ]
  },
  {
   "cell_type": "markdown",
   "metadata": {},
   "source": [
    "# 2) Data Cleaning"
   ]
  },
  {
   "cell_type": "markdown",
   "metadata": {},
   "source": [
    "first, check if there are mis-labeled samples. And there are some. In control groups, some of them are labeled as \\$59 and also in test group, some of them are labeled as \\$39 .\n"
   ]
  },
  {
   "cell_type": "code",
   "execution_count": 13,
   "metadata": {
    "collapsed": false
   },
   "outputs": [
    {
     "data": {
      "text/plain": [
       "test  price\n",
       "0     39       202517\n",
       "      59          210\n",
       "1     39          155\n",
       "      59       113918\n",
       "dtype: int64"
      ]
     },
     "execution_count": 13,
     "metadata": {},
     "output_type": "execute_result"
    }
   ],
   "source": [
    "test_result.groupby(['test','price'])['user_id'].size()"
   ]
  },
  {
   "cell_type": "markdown",
   "metadata": {},
   "source": [
    "- now remove those mislabeled samples. I could talk with people who created this experiment for clarification, but now I will remove those rows"
   ]
  },
  {
   "cell_type": "code",
   "execution_count": 15,
   "metadata": {
    "collapsed": false
   },
   "outputs": [
    {
     "data": {
      "text/plain": [
       "(365, 8)"
      ]
     },
     "execution_count": 15,
     "metadata": {},
     "output_type": "execute_result"
    }
   ],
   "source": [
    "# use more () to make the logic clear\n",
    "mislabeled = test_result[((test_result['price'] == 39) & (test_result['test'] ==1))|\n",
    "                         ((test_result['price'] == 59) & (test_result['test'] ==0))\n",
    "                         ]\n",
    "mislabeled.shape"
   ]
  },
  {
   "cell_type": "code",
   "execution_count": 18,
   "metadata": {
    "collapsed": false
   },
   "outputs": [
    {
     "data": {
      "text/html": [
       "<div>\n",
       "<table border=\"1\" class=\"dataframe\">\n",
       "  <thead>\n",
       "    <tr style=\"text-align: right;\">\n",
       "      <th></th>\n",
       "      <th>user_id</th>\n",
       "      <th>timestamp</th>\n",
       "      <th>source</th>\n",
       "      <th>device</th>\n",
       "      <th>operative_system</th>\n",
       "      <th>test</th>\n",
       "      <th>price</th>\n",
       "      <th>converted</th>\n",
       "    </tr>\n",
       "  </thead>\n",
       "  <tbody>\n",
       "    <tr>\n",
       "      <th>1457</th>\n",
       "      <td>686486</td>\n",
       "      <td>2015-03-28 15:26:19</td>\n",
       "      <td>seo-other</td>\n",
       "      <td>mobile</td>\n",
       "      <td>android</td>\n",
       "      <td>1</td>\n",
       "      <td>39</td>\n",
       "      <td>0</td>\n",
       "    </tr>\n",
       "    <tr>\n",
       "      <th>1912</th>\n",
       "      <td>128338</td>\n",
       "      <td>2015-05-15 11:41:49</td>\n",
       "      <td>direct_traffic</td>\n",
       "      <td>mobile</td>\n",
       "      <td>android</td>\n",
       "      <td>1</td>\n",
       "      <td>39</td>\n",
       "      <td>0</td>\n",
       "    </tr>\n",
       "  </tbody>\n",
       "</table>\n",
       "</div>"
      ],
      "text/plain": [
       "      user_id            timestamp          source  device operative_system  \\\n",
       "1457   686486  2015-03-28 15:26:19       seo-other  mobile          android   \n",
       "1912   128338  2015-05-15 11:41:49  direct_traffic  mobile          android   \n",
       "\n",
       "      test  price  converted  \n",
       "1457     1     39          0  \n",
       "1912     1     39          0  "
      ]
     },
     "execution_count": 18,
     "metadata": {},
     "output_type": "execute_result"
    }
   ],
   "source": [
    "mislabeled.head(2) # I will use those index to remove them"
   ]
  },
  {
   "cell_type": "code",
   "execution_count": 21,
   "metadata": {
    "collapsed": false
   },
   "outputs": [
    {
     "data": {
      "text/plain": [
       "Int64Index([1457, 1912, 2337], dtype='int64')"
      ]
     },
     "execution_count": 21,
     "metadata": {},
     "output_type": "execute_result"
    }
   ],
   "source": [
    "mislabeled.index[:3]"
   ]
  },
  {
   "cell_type": "code",
   "execution_count": 19,
   "metadata": {
    "collapsed": false
   },
   "outputs": [
    {
     "data": {
      "text/plain": [
       "(316800, 8)"
      ]
     },
     "execution_count": 19,
     "metadata": {},
     "output_type": "execute_result"
    }
   ],
   "source": [
    "test_result.shape"
   ]
  },
  {
   "cell_type": "code",
   "execution_count": 22,
   "metadata": {
    "collapsed": false
   },
   "outputs": [
    {
     "data": {
      "text/plain": [
       "(316435, 8)"
      ]
     },
     "execution_count": 22,
     "metadata": {},
     "output_type": "execute_result"
    }
   ],
   "source": [
    "test_result = test_result.drop(mislabeled.index)\n",
    "test_result.shape"
   ]
  },
  {
   "cell_type": "markdown",
   "metadata": {},
   "source": [
    "<font color ='blue'> feature timestamp </font>\n",
    "some samples label in minutes are wrong, they are larger than 59. \n",
    "- example: 2015-04-24 12:60:46\n",
    "- there are 3% samples are wrongly labeled timestamp. I will talk with people who created this time. But for now, I will remove those wrong timestamp datasets.\n"
   ]
  },
  {
   "cell_type": "code",
   "execution_count": 26,
   "metadata": {
    "collapsed": false
   },
   "outputs": [
    {
     "data": {
      "text/plain": [
       "10260"
      ]
     },
     "execution_count": 26,
     "metadata": {},
     "output_type": "execute_result"
    }
   ],
   "source": [
    "pd.to_datetime(test_result['timestamp'], errors = 'coerce').isnull().sum()"
   ]
  },
  {
   "cell_type": "code",
   "execution_count": 25,
   "metadata": {
    "collapsed": false
   },
   "outputs": [
    {
     "data": {
      "text/plain": [
       "54     2015-04-24 12:60:46\n",
       "104    2015-04-24 11:60:20\n",
       "121    2015-03-14 12:60:02\n",
       "Name: timestamp, dtype: object"
      ]
     },
     "execution_count": 25,
     "metadata": {},
     "output_type": "execute_result"
    }
   ],
   "source": [
    "# errors = 'coerce' meaning put wrong time into nan.\n",
    "test_result[pd.to_datetime(test_result['timestamp'], errors = 'coerce').isnull()]['timestamp'].head(3)"
   ]
  },
  {
   "cell_type": "code",
   "execution_count": 37,
   "metadata": {
    "collapsed": false
   },
   "outputs": [
    {
     "data": {
      "text/plain": [
       "(316435, 8)"
      ]
     },
     "execution_count": 37,
     "metadata": {},
     "output_type": "execute_result"
    }
   ],
   "source": [
    "test_result.shape"
   ]
  },
  {
   "cell_type": "code",
   "execution_count": 38,
   "metadata": {
    "collapsed": true
   },
   "outputs": [],
   "source": [
    "test_result['timestamp'] = pd.to_datetime(test_result['timestamp'], errors = 'coerce')\n",
    "test_result.dropna(inplace= True)"
   ]
  },
  {
   "cell_type": "code",
   "execution_count": 39,
   "metadata": {
    "collapsed": false
   },
   "outputs": [
    {
     "data": {
      "text/plain": [
       "(306175, 8)"
      ]
     },
     "execution_count": 39,
     "metadata": {},
     "output_type": "execute_result"
    }
   ],
   "source": [
    "test_result.shape"
   ]
  },
  {
   "cell_type": "code",
   "execution_count": null,
   "metadata": {
    "collapsed": true
   },
   "outputs": [],
   "source": []
  },
  {
   "cell_type": "markdown",
   "metadata": {},
   "source": [
    "# 3) Data exploration"
   ]
  },
  {
   "cell_type": "code",
   "execution_count": 14,
   "metadata": {
    "collapsed": false
   },
   "outputs": [
    {
     "name": "stdout",
     "output_type": "stream",
     "text": [
      "(202727, 8) (114073, 8)\n"
     ]
    }
   ],
   "source": [
    "# divide test_result into control (0) and treatment group(1)\n",
    "test_control = test_result[test_result.test == 0]\n",
    "test_treatment = test_result[test_result.test == 1]\n",
    "\n",
    "print test_control.shape, test_treatment.shape # ratio control/test = 2:1"
   ]
  },
  {
   "cell_type": "code",
   "execution_count": 20,
   "metadata": {
    "collapsed": false
   },
   "outputs": [
    {
     "data": {
      "text/plain": [
       "0    0.639921\n",
       "1    0.360079\n",
       "Name: test, dtype: float64"
      ]
     },
     "execution_count": 20,
     "metadata": {},
     "output_type": "execute_result"
    }
   ],
   "source": [
    "a = test_result.test.value_counts(normalize= True)\n",
    "a"
   ]
  },
  {
   "cell_type": "code",
   "execution_count": 21,
   "metadata": {
    "collapsed": false
   },
   "outputs": [
    {
     "data": {
      "image/png": "[encoded data removed]",
      "text/plain": [
       "<matplotlib.figure.Figure at 0x10ee06d90>"
      ]
     },
     "metadata": {},
     "output_type": "display_data"
    }
   ],
   "source": [
    "plt.bar([0,1],a)\n",
    "plt.xticks([0,1],['control','treatment'])\n",
    "plt.legend()\n",
    "plt.show()"
   ]
  },
  {
   "cell_type": "markdown",
   "metadata": {},
   "source": [
    "# insight 1: control group(0, price: 39) has higher conversion rate than treatment group and it is statistically sig."
   ]
  },
  {
   "cell_type": "code",
   "execution_count": 24,
   "metadata": {
    "collapsed": false
   },
   "outputs": [
    {
     "data": {
      "text/html": [
       "<div>\n",
       "<table border=\"1\" class=\"dataframe\">\n",
       "  <thead>\n",
       "    <tr style=\"text-align: right;\">\n",
       "      <th></th>\n",
       "      <th>mean</th>\n",
       "      <th>std</th>\n",
       "    </tr>\n",
       "    <tr>\n",
       "      <th>test</th>\n",
       "      <th></th>\n",
       "      <th></th>\n",
       "    </tr>\n",
       "  </thead>\n",
       "  <tbody>\n",
       "    <tr>\n",
       "      <th>0</th>\n",
       "      <td>0.019904</td>\n",
       "      <td>0.139669</td>\n",
       "    </tr>\n",
       "    <tr>\n",
       "      <th>1</th>\n",
       "      <td>0.015543</td>\n",
       "      <td>0.123698</td>\n",
       "    </tr>\n",
       "  </tbody>\n",
       "</table>\n",
       "</div>"
      ],
      "text/plain": [
       "          mean       std\n",
       "test                    \n",
       "0     0.019904  0.139669\n",
       "1     0.015543  0.123698"
      ]
     },
     "execution_count": 24,
     "metadata": {},
     "output_type": "execute_result"
    }
   ],
   "source": [
    "#  convertion rate in control v.s. treatment\n",
    "test_result.groupby('test')['converted'].agg(['mean','std'])"
   ]
  },
  {
   "cell_type": "code",
   "execution_count": 39,
   "metadata": {
    "collapsed": true
   },
   "outputs": [],
   "source": [
    "# Now do a T-test to statistically analyze conversion rate control v.s. treatment group\n",
    "from scipy import stats"
   ]
  },
  {
   "cell_type": "code",
   "execution_count": 40,
   "metadata": {
    "collapsed": false
   },
   "outputs": [
    {
     "data": {
      "text/plain": [
       "(9.0860464468946596, 1.0339496325938204e-19)"
      ]
     },
     "execution_count": 40,
     "metadata": {},
     "output_type": "execute_result"
    }
   ],
   "source": [
    "t_score, p_value =stats.ttest_ind(test_control['converted'], test_treatment['converted'],\n",
    "                equal_var= False,nan_policy = 'omit')\n",
    "t_score, p_value"
   ]
  },
  {
   "cell_type": "code",
   "execution_count": null,
   "metadata": {
    "collapsed": true
   },
   "outputs": [],
   "source": []
  },
  {
   "cell_type": "code",
   "execution_count": null,
   "metadata": {
    "collapsed": true
   },
   "outputs": [],
   "source": []
  },
  {
   "cell_type": "markdown",
   "metadata": {},
   "source": [
    "# Q1: Should the company sell its software for \\$39 or $59?"
   ]
  },
  {
   "cell_type": "markdown",
   "metadata": {},
   "source": [
    "Result: first we need to assume/check if the control and treatment samples are representative of real population. \n",
    "    Revenue = # of purchase * unit price\n",
    "If so, since the size of control is 2 times larger than treatment group, we will use \n",
    "<font color = 'green'> total revenue/# of all users in each group </font> to compare.\n",
    "$\\frac{users\\ who\\ bought\\ the\\ product\\ *\\ price}{users\\ who\\ visited\\ the\\ site}$.\n",
    "    \n",
    "   - control: 0.7767 v.s. treatment 0.91684 \n",
    "   - p-value = 1.5407498604678382e-08\n",
    "   * we favor treatment group, so the company should sell at $59."
   ]
  },
  {
   "cell_type": "code",
   "execution_count": null,
   "metadata": {
    "collapsed": true
   },
   "outputs": [],
   "source": [
    "# 1) let's calculate the total sales between control and treatment \n",
    "# 2) calculate total revunue/all users ($/user) to compare two groups\n",
    "#  control: 0.7767 v.s. treatment 0.91684 \n",
    "# 3) unit sale: treament > control"
   ]
  },
  {
   "cell_type": "code",
   "execution_count": 28,
   "metadata": {
    "collapsed": false
   },
   "outputs": [
    {
     "data": {
      "text/html": [
       "<div>\n",
       "<table border=\"1\" class=\"dataframe\">\n",
       "  <thead>\n",
       "    <tr style=\"text-align: right;\">\n",
       "      <th></th>\n",
       "      <th>user_id</th>\n",
       "      <th>timestamp</th>\n",
       "      <th>source</th>\n",
       "      <th>device</th>\n",
       "      <th>operative_system</th>\n",
       "      <th>test</th>\n",
       "      <th>price</th>\n",
       "      <th>converted</th>\n",
       "    </tr>\n",
       "  </thead>\n",
       "  <tbody>\n",
       "    <tr>\n",
       "      <th>0</th>\n",
       "      <td>604839</td>\n",
       "      <td>2015-05-08 03:38:34</td>\n",
       "      <td>ads_facebook</td>\n",
       "      <td>mobile</td>\n",
       "      <td>iOS</td>\n",
       "      <td>0</td>\n",
       "      <td>39</td>\n",
       "      <td>0</td>\n",
       "    </tr>\n",
       "    <tr>\n",
       "      <th>1</th>\n",
       "      <td>624057</td>\n",
       "      <td>2015-05-10 21:08:46</td>\n",
       "      <td>seo-google</td>\n",
       "      <td>mobile</td>\n",
       "      <td>android</td>\n",
       "      <td>0</td>\n",
       "      <td>39</td>\n",
       "      <td>0</td>\n",
       "    </tr>\n",
       "  </tbody>\n",
       "</table>\n",
       "</div>"
      ],
      "text/plain": [
       "   user_id            timestamp        source  device operative_system  test  \\\n",
       "0   604839  2015-05-08 03:38:34  ads_facebook  mobile              iOS     0   \n",
       "1   624057  2015-05-10 21:08:46    seo-google  mobile          android     0   \n",
       "\n",
       "   price  converted  \n",
       "0     39          0  \n",
       "1     39          0  "
      ]
     },
     "execution_count": 28,
     "metadata": {},
     "output_type": "execute_result"
    }
   ],
   "source": [
    "test_result.head(2)"
   ]
  },
  {
   "cell_type": "code",
   "execution_count": 76,
   "metadata": {
    "collapsed": false
   },
   "outputs": [
    {
     "name": "stdout",
     "output_type": "stream",
     "text": [
      "(195869, 8) (110306, 8)\n"
     ]
    }
   ],
   "source": [
    "# divide test_result into control (0) and treatment group(1)\n",
    "test_control = test_result[test_result.test == 0]\n",
    "test_treatment = test_result[test_result.test == 1]\n",
    "\n",
    "print test_control.shape, test_treatment.shape # ratio control/test = 2:1"
   ]
  },
  {
   "cell_type": "markdown",
   "metadata": {},
   "source": [
    "- create a new column to capture sale amount for each user \n",
    "$price *\\ converted$"
   ]
  },
  {
   "cell_type": "code",
   "execution_count": 78,
   "metadata": {
    "collapsed": true
   },
   "outputs": [],
   "source": [
    "test_result['sale']= test_result['price']*test_result['converted']"
   ]
  },
  {
   "cell_type": "code",
   "execution_count": 80,
   "metadata": {
    "collapsed": true
   },
   "outputs": [],
   "source": [
    "from scipy import stats"
   ]
  },
  {
   "cell_type": "markdown",
   "metadata": {},
   "source": [
    "** Hypothesis test **\n",
    "\n",
    "* ** $Ho(null\\ hypothesis)$ **: \n",
    " - Revenue/user(control) - Revenue/user(treatment) = 0\n",
    " - there is no difference of revenue between control and treatment groups.\n",
    "\n",
    "* $Ha(alternative\\ hypothesis)$:\n",
    " - Revenue/user(treatment) -Revenue/user(control) > 0\n",
    " - there is revenue/user in treatment is larger than the one in control.\n",
    " \n",
    "For this test: \n",
    "Standard Error = $ (\\frac{sd\\_control ^2}{n\\_control} + \\frac{sd\\_test ^2}{n\\_test)} )^{0.5}$\n",
    "\n",
    "diff = mu\\_test - mu\\_control"
   ]
  },
  {
   "cell_type": "code",
   "execution_count": 81,
   "metadata": {
    "collapsed": false
   },
   "outputs": [
    {
     "data": {
      "text/plain": [
       "(-5.5602090311981325, 2.6983158152863508e-08)"
      ]
     },
     "execution_count": 81,
     "metadata": {},
     "output_type": "execute_result"
    }
   ],
   "source": [
    "t_score2, p_value2 =stats.ttest_ind(test_result[test_result.test == 0]['sale'], \n",
    "                                  test_result[test_result.test == 1]['sale'],\n",
    "                equal_var= False,nan_policy = 'omit')\n",
    "t_score2, p_value2"
   ]
  },
  {
   "cell_type": "code",
   "execution_count": 74,
   "metadata": {
    "collapsed": false
   },
   "outputs": [
    {
     "name": "stdout",
     "output_type": "stream",
     "text": [
      "0.77673422879"
     ]
    },
    {
     "data": {
      "text/plain": [
       "0.91684272351914997"
      ]
     },
     "execution_count": 74,
     "metadata": {},
     "output_type": "execute_result"
    },
    {
     "name": "stdout",
     "output_type": "stream",
     "text": [
      "\n"
     ]
    }
   ],
   "source": [
    "print test_result[test_result.test == 0]['sale'].mean(),\n",
    "test_result[test_result.test == 1]['sale'].mean()\n"
   ]
  },
  {
   "cell_type": "markdown",
   "metadata": {},
   "source": [
    "# I can also manually calculate this."
   ]
  },
  {
   "cell_type": "code",
   "execution_count": 83,
   "metadata": {
    "collapsed": true
   },
   "outputs": [],
   "source": [
    "# 1) control group\n",
    "mu_control = test_result[test_result.test == 0]['sale'].mean()\n",
    "sd_control = test_result[test_result.test == 0]['sale'].std()\n",
    "n_control = len(test_result[test_result.test == 0]['sale'])\n",
    "\n",
    "# 2) test_group\n",
    "mu_test = test_result[test_result.test == 1]['sale'].mean()\n",
    "sd_test = test_result[test_result.test == 1]['sale'].std()\n",
    "n_test = len(test_result[test_result.test == 1]['sale'])\n",
    "\n"
   ]
  },
  {
   "cell_type": "code",
   "execution_count": 84,
   "metadata": {
    "collapsed": false
   },
   "outputs": [
    {
     "name": "stdout",
     "output_type": "stream",
     "text": [
      "control group's mean, sd and size: 0.78 , 5.45, 195869\n",
      "treatment group's mean, sd and size: 0.92 , 7.30, 110306\n"
     ]
    }
   ],
   "source": [
    "print (\"control group's mean, sd and size: %.2f , %.2f, %d\"\n",
    "       %(mu_control, sd_control, n_control))\n",
    "\n",
    "print (\"treatment group's mean, sd and size: %.2f , %.2f, %d\"\n",
    "       %(mu_test, sd_test, n_test))"
   ]
  },
  {
   "cell_type": "code",
   "execution_count": 88,
   "metadata": {
    "collapsed": false
   },
   "outputs": [
    {
     "data": {
      "text/plain": [
       "5.5602090311981325"
      ]
     },
     "execution_count": 88,
     "metadata": {},
     "output_type": "execute_result"
    }
   ],
   "source": [
    "# manual calculation --one-tail(5% confidence level) for SE 1.645\n",
    "\n",
    "#1) calculate standard error se = sqrt(sd1**2/n1 + sd2**2/n2)\n",
    "SE = np.sqrt(sd_control**2/n_control + sd_test**2/n_test)\n",
    "# SE = 0.02518582137479013\n",
    "\n",
    "# 2) calulate difference \n",
    "diff = mu_test - mu_control\n",
    "# diff = 0.14003843146625106\n",
    "\n",
    "# 3) calculate \n",
    "Z = diff* 1.00/SE\n",
    "# Z = 5.56 > 1.645 so we reject null hypothesis, favor Ha, alternative hypothesis"
   ]
  },
  {
   "cell_type": "markdown",
   "metadata": {},
   "source": [
    "# Q2: actionable insights for VP on conversion rate"
   ]
  },
  {
   "cell_type": "markdown",
   "metadata": {},
   "source": [
    " Conversion rate = total num of converted people/ total num of people"
   ]
  },
  {
   "cell_type": "code",
   "execution_count": 46,
   "metadata": {
    "collapsed": false
   },
   "outputs": [
    {
     "data": {
      "text/html": [
       "<div>\n",
       "<table border=\"1\" class=\"dataframe\">\n",
       "  <thead>\n",
       "    <tr style=\"text-align: right;\">\n",
       "      <th></th>\n",
       "      <th>user_id</th>\n",
       "      <th>timestamp</th>\n",
       "      <th>source</th>\n",
       "      <th>device</th>\n",
       "      <th>operative_system</th>\n",
       "      <th>test</th>\n",
       "      <th>price</th>\n",
       "      <th>converted</th>\n",
       "    </tr>\n",
       "  </thead>\n",
       "  <tbody>\n",
       "    <tr>\n",
       "      <th>0</th>\n",
       "      <td>604839</td>\n",
       "      <td>2015-05-08 03:38:34</td>\n",
       "      <td>ads_facebook</td>\n",
       "      <td>mobile</td>\n",
       "      <td>iOS</td>\n",
       "      <td>0</td>\n",
       "      <td>39</td>\n",
       "      <td>0</td>\n",
       "    </tr>\n",
       "    <tr>\n",
       "      <th>1</th>\n",
       "      <td>624057</td>\n",
       "      <td>2015-05-10 21:08:46</td>\n",
       "      <td>seo-google</td>\n",
       "      <td>mobile</td>\n",
       "      <td>android</td>\n",
       "      <td>0</td>\n",
       "      <td>39</td>\n",
       "      <td>0</td>\n",
       "    </tr>\n",
       "  </tbody>\n",
       "</table>\n",
       "</div>"
      ],
      "text/plain": [
       "   user_id           timestamp        source  device operative_system  test  \\\n",
       "0   604839 2015-05-08 03:38:34  ads_facebook  mobile              iOS     0   \n",
       "1   624057 2015-05-10 21:08:46    seo-google  mobile          android     0   \n",
       "\n",
       "   price  converted  \n",
       "0     39          0  \n",
       "1     39          0  "
      ]
     },
     "execution_count": 46,
     "metadata": {},
     "output_type": "execute_result"
    }
   ],
   "source": [
    "test_result.head(2)"
   ]
  },
  {
   "cell_type": "code",
   "execution_count": 45,
   "metadata": {
    "collapsed": false
   },
   "outputs": [],
   "source": [
    "# feature exploration\n",
    "test_result['timestamp'] = pd.to_datetime(test_result['timestamp'],\n",
    "                               infer_datetime_format = True, \n",
    "                               errors = 'coerce') "
   ]
  },
  {
   "cell_type": "code",
   "execution_count": null,
   "metadata": {
    "collapsed": true
   },
   "outputs": [],
   "source": [
    "# test time range ('2015-03-02', '2015-05-31') # 3 month"
   ]
  },
  {
   "cell_type": "code",
   "execution_count": 48,
   "metadata": {
    "collapsed": false
   },
   "outputs": [
    {
     "data": {
      "text/plain": [
       "(Timestamp('2015-03-02 00:04:12'), Timestamp('2015-05-31 23:59:45'))"
      ]
     },
     "execution_count": 48,
     "metadata": {},
     "output_type": "execute_result"
    }
   ],
   "source": [
    "test_result['timestamp'].min(), test_result['timestamp'].max()"
   ]
  },
  {
   "cell_type": "markdown",
   "metadata": {},
   "source": [
    "# focus on control group first"
   ]
  },
  {
   "cell_type": "markdown",
   "metadata": {},
   "source": [
    "    a. I'd love to divide into control and treatment groups first, and then see conversion rate in each group to get insights.\n",
    "#Let's groupby and see each feature towards conversion rate"
   ]
  },
  {
   "cell_type": "code",
   "execution_count": 53,
   "metadata": {
    "collapsed": true
   },
   "outputs": [],
   "source": [
    "test_control = test_result[test_result.test == 0]\n",
    "test_treatment = test_result[test_result.test == 1]"
   ]
  },
  {
   "cell_type": "code",
   "execution_count": 49,
   "metadata": {
    "collapsed": true
   },
   "outputs": [],
   "source": [
    "# some exploration on source , device and operative_system"
   ]
  },
  {
   "cell_type": "code",
   "execution_count": null,
   "metadata": {
    "collapsed": true
   },
   "outputs": [],
   "source": [
    "device: ['mobile', 'web']\n",
    "source: ['ads-bing', 'ads-google', 'ads-yahoo', 'ads_facebook', 'ads_other',\n",
    "       'direct_traffic', 'friend_referral', 'seo-bing', 'seo-google',\n",
    "       'seo-other', 'seo-yahoo', 'seo_facebook']\n",
    "operative_system:['android', 'iOS', 'linux', 'mac', 'other', 'windows']"
   ]
  },
  {
   "cell_type": "code",
   "execution_count": 52,
   "metadata": {
    "collapsed": false
   },
   "outputs": [
    {
     "data": {
      "text/plain": [
       "array(['android', 'iOS', 'linux', 'mac', 'other', 'windows'], dtype=object)"
      ]
     },
     "execution_count": 52,
     "metadata": {},
     "output_type": "execute_result"
    }
   ],
   "source": [
    "np.unique(test_result.device)\n",
    "np.unique(test_result.source)\n",
    "np.unique(test_result.operative_system)"
   ]
  },
  {
   "cell_type": "code",
   "execution_count": 58,
   "metadata": {
    "collapsed": false
   },
   "outputs": [
    {
     "data": {
      "text/plain": [
       "1.9903614220108816"
      ]
     },
     "execution_count": 58,
     "metadata": {},
     "output_type": "execute_result"
    }
   ],
   "source": [
    "# baseline: mean conversion rate for control: 0.0199(or 1.99%)\n",
    "test_control['converted'].mean()*100"
   ]
  },
  {
   "cell_type": "code",
   "execution_count": 57,
   "metadata": {
    "collapsed": false
   },
   "outputs": [
    {
     "data": {
      "text/plain": [
       "device\n",
       "mobile    1.987865\n",
       "web       1.994018\n",
       "Name: converted, dtype: float64"
      ]
     },
     "execution_count": 57,
     "metadata": {},
     "output_type": "execute_result"
    }
   ],
   "source": [
    "# let's groupby one-on-one feature: device, not much difference\n",
    "test_control.groupby('device')['converted'].mean()*100"
   ]
  },
  {
   "cell_type": "code",
   "execution_count": 60,
   "metadata": {
    "collapsed": false
   },
   "outputs": [
    {
     "data": {
      "text/plain": [
       "source\n",
       "friend_referral    4.172059\n",
       "seo-bing           2.998501\n",
       "ads_facebook       2.366638\n",
       "ads-google         2.255441\n",
       "seo-yahoo          1.948201\n",
       "seo-google         1.754734\n",
       "seo-other          1.749024\n",
       "seo_facebook       1.744488\n",
       "ads-yahoo          1.681196\n",
       "ads_other          1.540137\n",
       "direct_traffic     1.354524\n",
       "ads-bing           1.334794\n",
       "Name: converted, dtype: float64"
      ]
     },
     "execution_count": 60,
     "metadata": {},
     "output_type": "execute_result"
    }
   ],
   "source": [
    "# friend_referral has highest conversion rate: 4.17%\n",
    "# conversion rate:friend_referral(4.17%) > seo_bing(3.00%)> \n",
    "    # ads_facebook(2.37%) > ads_google(2.26%)\n",
    "# share(% among total visits): friend_referral(6.479%), seo_bing(0.658%),\n",
    "        # ads_facebook(16.82%), ads_google(18.67%)\n",
    "# in terms of composition \n",
    "a = test_control.groupby('source')['converted'].mean()*100\n",
    "a.sort_values(ascending= False)"
   ]
  },
  {
   "cell_type": "code",
   "execution_count": 40,
   "metadata": {
    "collapsed": true
   },
   "outputs": [],
   "source": [
    "import seaborn as sns"
   ]
  },
  {
   "cell_type": "code",
   "execution_count": 61,
   "metadata": {
    "collapsed": false
   },
   "outputs": [],
   "source": [
    "a = test_result.source.value_counts(normalize= True)\n",
    "x = a.index.tolist()\n",
    "y = a.values"
   ]
  },
  {
   "cell_type": "code",
   "execution_count": 66,
   "metadata": {
    "collapsed": false
   },
   "outputs": [],
   "source": [
    "b = test_result.groupby('source')['converted'].mean()\n",
    "x2 = b.index.tolist()\n",
    "y2 = b.values"
   ]
  },
  {
   "cell_type": "code",
   "execution_count": 70,
   "metadata": {
    "collapsed": false
   },
   "outputs": [
    {
     "data": {
      "text/plain": [
       "<matplotlib.text.Text at 0x11182e090>"
      ]
     },
     "execution_count": 70,
     "metadata": {},
     "output_type": "execute_result"
    },
    {
     "data": {
      "image/png": "[encoded data removed]",
      "text/plain": [
       "<matplotlib.figure.Figure at 0x113b43750>"
      ]
     },
     "metadata": {},
     "output_type": "display_data"
    }
   ],
   "source": [
    "fig, ax = plt.subplots(nrows = 1, ncols= 2, figsize= (14,5))\n",
    "ax[0].barh(range(len(x)), y , alpha = 0.8, color = 'b')\n",
    "ax[0].set_yticks(range(len(x)))\n",
    "ax[0].set_yticklabels(x)\n",
    "ax[0].set_title('visit contribution from different sources')\n",
    "\n",
    "\n",
    "ax[1].barh(range(len(x2)), y2 , alpha = 0.8, color = 'b')\n",
    "ax[1].set_yticks(range(len(x2)))\n",
    "ax[1].set_yticklabels(x2)\n",
    "ax[1].set_title('conversion rate from different sources', fontsize = 15, color = 'r')"
   ]
  },
  {
   "cell_type": "code",
   "execution_count": 43,
   "metadata": {
    "collapsed": false
   },
   "outputs": [
    {
     "data": {
      "image/png": "[encoded data removed]",
      "text/plain": [
       "<matplotlib.figure.Figure at 0x11c9943d0>"
      ]
     },
     "metadata": {},
     "output_type": "display_data"
    }
   ],
   "source": [
    "sns.barplot(data = test_result, x = 'converted', y = 'source',\n",
    "            hue = 'test', orient = 'h')\n",
    "plt.title('conversion rate by different sources')\n",
    "plt.show()"
   ]
  },
  {
   "cell_type": "code",
   "execution_count": 75,
   "metadata": {
    "collapsed": false
   },
   "outputs": [
    {
     "data": {
      "image/png": "[encoded data removed]",
      "text/plain": [
       "<matplotlib.figure.Figure at 0x112946d10>"
      ]
     },
     "metadata": {},
     "output_type": "display_data"
    }
   ],
   "source": [
    "sns.countplot(data = test_result, y = 'source')\n",
    "plt.title('visit share from sources', color = 'red')\n",
    "plt.savefig('visit_share.tiff')"
   ]
  },
  {
   "cell_type": "code",
   "execution_count": 72,
   "metadata": {
    "collapsed": false
   },
   "outputs": [
    {
     "data": {
      "image/png": "[encoded data removed]",
      "text/plain": [
       "<matplotlib.figure.Figure at 0x1139f4110>"
      ]
     },
     "metadata": {},
     "output_type": "display_data"
    }
   ],
   "source": [
    "sns.barplot(data= test_result, y ='source', x='converted',)\n",
    "\n",
    "sns.despine()"
   ]
  },
  {
   "cell_type": "code",
   "execution_count": 178,
   "metadata": {
    "collapsed": false
   },
   "outputs": [
    {
     "data": {
      "image/png": "[encoded data removed]",
      "text/plain": [
       "<matplotlib.figure.Figure at 0x11ba0e310>"
      ]
     },
     "metadata": {},
     "output_type": "display_data"
    }
   ],
   "source": [
    "sns.countplot(test_control.operative_system)\n",
    "sns.despine()"
   ]
  },
  {
   "cell_type": "code",
   "execution_count": 180,
   "metadata": {
    "collapsed": false
   },
   "outputs": [
    {
     "data": {
      "text/html": [
       "<div>\n",
       "<table border=\"1\" class=\"dataframe\">\n",
       "  <thead>\n",
       "    <tr style=\"text-align: right;\">\n",
       "      <th></th>\n",
       "      <th>mean</th>\n",
       "      <th>count</th>\n",
       "    </tr>\n",
       "    <tr>\n",
       "      <th>operative_system</th>\n",
       "      <th></th>\n",
       "      <th></th>\n",
       "    </tr>\n",
       "  </thead>\n",
       "  <tbody>\n",
       "    <tr>\n",
       "      <th>mac</th>\n",
       "      <td>0.025480</td>\n",
       "      <td>16366</td>\n",
       "    </tr>\n",
       "    <tr>\n",
       "      <th>iOS</th>\n",
       "      <td>0.023587</td>\n",
       "      <td>61855</td>\n",
       "    </tr>\n",
       "    <tr>\n",
       "      <th>windows</th>\n",
       "      <td>0.018698</td>\n",
       "      <td>63591</td>\n",
       "    </tr>\n",
       "    <tr>\n",
       "      <th>android</th>\n",
       "      <td>0.016366</td>\n",
       "      <td>48210</td>\n",
       "    </tr>\n",
       "    <tr>\n",
       "      <th>linux</th>\n",
       "      <td>0.015406</td>\n",
       "      <td>2207</td>\n",
       "    </tr>\n",
       "    <tr>\n",
       "      <th>other</th>\n",
       "      <td>0.014003</td>\n",
       "      <td>10498</td>\n",
       "    </tr>\n",
       "  </tbody>\n",
       "</table>\n",
       "</div>"
      ],
      "text/plain": [
       "                      mean  count\n",
       "operative_system                 \n",
       "mac               0.025480  16366\n",
       "iOS               0.023587  61855\n",
       "windows           0.018698  63591\n",
       "android           0.016366  48210\n",
       "linux             0.015406   2207\n",
       "other             0.014003  10498"
      ]
     },
     "execution_count": 180,
     "metadata": {},
     "output_type": "execute_result"
    }
   ],
   "source": [
    "# operative system\n",
    "# mac(2.547965)> ios(2.358742)\n",
    "b = test_control.groupby('operative_system')['converted'].agg(['mean','count'])\n",
    "b.sort_values(['mean','count'],ascending=[0,0])"
   ]
  },
  {
   "cell_type": "code",
   "execution_count": 69,
   "metadata": {
    "collapsed": false
   },
   "outputs": [
    {
     "data": {
      "text/plain": [
       "direct_traffic     19.118815\n",
       "ads-google         18.677335\n",
       "ads_facebook       16.820157\n",
       "ads_other           9.512300\n",
       "seo-google          7.449427\n",
       "ads-bing            7.206243\n",
       "seo_facebook        6.644897\n",
       "friend_referral     6.479157\n",
       "seo-other           2.904892\n",
       "ads-yahoo           2.376595\n",
       "seo-yahoo           2.152155\n",
       "seo-bing            0.658028\n",
       "Name: source, dtype: float64"
      ]
     },
     "execution_count": 69,
     "metadata": {},
     "output_type": "execute_result"
    }
   ],
   "source": [
    "test_control.source.value_counts(normalize= True)* 100"
   ]
  },
  {
   "cell_type": "code",
   "execution_count": 67,
   "metadata": {
    "collapsed": false
   },
   "outputs": [
    {
     "data": {
      "text/html": [
       "<div>\n",
       "<table border=\"1\" class=\"dataframe\">\n",
       "  <thead>\n",
       "    <tr style=\"text-align: right;\">\n",
       "      <th>operative_system</th>\n",
       "      <th>android</th>\n",
       "      <th>iOS</th>\n",
       "      <th>linux</th>\n",
       "      <th>mac</th>\n",
       "      <th>other</th>\n",
       "      <th>windows</th>\n",
       "    </tr>\n",
       "    <tr>\n",
       "      <th>source</th>\n",
       "      <th></th>\n",
       "      <th></th>\n",
       "      <th></th>\n",
       "      <th></th>\n",
       "      <th></th>\n",
       "      <th></th>\n",
       "    </tr>\n",
       "  </thead>\n",
       "  <tbody>\n",
       "    <tr>\n",
       "      <th>ads-bing</th>\n",
       "      <td>3460</td>\n",
       "      <td>4507</td>\n",
       "      <td>152</td>\n",
       "      <td>1124</td>\n",
       "      <td>778</td>\n",
       "      <td>4588</td>\n",
       "    </tr>\n",
       "    <tr>\n",
       "      <th>ads-google</th>\n",
       "      <td>8792</td>\n",
       "      <td>11736</td>\n",
       "      <td>460</td>\n",
       "      <td>3028</td>\n",
       "      <td>1892</td>\n",
       "      <td>11956</td>\n",
       "    </tr>\n",
       "    <tr>\n",
       "      <th>ads-yahoo</th>\n",
       "      <td>1104</td>\n",
       "      <td>1549</td>\n",
       "      <td>62</td>\n",
       "      <td>353</td>\n",
       "      <td>245</td>\n",
       "      <td>1505</td>\n",
       "    </tr>\n",
       "    <tr>\n",
       "      <th>ads_facebook</th>\n",
       "      <td>8040</td>\n",
       "      <td>10575</td>\n",
       "      <td>328</td>\n",
       "      <td>2724</td>\n",
       "      <td>1861</td>\n",
       "      <td>10571</td>\n",
       "    </tr>\n",
       "    <tr>\n",
       "      <th>ads_other</th>\n",
       "      <td>4478</td>\n",
       "      <td>5723</td>\n",
       "      <td>245</td>\n",
       "      <td>1537</td>\n",
       "      <td>1040</td>\n",
       "      <td>6261</td>\n",
       "    </tr>\n",
       "    <tr>\n",
       "      <th>direct_traffic</th>\n",
       "      <td>9401</td>\n",
       "      <td>11823</td>\n",
       "      <td>375</td>\n",
       "      <td>3127</td>\n",
       "      <td>2035</td>\n",
       "      <td>11998</td>\n",
       "    </tr>\n",
       "    <tr>\n",
       "      <th>friend_referral</th>\n",
       "      <td>3165</td>\n",
       "      <td>4092</td>\n",
       "      <td>138</td>\n",
       "      <td>1139</td>\n",
       "      <td>545</td>\n",
       "      <td>4056</td>\n",
       "    </tr>\n",
       "    <tr>\n",
       "      <th>seo-bing</th>\n",
       "      <td>306</td>\n",
       "      <td>468</td>\n",
       "      <td>5</td>\n",
       "      <td>103</td>\n",
       "      <td>56</td>\n",
       "      <td>396</td>\n",
       "    </tr>\n",
       "    <tr>\n",
       "      <th>seo-google</th>\n",
       "      <td>3693</td>\n",
       "      <td>4527</td>\n",
       "      <td>160</td>\n",
       "      <td>1269</td>\n",
       "      <td>875</td>\n",
       "      <td>4578</td>\n",
       "    </tr>\n",
       "    <tr>\n",
       "      <th>seo-other</th>\n",
       "      <td>1393</td>\n",
       "      <td>1709</td>\n",
       "      <td>66</td>\n",
       "      <td>497</td>\n",
       "      <td>259</td>\n",
       "      <td>1965</td>\n",
       "    </tr>\n",
       "    <tr>\n",
       "      <th>seo-yahoo</th>\n",
       "      <td>1104</td>\n",
       "      <td>1264</td>\n",
       "      <td>57</td>\n",
       "      <td>373</td>\n",
       "      <td>180</td>\n",
       "      <td>1385</td>\n",
       "    </tr>\n",
       "    <tr>\n",
       "      <th>seo_facebook</th>\n",
       "      <td>3274</td>\n",
       "      <td>3882</td>\n",
       "      <td>159</td>\n",
       "      <td>1092</td>\n",
       "      <td>732</td>\n",
       "      <td>4332</td>\n",
       "    </tr>\n",
       "  </tbody>\n",
       "</table>\n",
       "</div>"
      ],
      "text/plain": [
       "operative_system  android    iOS  linux   mac  other  windows\n",
       "source                                                       \n",
       "ads-bing             3460   4507    152  1124    778     4588\n",
       "ads-google           8792  11736    460  3028   1892    11956\n",
       "ads-yahoo            1104   1549     62   353    245     1505\n",
       "ads_facebook         8040  10575    328  2724   1861    10571\n",
       "ads_other            4478   5723    245  1537   1040     6261\n",
       "direct_traffic       9401  11823    375  3127   2035    11998\n",
       "friend_referral      3165   4092    138  1139    545     4056\n",
       "seo-bing              306    468      5   103     56      396\n",
       "seo-google           3693   4527    160  1269    875     4578\n",
       "seo-other            1393   1709     66   497    259     1965\n",
       "seo-yahoo            1104   1264     57   373    180     1385\n",
       "seo_facebook         3274   3882    159  1092    732     4332"
      ]
     },
     "execution_count": 67,
     "metadata": {},
     "output_type": "execute_result"
    }
   ],
   "source": [
    "# see if there are relationship between operation_system and source\n",
    "pivot = pd.pivot_table(data = test_control,\n",
    "    index = 'source', \n",
    "    columns= 'operative_system', values = 'converted',aggfunc= 'count')\n",
    "pivot"
   ]
  },
  {
   "cell_type": "code",
   "execution_count": 77,
   "metadata": {
    "collapsed": false
   },
   "outputs": [
    {
     "data": {
      "text/html": [
       "<div>\n",
       "<table border=\"1\" class=\"dataframe\">\n",
       "  <thead>\n",
       "    <tr style=\"text-align: right;\">\n",
       "      <th>source</th>\n",
       "      <th>ads-bing</th>\n",
       "      <th>ads-google</th>\n",
       "      <th>ads-yahoo</th>\n",
       "      <th>ads_facebook</th>\n",
       "      <th>ads_other</th>\n",
       "      <th>direct_traffic</th>\n",
       "      <th>friend_referral</th>\n",
       "      <th>seo-bing</th>\n",
       "      <th>seo-google</th>\n",
       "      <th>seo-other</th>\n",
       "      <th>seo-yahoo</th>\n",
       "      <th>seo_facebook</th>\n",
       "    </tr>\n",
       "    <tr>\n",
       "      <th>operative_system</th>\n",
       "      <th></th>\n",
       "      <th></th>\n",
       "      <th></th>\n",
       "      <th></th>\n",
       "      <th></th>\n",
       "      <th></th>\n",
       "      <th></th>\n",
       "      <th></th>\n",
       "      <th></th>\n",
       "      <th></th>\n",
       "      <th></th>\n",
       "      <th></th>\n",
       "    </tr>\n",
       "  </thead>\n",
       "  <tbody>\n",
       "    <tr>\n",
       "      <th>android</th>\n",
       "      <td>1.300578</td>\n",
       "      <td>1.933576</td>\n",
       "      <td>1.268116</td>\n",
       "      <td>2.027363</td>\n",
       "      <td>1.049576</td>\n",
       "      <td>0.936071</td>\n",
       "      <td>4.107425</td>\n",
       "      <td>2.614379</td>\n",
       "      <td>1.489304</td>\n",
       "      <td>1.435750</td>\n",
       "      <td>0.815217</td>\n",
       "      <td>1.221747</td>\n",
       "    </tr>\n",
       "    <tr>\n",
       "      <th>iOS</th>\n",
       "      <td>1.530952</td>\n",
       "      <td>2.598841</td>\n",
       "      <td>1.678502</td>\n",
       "      <td>2.789598</td>\n",
       "      <td>1.904595</td>\n",
       "      <td>1.674702</td>\n",
       "      <td>4.521017</td>\n",
       "      <td>2.777778</td>\n",
       "      <td>1.943892</td>\n",
       "      <td>2.867174</td>\n",
       "      <td>2.768987</td>\n",
       "      <td>2.241113</td>\n",
       "    </tr>\n",
       "    <tr>\n",
       "      <th>linux</th>\n",
       "      <td>0.000000</td>\n",
       "      <td>1.521739</td>\n",
       "      <td>0.000000</td>\n",
       "      <td>1.524390</td>\n",
       "      <td>2.448980</td>\n",
       "      <td>1.066667</td>\n",
       "      <td>5.072464</td>\n",
       "      <td>0.000000</td>\n",
       "      <td>1.875000</td>\n",
       "      <td>1.515152</td>\n",
       "      <td>1.754386</td>\n",
       "      <td>0.000000</td>\n",
       "    </tr>\n",
       "    <tr>\n",
       "      <th>mac</th>\n",
       "      <td>1.156584</td>\n",
       "      <td>2.774108</td>\n",
       "      <td>3.116147</td>\n",
       "      <td>3.267254</td>\n",
       "      <td>2.016916</td>\n",
       "      <td>2.046690</td>\n",
       "      <td>3.863038</td>\n",
       "      <td>4.854369</td>\n",
       "      <td>2.600473</td>\n",
       "      <td>1.609658</td>\n",
       "      <td>1.608579</td>\n",
       "      <td>2.655678</td>\n",
       "    </tr>\n",
       "    <tr>\n",
       "      <th>other</th>\n",
       "      <td>0.899743</td>\n",
       "      <td>2.114165</td>\n",
       "      <td>0.816327</td>\n",
       "      <td>1.450833</td>\n",
       "      <td>1.153846</td>\n",
       "      <td>0.786241</td>\n",
       "      <td>3.119266</td>\n",
       "      <td>1.785714</td>\n",
       "      <td>1.714286</td>\n",
       "      <td>0.772201</td>\n",
       "      <td>0.555556</td>\n",
       "      <td>0.956284</td>\n",
       "    </tr>\n",
       "    <tr>\n",
       "      <th>windows</th>\n",
       "      <td>1.329555</td>\n",
       "      <td>2.074272</td>\n",
       "      <td>1.860465</td>\n",
       "      <td>2.156844</td>\n",
       "      <td>1.469414</td>\n",
       "      <td>1.291882</td>\n",
       "      <td>4.068047</td>\n",
       "      <td>3.282828</td>\n",
       "      <td>1.550896</td>\n",
       "      <td>1.170483</td>\n",
       "      <td>2.382671</td>\n",
       "      <td>1.662050</td>\n",
       "    </tr>\n",
       "  </tbody>\n",
       "</table>\n",
       "</div>"
      ],
      "text/plain": [
       "source            ads-bing  ads-google  ads-yahoo  ads_facebook  ads_other  \\\n",
       "operative_system                                                             \n",
       "android           1.300578    1.933576   1.268116      2.027363   1.049576   \n",
       "iOS               1.530952    2.598841   1.678502      2.789598   1.904595   \n",
       "linux             0.000000    1.521739   0.000000      1.524390   2.448980   \n",
       "mac               1.156584    2.774108   3.116147      3.267254   2.016916   \n",
       "other             0.899743    2.114165   0.816327      1.450833   1.153846   \n",
       "windows           1.329555    2.074272   1.860465      2.156844   1.469414   \n",
       "\n",
       "source            direct_traffic  friend_referral  seo-bing  seo-google  \\\n",
       "operative_system                                                          \n",
       "android                 0.936071         4.107425  2.614379    1.489304   \n",
       "iOS                     1.674702         4.521017  2.777778    1.943892   \n",
       "linux                   1.066667         5.072464  0.000000    1.875000   \n",
       "mac                     2.046690         3.863038  4.854369    2.600473   \n",
       "other                   0.786241         3.119266  1.785714    1.714286   \n",
       "windows                 1.291882         4.068047  3.282828    1.550896   \n",
       "\n",
       "source            seo-other  seo-yahoo  seo_facebook  \n",
       "operative_system                                      \n",
       "android            1.435750   0.815217      1.221747  \n",
       "iOS                2.867174   2.768987      2.241113  \n",
       "linux              1.515152   1.754386      0.000000  \n",
       "mac                1.609658   1.608579      2.655678  \n",
       "other              0.772201   0.555556      0.956284  \n",
       "windows            1.170483   2.382671      1.662050  "
      ]
     },
     "execution_count": 77,
     "metadata": {},
     "output_type": "execute_result"
    }
   ],
   "source": [
    "test_control.groupby(['source','operative_system'])['converted'].mean().unstack('source')*100"
   ]
  },
  {
   "cell_type": "code",
   "execution_count": 79,
   "metadata": {
    "collapsed": false
   },
   "outputs": [
    {
     "data": {
      "text/plain": [
       "windows    31.367800\n",
       "iOS        30.511476\n",
       "android    23.780749\n",
       "mac         8.072926\n",
       "other       5.178393\n",
       "linux       1.088656\n",
       "Name: operative_system, dtype: float64"
      ]
     },
     "execution_count": 79,
     "metadata": {},
     "output_type": "execute_result"
    }
   ],
   "source": [
    "test_control.operative_system.value_counts(normalize= True)*100"
   ]
  },
  {
   "cell_type": "markdown",
   "metadata": {},
   "source": [
    "# Insight 2"
   ]
  },
  {
   "cell_type": "markdown",
   "metadata": {},
   "source": [
    "Insight 2: \n",
    "    1) for source itself, friend_referral gives highest conversion rate,\n",
    "        # conversion rate:friend_referral(4.17%) > seo_bing(3.00%)> ads_facebook(2.37%) > ads_google(2.26%)\n",
    "        # share(% among total visits): friend_referral(6.479%), seo_bing(0.658%),ads_facebook(16.82%), ads_google(18.67%)\n",
    "    2) for operation system alone, mac(2.547965)> ios(2.358742) gave the two high conversion rate.\n",
    "    # share  mac(8.07%), ios(30.51%)"
   ]
  },
  {
   "cell_type": "markdown",
   "metadata": {},
   "source": [
    "* ** tips1 : friend_referral is most effective way to get conversion(4.2% conversion rate, general average 1.9%). **\n",
    "    * Now it only consists of 6.5% traffic of source, <font color='green'>we should promote this friend_referral: for example, give some reward system to encourage friend referral. </font>\n",
    "\n",
    "\n",
    "* ** tip2:  operation system from mac and ios has higher conversion rate(mac: 2.55%, ios: 2.36%) and their traffic share are(mac(8.07%), ios(30.51%)). **\n",
    "     * so IOS is an important operation system, considering its conversion rate and traffic share. Therefore, so we need to make sure our site is alway compatible with IOS system. Engineer site need to put this as a top priority\n",
    "     * android system plays bad. \n",
    "     Android: (1.63% conversion rate and 23.78% traffic source). \n",
    "     Windows: (1.87% conversion rate and 31.36% traffic source).\n",
    "     ** <font color='green'> so we should send survey to android users for improvement feedbacks and then consider hire a front-end engineer to make a better android system for our site. </font>**\n",
    "\n",
    "\n",
    "* ** tip3: in terms of source from ads, ads_facebook and ads_google have higher conversion rate:  ads_facebook(2.37%) > ads_google(2.26%) and their corresponding traffic share are ads_facebook(16.82%), ads_google(18.67%) **\n",
    "     * so we should focus or spend more money on those two ads(ads_facebook and ads_google) rather than other ads_.\n",
    "     * for seo search, seo_bing turns out to have highest conversion rate(3.00%), but it only contributes to 0.66% traffic. We could discuss with engineer/marketing to promote our site on bing-search.\n"
   ]
  },
  {
   "cell_type": "code",
   "execution_count": 80,
   "metadata": {
    "collapsed": false
   },
   "outputs": [
    {
     "data": {
      "text/plain": [
       "(275616, 12)"
      ]
     },
     "execution_count": 80,
     "metadata": {},
     "output_type": "execute_result"
    }
   ],
   "source": [
    "# merge two datasets- \n",
    "# data = pd.merge(test_result, user, on = 'user_id', how = 'inner')\n",
    "data.shape"
   ]
  },
  {
   "cell_type": "code",
   "execution_count": 81,
   "metadata": {
    "collapsed": false
   },
   "outputs": [
    {
     "data": {
      "text/html": [
       "<div>\n",
       "<table border=\"1\" class=\"dataframe\">\n",
       "  <thead>\n",
       "    <tr style=\"text-align: right;\">\n",
       "      <th></th>\n",
       "      <th>user_id</th>\n",
       "      <th>timestamp</th>\n",
       "      <th>source</th>\n",
       "      <th>device</th>\n",
       "      <th>operative_system</th>\n",
       "      <th>test</th>\n",
       "      <th>price</th>\n",
       "      <th>converted</th>\n",
       "      <th>city</th>\n",
       "      <th>country</th>\n",
       "      <th>lat</th>\n",
       "      <th>long</th>\n",
       "    </tr>\n",
       "  </thead>\n",
       "  <tbody>\n",
       "    <tr>\n",
       "      <th>0</th>\n",
       "      <td>604839</td>\n",
       "      <td>2015-05-08 03:38:34</td>\n",
       "      <td>ads_facebook</td>\n",
       "      <td>mobile</td>\n",
       "      <td>iOS</td>\n",
       "      <td>0</td>\n",
       "      <td>39</td>\n",
       "      <td>0</td>\n",
       "      <td>Buffalo</td>\n",
       "      <td>USA</td>\n",
       "      <td>42.89</td>\n",
       "      <td>-78.86</td>\n",
       "    </tr>\n",
       "    <tr>\n",
       "      <th>1</th>\n",
       "      <td>624057</td>\n",
       "      <td>2015-05-10 21:08:46</td>\n",
       "      <td>seo-google</td>\n",
       "      <td>mobile</td>\n",
       "      <td>android</td>\n",
       "      <td>0</td>\n",
       "      <td>39</td>\n",
       "      <td>0</td>\n",
       "      <td>Lakeville</td>\n",
       "      <td>USA</td>\n",
       "      <td>44.68</td>\n",
       "      <td>-93.24</td>\n",
       "    </tr>\n",
       "  </tbody>\n",
       "</table>\n",
       "</div>"
      ],
      "text/plain": [
       "   user_id           timestamp        source  device operative_system  test  \\\n",
       "0   604839 2015-05-08 03:38:34  ads_facebook  mobile              iOS     0   \n",
       "1   624057 2015-05-10 21:08:46    seo-google  mobile          android     0   \n",
       "\n",
       "   price  converted       city country    lat   long  \n",
       "0     39          0    Buffalo     USA  42.89 -78.86  \n",
       "1     39          0  Lakeville     USA  44.68 -93.24  "
      ]
     },
     "execution_count": 81,
     "metadata": {},
     "output_type": "execute_result"
    }
   ],
   "source": [
    "data.head(2)"
   ]
  },
  {
   "cell_type": "code",
   "execution_count": 98,
   "metadata": {
    "collapsed": true
   },
   "outputs": [],
   "source": [
    "data_control = data[data.test == 0]\n",
    "data_test = data[data.test == 1]\n"
   ]
  },
  {
   "cell_type": "code",
   "execution_count": 134,
   "metadata": {
    "collapsed": false
   },
   "outputs": [
    {
     "data": {
      "text/plain": [
       "(176428, 99188)"
      ]
     },
     "execution_count": 134,
     "metadata": {},
     "output_type": "execute_result"
    }
   ],
   "source": [
    "data_control.shape[0], data_test.shape[0]"
   ]
  },
  {
   "cell_type": "code",
   "execution_count": 91,
   "metadata": {
    "collapsed": false
   },
   "outputs": [
    {
     "data": {
      "text/plain": [
       "New York        9.341983\n",
       "Chicago         2.595277\n",
       "Houston         2.433095\n",
       "San Antonio     1.680962\n",
       "Los Angeles     1.502453\n",
       "San Jose        1.216910\n",
       "Indianapolis    1.167204\n",
       "Jacksonville    1.054003\n",
       "Philadelphia    0.921935\n",
       "Las Vegas       0.880210\n",
       "Name: city, dtype: float64"
      ]
     },
     "execution_count": 91,
     "metadata": {},
     "output_type": "execute_result"
    }
   ],
   "source": [
    "# top 10 most used cities\n",
    "data.city.value_counts(normalize = True)[:10]*100"
   ]
  },
  {
   "cell_type": "code",
   "execution_count": 129,
   "metadata": {
    "collapsed": false
   },
   "outputs": [],
   "source": [
    "# this is the list of top 10 most-used cities\n",
    "city_top10 = data.city.value_counts(normalize = True).index[:10]\n",
    "city_top10 = pd.Series(city_top10)\n",
    "\n",
    "city_share = pd.Series(data.city.value_counts(normalize = True).values[:10]*100)\n",
    "conversion_top10 = []\n",
    "for city in city_top10:\n",
    "    conversion_top10.append(data_control[data_control.city == city]['converted'].mean()*100)\n",
    "conversion_top10 = pd.Series(conversion_top10) "
   ]
  },
  {
   "cell_type": "code",
   "execution_count": 130,
   "metadata": {
    "collapsed": false
   },
   "outputs": [
    {
     "data": {
      "text/plain": [
       "0    9.341983\n",
       "1    2.595277\n",
       "2    2.433095\n",
       "3    1.680962\n",
       "4    1.502453\n",
       "5    1.216910\n",
       "6    1.167204\n",
       "7    1.054003\n",
       "8    0.921935\n",
       "9    0.880210\n",
       "dtype: float64"
      ]
     },
     "execution_count": 130,
     "metadata": {},
     "output_type": "execute_result"
    }
   ],
   "source": [
    "city_share"
   ]
  },
  {
   "cell_type": "code",
   "execution_count": 116,
   "metadata": {
    "collapsed": false,
    "scrolled": true
   },
   "outputs": [],
   "source": [
    "rank = pd.Series(range(1,11))"
   ]
  },
  {
   "cell_type": "code",
   "execution_count": 132,
   "metadata": {
    "collapsed": false
   },
   "outputs": [
    {
     "data": {
      "text/html": [
       "<div>\n",
       "<table border=\"1\" class=\"dataframe\">\n",
       "  <thead>\n",
       "    <tr style=\"text-align: right;\">\n",
       "      <th></th>\n",
       "      <th>city</th>\n",
       "      <th>conversion_rate</th>\n",
       "      <th>rank</th>\n",
       "      <th>city_share</th>\n",
       "    </tr>\n",
       "  </thead>\n",
       "  <tbody>\n",
       "    <tr>\n",
       "      <th>8</th>\n",
       "      <td>Philadelphia</td>\n",
       "      <td>2.123786</td>\n",
       "      <td>9</td>\n",
       "      <td>0.921935</td>\n",
       "    </tr>\n",
       "    <tr>\n",
       "      <th>4</th>\n",
       "      <td>Los Angeles</td>\n",
       "      <td>2.122016</td>\n",
       "      <td>5</td>\n",
       "      <td>1.502453</td>\n",
       "    </tr>\n",
       "    <tr>\n",
       "      <th>3</th>\n",
       "      <td>San Antonio</td>\n",
       "      <td>2.008169</td>\n",
       "      <td>4</td>\n",
       "      <td>1.680962</td>\n",
       "    </tr>\n",
       "    <tr>\n",
       "      <th>2</th>\n",
       "      <td>Houston</td>\n",
       "      <td>1.946073</td>\n",
       "      <td>3</td>\n",
       "      <td>2.433095</td>\n",
       "    </tr>\n",
       "    <tr>\n",
       "      <th>0</th>\n",
       "      <td>New York</td>\n",
       "      <td>1.852522</td>\n",
       "      <td>1</td>\n",
       "      <td>9.341983</td>\n",
       "    </tr>\n",
       "    <tr>\n",
       "      <th>9</th>\n",
       "      <td>Las Vegas</td>\n",
       "      <td>1.651255</td>\n",
       "      <td>10</td>\n",
       "      <td>0.880210</td>\n",
       "    </tr>\n",
       "    <tr>\n",
       "      <th>7</th>\n",
       "      <td>Jacksonville</td>\n",
       "      <td>1.637612</td>\n",
       "      <td>8</td>\n",
       "      <td>1.054003</td>\n",
       "    </tr>\n",
       "    <tr>\n",
       "      <th>5</th>\n",
       "      <td>San Jose</td>\n",
       "      <td>1.608325</td>\n",
       "      <td>6</td>\n",
       "      <td>1.216910</td>\n",
       "    </tr>\n",
       "    <tr>\n",
       "      <th>6</th>\n",
       "      <td>Indianapolis</td>\n",
       "      <td>1.470588</td>\n",
       "      <td>7</td>\n",
       "      <td>1.167204</td>\n",
       "    </tr>\n",
       "    <tr>\n",
       "      <th>1</th>\n",
       "      <td>Chicago</td>\n",
       "      <td>1.436657</td>\n",
       "      <td>2</td>\n",
       "      <td>2.595277</td>\n",
       "    </tr>\n",
       "  </tbody>\n",
       "</table>\n",
       "</div>"
      ],
      "text/plain": [
       "           city  conversion_rate  rank  city_share\n",
       "8  Philadelphia         2.123786     9    0.921935\n",
       "4   Los Angeles         2.122016     5    1.502453\n",
       "3   San Antonio         2.008169     4    1.680962\n",
       "2       Houston         1.946073     3    2.433095\n",
       "0      New York         1.852522     1    9.341983\n",
       "9     Las Vegas         1.651255    10    0.880210\n",
       "7  Jacksonville         1.637612     8    1.054003\n",
       "5      San Jose         1.608325     6    1.216910\n",
       "6  Indianapolis         1.470588     7    1.167204\n",
       "1       Chicago         1.436657     2    2.595277"
      ]
     },
     "execution_count": 132,
     "metadata": {},
     "output_type": "execute_result"
    }
   ],
   "source": [
    "city_top10_df = pd.concat([city_top10,conversion_top10, rank, city_share],axis = 1,\n",
    "                          ignore_index= True)\n",
    "city_top10_df.columns = ['city','conversion_rate','rank','city_share']\n",
    "city_top10_df.sort_values(by = 'conversion_rate', ascending= 0)"
   ]
  },
  {
   "cell_type": "markdown",
   "metadata": {},
   "source": [
    "# Insight 3"
   ]
  },
  {
   "cell_type": "markdown",
   "metadata": {},
   "source": [
    "* Geographic exploration:\n",
    "    * 1) this data is US only( 923 cities)\n",
    "    * 2) Major cities are New York(9.34%), Chicago(2.59%),Houston(2.43%),San Antonio(1.7%), which contribute to 13.63% of total traffic.\n"
   ]
  },
  {
   "cell_type": "markdown",
   "metadata": {},
   "source": [
    "However these three major cities' conversion rates are all below average 1.99%. \n",
    "   1. New York (1.85%), Chicago (1.43%), Houston (1.95%). These should be our main focus to increase conversion rate.\n",
    "   2. <font color = 'red'>We should talk with regional managers and improve those three cities as a priority. For example, we could learn useful tips from other cities and apply to these three top cities.</font>\n",
    "   "
   ]
  },
  {
   "cell_type": "code",
   "execution_count": null,
   "metadata": {
    "collapsed": true
   },
   "outputs": [],
   "source": [
    "# use NY as an example: android system doesn't play well "
   ]
  },
  {
   "cell_type": "code",
   "execution_count": 138,
   "metadata": {
    "collapsed": false
   },
   "outputs": [
    {
     "data": {
      "text/plain": [
       "device\n",
       "mobile    0.017484\n",
       "web       0.016817\n",
       "Name: converted, dtype: float64"
      ]
     },
     "execution_count": 138,
     "metadata": {},
     "output_type": "execute_result"
    }
   ],
   "source": [
    "NY = data[data.city == 'New York']\n",
    "NY.groupby(['device'])['converted'].mean()"
   ]
  },
  {
   "cell_type": "code",
   "execution_count": 157,
   "metadata": {
    "collapsed": false
   },
   "outputs": [
    {
     "data": {
      "text/plain": [
       "direct_traffic     0.195005\n",
       "ads-google         0.185490\n",
       "ads_facebook       0.165450\n",
       "ads_other          0.095464\n",
       "seo-google         0.070607\n",
       "ads-bing           0.069753\n",
       "seo_facebook       0.069326\n",
       "friend_referral    0.065947\n",
       "seo-other          0.029633\n",
       "ads-yahoo          0.025050\n",
       "seo-yahoo          0.019885\n",
       "seo-bing           0.008389\n",
       "Name: source, dtype: float64"
      ]
     },
     "execution_count": 157,
     "metadata": {},
     "output_type": "execute_result"
    }
   ],
   "source": [
    "NY.source.value_counts(normalize= True)"
   ]
  },
  {
   "cell_type": "code",
   "execution_count": 152,
   "metadata": {
    "collapsed": false
   },
   "outputs": [
    {
     "data": {
      "text/html": [
       "<div>\n",
       "<table border=\"1\" class=\"dataframe\">\n",
       "  <thead>\n",
       "    <tr style=\"text-align: right;\">\n",
       "      <th></th>\n",
       "      <th>user_id</th>\n",
       "      <th>timestamp</th>\n",
       "      <th>source</th>\n",
       "      <th>device</th>\n",
       "      <th>operative_system</th>\n",
       "      <th>test</th>\n",
       "      <th>price</th>\n",
       "      <th>converted</th>\n",
       "      <th>city</th>\n",
       "      <th>country</th>\n",
       "      <th>lat</th>\n",
       "      <th>long</th>\n",
       "    </tr>\n",
       "  </thead>\n",
       "  <tbody>\n",
       "    <tr>\n",
       "      <th>5</th>\n",
       "      <td>169971</td>\n",
       "      <td>2015-04-13 12:07:08</td>\n",
       "      <td>ads-google</td>\n",
       "      <td>mobile</td>\n",
       "      <td>iOS</td>\n",
       "      <td>0</td>\n",
       "      <td>39</td>\n",
       "      <td>0</td>\n",
       "      <td>New York</td>\n",
       "      <td>USA</td>\n",
       "      <td>40.67</td>\n",
       "      <td>-73.94</td>\n",
       "    </tr>\n",
       "    <tr>\n",
       "      <th>18</th>\n",
       "      <td>747762</td>\n",
       "      <td>2015-04-04 23:10:20</td>\n",
       "      <td>ads_facebook</td>\n",
       "      <td>mobile</td>\n",
       "      <td>iOS</td>\n",
       "      <td>0</td>\n",
       "      <td>39</td>\n",
       "      <td>0</td>\n",
       "      <td>New York</td>\n",
       "      <td>USA</td>\n",
       "      <td>40.67</td>\n",
       "      <td>-73.94</td>\n",
       "    </tr>\n",
       "  </tbody>\n",
       "</table>\n",
       "</div>"
      ],
      "text/plain": [
       "    user_id           timestamp        source  device operative_system  test  \\\n",
       "5    169971 2015-04-13 12:07:08    ads-google  mobile              iOS     0   \n",
       "18   747762 2015-04-04 23:10:20  ads_facebook  mobile              iOS     0   \n",
       "\n",
       "    price  converted      city country    lat   long  \n",
       "5      39          0  New York     USA  40.67 -73.94  \n",
       "18     39          0  New York     USA  40.67 -73.94  "
      ]
     },
     "execution_count": 152,
     "metadata": {},
     "output_type": "execute_result"
    }
   ],
   "source": [
    "NY_sub = NY[NY.source.isin(['direct_traffic','ads-google','ads_facebook',\n",
    "                          'friend_referral','seo-bing'])]\n",
    "NY_sub[:2]"
   ]
  },
  {
   "cell_type": "code",
   "execution_count": 162,
   "metadata": {
    "collapsed": false
   },
   "outputs": [
    {
     "data": {
      "text/html": [
       "<div>\n",
       "<table border=\"1\" class=\"dataframe\">\n",
       "  <thead>\n",
       "    <tr style=\"text-align: right;\">\n",
       "      <th></th>\n",
       "      <th>mean</th>\n",
       "      <th>count</th>\n",
       "    </tr>\n",
       "    <tr>\n",
       "      <th>operative_system</th>\n",
       "      <th></th>\n",
       "      <th></th>\n",
       "    </tr>\n",
       "  </thead>\n",
       "  <tbody>\n",
       "    <tr>\n",
       "      <th>windows</th>\n",
       "      <td>0.020594</td>\n",
       "      <td>5050</td>\n",
       "    </tr>\n",
       "    <tr>\n",
       "      <th>iOS</th>\n",
       "      <td>0.020374</td>\n",
       "      <td>4810</td>\n",
       "    </tr>\n",
       "    <tr>\n",
       "      <th>android</th>\n",
       "      <td>0.017103</td>\n",
       "      <td>3742</td>\n",
       "    </tr>\n",
       "    <tr>\n",
       "      <th>mac</th>\n",
       "      <td>0.019722</td>\n",
       "      <td>1369</td>\n",
       "    </tr>\n",
       "    <tr>\n",
       "      <th>other</th>\n",
       "      <td>0.013530</td>\n",
       "      <td>813</td>\n",
       "    </tr>\n",
       "    <tr>\n",
       "      <th>linux</th>\n",
       "      <td>0.000000</td>\n",
       "      <td>187</td>\n",
       "    </tr>\n",
       "  </tbody>\n",
       "</table>\n",
       "</div>"
      ],
      "text/plain": [
       "                      mean  count\n",
       "operative_system                 \n",
       "windows           0.020594   5050\n",
       "iOS               0.020374   4810\n",
       "android           0.017103   3742\n",
       "mac               0.019722   1369\n",
       "other             0.013530    813\n",
       "linux             0.000000    187"
      ]
     },
     "execution_count": 162,
     "metadata": {},
     "output_type": "execute_result"
    }
   ],
   "source": [
    "NY_sub.groupby('operative_system')['converted'].agg(['mean','count']).sort_values('count',ascending = False)"
   ]
  },
  {
   "cell_type": "code",
   "execution_count": 167,
   "metadata": {
    "collapsed": false
   },
   "outputs": [
    {
     "data": {
      "text/html": [
       "<div>\n",
       "<table border=\"1\" class=\"dataframe\">\n",
       "  <thead>\n",
       "    <tr style=\"text-align: right;\">\n",
       "      <th></th>\n",
       "      <th></th>\n",
       "      <th>mean</th>\n",
       "      <th>std</th>\n",
       "    </tr>\n",
       "    <tr>\n",
       "      <th>source</th>\n",
       "      <th>operative_system</th>\n",
       "      <th></th>\n",
       "      <th></th>\n",
       "    </tr>\n",
       "  </thead>\n",
       "  <tbody>\n",
       "    <tr>\n",
       "      <th>direct_traffic</th>\n",
       "      <th>android</th>\n",
       "      <td>0.008722</td>\n",
       "      <td>0.092989</td>\n",
       "    </tr>\n",
       "  </tbody>\n",
       "</table>\n",
       "</div>"
      ],
      "text/plain": [
       "                                     mean       std\n",
       "source         operative_system                    \n",
       "direct_traffic android           0.008722  0.092989"
      ]
     },
     "execution_count": 167,
     "metadata": {},
     "output_type": "execute_result"
    }
   ],
   "source": [
    "a = data_control[data_control.operative_system == 'android']\n",
    "a = a[a.source == 'direct_traffic']\n",
    "a.groupby(['source','operative_system'])['converted'].agg(['mean','std'])"
   ]
  },
  {
   "cell_type": "code",
   "execution_count": 156,
   "metadata": {
    "collapsed": false
   },
   "outputs": [
    {
     "data": {
      "text/html": [
       "<div>\n",
       "<table border=\"1\" class=\"dataframe\">\n",
       "  <thead>\n",
       "    <tr style=\"text-align: right;\">\n",
       "      <th></th>\n",
       "      <th></th>\n",
       "      <th>conversion_mean</th>\n",
       "      <th>conversion_std</th>\n",
       "    </tr>\n",
       "    <tr>\n",
       "      <th>source</th>\n",
       "      <th>operative_system</th>\n",
       "      <th></th>\n",
       "      <th></th>\n",
       "    </tr>\n",
       "  </thead>\n",
       "  <tbody>\n",
       "    <tr>\n",
       "      <th rowspan=\"6\" valign=\"top\">ads-google</th>\n",
       "      <th>android</th>\n",
       "      <td>1.693405</td>\n",
       "      <td>12.908189</td>\n",
       "    </tr>\n",
       "    <tr>\n",
       "      <th>iOS</th>\n",
       "      <td>1.986755</td>\n",
       "      <td>13.959131</td>\n",
       "    </tr>\n",
       "    <tr>\n",
       "      <th>linux</th>\n",
       "      <td>0.000000</td>\n",
       "      <td>0.000000</td>\n",
       "    </tr>\n",
       "    <tr>\n",
       "      <th>mac</th>\n",
       "      <td>2.717391</td>\n",
       "      <td>16.281131</td>\n",
       "    </tr>\n",
       "    <tr>\n",
       "      <th>other</th>\n",
       "      <td>0.847458</td>\n",
       "      <td>9.186139</td>\n",
       "    </tr>\n",
       "    <tr>\n",
       "      <th>windows</th>\n",
       "      <td>1.889339</td>\n",
       "      <td>13.619451</td>\n",
       "    </tr>\n",
       "    <tr>\n",
       "      <th rowspan=\"6\" valign=\"top\">ads_facebook</th>\n",
       "      <th>android</th>\n",
       "      <td>1.668302</td>\n",
       "      <td>12.814372</td>\n",
       "    </tr>\n",
       "    <tr>\n",
       "      <th>iOS</th>\n",
       "      <td>1.957713</td>\n",
       "      <td>13.859622</td>\n",
       "    </tr>\n",
       "    <tr>\n",
       "      <th>linux</th>\n",
       "      <td>0.000000</td>\n",
       "      <td>0.000000</td>\n",
       "    </tr>\n",
       "    <tr>\n",
       "      <th>mac</th>\n",
       "      <td>2.122016</td>\n",
       "      <td>14.430905</td>\n",
       "    </tr>\n",
       "    <tr>\n",
       "      <th>other</th>\n",
       "      <td>0.836820</td>\n",
       "      <td>9.128549</td>\n",
       "    </tr>\n",
       "    <tr>\n",
       "      <th>windows</th>\n",
       "      <td>2.249806</td>\n",
       "      <td>14.835421</td>\n",
       "    </tr>\n",
       "    <tr>\n",
       "      <th rowspan=\"6\" valign=\"top\">direct_traffic</th>\n",
       "      <th>android</th>\n",
       "      <td>0.922045</td>\n",
       "      <td>9.561956</td>\n",
       "    </tr>\n",
       "    <tr>\n",
       "      <th>iOS</th>\n",
       "      <td>1.618578</td>\n",
       "      <td>12.623399</td>\n",
       "    </tr>\n",
       "    <tr>\n",
       "      <th>linux</th>\n",
       "      <td>0.000000</td>\n",
       "      <td>0.000000</td>\n",
       "    </tr>\n",
       "    <tr>\n",
       "      <th>mac</th>\n",
       "      <td>1.398601</td>\n",
       "      <td>11.756966</td>\n",
       "    </tr>\n",
       "    <tr>\n",
       "      <th>other</th>\n",
       "      <td>1.176471</td>\n",
       "      <td>10.803736</td>\n",
       "    </tr>\n",
       "    <tr>\n",
       "      <th>windows</th>\n",
       "      <td>1.367420</td>\n",
       "      <td>11.616900</td>\n",
       "    </tr>\n",
       "    <tr>\n",
       "      <th rowspan=\"6\" valign=\"top\">friend_referral</th>\n",
       "      <th>android</th>\n",
       "      <td>4.569892</td>\n",
       "      <td>20.911261</td>\n",
       "    </tr>\n",
       "    <tr>\n",
       "      <th>iOS</th>\n",
       "      <td>3.159851</td>\n",
       "      <td>17.509149</td>\n",
       "    </tr>\n",
       "    <tr>\n",
       "      <th>linux</th>\n",
       "      <td>0.000000</td>\n",
       "      <td>0.000000</td>\n",
       "    </tr>\n",
       "    <tr>\n",
       "      <th>mac</th>\n",
       "      <td>1.840491</td>\n",
       "      <td>13.482465</td>\n",
       "    </tr>\n",
       "    <tr>\n",
       "      <th>other</th>\n",
       "      <td>4.109589</td>\n",
       "      <td>19.988581</td>\n",
       "    </tr>\n",
       "    <tr>\n",
       "      <th>windows</th>\n",
       "      <td>4.166667</td>\n",
       "      <td>20.001581</td>\n",
       "    </tr>\n",
       "    <tr>\n",
       "      <th rowspan=\"6\" valign=\"top\">seo-bing</th>\n",
       "      <th>android</th>\n",
       "      <td>0.000000</td>\n",
       "      <td>0.000000</td>\n",
       "    </tr>\n",
       "    <tr>\n",
       "      <th>iOS</th>\n",
       "      <td>4.687500</td>\n",
       "      <td>21.304203</td>\n",
       "    </tr>\n",
       "    <tr>\n",
       "      <th>linux</th>\n",
       "      <td>0.000000</td>\n",
       "      <td>0.000000</td>\n",
       "    </tr>\n",
       "    <tr>\n",
       "      <th>mac</th>\n",
       "      <td>0.000000</td>\n",
       "      <td>0.000000</td>\n",
       "    </tr>\n",
       "    <tr>\n",
       "      <th>other</th>\n",
       "      <td>10.000000</td>\n",
       "      <td>31.622777</td>\n",
       "    </tr>\n",
       "    <tr>\n",
       "      <th>windows</th>\n",
       "      <td>2.898551</td>\n",
       "      <td>16.899482</td>\n",
       "    </tr>\n",
       "  </tbody>\n",
       "</table>\n",
       "</div>"
      ],
      "text/plain": [
       "                                  conversion_mean  conversion_std\n",
       "source          operative_system                                 \n",
       "ads-google      android                  1.693405       12.908189\n",
       "                iOS                      1.986755       13.959131\n",
       "                linux                    0.000000        0.000000\n",
       "                mac                      2.717391       16.281131\n",
       "                other                    0.847458        9.186139\n",
       "                windows                  1.889339       13.619451\n",
       "ads_facebook    android                  1.668302       12.814372\n",
       "                iOS                      1.957713       13.859622\n",
       "                linux                    0.000000        0.000000\n",
       "                mac                      2.122016       14.430905\n",
       "                other                    0.836820        9.128549\n",
       "                windows                  2.249806       14.835421\n",
       "direct_traffic  android                  0.922045        9.561956\n",
       "                iOS                      1.618578       12.623399\n",
       "                linux                    0.000000        0.000000\n",
       "                mac                      1.398601       11.756966\n",
       "                other                    1.176471       10.803736\n",
       "                windows                  1.367420       11.616900\n",
       "friend_referral android                  4.569892       20.911261\n",
       "                iOS                      3.159851       17.509149\n",
       "                linux                    0.000000        0.000000\n",
       "                mac                      1.840491       13.482465\n",
       "                other                    4.109589       19.988581\n",
       "                windows                  4.166667       20.001581\n",
       "seo-bing        android                  0.000000        0.000000\n",
       "                iOS                      4.687500       21.304203\n",
       "                linux                    0.000000        0.000000\n",
       "                mac                      0.000000        0.000000\n",
       "                other                   10.000000       31.622777\n",
       "                windows                  2.898551       16.899482"
      ]
     },
     "execution_count": 156,
     "metadata": {},
     "output_type": "execute_result"
    }
   ],
   "source": [
    "NY_sub.groupby(['source','operative_system'])['converted'].agg(['mean','std']).add_prefix('conversion_')*100"
   ]
  },
  {
   "cell_type": "markdown",
   "metadata": {},
   "source": [
    "# Power Analysis"
   ]
  },
  {
   "cell_type": "code",
   "execution_count": null,
   "metadata": {
    "collapsed": true
   },
   "outputs": [],
   "source": []
  },
  {
   "cell_type": "code",
   "execution_count": 91,
   "metadata": {
    "collapsed": false
   },
   "outputs": [
    {
     "data": {
      "text/plain": [
       "0.8416212335729143"
      ]
     },
     "execution_count": 91,
     "metadata": {},
     "output_type": "execute_result"
    }
   ],
   "source": [
    "# calculate z score for power 80%\n",
    "stats.norm.ppf(0.8) # Z(power) = 0.84"
   ]
  },
  {
   "cell_type": "markdown",
   "metadata": {},
   "source": [
    "For power analysis:\n",
    "\n",
    "\n",
    "Standard Error(SE) = $ (\\frac{sd\\_control ^2}{n\\_control} + \\frac{sd\\_test ^2}{n\\_test)} )^{0.5}$\n",
    "\n",
    "sd_control = 5.45\n",
    "- assume sd\\_control = sd\\_test\n",
    "- diff = mu\\_test - mu\\_control = 0.78 * 10% = 0.08(practical detectable effect 10% of control) \n",
    "Z_alpha = 1.65 (one-tail) and Z_beta = 0.84\n",
    "\n",
    "1. $(Z_\\alpha + Z_\\beta)*SE = diff = 0.08 $\n",
    "2. $ \\frac{n\\_control}{n\\_test} = 1.8 $\n",
    "3. $ n\\_total = n\\_control + n\\_test $\n",
    "\n"
   ]
  },
  {
   "cell_type": "code",
   "execution_count": 92,
   "metadata": {
    "collapsed": false
   },
   "outputs": [
    {
     "data": {
      "text/plain": [
       "1438.0960416666667"
      ]
     },
     "execution_count": 92,
     "metadata": {},
     "output_type": "execute_result"
    }
   ],
   "source": [
    "5.45**2*2.8*2.49/1.8/0.08"
   ]
  },
  {
   "cell_type": "code",
   "execution_count": null,
   "metadata": {
    "collapsed": true
   },
   "outputs": [],
   "source": []
  }
 ],
 "metadata": {
  "kernelspec": {
   "display_name": "Python [default]",
   "language": "python",
   "name": "python2"
  },
  "language_info": {
   "codemirror_mode": {
    "name": "ipython",
    "version": 2
   },
   "file_extension": ".py",
   "mimetype": "text/x-python",
   "name": "python",
   "nbconvert_exporter": "python",
   "pygments_lexer": "ipython2",
   "version": "2.7.13"
  }
 },
 "nbformat": 4,
 "nbformat_minor": 2
}
