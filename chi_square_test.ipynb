{
 "cells": [
  {
   "cell_type": "code",
   "execution_count": 1,
   "metadata": {
    "collapsed": true
   },
   "outputs": [],
   "source": [
    "import pandas as pd\n",
    "import numpy as np\n",
    "from scipy import stats"
   ]
  },
  {
   "cell_type": "code",
   "execution_count": 11,
   "metadata": {},
   "outputs": [
    {
     "data": {
      "text/html": [
       "<div>\n",
       "<style>\n",
       "    .dataframe thead tr:only-child th {\n",
       "        text-align: right;\n",
       "    }\n",
       "\n",
       "    .dataframe thead th {\n",
       "        text-align: left;\n",
       "    }\n",
       "\n",
       "    .dataframe tbody tr th {\n",
       "        vertical-align: top;\n",
       "    }\n",
       "</style>\n",
       "<table border=\"1\" class=\"dataframe\">\n",
       "  <thead>\n",
       "    <tr style=\"text-align: right;\">\n",
       "      <th></th>\n",
       "      <th>devices</th>\n",
       "      <th>opt_ins</th>\n",
       "      <th>not_opt_ins</th>\n",
       "    </tr>\n",
       "    <tr>\n",
       "      <th>ab_test_name</th>\n",
       "      <th></th>\n",
       "      <th></th>\n",
       "      <th></th>\n",
       "    </tr>\n",
       "  </thead>\n",
       "  <tbody>\n",
       "    <tr>\n",
       "      <th>Control</th>\n",
       "      <td>249135</td>\n",
       "      <td>224</td>\n",
       "      <td>248911</td>\n",
       "    </tr>\n",
       "    <tr>\n",
       "      <th>upsell</th>\n",
       "      <td>621864</td>\n",
       "      <td>1012</td>\n",
       "      <td>620852</td>\n",
       "    </tr>\n",
       "    <tr>\n",
       "      <th>upsell_discout_churn</th>\n",
       "      <td>621100</td>\n",
       "      <td>987</td>\n",
       "      <td>620113</td>\n",
       "    </tr>\n",
       "  </tbody>\n",
       "</table>\n",
       "</div>"
      ],
      "text/plain": [
       "                      devices  opt_ins  not_opt_ins\n",
       "ab_test_name                                       \n",
       "Control                249135      224       248911\n",
       "upsell                 621864     1012       620852\n",
       "upsell_discout_churn   621100      987       620113"
      ]
     },
     "execution_count": 11,
     "metadata": {},
     "output_type": "execute_result"
    }
   ],
   "source": [
    "###change path below####\n",
    "path = 'chi_example.csv' \n",
    "\n",
    "data = pd.read_csv(path)\n",
    "data.set_index(['ab_test_name'],inplace=True)\n",
    "data"
   ]
  },
  {
   "cell_type": "code",
   "execution_count": 12,
   "metadata": {},
   "outputs": [
    {
     "data": {
      "text/html": [
       "<div>\n",
       "<style>\n",
       "    .dataframe thead tr:only-child th {\n",
       "        text-align: right;\n",
       "    }\n",
       "\n",
       "    .dataframe thead th {\n",
       "        text-align: left;\n",
       "    }\n",
       "\n",
       "    .dataframe tbody tr th {\n",
       "        vertical-align: top;\n",
       "    }\n",
       "</style>\n",
       "<table border=\"1\" class=\"dataframe\">\n",
       "  <thead>\n",
       "    <tr style=\"text-align: right;\">\n",
       "      <th>ab_test_name</th>\n",
       "      <th>Control</th>\n",
       "      <th>upsell</th>\n",
       "      <th>upsell_discout_churn</th>\n",
       "    </tr>\n",
       "  </thead>\n",
       "  <tbody>\n",
       "    <tr>\n",
       "      <th>opt_ins</th>\n",
       "      <td>224</td>\n",
       "      <td>1012</td>\n",
       "      <td>987</td>\n",
       "    </tr>\n",
       "    <tr>\n",
       "      <th>not_opt_ins</th>\n",
       "      <td>248911</td>\n",
       "      <td>620852</td>\n",
       "      <td>620113</td>\n",
       "    </tr>\n",
       "  </tbody>\n",
       "</table>\n",
       "</div>"
      ],
      "text/plain": [
       "ab_test_name  Control  upsell  upsell_discout_churn\n",
       "opt_ins           224    1012                   987\n",
       "not_opt_ins    248911  620852                620113"
      ]
     },
     "execution_count": 12,
     "metadata": {},
     "output_type": "execute_result"
    }
   ],
   "source": [
    "data_stats = data[['opt_ins', 'not_opt_ins']].transpose()\n",
    "data_stats"
   ]
  },
  {
   "cell_type": "code",
   "execution_count": 35,
   "metadata": {},
   "outputs": [
    {
     "name": "stdout",
     "output_type": "stream",
     "text": [
      "chi square results below:\n",
      "\n",
      "############################################################\n",
      "\n",
      "     Result for this experiment is \u001b[1mSIGNIFICANT\u001b[0;0m\n",
      "\n",
      "1) the p_value for opt-ins rate is: 0.00000\n",
      "2) chi_square for opt-ins rate is 66.06\n",
      "3) degree of freedom for opt-ins rate is 1\n",
      "\n",
      "############################################################\n"
     ]
    }
   ],
   "source": [
    "\n",
    "############################################################\n",
    "\n",
    "####enter parameters below and do chi_square analysis#######\n",
    "\n",
    "############################################################\n",
    "\n",
    "df = data_stats\n",
    "control_name = 'Control' # change to your experiment group name\n",
    "test_name = 'upsell'# change to your experiment group name\n",
    "metric = 'opt-ins rate' #change to your metric name\n",
    "\n",
    "\n",
    "############################################################\n",
    "######chi_2 analysis(no need to change below)###############\n",
    "############################################################\n",
    "\n",
    "observed_1 = data_stats [[control_name ,test_name]] \n",
    "chi_square, p_value, degree_of_freedom, ob_df = stats.chi2_contingency(observed= observed_1)\n",
    "\n",
    "if p_value < 0.05:\n",
    "    sig = 'significant'\n",
    "else:\n",
    "    sig = 'not significant'\n",
    "\n",
    "start = \"\\033[1m\"\n",
    "end = \"\\033[0;0m\"\n",
    "\n",
    "\n",
    "print 'chi square results below:'\n",
    "print ''\n",
    "print '############################################################'\n",
    "print ''\n",
    "print '     Result for this experiment is %s' % (start + sig.upper() + end)\n",
    "print ''\n",
    "print '1) the p_value for %s is: %.5f' % (metric, p_value)\n",
    "print '2) chi_square for %s is %.2f' % (metric, chi_square)\n",
    "print '3) degree of freedom for %s is %d'  % (metric, degree_of_freedom)\n",
    "print ''\n",
    "print '############################################################'\n"
   ]
  },
  {
   "cell_type": "code",
   "execution_count": 3,
   "metadata": {},
   "outputs": [
    {
     "data": {
      "text/plain": [
       "23.82"
      ]
     },
     "execution_count": 3,
     "metadata": {},
     "output_type": "execute_result"
    }
   ],
   "source": []
  },
  {
   "cell_type": "markdown",
   "metadata": {
    "collapsed": true
   },
   "source": [
    "# additional notes: \n"
   ]
  },
  {
   "cell_type": "markdown",
   "metadata": {},
   "source": [
    "**  1) for the observed dataframe, it doesn't matter if you transpose or not. **"
   ]
  },
  {
   "cell_type": "code",
   "execution_count": null,
   "metadata": {
    "collapsed": true
   },
   "outputs": [],
   "source": [
    "# practice(transposing contingence table or not doesn't matter to the final chi2 test result, it is the same)"
   ]
  },
  {
   "cell_type": "code",
   "execution_count": 4,
   "metadata": {},
   "outputs": [
    {
     "name": "stderr",
     "output_type": "stream",
     "text": [
      "/Users/xduan/anaconda2/lib/python2.7/site-packages/ipykernel_launcher.py:22: DeprecationWarning: \n",
      ".ix is deprecated. Please use\n",
      ".loc for label based indexing or\n",
      ".iloc for positional indexing\n",
      "\n",
      "See the documentation here:\n",
      "http://pandas.pydata.org/pandas-docs/stable/indexing.html#ix-indexer-is-deprecated\n"
     ]
    },
    {
     "data": {
      "text/html": [
       "<div>\n",
       "<style>\n",
       "    .dataframe thead tr:only-child th {\n",
       "        text-align: right;\n",
       "    }\n",
       "\n",
       "    .dataframe thead th {\n",
       "        text-align: left;\n",
       "    }\n",
       "\n",
       "    .dataframe tbody tr th {\n",
       "        vertical-align: top;\n",
       "    }\n",
       "</style>\n",
       "<table border=\"1\" class=\"dataframe\">\n",
       "  <thead>\n",
       "    <tr style=\"text-align: right;\">\n",
       "      <th></th>\n",
       "      <th>democrat</th>\n",
       "      <th>independent</th>\n",
       "      <th>republican</th>\n",
       "      <th>row_totals</th>\n",
       "    </tr>\n",
       "  </thead>\n",
       "  <tbody>\n",
       "    <tr>\n",
       "      <th>asian</th>\n",
       "      <td>21</td>\n",
       "      <td>7</td>\n",
       "      <td>32</td>\n",
       "      <td>60</td>\n",
       "    </tr>\n",
       "    <tr>\n",
       "      <th>black</th>\n",
       "      <td>65</td>\n",
       "      <td>25</td>\n",
       "      <td>64</td>\n",
       "      <td>154</td>\n",
       "    </tr>\n",
       "    <tr>\n",
       "      <th>hispanic</th>\n",
       "      <td>107</td>\n",
       "      <td>50</td>\n",
       "      <td>94</td>\n",
       "      <td>251</td>\n",
       "    </tr>\n",
       "    <tr>\n",
       "      <th>other</th>\n",
       "      <td>15</td>\n",
       "      <td>8</td>\n",
       "      <td>15</td>\n",
       "      <td>38</td>\n",
       "    </tr>\n",
       "    <tr>\n",
       "      <th>white</th>\n",
       "      <td>189</td>\n",
       "      <td>96</td>\n",
       "      <td>212</td>\n",
       "      <td>497</td>\n",
       "    </tr>\n",
       "    <tr>\n",
       "      <th>col_totals</th>\n",
       "      <td>397</td>\n",
       "      <td>186</td>\n",
       "      <td>417</td>\n",
       "      <td>1000</td>\n",
       "    </tr>\n",
       "  </tbody>\n",
       "</table>\n",
       "</div>"
      ],
      "text/plain": [
       "            democrat  independent  republican  row_totals\n",
       "asian             21            7          32          60\n",
       "black             65           25          64         154\n",
       "hispanic         107           50          94         251\n",
       "other             15            8          15          38\n",
       "white            189           96         212         497\n",
       "col_totals       397          186         417        1000"
      ]
     },
     "execution_count": 4,
     "metadata": {},
     "output_type": "execute_result"
    }
   ],
   "source": [
    "np.random.seed(10)\n",
    "\n",
    "# Sample data randomly at fixed probabilities\n",
    "voter_race = np.random.choice(a= [\"asian\",\"black\",\"hispanic\",\"other\",\"white\"],\n",
    "                              p = [0.05, 0.15 ,0.25, 0.05, 0.5],\n",
    "                              size=1000)\n",
    "\n",
    "# Sample data randomly at fixed probabilities\n",
    "voter_party = np.random.choice(a= [\"democrat\",\"independent\",\"republican\"],\n",
    "                              p = [0.4, 0.2, 0.4],\n",
    "                              size=1000)\n",
    "\n",
    "voters = pd.DataFrame({\"race\":voter_race, \n",
    "                       \"party\":voter_party})\n",
    "\n",
    "voter_tab = pd.crosstab(voters.race, voters.party, margins = True)\n",
    "\n",
    "voter_tab.columns = [\"democrat\",\"independent\",\"republican\",\"row_totals\"]\n",
    "\n",
    "voter_tab.index = [\"asian\",\"black\",\"hispanic\",\"other\",\"white\",\"col_totals\"]\n",
    "\n",
    "observed = voter_tab.ix[0:5,0:3]   # Get table without totals for later use\n",
    "voter_tab"
   ]
  },
  {
   "cell_type": "code",
   "execution_count": 5,
   "metadata": {},
   "outputs": [
    {
     "data": {
      "text/html": [
       "<div>\n",
       "<style>\n",
       "    .dataframe thead tr:only-child th {\n",
       "        text-align: right;\n",
       "    }\n",
       "\n",
       "    .dataframe thead th {\n",
       "        text-align: left;\n",
       "    }\n",
       "\n",
       "    .dataframe tbody tr th {\n",
       "        vertical-align: top;\n",
       "    }\n",
       "</style>\n",
       "<table border=\"1\" class=\"dataframe\">\n",
       "  <thead>\n",
       "    <tr style=\"text-align: right;\">\n",
       "      <th></th>\n",
       "      <th>democrat</th>\n",
       "      <th>independent</th>\n",
       "      <th>republican</th>\n",
       "    </tr>\n",
       "  </thead>\n",
       "  <tbody>\n",
       "    <tr>\n",
       "      <th>asian</th>\n",
       "      <td>23</td>\n",
       "      <td>11</td>\n",
       "      <td>25</td>\n",
       "    </tr>\n",
       "    <tr>\n",
       "      <th>black</th>\n",
       "      <td>61</td>\n",
       "      <td>28</td>\n",
       "      <td>64</td>\n",
       "    </tr>\n",
       "    <tr>\n",
       "      <th>hispanic</th>\n",
       "      <td>99</td>\n",
       "      <td>46</td>\n",
       "      <td>104</td>\n",
       "    </tr>\n",
       "    <tr>\n",
       "      <th>other</th>\n",
       "      <td>15</td>\n",
       "      <td>7</td>\n",
       "      <td>15</td>\n",
       "    </tr>\n",
       "    <tr>\n",
       "      <th>white</th>\n",
       "      <td>197</td>\n",
       "      <td>92</td>\n",
       "      <td>207</td>\n",
       "    </tr>\n",
       "  </tbody>\n",
       "</table>\n",
       "</div>"
      ],
      "text/plain": [
       "          democrat  independent  republican\n",
       "asian           23           11          25\n",
       "black           61           28          64\n",
       "hispanic        99           46         104\n",
       "other           15            7          15\n",
       "white          197           92         207"
      ]
     },
     "execution_count": 5,
     "metadata": {},
     "output_type": "execute_result"
    }
   ],
   "source": [
    "expected =  np.outer(voter_tab[\"row_totals\"][0:5],\n",
    "                     voter_tab.ix[\"col_totals\"][0:3]) / 1000\n",
    "\n",
    "expected = pd.DataFrame(expected)\n",
    "\n",
    "expected.columns = [\"democrat\",\"independent\",\"republican\"]\n",
    "expected.index = [\"asian\",\"black\",\"hispanic\",\"other\",\"white\"]\n",
    "\n",
    "expected"
   ]
  },
  {
   "cell_type": "code",
   "execution_count": 6,
   "metadata": {},
   "outputs": [
    {
     "data": {
      "text/html": [
       "<div>\n",
       "<style>\n",
       "    .dataframe thead tr:only-child th {\n",
       "        text-align: right;\n",
       "    }\n",
       "\n",
       "    .dataframe thead th {\n",
       "        text-align: left;\n",
       "    }\n",
       "\n",
       "    .dataframe tbody tr th {\n",
       "        vertical-align: top;\n",
       "    }\n",
       "</style>\n",
       "<table border=\"1\" class=\"dataframe\">\n",
       "  <thead>\n",
       "    <tr style=\"text-align: right;\">\n",
       "      <th></th>\n",
       "      <th>democrat</th>\n",
       "      <th>independent</th>\n",
       "      <th>republican</th>\n",
       "    </tr>\n",
       "  </thead>\n",
       "  <tbody>\n",
       "    <tr>\n",
       "      <th>asian</th>\n",
       "      <td>21</td>\n",
       "      <td>7</td>\n",
       "      <td>32</td>\n",
       "    </tr>\n",
       "    <tr>\n",
       "      <th>black</th>\n",
       "      <td>65</td>\n",
       "      <td>25</td>\n",
       "      <td>64</td>\n",
       "    </tr>\n",
       "    <tr>\n",
       "      <th>hispanic</th>\n",
       "      <td>107</td>\n",
       "      <td>50</td>\n",
       "      <td>94</td>\n",
       "    </tr>\n",
       "    <tr>\n",
       "      <th>other</th>\n",
       "      <td>15</td>\n",
       "      <td>8</td>\n",
       "      <td>15</td>\n",
       "    </tr>\n",
       "    <tr>\n",
       "      <th>white</th>\n",
       "      <td>189</td>\n",
       "      <td>96</td>\n",
       "      <td>212</td>\n",
       "    </tr>\n",
       "  </tbody>\n",
       "</table>\n",
       "</div>"
      ],
      "text/plain": [
       "          democrat  independent  republican\n",
       "asian           21            7          32\n",
       "black           65           25          64\n",
       "hispanic       107           50          94\n",
       "other           15            8          15\n",
       "white          189           96         212"
      ]
     },
     "execution_count": 6,
     "metadata": {},
     "output_type": "execute_result"
    }
   ],
   "source": [
    "observed"
   ]
  },
  {
   "cell_type": "code",
   "execution_count": 7,
   "metadata": {},
   "outputs": [
    {
     "data": {
      "text/plain": [
       "(7.1693212801620589,\n",
       " 0.51847939294884204,\n",
       " 8,\n",
       " array([[  23.82 ,   11.16 ,   25.02 ],\n",
       "        [  61.138,   28.644,   64.218],\n",
       "        [  99.647,   46.686,  104.667],\n",
       "        [  15.086,    7.068,   15.846],\n",
       "        [ 197.309,   92.442,  207.249]]))"
      ]
     },
     "execution_count": 7,
     "metadata": {},
     "output_type": "execute_result"
    }
   ],
   "source": [
    "stats.chi2_contingency(observed= observed)"
   ]
  },
  {
   "cell_type": "code",
   "execution_count": 9,
   "metadata": {},
   "outputs": [
    {
     "data": {
      "text/html": [
       "<div>\n",
       "<style>\n",
       "    .dataframe thead tr:only-child th {\n",
       "        text-align: right;\n",
       "    }\n",
       "\n",
       "    .dataframe thead th {\n",
       "        text-align: left;\n",
       "    }\n",
       "\n",
       "    .dataframe tbody tr th {\n",
       "        vertical-align: top;\n",
       "    }\n",
       "</style>\n",
       "<table border=\"1\" class=\"dataframe\">\n",
       "  <thead>\n",
       "    <tr style=\"text-align: right;\">\n",
       "      <th></th>\n",
       "      <th>asian</th>\n",
       "      <th>black</th>\n",
       "      <th>hispanic</th>\n",
       "      <th>other</th>\n",
       "      <th>white</th>\n",
       "    </tr>\n",
       "  </thead>\n",
       "  <tbody>\n",
       "    <tr>\n",
       "      <th>democrat</th>\n",
       "      <td>21</td>\n",
       "      <td>65</td>\n",
       "      <td>107</td>\n",
       "      <td>15</td>\n",
       "      <td>189</td>\n",
       "    </tr>\n",
       "    <tr>\n",
       "      <th>independent</th>\n",
       "      <td>7</td>\n",
       "      <td>25</td>\n",
       "      <td>50</td>\n",
       "      <td>8</td>\n",
       "      <td>96</td>\n",
       "    </tr>\n",
       "    <tr>\n",
       "      <th>republican</th>\n",
       "      <td>32</td>\n",
       "      <td>64</td>\n",
       "      <td>94</td>\n",
       "      <td>15</td>\n",
       "      <td>212</td>\n",
       "    </tr>\n",
       "  </tbody>\n",
       "</table>\n",
       "</div>"
      ],
      "text/plain": [
       "             asian  black  hispanic  other  white\n",
       "democrat        21     65       107     15    189\n",
       "independent      7     25        50      8     96\n",
       "republican      32     64        94     15    212"
      ]
     },
     "execution_count": 9,
     "metadata": {},
     "output_type": "execute_result"
    }
   ],
   "source": [
    "observed2 = observed.transpose()\n",
    "observed2"
   ]
  },
  {
   "cell_type": "code",
   "execution_count": 10,
   "metadata": {},
   "outputs": [
    {
     "data": {
      "text/plain": [
       "(7.1693212801620598,\n",
       " 0.51847939294884204,\n",
       " 8,\n",
       " array([[  23.82 ,   61.138,   99.647,   15.086,  197.309],\n",
       "        [  11.16 ,   28.644,   46.686,    7.068,   92.442],\n",
       "        [  25.02 ,   64.218,  104.667,   15.846,  207.249]]))"
      ]
     },
     "execution_count": 10,
     "metadata": {},
     "output_type": "execute_result"
    }
   ],
   "source": [
    "stats.chi2_contingency(observed= observed2)"
   ]
  },
  {
   "cell_type": "markdown",
   "metadata": {
    "collapsed": true
   },
   "source": [
    " ** 2). parametric (Z-test) and non-parametric (chi-squared) methods for proportion test **"
   ]
  },
  {
   "cell_type": "markdown",
   "metadata": {},
   "source": [
    "Very good reading \n",
    " - **Comparison of two proportions: parametric (Z-test) and non-parametric (chi-squared) methods **\n",
    "   - if we assume the probability of common success is approximate 0.5, and the number of games is very high (under these assumption, a binomial distribution is approximate a gaussian distribution). Then we can use z-test to analyze two proportions. Otherwise, just use chi-squared test.\n",
    "   - A chi-square test for equality of two proportions is exactly the same thing as a zz-test, if we have the two assumptions above.\n",
    "   \n",
    "   - https://www.r-bloggers.com/comparison-of-two-proportions-parametric-z-test-and-non-parametric-chi-squared-methods/\n",
    "    "
   ]
  },
  {
   "cell_type": "code",
   "execution_count": 1,
   "metadata": {},
   "outputs": [
    {
     "name": "stdout",
     "output_type": "stream",
     "text": [
      "0.00149047776003 0.00149047776003\n"
     ]
    }
   ],
   "source": [
    "from scipy import stats\n",
    "z_scores = -2.969695\n",
    "\n",
    "# Survival function (also defined as 1 - cdf, but sf is sometimes more accurate).\n",
    "p_values1 = stats.norm.sf(abs(z_scores)) #one-sided\n",
    "\n",
    "p_values2 = stats.norm.cdf(z_scores, loc = 0, scale = 1)\n",
    "\n",
    "# p_values1 = p_values 2\n",
    "print p_values1, p_values2\n"
   ]
  },
  {
   "cell_type": "code",
   "execution_count": null,
   "metadata": {
    "collapsed": true
   },
   "outputs": [],
   "source": []
  },
  {
   "cell_type": "markdown",
   "metadata": {},
   "source": [
    "#### p_value from chi-square test is very similar to 2-sided p-value using p_pool t-test. See 3 examples below."
   ]
  },
  {
   "cell_type": "markdown",
   "metadata": {},
   "source": [
    "> example 1"
   ]
  },
  {
   "cell_type": "code",
   "execution_count": 57,
   "metadata": {},
   "outputs": [
    {
     "data": {
      "text/html": [
       "<div>\n",
       "<style>\n",
       "    .dataframe thead tr:only-child th {\n",
       "        text-align: right;\n",
       "    }\n",
       "\n",
       "    .dataframe thead th {\n",
       "        text-align: left;\n",
       "    }\n",
       "\n",
       "    .dataframe tbody tr th {\n",
       "        vertical-align: top;\n",
       "    }\n",
       "</style>\n",
       "<table border=\"1\" class=\"dataframe\">\n",
       "  <thead>\n",
       "    <tr style=\"text-align: right;\">\n",
       "      <th></th>\n",
       "      <th>devices</th>\n",
       "      <th>opt_ins</th>\n",
       "      <th>not_opt_ins</th>\n",
       "    </tr>\n",
       "    <tr>\n",
       "      <th>ab_test_name</th>\n",
       "      <th></th>\n",
       "      <th></th>\n",
       "      <th></th>\n",
       "    </tr>\n",
       "  </thead>\n",
       "  <tbody>\n",
       "    <tr>\n",
       "      <th>Control</th>\n",
       "      <td>30000</td>\n",
       "      <td>5000</td>\n",
       "      <td>25000</td>\n",
       "    </tr>\n",
       "    <tr>\n",
       "      <th>upsell</th>\n",
       "      <td>32000</td>\n",
       "      <td>5300</td>\n",
       "      <td>24800</td>\n",
       "    </tr>\n",
       "    <tr>\n",
       "      <th>upsell_discout_churn</th>\n",
       "      <td>31000</td>\n",
       "      <td>6800</td>\n",
       "      <td>24200</td>\n",
       "    </tr>\n",
       "  </tbody>\n",
       "</table>\n",
       "</div>"
      ],
      "text/plain": [
       "                      devices  opt_ins  not_opt_ins\n",
       "ab_test_name                                       \n",
       "Control                 30000     5000        25000\n",
       "upsell                  32000     5300        24800\n",
       "upsell_discout_churn    31000     6800        24200"
      ]
     },
     "execution_count": 57,
     "metadata": {},
     "output_type": "execute_result"
    }
   ],
   "source": [
    "###change path below####\n",
    "path = 'chi_example.csv' \n",
    "\n",
    "data = pd.read_csv(path)\n",
    "data.set_index(['ab_test_name'],inplace=True)\n",
    "data"
   ]
  },
  {
   "cell_type": "code",
   "execution_count": 78,
   "metadata": {},
   "outputs": [
    {
     "name": "stdout",
     "output_type": "stream",
     "text": [
      "use p_pool method\n",
      "p2 and p1 are: 0.1656 and 0.1667\n",
      "Z score is: -0.348\n"
     ]
    },
    {
     "data": {
      "text/plain": [
       "0.7276492976564044"
      ]
     },
     "execution_count": 78,
     "metadata": {},
     "output_type": "execute_result"
    }
   ],
   "source": [
    "# z.prop(30, 65, 74, 103)\n",
    "# x1,x2,n1,n2\n",
    "# for example p1 = 1.00* 30/74, p2 = 1.00*65/103\n",
    "import pandas as pd\n",
    "import numpy as np\n",
    "from scipy import stats\n",
    "\n",
    "\n",
    "p1 = 1.00* 5000/30000\n",
    "p2 = 1.00* 5300/32000\n",
    "N1 = 30000\n",
    "N2 = 32000\n",
    "\n",
    "\n",
    "def get_pvalue(p1, p2 ,N1, N2):\n",
    "    diff = p2 - p1\n",
    "    p_pool = 1.00* (N1*p1 + N2*p2)/(N1+N2)\n",
    "    print ('p2 and p1 are: %.4f and %.4f' %(p2, p1))\n",
    "    ## get standard error below\n",
    "    SE = np.sqrt(p_pool* (1-p_pool) * (1.00/N1 + 1.00/N2))\n",
    "    \n",
    "    ## if it is two-side give 2*, if one-side, just stats.norm.cdf(lift, loc = 0, scale = scale_val )\n",
    "    Z_score = 1.00* diff/SE\n",
    "    print ('Z score is: %.3f' %Z_score)\n",
    "    p_value = 2* stats.norm.sf(abs(Z_score)) #one-sided\n",
    "#     p_value = 2 * stats.norm.cdf(diff, loc = 0, scale = SE )\n",
    "    return p_value\n",
    "\n",
    "\n",
    "print ('use p_pool method')\n",
    "get_pvalue(p1,p2,N1,N2)"
   ]
  },
  {
   "cell_type": "code",
   "execution_count": 60,
   "metadata": {},
   "outputs": [
    {
     "data": {
      "text/html": [
       "<div>\n",
       "<style>\n",
       "    .dataframe thead tr:only-child th {\n",
       "        text-align: right;\n",
       "    }\n",
       "\n",
       "    .dataframe thead th {\n",
       "        text-align: left;\n",
       "    }\n",
       "\n",
       "    .dataframe tbody tr th {\n",
       "        vertical-align: top;\n",
       "    }\n",
       "</style>\n",
       "<table border=\"1\" class=\"dataframe\">\n",
       "  <thead>\n",
       "    <tr style=\"text-align: right;\">\n",
       "      <th>ab_test_name</th>\n",
       "      <th>Control</th>\n",
       "      <th>upsell</th>\n",
       "      <th>upsell_discout_churn</th>\n",
       "    </tr>\n",
       "  </thead>\n",
       "  <tbody>\n",
       "    <tr>\n",
       "      <th>opt_ins</th>\n",
       "      <td>5000</td>\n",
       "      <td>5300</td>\n",
       "      <td>6800</td>\n",
       "    </tr>\n",
       "    <tr>\n",
       "      <th>not_opt_ins</th>\n",
       "      <td>25000</td>\n",
       "      <td>24800</td>\n",
       "      <td>24200</td>\n",
       "    </tr>\n",
       "  </tbody>\n",
       "</table>\n",
       "</div>"
      ],
      "text/plain": [
       "ab_test_name  Control  upsell  upsell_discout_churn\n",
       "opt_ins          5000    5300                  6800\n",
       "not_opt_ins     25000   24800                 24200"
      ]
     },
     "execution_count": 60,
     "metadata": {},
     "output_type": "execute_result"
    }
   ],
   "source": [
    "data_stats = data[['opt_ins', 'not_opt_ins']].transpose()\n",
    "data_stats"
   ]
  },
  {
   "cell_type": "code",
   "execution_count": 74,
   "metadata": {},
   "outputs": [
    {
     "data": {
      "text/html": [
       "<div>\n",
       "<style>\n",
       "    .dataframe thead tr:only-child th {\n",
       "        text-align: right;\n",
       "    }\n",
       "\n",
       "    .dataframe thead th {\n",
       "        text-align: left;\n",
       "    }\n",
       "\n",
       "    .dataframe tbody tr th {\n",
       "        vertical-align: top;\n",
       "    }\n",
       "</style>\n",
       "<table border=\"1\" class=\"dataframe\">\n",
       "  <thead>\n",
       "    <tr style=\"text-align: right;\">\n",
       "      <th>ab_test_name</th>\n",
       "      <th>Control</th>\n",
       "      <th>upsell</th>\n",
       "    </tr>\n",
       "  </thead>\n",
       "  <tbody>\n",
       "    <tr>\n",
       "      <th>opt_ins</th>\n",
       "      <td>5000</td>\n",
       "      <td>5300</td>\n",
       "    </tr>\n",
       "    <tr>\n",
       "      <th>not_opt_ins</th>\n",
       "      <td>25000</td>\n",
       "      <td>24800</td>\n",
       "    </tr>\n",
       "  </tbody>\n",
       "</table>\n",
       "</div>"
      ],
      "text/plain": [
       "ab_test_name  Control  upsell\n",
       "opt_ins          5000    5300\n",
       "not_opt_ins     25000   24800"
      ]
     },
     "execution_count": 74,
     "metadata": {},
     "output_type": "execute_result"
    }
   ],
   "source": [
    "observed_1 = data_stats[['Control', 'upsell']]\n",
    "observed_1"
   ]
  },
  {
   "cell_type": "code",
   "execution_count": 79,
   "metadata": {},
   "outputs": [
    {
     "name": "stderr",
     "output_type": "stream",
     "text": [
      "/Users/xduan/anaconda2/lib/python2.7/site-packages/ipykernel_launcher.py:8: SettingWithCopyWarning: \n",
      "A value is trying to be set on a copy of a slice from a DataFrame.\n",
      "Try using .loc[row_indexer,col_indexer] = value instead\n",
      "\n",
      "See the caveats in the documentation: http://pandas.pydata.org/pandas-docs/stable/indexing.html#indexing-view-versus-copy\n",
      "  \n",
      "/Users/xduan/anaconda2/lib/python2.7/site-packages/ipykernel_launcher.py:9: SettingWithCopyWarning: \n",
      "A value is trying to be set on a copy of a slice from a DataFrame.\n",
      "Try using .loc[row_indexer,col_indexer] = value instead\n",
      "\n",
      "See the caveats in the documentation: http://pandas.pydata.org/pandas-docs/stable/indexing.html#indexing-view-versus-copy\n",
      "  if __name__ == '__main__':\n"
     ]
    },
    {
     "data": {
      "text/html": [
       "<div>\n",
       "<style>\n",
       "    .dataframe thead tr:only-child th {\n",
       "        text-align: right;\n",
       "    }\n",
       "\n",
       "    .dataframe thead th {\n",
       "        text-align: left;\n",
       "    }\n",
       "\n",
       "    .dataframe tbody tr th {\n",
       "        vertical-align: top;\n",
       "    }\n",
       "</style>\n",
       "<table border=\"1\" class=\"dataframe\">\n",
       "  <thead>\n",
       "    <tr style=\"text-align: right;\">\n",
       "      <th>ab_test_name</th>\n",
       "      <th>Control</th>\n",
       "      <th>upsell</th>\n",
       "    </tr>\n",
       "  </thead>\n",
       "  <tbody>\n",
       "    <tr>\n",
       "      <th>opt_ins</th>\n",
       "      <td>5000.0</td>\n",
       "      <td>5300.0</td>\n",
       "    </tr>\n",
       "    <tr>\n",
       "      <th>not_opt_ins</th>\n",
       "      <td>25000.0</td>\n",
       "      <td>26700.0</td>\n",
       "    </tr>\n",
       "  </tbody>\n",
       "</table>\n",
       "</div>"
      ],
      "text/plain": [
       "ab_test_name  Control   upsell\n",
       "opt_ins        5000.0   5300.0\n",
       "not_opt_ins   25000.0  26700.0"
      ]
     },
     "execution_count": 79,
     "metadata": {},
     "output_type": "execute_result"
    }
   ],
   "source": [
    "p1 = 1.00* 5000/30000\n",
    "p2 = 1.00* 5300/32000\n",
    "N1 = 30000\n",
    "N2 = 32000\n",
    "\n",
    "\n",
    "observed_2 = observed_1\n",
    "observed_2['Control'] = [N1*p1, N1*(1-p1)]\n",
    "observed_2['upsell'] = [N2*p2, N2*(1-p2)]\n",
    "observed_2 "
   ]
  },
  {
   "cell_type": "code",
   "execution_count": 81,
   "metadata": {},
   "outputs": [
    {
     "data": {
      "text/html": [
       "<div>\n",
       "<style>\n",
       "    .dataframe thead tr:only-child th {\n",
       "        text-align: right;\n",
       "    }\n",
       "\n",
       "    .dataframe thead th {\n",
       "        text-align: left;\n",
       "    }\n",
       "\n",
       "    .dataframe tbody tr th {\n",
       "        vertical-align: top;\n",
       "    }\n",
       "</style>\n",
       "<table border=\"1\" class=\"dataframe\">\n",
       "  <thead>\n",
       "    <tr style=\"text-align: right;\">\n",
       "      <th>ab_test_name</th>\n",
       "      <th>Control</th>\n",
       "      <th>upsell</th>\n",
       "    </tr>\n",
       "  </thead>\n",
       "  <tbody>\n",
       "    <tr>\n",
       "      <th>opt_ins</th>\n",
       "      <td>5000.0</td>\n",
       "      <td>5300.0</td>\n",
       "    </tr>\n",
       "    <tr>\n",
       "      <th>not_opt_ins</th>\n",
       "      <td>25000.0</td>\n",
       "      <td>26700.0</td>\n",
       "    </tr>\n",
       "  </tbody>\n",
       "</table>\n",
       "</div>"
      ],
      "text/plain": [
       "ab_test_name  Control   upsell\n",
       "opt_ins        5000.0   5300.0\n",
       "not_opt_ins   25000.0  26700.0"
      ]
     },
     "execution_count": 81,
     "metadata": {},
     "output_type": "execute_result"
    }
   ],
   "source": [
    "observed_1"
   ]
  },
  {
   "cell_type": "code",
   "execution_count": 80,
   "metadata": {},
   "outputs": [
    {
     "name": "stdout",
     "output_type": "stream",
     "text": [
      "0.735771438055 0.113878107923\n"
     ]
    }
   ],
   "source": [
    "chi_square, p_value, degree_of_freedom, ob_df = stats.chi2_contingency(observed= observed_2)\n",
    "print p_value, chi_square"
   ]
  },
  {
   "cell_type": "markdown",
   "metadata": {},
   "source": [
    "> example 2. p_value of chi-square and t-test is different, but they lead to the same direction"
   ]
  },
  {
   "cell_type": "code",
   "execution_count": null,
   "metadata": {
    "collapsed": true
   },
   "outputs": [],
   "source": [
    "# z.prop(30, 65, 74, 103)\n",
    "# x1,x2,n1,n2\n",
    "# for example p1 = 1.00* 30/74, p2 = 1.00*65/103"
   ]
  },
  {
   "cell_type": "code",
   "execution_count": null,
   "metadata": {
    "collapsed": true
   },
   "outputs": [],
   "source": []
  },
  {
   "cell_type": "code",
   "execution_count": 53,
   "metadata": {
    "scrolled": false
   },
   "outputs": [
    {
     "name": "stderr",
     "output_type": "stream",
     "text": [
      "/Users/xduan/anaconda2/lib/python2.7/site-packages/ipykernel_launcher.py:2: SettingWithCopyWarning: \n",
      "A value is trying to be set on a copy of a slice from a DataFrame.\n",
      "Try using .loc[row_indexer,col_indexer] = value instead\n",
      "\n",
      "See the caveats in the documentation: http://pandas.pydata.org/pandas-docs/stable/indexing.html#indexing-view-versus-copy\n",
      "  \n",
      "/Users/xduan/anaconda2/lib/python2.7/site-packages/ipykernel_launcher.py:3: SettingWithCopyWarning: \n",
      "A value is trying to be set on a copy of a slice from a DataFrame.\n",
      "Try using .loc[row_indexer,col_indexer] = value instead\n",
      "\n",
      "See the caveats in the documentation: http://pandas.pydata.org/pandas-docs/stable/indexing.html#indexing-view-versus-copy\n",
      "  This is separate from the ipykernel package so we can avoid doing imports until\n"
     ]
    },
    {
     "data": {
      "text/html": [
       "<div>\n",
       "<style>\n",
       "    .dataframe thead tr:only-child th {\n",
       "        text-align: right;\n",
       "    }\n",
       "\n",
       "    .dataframe thead th {\n",
       "        text-align: left;\n",
       "    }\n",
       "\n",
       "    .dataframe tbody tr th {\n",
       "        vertical-align: top;\n",
       "    }\n",
       "</style>\n",
       "<table border=\"1\" class=\"dataframe\">\n",
       "  <thead>\n",
       "    <tr style=\"text-align: right;\">\n",
       "      <th>ab_test_name</th>\n",
       "      <th>Control</th>\n",
       "      <th>upsell</th>\n",
       "    </tr>\n",
       "  </thead>\n",
       "  <tbody>\n",
       "    <tr>\n",
       "      <th>opt_ins</th>\n",
       "      <td>30</td>\n",
       "      <td>65</td>\n",
       "    </tr>\n",
       "    <tr>\n",
       "      <th>not_opt_ins</th>\n",
       "      <td>44</td>\n",
       "      <td>38</td>\n",
       "    </tr>\n",
       "  </tbody>\n",
       "</table>\n",
       "</div>"
      ],
      "text/plain": [
       "ab_test_name  Control  upsell\n",
       "opt_ins            30      65\n",
       "not_opt_ins        44      38"
      ]
     },
     "execution_count": 53,
     "metadata": {},
     "output_type": "execute_result"
    }
   ],
   "source": [
    "observed_2 = observed_1\n",
    "observed_2['Control'] = [30, 44]\n",
    "observed_2['upsell'] = [65, 38]\n",
    "observed_2\n",
    "\n"
   ]
  },
  {
   "cell_type": "code",
   "execution_count": 54,
   "metadata": {},
   "outputs": [
    {
     "name": "stdout",
     "output_type": "stream",
     "text": [
      "0.0048490521073 7.93489200827\n"
     ]
    }
   ],
   "source": [
    "\n",
    "chi_square, p_value, degree_of_freedom, ob_df = stats.chi2_contingency(observed= observed_2)\n",
    "print p_value, chi_square\n"
   ]
  },
  {
   "cell_type": "code",
   "execution_count": 56,
   "metadata": {},
   "outputs": [
    {
     "name": "stdout",
     "output_type": "stream",
     "text": [
      "use p_pool method\n",
      "p2 and p1 are: 0.6311 and 0.4054\n",
      "Z score is: 2.970\n",
      "p_value is: 0.002981\n"
     ]
    }
   ],
   "source": [
    "# z.prop(30, 65, 74, 103)\n",
    "# x1,x2,n1,n2\n",
    "# for example p1 = 1.00* 30/74, p2 = 1.00*65/103\n",
    "import pandas as pd\n",
    "import numpy as np\n",
    "from scipy import stats\n",
    "\n",
    "\n",
    "p1 = 1.00* 30/74\n",
    "p2 = 1.00* 65/103\n",
    "N1 = 74\n",
    "N2 = 103\n",
    "\n",
    "\n",
    "\n",
    "def get_pvalue(p1, p2 ,N1, N2):\n",
    "    diff = p2 - p1\n",
    "    p_pool = 1.00* (N1*p1 + N2*p2)/(N1+N2)\n",
    "    print ('p2 and p1 are: %.4f and %.4f' %(p2, p1))\n",
    "    ## get standard error below\n",
    "    SE = np.sqrt(p_pool* (1-p_pool) * (1.00/N1 + 1.00/N2))\n",
    "    \n",
    "    ## if it is two-side give 2*, if one-side, just stats.norm.cdf(lift, loc = 0, scale = scale_val )\n",
    "    Z_score = 1.00* diff/SE\n",
    "    print ('Z score is: %.3f' %Z_score)\n",
    "    p_value = 2* stats.norm.sf(abs(Z_score)) #two-sided\n",
    "#     p_value = 2 * stats.norm.cdf(diff, loc = 0, scale = SE )\n",
    "    print ('p_value is: %.6f' %p_value)\n",
    "\n",
    "\n",
    "print ('use p_pool method')\n",
    "get_pvalue(p1,p2,N1,N2)"
   ]
  },
  {
   "cell_type": "markdown",
   "metadata": {},
   "source": [
    "> example 3"
   ]
  },
  {
   "cell_type": "code",
   "execution_count": 75,
   "metadata": {},
   "outputs": [
    {
     "name": "stdout",
     "output_type": "stream",
     "text": [
      "use p_pool method\n",
      "p2 and p1 are: 0.0067 and 0.0068\n",
      "Z score is: -0.503\n",
      "p_value is: 0.614877\n"
     ]
    }
   ],
   "source": [
    "p1 = 0.01 * 0.68\n",
    "p2 = 0.01 * 0.67\n",
    "N1 = 340045\n",
    "N2 = 338814\n",
    "\n",
    "\n",
    "\n",
    "def get_pvalue(p1, p2 ,N1, N2):\n",
    "    diff = p2 - p1\n",
    "    p_pool = 1.00* (N1*p1 + N2*p2)/(N1+N2)\n",
    "    print ('p2 and p1 are: %.4f and %.4f' %(p2, p1))\n",
    "    ## get standard error below\n",
    "    SE = np.sqrt(p_pool* (1-p_pool) * (1.00/N1 + 1.00/N2))\n",
    "    \n",
    "    ## if it is two-side give 2*, if one-side, just stats.norm.cdf(lift, loc = 0, scale = scale_val )\n",
    "    Z_score = 1.00* diff/SE\n",
    "    print ('Z score is: %.3f' %Z_score)\n",
    "    p_value = 2* stats.norm.sf(abs(Z_score)) #two-sided\n",
    "#     p_value = 2 * stats.norm.cdf(diff, loc = 0, scale = SE )\n",
    "    print ('p_value is: %.6f' %p_value)\n",
    "\n",
    "\n",
    "print ('use p_pool method')\n",
    "get_pvalue(p1,p2,N1,N2)"
   ]
  },
  {
   "cell_type": "code",
   "execution_count": 76,
   "metadata": {},
   "outputs": [
    {
     "name": "stderr",
     "output_type": "stream",
     "text": [
      "/Users/xduan/anaconda2/lib/python2.7/site-packages/ipykernel_launcher.py:9: SettingWithCopyWarning: \n",
      "A value is trying to be set on a copy of a slice from a DataFrame.\n",
      "Try using .loc[row_indexer,col_indexer] = value instead\n",
      "\n",
      "See the caveats in the documentation: http://pandas.pydata.org/pandas-docs/stable/indexing.html#indexing-view-versus-copy\n",
      "  if __name__ == '__main__':\n",
      "/Users/xduan/anaconda2/lib/python2.7/site-packages/ipykernel_launcher.py:10: SettingWithCopyWarning: \n",
      "A value is trying to be set on a copy of a slice from a DataFrame.\n",
      "Try using .loc[row_indexer,col_indexer] = value instead\n",
      "\n",
      "See the caveats in the documentation: http://pandas.pydata.org/pandas-docs/stable/indexing.html#indexing-view-versus-copy\n",
      "  # Remove the CWD from sys.path while we load stuff.\n"
     ]
    },
    {
     "data": {
      "text/html": [
       "<div>\n",
       "<style>\n",
       "    .dataframe thead tr:only-child th {\n",
       "        text-align: right;\n",
       "    }\n",
       "\n",
       "    .dataframe thead th {\n",
       "        text-align: left;\n",
       "    }\n",
       "\n",
       "    .dataframe tbody tr th {\n",
       "        vertical-align: top;\n",
       "    }\n",
       "</style>\n",
       "<table border=\"1\" class=\"dataframe\">\n",
       "  <thead>\n",
       "    <tr style=\"text-align: right;\">\n",
       "      <th>ab_test_name</th>\n",
       "      <th>Control</th>\n",
       "      <th>upsell</th>\n",
       "    </tr>\n",
       "  </thead>\n",
       "  <tbody>\n",
       "    <tr>\n",
       "      <th>opt_ins</th>\n",
       "      <td>2312.306</td>\n",
       "      <td>2270.0538</td>\n",
       "    </tr>\n",
       "    <tr>\n",
       "      <th>not_opt_ins</th>\n",
       "      <td>337732.694</td>\n",
       "      <td>336543.9462</td>\n",
       "    </tr>\n",
       "  </tbody>\n",
       "</table>\n",
       "</div>"
      ],
      "text/plain": [
       "ab_test_name     Control       upsell\n",
       "opt_ins         2312.306    2270.0538\n",
       "not_opt_ins   337732.694  336543.9462"
      ]
     },
     "execution_count": 76,
     "metadata": {},
     "output_type": "execute_result"
    }
   ],
   "source": [
    "p1 = 0.01 * 0.68\n",
    "p2 = 0.01 * 0.67\n",
    "N1 = 340045\n",
    "N2 = 338814\n",
    "\n",
    "\n",
    "\n",
    "observed_2 = observed_1\n",
    "observed_2['Control'] = [N1*p1, N1*(1-p1)]\n",
    "observed_2['upsell'] = [N2*p2, N2*(1-p2)]\n",
    "observed_2 "
   ]
  },
  {
   "cell_type": "code",
   "execution_count": 77,
   "metadata": {},
   "outputs": [
    {
     "name": "stdout",
     "output_type": "stream",
     "text": [
      "0.625336449558 0.23843814752\n"
     ]
    }
   ],
   "source": [
    "chi_square, p_value, degree_of_freedom, ob_df = stats.chi2_contingency(observed= observed_2)\n",
    "print p_value, chi_square\n"
   ]
  },
  {
   "cell_type": "markdown",
   "metadata": {},
   "source": [
    "- this two-sided p_values equal to use the p-value using stats.chi2_contingency(observed= observed_1) in the R-blog example"
   ]
  },
  {
   "cell_type": "code",
   "execution_count": 6,
   "metadata": {},
   "outputs": [
    {
     "data": {
      "text/plain": [
       "0.0029809555200650032"
      ]
     },
     "execution_count": 6,
     "metadata": {},
     "output_type": "execute_result"
    }
   ],
   "source": [
    "p_values = stats.norm.sf(abs(z_scores))*2 #twosided\n",
    "p_values"
   ]
  },
  {
   "cell_type": "code",
   "execution_count": null,
   "metadata": {
    "collapsed": true
   },
   "outputs": [],
   "source": []
  }
 ],
 "metadata": {
  "kernelspec": {
   "display_name": "Python 2",
   "language": "python",
   "name": "python2"
  },
  "language_info": {
   "codemirror_mode": {
    "name": "ipython",
    "version": 2
   },
   "file_extension": ".py",
   "mimetype": "text/x-python",
   "name": "python",
   "nbconvert_exporter": "python",
   "pygments_lexer": "ipython2",
   "version": "2.7.13"
  }
 },
 "nbformat": 4,
 "nbformat_minor": 2
}
