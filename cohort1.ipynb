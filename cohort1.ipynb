{
 "cells": [
  {
   "cell_type": "code",
   "execution_count": 1,
   "metadata": {
    "collapsed": true
   },
   "outputs": [],
   "source": [
    "import pandas as pd\n",
    "import numpy as np\n",
    "import matplotlib.pyplot as plt\n",
    "%matplotlib inline"
   ]
  },
  {
   "cell_type": "code",
   "execution_count": 2,
   "metadata": {
    "collapsed": false
   },
   "outputs": [
    {
     "data": {
      "text/html": [
       "<div>\n",
       "<table border=\"1\" class=\"dataframe\">\n",
       "  <thead>\n",
       "    <tr style=\"text-align: right;\">\n",
       "      <th></th>\n",
       "      <th>Order Id</th>\n",
       "      <th>OrderDate</th>\n",
       "      <th>UserId</th>\n",
       "      <th>Total Charges</th>\n",
       "      <th>CommonId</th>\n",
       "      <th>PupId</th>\n",
       "      <th>PickupDate</th>\n",
       "    </tr>\n",
       "  </thead>\n",
       "  <tbody>\n",
       "    <tr>\n",
       "      <th>0</th>\n",
       "      <td>262</td>\n",
       "      <td>1/11/09</td>\n",
       "      <td>47</td>\n",
       "      <td>50.67</td>\n",
       "      <td>TRQKD</td>\n",
       "      <td>2</td>\n",
       "      <td>1/12/09</td>\n",
       "    </tr>\n",
       "    <tr>\n",
       "      <th>1</th>\n",
       "      <td>278</td>\n",
       "      <td>1/20/09</td>\n",
       "      <td>47</td>\n",
       "      <td>26.60</td>\n",
       "      <td>4HH2S</td>\n",
       "      <td>3</td>\n",
       "      <td>1/20/09</td>\n",
       "    </tr>\n",
       "  </tbody>\n",
       "</table>\n",
       "</div>"
      ],
      "text/plain": [
       "   Order Id OrderDate  UserId  Total Charges CommonId  PupId PickupDate\n",
       "0       262   1/11/09      47          50.67    TRQKD      2    1/12/09\n",
       "1       278   1/20/09      47          26.60    4HH2S      3    1/20/09"
      ]
     },
     "execution_count": 2,
     "metadata": {},
     "output_type": "execute_result"
    }
   ],
   "source": [
    "data = pd.read_csv('cohort_raw.csv')\n",
    "data.head(2)"
   ]
  },
  {
   "cell_type": "code",
   "execution_count": 8,
   "metadata": {
    "collapsed": false
   },
   "outputs": [
    {
     "data": {
      "text/plain": [
       "(732, 8)"
      ]
     },
     "execution_count": 8,
     "metadata": {},
     "output_type": "execute_result"
    }
   ],
   "source": [
    "data.shape"
   ]
  },
  {
   "cell_type": "code",
   "execution_count": 3,
   "metadata": {
    "collapsed": false
   },
   "outputs": [],
   "source": [
    "# change two date columns to the date data format\n",
    "data['OrderDate'] = pd.to_datetime(data['OrderDate'], errors = 'coerce')\n",
    "data['PickupDate'] = pd.to_datetime(data['PickupDate'], errors = 'coerce')\n"
   ]
  },
  {
   "cell_type": "code",
   "execution_count": 4,
   "metadata": {
    "collapsed": false
   },
   "outputs": [
    {
     "data": {
      "text/html": [
       "<div>\n",
       "<table border=\"1\" class=\"dataframe\">\n",
       "  <thead>\n",
       "    <tr style=\"text-align: right;\">\n",
       "      <th></th>\n",
       "      <th>UserId</th>\n",
       "      <th>CohortGroup</th>\n",
       "    </tr>\n",
       "  </thead>\n",
       "  <tbody>\n",
       "    <tr>\n",
       "      <th>0</th>\n",
       "      <td>47</td>\n",
       "      <td>2009-01</td>\n",
       "    </tr>\n",
       "    <tr>\n",
       "      <th>1</th>\n",
       "      <td>95</td>\n",
       "      <td>2009-03</td>\n",
       "    </tr>\n",
       "    <tr>\n",
       "      <th>2</th>\n",
       "      <td>98</td>\n",
       "      <td>2009-01</td>\n",
       "    </tr>\n",
       "  </tbody>\n",
       "</table>\n",
       "</div>"
      ],
      "text/plain": [
       "   UserId CohortGroup\n",
       "0      47     2009-01\n",
       "1      95     2009-03\n",
       "2      98     2009-01"
      ]
     },
     "execution_count": 4,
     "metadata": {},
     "output_type": "execute_result"
    }
   ],
   "source": [
    "first_order = data.groupby('UserId')['OrderDate'].min().dt.strftime(\"%Y-%m\").reset_index()\n",
    "first_order.columns = ['UserId','CohortGroup']\n",
    "first_order[:3]\n"
   ]
  },
  {
   "cell_type": "code",
   "execution_count": 5,
   "metadata": {
    "collapsed": true
   },
   "outputs": [],
   "source": [
    "# create a new column for each order's date\n",
    "data['OrderPeriod'] = data['OrderDate'].dt.strftime('%Y-%m')"
   ]
  },
  {
   "cell_type": "code",
   "execution_count": 6,
   "metadata": {
    "collapsed": false
   },
   "outputs": [
    {
     "data": {
      "text/html": [
       "<div>\n",
       "<table border=\"1\" class=\"dataframe\">\n",
       "  <thead>\n",
       "    <tr style=\"text-align: right;\">\n",
       "      <th></th>\n",
       "      <th>Order Id</th>\n",
       "      <th>OrderDate</th>\n",
       "      <th>UserId</th>\n",
       "      <th>Total Charges</th>\n",
       "      <th>CommonId</th>\n",
       "      <th>PupId</th>\n",
       "      <th>PickupDate</th>\n",
       "      <th>OrderPeriod</th>\n",
       "      <th>CohortGroup</th>\n",
       "    </tr>\n",
       "  </thead>\n",
       "  <tbody>\n",
       "    <tr>\n",
       "      <th>0</th>\n",
       "      <td>262</td>\n",
       "      <td>2009-01-11</td>\n",
       "      <td>47</td>\n",
       "      <td>50.67</td>\n",
       "      <td>TRQKD</td>\n",
       "      <td>2</td>\n",
       "      <td>2009-01-12</td>\n",
       "      <td>2009-01</td>\n",
       "      <td>2009-01</td>\n",
       "    </tr>\n",
       "    <tr>\n",
       "      <th>1</th>\n",
       "      <td>278</td>\n",
       "      <td>2009-01-20</td>\n",
       "      <td>47</td>\n",
       "      <td>26.60</td>\n",
       "      <td>4HH2S</td>\n",
       "      <td>3</td>\n",
       "      <td>2009-01-20</td>\n",
       "      <td>2009-01</td>\n",
       "      <td>2009-01</td>\n",
       "    </tr>\n",
       "  </tbody>\n",
       "</table>\n",
       "</div>"
      ],
      "text/plain": [
       "   Order Id  OrderDate  UserId  Total Charges CommonId  PupId PickupDate  \\\n",
       "0       262 2009-01-11      47          50.67    TRQKD      2 2009-01-12   \n",
       "1       278 2009-01-20      47          26.60    4HH2S      3 2009-01-20   \n",
       "\n",
       "  OrderPeriod CohortGroup  \n",
       "0     2009-01     2009-01  \n",
       "1     2009-01     2009-01  "
      ]
     },
     "execution_count": 6,
     "metadata": {},
     "output_type": "execute_result"
    }
   ],
   "source": [
    "data = pd.merge(data, first_order, on = 'UserId'\n",
    "                , how = 'inner' )\n",
    "data.head(2)"
   ]
  },
  {
   "cell_type": "markdown",
   "metadata": {},
   "source": [
    "- create a new column to know the difference between OrderPeriod and CohortGroup in months\n",
    " named as CohortPeriod (1, 2,3,..)"
   ]
  },
  {
   "cell_type": "code",
   "execution_count": 13,
   "metadata": {
    "collapsed": false
   },
   "outputs": [
    {
     "data": {
      "text/html": [
       "<div>\n",
       "<table border=\"1\" class=\"dataframe\">\n",
       "  <thead>\n",
       "    <tr style=\"text-align: right;\">\n",
       "      <th></th>\n",
       "      <th>Order Id</th>\n",
       "      <th>OrderDate</th>\n",
       "      <th>UserId</th>\n",
       "      <th>Total Charges</th>\n",
       "      <th>CommonId</th>\n",
       "      <th>PupId</th>\n",
       "      <th>PickupDate</th>\n",
       "      <th>OrderPeriod</th>\n",
       "      <th>CohortGroup</th>\n",
       "    </tr>\n",
       "  </thead>\n",
       "  <tbody>\n",
       "    <tr>\n",
       "      <th>0</th>\n",
       "      <td>262</td>\n",
       "      <td>2009-01-11</td>\n",
       "      <td>47</td>\n",
       "      <td>50.67</td>\n",
       "      <td>TRQKD</td>\n",
       "      <td>2</td>\n",
       "      <td>2009-01-12</td>\n",
       "      <td>2009-01</td>\n",
       "      <td>2009-01</td>\n",
       "    </tr>\n",
       "    <tr>\n",
       "      <th>1</th>\n",
       "      <td>278</td>\n",
       "      <td>2009-01-20</td>\n",
       "      <td>47</td>\n",
       "      <td>26.60</td>\n",
       "      <td>4HH2S</td>\n",
       "      <td>3</td>\n",
       "      <td>2009-01-20</td>\n",
       "      <td>2009-01</td>\n",
       "      <td>2009-01</td>\n",
       "    </tr>\n",
       "    <tr>\n",
       "      <th>2</th>\n",
       "      <td>294</td>\n",
       "      <td>2009-02-03</td>\n",
       "      <td>47</td>\n",
       "      <td>38.71</td>\n",
       "      <td>3TRDC</td>\n",
       "      <td>2</td>\n",
       "      <td>2009-02-04</td>\n",
       "      <td>2009-02</td>\n",
       "      <td>2009-01</td>\n",
       "    </tr>\n",
       "    <tr>\n",
       "      <th>3</th>\n",
       "      <td>301</td>\n",
       "      <td>2009-02-06</td>\n",
       "      <td>47</td>\n",
       "      <td>53.38</td>\n",
       "      <td>NGAZJ</td>\n",
       "      <td>2</td>\n",
       "      <td>2009-02-09</td>\n",
       "      <td>2009-02</td>\n",
       "      <td>2009-01</td>\n",
       "    </tr>\n",
       "  </tbody>\n",
       "</table>\n",
       "</div>"
      ],
      "text/plain": [
       "   Order Id  OrderDate  UserId  Total Charges CommonId  PupId PickupDate  \\\n",
       "0       262 2009-01-11      47          50.67    TRQKD      2 2009-01-12   \n",
       "1       278 2009-01-20      47          26.60    4HH2S      3 2009-01-20   \n",
       "2       294 2009-02-03      47          38.71    3TRDC      2 2009-02-04   \n",
       "3       301 2009-02-06      47          53.38    NGAZJ      2 2009-02-09   \n",
       "\n",
       "  OrderPeriod CohortGroup  \n",
       "0     2009-01     2009-01  \n",
       "1     2009-01     2009-01  \n",
       "2     2009-02     2009-01  \n",
       "3     2009-02     2009-01  "
      ]
     },
     "execution_count": 13,
     "metadata": {},
     "output_type": "execute_result"
    }
   ],
   "source": [
    "data.head(4)"
   ]
  },
  {
   "cell_type": "code",
   "execution_count": 7,
   "metadata": {
    "collapsed": true
   },
   "outputs": [],
   "source": [
    "from datetime import datetime "
   ]
  },
  {
   "cell_type": "code",
   "execution_count": 8,
   "metadata": {
    "collapsed": false
   },
   "outputs": [
    {
     "data": {
      "text/plain": [
       "0    1\n",
       "1    1\n",
       "2    2\n",
       "3    2\n",
       "dtype: int64"
      ]
     },
     "execution_count": 8,
     "metadata": {},
     "output_type": "execute_result"
    }
   ],
   "source": [
    "# first convert OrderPeriod and CohortGroup as date type\n",
    "end = pd.to_datetime(data['OrderPeriod'])\n",
    "start = pd.to_datetime(data['CohortGroup'])\n",
    "diff = end.sub(start, axis = 0) # get difference now as 0 days\n",
    "diff = np.round(diff / np.timedelta64(1, 'M')) + 1 # the same date will start from 1\n",
    "diff = diff.astype(int)\n",
    "diff[:4]"
   ]
  },
  {
   "cell_type": "code",
   "execution_count": 9,
   "metadata": {
    "collapsed": false
   },
   "outputs": [
    {
     "data": {
      "text/html": [
       "<div>\n",
       "<table border=\"1\" class=\"dataframe\">\n",
       "  <thead>\n",
       "    <tr style=\"text-align: right;\">\n",
       "      <th></th>\n",
       "      <th>Order Id</th>\n",
       "      <th>OrderDate</th>\n",
       "      <th>UserId</th>\n",
       "      <th>Total Charges</th>\n",
       "      <th>CommonId</th>\n",
       "      <th>PupId</th>\n",
       "      <th>PickupDate</th>\n",
       "      <th>OrderPeriod</th>\n",
       "      <th>CohortGroup</th>\n",
       "      <th>0</th>\n",
       "      <th>CohortPeriod</th>\n",
       "    </tr>\n",
       "  </thead>\n",
       "  <tbody>\n",
       "    <tr>\n",
       "      <th>0</th>\n",
       "      <td>262</td>\n",
       "      <td>2009-01-11</td>\n",
       "      <td>47</td>\n",
       "      <td>50.67</td>\n",
       "      <td>TRQKD</td>\n",
       "      <td>2</td>\n",
       "      <td>2009-01-12</td>\n",
       "      <td>2009-01</td>\n",
       "      <td>2009-01</td>\n",
       "      <td>1</td>\n",
       "      <td>1</td>\n",
       "    </tr>\n",
       "    <tr>\n",
       "      <th>1</th>\n",
       "      <td>278</td>\n",
       "      <td>2009-01-20</td>\n",
       "      <td>47</td>\n",
       "      <td>26.60</td>\n",
       "      <td>4HH2S</td>\n",
       "      <td>3</td>\n",
       "      <td>2009-01-20</td>\n",
       "      <td>2009-01</td>\n",
       "      <td>2009-01</td>\n",
       "      <td>1</td>\n",
       "      <td>1</td>\n",
       "    </tr>\n",
       "  </tbody>\n",
       "</table>\n",
       "</div>"
      ],
      "text/plain": [
       "   Order Id  OrderDate  UserId  Total Charges CommonId  PupId PickupDate  \\\n",
       "0       262 2009-01-11      47          50.67    TRQKD      2 2009-01-12   \n",
       "1       278 2009-01-20      47          26.60    4HH2S      3 2009-01-20   \n",
       "\n",
       "  OrderPeriod CohortGroup  0  CohortPeriod  \n",
       "0     2009-01     2009-01  1             1  \n",
       "1     2009-01     2009-01  1             1  "
      ]
     },
     "execution_count": 9,
     "metadata": {},
     "output_type": "execute_result"
    }
   ],
   "source": [
    "final = pd.concat([data, diff], axis = 1)\n",
    "final['CohortPeriod']= final[0]\n",
    "\n",
    "final.head(2)"
   ]
  },
  {
   "cell_type": "code",
   "execution_count": 10,
   "metadata": {
    "collapsed": false
   },
   "outputs": [
    {
     "data": {
      "text/html": [
       "<div>\n",
       "<table border=\"1\" class=\"dataframe\">\n",
       "  <thead>\n",
       "    <tr style=\"text-align: right;\">\n",
       "      <th></th>\n",
       "      <th>Order Id</th>\n",
       "      <th>OrderDate</th>\n",
       "      <th>UserId</th>\n",
       "      <th>Total Charges</th>\n",
       "      <th>CommonId</th>\n",
       "      <th>PupId</th>\n",
       "      <th>PickupDate</th>\n",
       "      <th>OrderPeriod</th>\n",
       "      <th>CohortGroup</th>\n",
       "      <th>CohortPeriod</th>\n",
       "    </tr>\n",
       "  </thead>\n",
       "  <tbody>\n",
       "    <tr>\n",
       "      <th>0</th>\n",
       "      <td>262</td>\n",
       "      <td>2009-01-11</td>\n",
       "      <td>47</td>\n",
       "      <td>50.67</td>\n",
       "      <td>TRQKD</td>\n",
       "      <td>2</td>\n",
       "      <td>2009-01-12</td>\n",
       "      <td>2009-01</td>\n",
       "      <td>2009-01</td>\n",
       "      <td>1</td>\n",
       "    </tr>\n",
       "    <tr>\n",
       "      <th>1</th>\n",
       "      <td>278</td>\n",
       "      <td>2009-01-20</td>\n",
       "      <td>47</td>\n",
       "      <td>26.60</td>\n",
       "      <td>4HH2S</td>\n",
       "      <td>3</td>\n",
       "      <td>2009-01-20</td>\n",
       "      <td>2009-01</td>\n",
       "      <td>2009-01</td>\n",
       "      <td>1</td>\n",
       "    </tr>\n",
       "  </tbody>\n",
       "</table>\n",
       "</div>"
      ],
      "text/plain": [
       "   Order Id  OrderDate  UserId  Total Charges CommonId  PupId PickupDate  \\\n",
       "0       262 2009-01-11      47          50.67    TRQKD      2 2009-01-12   \n",
       "1       278 2009-01-20      47          26.60    4HH2S      3 2009-01-20   \n",
       "\n",
       "  OrderPeriod CohortGroup  CohortPeriod  \n",
       "0     2009-01     2009-01             1  \n",
       "1     2009-01     2009-01             1  "
      ]
     },
     "execution_count": 10,
     "metadata": {},
     "output_type": "execute_result"
    }
   ],
   "source": [
    "final.drop(0, axis = 1, inplace = True)\n",
    "final.head(2)"
   ]
  },
  {
   "cell_type": "code",
   "execution_count": 11,
   "metadata": {
    "collapsed": false
   },
   "outputs": [
    {
     "data": {
      "text/html": [
       "<div>\n",
       "<table border=\"1\" class=\"dataframe\">\n",
       "  <thead>\n",
       "    <tr style=\"text-align: right;\">\n",
       "      <th></th>\n",
       "      <th>Order Id</th>\n",
       "      <th>OrderDate</th>\n",
       "      <th>UserId</th>\n",
       "      <th>Total Charges</th>\n",
       "      <th>CommonId</th>\n",
       "      <th>PupId</th>\n",
       "      <th>PickupDate</th>\n",
       "      <th>OrderPeriod</th>\n",
       "      <th>CohortGroup</th>\n",
       "      <th>CohortPeriod</th>\n",
       "    </tr>\n",
       "  </thead>\n",
       "  <tbody>\n",
       "    <tr>\n",
       "      <th>0</th>\n",
       "      <td>262</td>\n",
       "      <td>2009-01-11</td>\n",
       "      <td>47</td>\n",
       "      <td>50.67</td>\n",
       "      <td>TRQKD</td>\n",
       "      <td>2</td>\n",
       "      <td>2009-01-12</td>\n",
       "      <td>2009-01</td>\n",
       "      <td>2009-01</td>\n",
       "      <td>1</td>\n",
       "    </tr>\n",
       "    <tr>\n",
       "      <th>1</th>\n",
       "      <td>278</td>\n",
       "      <td>2009-01-20</td>\n",
       "      <td>47</td>\n",
       "      <td>26.60</td>\n",
       "      <td>4HH2S</td>\n",
       "      <td>3</td>\n",
       "      <td>2009-01-20</td>\n",
       "      <td>2009-01</td>\n",
       "      <td>2009-01</td>\n",
       "      <td>1</td>\n",
       "    </tr>\n",
       "    <tr>\n",
       "      <th>2</th>\n",
       "      <td>294</td>\n",
       "      <td>2009-02-03</td>\n",
       "      <td>47</td>\n",
       "      <td>38.71</td>\n",
       "      <td>3TRDC</td>\n",
       "      <td>2</td>\n",
       "      <td>2009-02-04</td>\n",
       "      <td>2009-02</td>\n",
       "      <td>2009-01</td>\n",
       "      <td>2</td>\n",
       "    </tr>\n",
       "    <tr>\n",
       "      <th>3</th>\n",
       "      <td>301</td>\n",
       "      <td>2009-02-06</td>\n",
       "      <td>47</td>\n",
       "      <td>53.38</td>\n",
       "      <td>NGAZJ</td>\n",
       "      <td>2</td>\n",
       "      <td>2009-02-09</td>\n",
       "      <td>2009-02</td>\n",
       "      <td>2009-01</td>\n",
       "      <td>2</td>\n",
       "    </tr>\n",
       "    <tr>\n",
       "      <th>4</th>\n",
       "      <td>302</td>\n",
       "      <td>2009-02-06</td>\n",
       "      <td>47</td>\n",
       "      <td>14.28</td>\n",
       "      <td>FFYHD</td>\n",
       "      <td>2</td>\n",
       "      <td>2009-02-09</td>\n",
       "      <td>2009-02</td>\n",
       "      <td>2009-01</td>\n",
       "      <td>2</td>\n",
       "    </tr>\n",
       "    <tr>\n",
       "      <th>5</th>\n",
       "      <td>321</td>\n",
       "      <td>2009-02-17</td>\n",
       "      <td>47</td>\n",
       "      <td>29.50</td>\n",
       "      <td>HA5R3</td>\n",
       "      <td>3</td>\n",
       "      <td>2009-02-17</td>\n",
       "      <td>2009-02</td>\n",
       "      <td>2009-01</td>\n",
       "      <td>2</td>\n",
       "    </tr>\n",
       "    <tr>\n",
       "      <th>6</th>\n",
       "      <td>333</td>\n",
       "      <td>2009-02-23</td>\n",
       "      <td>47</td>\n",
       "      <td>18.91</td>\n",
       "      <td>RSXQG</td>\n",
       "      <td>2</td>\n",
       "      <td>2009-02-23</td>\n",
       "      <td>2009-02</td>\n",
       "      <td>2009-01</td>\n",
       "      <td>2</td>\n",
       "    </tr>\n",
       "    <tr>\n",
       "      <th>7</th>\n",
       "      <td>341</td>\n",
       "      <td>2009-03-01</td>\n",
       "      <td>47</td>\n",
       "      <td>64.41</td>\n",
       "      <td>KHBDJ</td>\n",
       "      <td>3</td>\n",
       "      <td>2009-03-03</td>\n",
       "      <td>2009-03</td>\n",
       "      <td>2009-01</td>\n",
       "      <td>3</td>\n",
       "    </tr>\n",
       "  </tbody>\n",
       "</table>\n",
       "</div>"
      ],
      "text/plain": [
       "   Order Id  OrderDate  UserId  Total Charges CommonId  PupId PickupDate  \\\n",
       "0       262 2009-01-11      47          50.67    TRQKD      2 2009-01-12   \n",
       "1       278 2009-01-20      47          26.60    4HH2S      3 2009-01-20   \n",
       "2       294 2009-02-03      47          38.71    3TRDC      2 2009-02-04   \n",
       "3       301 2009-02-06      47          53.38    NGAZJ      2 2009-02-09   \n",
       "4       302 2009-02-06      47          14.28    FFYHD      2 2009-02-09   \n",
       "5       321 2009-02-17      47          29.50    HA5R3      3 2009-02-17   \n",
       "6       333 2009-02-23      47          18.91    RSXQG      2 2009-02-23   \n",
       "7       341 2009-03-01      47          64.41    KHBDJ      3 2009-03-03   \n",
       "\n",
       "  OrderPeriod CohortGroup  CohortPeriod  \n",
       "0     2009-01     2009-01             1  \n",
       "1     2009-01     2009-01             1  \n",
       "2     2009-02     2009-01             2  \n",
       "3     2009-02     2009-01             2  \n",
       "4     2009-02     2009-01             2  \n",
       "5     2009-02     2009-01             2  \n",
       "6     2009-02     2009-01             2  \n",
       "7     2009-03     2009-01             3  "
      ]
     },
     "execution_count": 11,
     "metadata": {},
     "output_type": "execute_result"
    }
   ],
   "source": [
    "final.head(8)"
   ]
  },
  {
   "cell_type": "markdown",
   "metadata": {},
   "source": [
    "# Cohort analysis"
   ]
  },
  {
   "cell_type": "code",
   "execution_count": 12,
   "metadata": {
    "collapsed": true
   },
   "outputs": [],
   "source": [
    "grouped = final.groupby(['CohortGroup','OrderPeriod'])"
   ]
  },
  {
   "cell_type": "code",
   "execution_count": 13,
   "metadata": {
    "collapsed": false
   },
   "outputs": [],
   "source": [
    "cohorts = grouped.agg({ 'Order Id': 'nunique',\n",
    "                       'UserId':'nunique',\n",
    "                       'Total Charges': 'sum',\n",
    "                       'CohortPeriod': 'min'\n",
    "})"
   ]
  },
  {
   "cell_type": "code",
   "execution_count": 14,
   "metadata": {
    "collapsed": false
   },
   "outputs": [
    {
     "data": {
      "text/html": [
       "<div>\n",
       "<table border=\"1\" class=\"dataframe\">\n",
       "  <thead>\n",
       "    <tr style=\"text-align: right;\">\n",
       "      <th></th>\n",
       "      <th></th>\n",
       "      <th>Total Charges</th>\n",
       "      <th>CohortPeriod</th>\n",
       "      <th>UserId</th>\n",
       "      <th>Order Id</th>\n",
       "    </tr>\n",
       "    <tr>\n",
       "      <th>CohortGroup</th>\n",
       "      <th>OrderPeriod</th>\n",
       "      <th></th>\n",
       "      <th></th>\n",
       "      <th></th>\n",
       "      <th></th>\n",
       "    </tr>\n",
       "  </thead>\n",
       "  <tbody>\n",
       "    <tr>\n",
       "      <th rowspan=\"3\" valign=\"top\">2009-01</th>\n",
       "      <th>2009-01</th>\n",
       "      <td>1850.255</td>\n",
       "      <td>1</td>\n",
       "      <td>22</td>\n",
       "      <td>30</td>\n",
       "    </tr>\n",
       "    <tr>\n",
       "      <th>2009-02</th>\n",
       "      <td>1351.065</td>\n",
       "      <td>2</td>\n",
       "      <td>8</td>\n",
       "      <td>25</td>\n",
       "    </tr>\n",
       "    <tr>\n",
       "      <th>2009-03</th>\n",
       "      <td>1357.360</td>\n",
       "      <td>3</td>\n",
       "      <td>10</td>\n",
       "      <td>26</td>\n",
       "    </tr>\n",
       "  </tbody>\n",
       "</table>\n",
       "</div>"
      ],
      "text/plain": [
       "                         Total Charges  CohortPeriod  UserId  Order Id\n",
       "CohortGroup OrderPeriod                                               \n",
       "2009-01     2009-01           1850.255             1      22        30\n",
       "            2009-02           1351.065             2       8        25\n",
       "            2009-03           1357.360             3      10        26"
      ]
     },
     "execution_count": 14,
     "metadata": {},
     "output_type": "execute_result"
    }
   ],
   "source": [
    "cohorts[:3]"
   ]
  },
  {
   "cell_type": "code",
   "execution_count": 15,
   "metadata": {
    "collapsed": true
   },
   "outputs": [],
   "source": [
    "cohorts.reset_index(inplace = True)\n",
    "cohorts.set_index(['CohortGroup', 'CohortPeriod'], inplace=True)"
   ]
  },
  {
   "cell_type": "code",
   "execution_count": 16,
   "metadata": {
    "collapsed": false
   },
   "outputs": [
    {
     "data": {
      "text/html": [
       "<div>\n",
       "<table border=\"1\" class=\"dataframe\">\n",
       "  <thead>\n",
       "    <tr style=\"text-align: right;\">\n",
       "      <th></th>\n",
       "      <th></th>\n",
       "      <th>OrderPeriod</th>\n",
       "      <th>Total Charges</th>\n",
       "      <th>UserId</th>\n",
       "      <th>Order Id</th>\n",
       "    </tr>\n",
       "    <tr>\n",
       "      <th>CohortGroup</th>\n",
       "      <th>CohortPeriod</th>\n",
       "      <th></th>\n",
       "      <th></th>\n",
       "      <th></th>\n",
       "      <th></th>\n",
       "    </tr>\n",
       "  </thead>\n",
       "  <tbody>\n",
       "    <tr>\n",
       "      <th rowspan=\"7\" valign=\"top\">2009-01</th>\n",
       "      <th>1</th>\n",
       "      <td>2009-01</td>\n",
       "      <td>1850.255</td>\n",
       "      <td>22</td>\n",
       "      <td>30</td>\n",
       "    </tr>\n",
       "    <tr>\n",
       "      <th>2</th>\n",
       "      <td>2009-02</td>\n",
       "      <td>1351.065</td>\n",
       "      <td>8</td>\n",
       "      <td>25</td>\n",
       "    </tr>\n",
       "    <tr>\n",
       "      <th>3</th>\n",
       "      <td>2009-03</td>\n",
       "      <td>1357.360</td>\n",
       "      <td>10</td>\n",
       "      <td>26</td>\n",
       "    </tr>\n",
       "    <tr>\n",
       "      <th>4</th>\n",
       "      <td>2009-04</td>\n",
       "      <td>1604.500</td>\n",
       "      <td>9</td>\n",
       "      <td>28</td>\n",
       "    </tr>\n",
       "    <tr>\n",
       "      <th>5</th>\n",
       "      <td>2009-05</td>\n",
       "      <td>1575.625</td>\n",
       "      <td>10</td>\n",
       "      <td>26</td>\n",
       "    </tr>\n",
       "    <tr>\n",
       "      <th>6</th>\n",
       "      <td>2009-06</td>\n",
       "      <td>1384.840</td>\n",
       "      <td>8</td>\n",
       "      <td>26</td>\n",
       "    </tr>\n",
       "    <tr>\n",
       "      <th>7</th>\n",
       "      <td>2009-07</td>\n",
       "      <td>1750.840</td>\n",
       "      <td>8</td>\n",
       "      <td>24</td>\n",
       "    </tr>\n",
       "  </tbody>\n",
       "</table>\n",
       "</div>"
      ],
      "text/plain": [
       "                         OrderPeriod  Total Charges  UserId  Order Id\n",
       "CohortGroup CohortPeriod                                             \n",
       "2009-01     1                2009-01       1850.255      22        30\n",
       "            2                2009-02       1351.065       8        25\n",
       "            3                2009-03       1357.360      10        26\n",
       "            4                2009-04       1604.500       9        28\n",
       "            5                2009-05       1575.625      10        26\n",
       "            6                2009-06       1384.840       8        26\n",
       "            7                2009-07       1750.840       8        24"
      ]
     },
     "execution_count": 16,
     "metadata": {},
     "output_type": "execute_result"
    }
   ],
   "source": [
    "cohorts[:7]"
   ]
  },
  {
   "cell_type": "code",
   "execution_count": 17,
   "metadata": {
    "collapsed": true
   },
   "outputs": [],
   "source": [
    "cohorts.columns = ['OrderPeriod','TotalCharges','TotalUser','TotalOrder']"
   ]
  },
  {
   "cell_type": "code",
   "execution_count": 18,
   "metadata": {
    "collapsed": false
   },
   "outputs": [
    {
     "data": {
      "text/plain": [
       "array([u'2009-01', u'2009-02', u'2009-03', u'2009-04', u'2009-05',\n",
       "       u'2009-12', u'2010-01', u'2010-02'], dtype=object)"
      ]
     },
     "execution_count": 18,
     "metadata": {},
     "output_type": "execute_result"
    }
   ],
   "source": [
    "a = cohorts.reset_index()\n",
    "np.unique(a['CohortGroup'])"
   ]
  },
  {
   "cell_type": "code",
   "execution_count": 19,
   "metadata": {
    "collapsed": false
   },
   "outputs": [
    {
     "data": {
      "text/html": [
       "<div>\n",
       "<table border=\"1\" class=\"dataframe\">\n",
       "  <thead>\n",
       "    <tr style=\"text-align: right;\">\n",
       "      <th>CohortGroup</th>\n",
       "      <th>2009-01</th>\n",
       "      <th>2009-02</th>\n",
       "      <th>2009-03</th>\n",
       "      <th>2009-04</th>\n",
       "      <th>2009-05</th>\n",
       "      <th>2009-12</th>\n",
       "      <th>2010-01</th>\n",
       "      <th>2010-02</th>\n",
       "    </tr>\n",
       "    <tr>\n",
       "      <th>CohortPeriod</th>\n",
       "      <th></th>\n",
       "      <th></th>\n",
       "      <th></th>\n",
       "      <th></th>\n",
       "      <th></th>\n",
       "      <th></th>\n",
       "      <th></th>\n",
       "      <th></th>\n",
       "    </tr>\n",
       "  </thead>\n",
       "  <tbody>\n",
       "    <tr>\n",
       "      <th>1</th>\n",
       "      <td>22.0</td>\n",
       "      <td>15.0</td>\n",
       "      <td>13.0</td>\n",
       "      <td>19.0</td>\n",
       "      <td>8.0</td>\n",
       "      <td>1.0</td>\n",
       "      <td>1.0</td>\n",
       "      <td>2.0</td>\n",
       "    </tr>\n",
       "    <tr>\n",
       "      <th>2</th>\n",
       "      <td>8.0</td>\n",
       "      <td>3.0</td>\n",
       "      <td>4.0</td>\n",
       "      <td>8.0</td>\n",
       "      <td>2.0</td>\n",
       "      <td>1.0</td>\n",
       "      <td>NaN</td>\n",
       "      <td>NaN</td>\n",
       "    </tr>\n",
       "    <tr>\n",
       "      <th>3</th>\n",
       "      <td>10.0</td>\n",
       "      <td>5.0</td>\n",
       "      <td>5.0</td>\n",
       "      <td>6.0</td>\n",
       "      <td>1.0</td>\n",
       "      <td>NaN</td>\n",
       "      <td>NaN</td>\n",
       "      <td>NaN</td>\n",
       "    </tr>\n",
       "  </tbody>\n",
       "</table>\n",
       "</div>"
      ],
      "text/plain": [
       "CohortGroup   2009-01  2009-02  2009-03  2009-04  2009-05  2009-12  2010-01  \\\n",
       "CohortPeriod                                                                  \n",
       "1                22.0     15.0     13.0     19.0      8.0      1.0      1.0   \n",
       "2                 8.0      3.0      4.0      8.0      2.0      1.0      NaN   \n",
       "3                10.0      5.0      5.0      6.0      1.0      NaN      NaN   \n",
       "\n",
       "CohortGroup   2010-02  \n",
       "CohortPeriod           \n",
       "1                 2.0  \n",
       "2                 NaN  \n",
       "3                 NaN  "
      ]
     },
     "execution_count": 19,
     "metadata": {},
     "output_type": "execute_result"
    }
   ],
   "source": [
    "# Now focus on User's trend\n",
    "user = cohorts['TotalUser'].unstack('CohortGroup')\n",
    "user.head(3)"
   ]
  },
  {
   "cell_type": "code",
   "execution_count": 20,
   "metadata": {
    "collapsed": false
   },
   "outputs": [
    {
     "data": {
      "text/plain": [
       "CohortGroup\n",
       "2009-01    22.0\n",
       "2009-02    15.0\n",
       "2009-03    13.0\n",
       "2009-04    19.0\n",
       "2009-05     8.0\n",
       "2009-12     1.0\n",
       "2010-01     1.0\n",
       "2010-02     2.0\n",
       "Name: 1, dtype: float64"
      ]
     },
     "execution_count": 20,
     "metadata": {},
     "output_type": "execute_result"
    }
   ],
   "source": [
    "user_first = user.loc[1]\n",
    "user_first"
   ]
  },
  {
   "cell_type": "code",
   "execution_count": 21,
   "metadata": {
    "collapsed": false
   },
   "outputs": [
    {
     "data": {
      "text/html": [
       "<div>\n",
       "<table border=\"1\" class=\"dataframe\">\n",
       "  <thead>\n",
       "    <tr style=\"text-align: right;\">\n",
       "      <th>CohortGroup</th>\n",
       "      <th>2009-01</th>\n",
       "      <th>2009-02</th>\n",
       "      <th>2009-03</th>\n",
       "      <th>2009-04</th>\n",
       "      <th>2009-05</th>\n",
       "      <th>2009-12</th>\n",
       "      <th>2010-01</th>\n",
       "      <th>2010-02</th>\n",
       "    </tr>\n",
       "    <tr>\n",
       "      <th>CohortPeriod</th>\n",
       "      <th></th>\n",
       "      <th></th>\n",
       "      <th></th>\n",
       "      <th></th>\n",
       "      <th></th>\n",
       "      <th></th>\n",
       "      <th></th>\n",
       "      <th></th>\n",
       "    </tr>\n",
       "  </thead>\n",
       "  <tbody>\n",
       "    <tr>\n",
       "      <th>1</th>\n",
       "      <td>1.000000</td>\n",
       "      <td>1.000000</td>\n",
       "      <td>1.000000</td>\n",
       "      <td>1.000000</td>\n",
       "      <td>1.000</td>\n",
       "      <td>1.0</td>\n",
       "      <td>1.0</td>\n",
       "      <td>1.0</td>\n",
       "    </tr>\n",
       "    <tr>\n",
       "      <th>2</th>\n",
       "      <td>0.363636</td>\n",
       "      <td>0.200000</td>\n",
       "      <td>0.307692</td>\n",
       "      <td>0.421053</td>\n",
       "      <td>0.250</td>\n",
       "      <td>1.0</td>\n",
       "      <td>NaN</td>\n",
       "      <td>NaN</td>\n",
       "    </tr>\n",
       "    <tr>\n",
       "      <th>3</th>\n",
       "      <td>0.454545</td>\n",
       "      <td>0.333333</td>\n",
       "      <td>0.384615</td>\n",
       "      <td>0.315789</td>\n",
       "      <td>0.125</td>\n",
       "      <td>NaN</td>\n",
       "      <td>NaN</td>\n",
       "      <td>NaN</td>\n",
       "    </tr>\n",
       "  </tbody>\n",
       "</table>\n",
       "</div>"
      ],
      "text/plain": [
       "CohortGroup    2009-01   2009-02   2009-03   2009-04  2009-05  2009-12  \\\n",
       "CohortPeriod                                                             \n",
       "1             1.000000  1.000000  1.000000  1.000000    1.000      1.0   \n",
       "2             0.363636  0.200000  0.307692  0.421053    0.250      1.0   \n",
       "3             0.454545  0.333333  0.384615  0.315789    0.125      NaN   \n",
       "\n",
       "CohortGroup   2010-01  2010-02  \n",
       "CohortPeriod                    \n",
       "1                 1.0      1.0  \n",
       "2                 NaN      NaN  \n",
       "3                 NaN      NaN  "
      ]
     },
     "execution_count": 21,
     "metadata": {},
     "output_type": "execute_result"
    }
   ],
   "source": [
    "user_retention = user/user_first\n",
    "user_retention[:3]"
   ]
  },
  {
   "cell_type": "code",
   "execution_count": 22,
   "metadata": {
    "collapsed": true
   },
   "outputs": [],
   "source": [
    "# make some plots\n",
    "\n",
    "user1 = user_retention[['2009-01','2009-02','2009-03']]\n"
   ]
  },
  {
   "cell_type": "code",
   "execution_count": 23,
   "metadata": {
    "collapsed": false
   },
   "outputs": [
    {
     "data": {
      "image/png": "[encoded data removed]",
      "text/plain": [
       "<matplotlib.figure.Figure at 0x1123a8e10>"
      ]
     },
     "metadata": {},
     "output_type": "display_data"
    }
   ],
   "source": [
    "user1.plot()\n",
    "plt.title('cohort analysis')\n",
    "plt.ylabel('rentention rate')\n",
    "plt.show()"
   ]
  },
  {
   "cell_type": "code",
   "execution_count": 50,
   "metadata": {
    "collapsed": false
   },
   "outputs": [
    {
     "data": {
      "text/html": [
       "<div>\n",
       "<table border=\"1\" class=\"dataframe\">\n",
       "  <thead>\n",
       "    <tr style=\"text-align: right;\">\n",
       "      <th>CohortGroup</th>\n",
       "      <th>2009-01</th>\n",
       "      <th>2009-02</th>\n",
       "      <th>2009-03</th>\n",
       "    </tr>\n",
       "    <tr>\n",
       "      <th>CohortPeriod</th>\n",
       "      <th></th>\n",
       "      <th></th>\n",
       "      <th></th>\n",
       "    </tr>\n",
       "  </thead>\n",
       "  <tbody>\n",
       "    <tr>\n",
       "      <th>1</th>\n",
       "      <td>1.000000</td>\n",
       "      <td>1.0</td>\n",
       "      <td>1.000000</td>\n",
       "    </tr>\n",
       "    <tr>\n",
       "      <th>2</th>\n",
       "      <td>0.363636</td>\n",
       "      <td>0.2</td>\n",
       "      <td>0.307692</td>\n",
       "    </tr>\n",
       "  </tbody>\n",
       "</table>\n",
       "</div>"
      ],
      "text/plain": [
       "CohortGroup    2009-01  2009-02   2009-03\n",
       "CohortPeriod                             \n",
       "1             1.000000      1.0  1.000000\n",
       "2             0.363636      0.2  0.307692"
      ]
     },
     "execution_count": 50,
     "metadata": {},
     "output_type": "execute_result"
    }
   ],
   "source": [
    "user1.head(2)"
   ]
  },
  {
   "cell_type": "code",
   "execution_count": 24,
   "metadata": {
    "collapsed": false
   },
   "outputs": [
    {
     "data": {
      "image/png": "[encoded data removed]",
      "text/plain": [
       "<matplotlib.figure.Figure at 0x113c009d0>"
      ]
     },
     "metadata": {},
     "output_type": "display_data"
    }
   ],
   "source": [
    "plt.plot(user1.index, user1['2009-01'], label = '2009-01', marker = 'o')\n",
    "plt.plot(user1.index, user1['2009-02'], label = '2009-02', marker = 'x')\n",
    "plt.plot(user1.index, user1['2009-03'], label = '2009-03', marker = '*')\n",
    "plt.legend()\n",
    "plt.title('cohort analysis')\n",
    "plt.ylabel('rentention rate')\n",
    "plt.xlabel('cohort period')\n",
    "plt.show()"
   ]
  },
  {
   "cell_type": "code",
   "execution_count": 25,
   "metadata": {
    "collapsed": false
   },
   "outputs": [
    {
     "data": {
      "text/html": [
       "<div>\n",
       "<table border=\"1\" class=\"dataframe\">\n",
       "  <thead>\n",
       "    <tr style=\"text-align: right;\">\n",
       "      <th>CohortPeriod</th>\n",
       "      <th>1</th>\n",
       "      <th>2</th>\n",
       "      <th>3</th>\n",
       "      <th>4</th>\n",
       "      <th>5</th>\n",
       "      <th>6</th>\n",
       "      <th>7</th>\n",
       "      <th>8</th>\n",
       "      <th>9</th>\n",
       "      <th>10</th>\n",
       "      <th>11</th>\n",
       "      <th>12</th>\n",
       "      <th>13</th>\n",
       "      <th>14</th>\n",
       "      <th>15</th>\n",
       "    </tr>\n",
       "    <tr>\n",
       "      <th>CohortGroup</th>\n",
       "      <th></th>\n",
       "      <th></th>\n",
       "      <th></th>\n",
       "      <th></th>\n",
       "      <th></th>\n",
       "      <th></th>\n",
       "      <th></th>\n",
       "      <th></th>\n",
       "      <th></th>\n",
       "      <th></th>\n",
       "      <th></th>\n",
       "      <th></th>\n",
       "      <th></th>\n",
       "      <th></th>\n",
       "      <th></th>\n",
       "    </tr>\n",
       "  </thead>\n",
       "  <tbody>\n",
       "    <tr>\n",
       "      <th>2009-01</th>\n",
       "      <td>1.0</td>\n",
       "      <td>0.363636</td>\n",
       "      <td>0.454545</td>\n",
       "      <td>0.409091</td>\n",
       "      <td>0.454545</td>\n",
       "      <td>0.363636</td>\n",
       "      <td>0.363636</td>\n",
       "      <td>0.318182</td>\n",
       "      <td>0.318182</td>\n",
       "      <td>0.318182</td>\n",
       "      <td>0.318182</td>\n",
       "      <td>0.363636</td>\n",
       "      <td>0.500000</td>\n",
       "      <td>0.318182</td>\n",
       "      <td>0.272727</td>\n",
       "    </tr>\n",
       "    <tr>\n",
       "      <th>2009-02</th>\n",
       "      <td>1.0</td>\n",
       "      <td>0.200000</td>\n",
       "      <td>0.333333</td>\n",
       "      <td>0.066667</td>\n",
       "      <td>0.266667</td>\n",
       "      <td>0.266667</td>\n",
       "      <td>0.266667</td>\n",
       "      <td>0.333333</td>\n",
       "      <td>0.333333</td>\n",
       "      <td>0.266667</td>\n",
       "      <td>0.200000</td>\n",
       "      <td>0.200000</td>\n",
       "      <td>0.333333</td>\n",
       "      <td>NaN</td>\n",
       "      <td>NaN</td>\n",
       "    </tr>\n",
       "  </tbody>\n",
       "</table>\n",
       "</div>"
      ],
      "text/plain": [
       "CohortPeriod   1         2         3         4         5         6         7   \\\n",
       "CohortGroup                                                                     \n",
       "2009-01       1.0  0.363636  0.454545  0.409091  0.454545  0.363636  0.363636   \n",
       "2009-02       1.0  0.200000  0.333333  0.066667  0.266667  0.266667  0.266667   \n",
       "\n",
       "CohortPeriod        8         9         10        11        12        13  \\\n",
       "CohortGroup                                                                \n",
       "2009-01       0.318182  0.318182  0.318182  0.318182  0.363636  0.500000   \n",
       "2009-02       0.333333  0.333333  0.266667  0.200000  0.200000  0.333333   \n",
       "\n",
       "CohortPeriod        14        15  \n",
       "CohortGroup                       \n",
       "2009-01       0.318182  0.272727  \n",
       "2009-02            NaN       NaN  "
      ]
     },
     "execution_count": 25,
     "metadata": {},
     "output_type": "execute_result"
    }
   ],
   "source": [
    "retention_t = user_retention.T\n",
    "retention_t.head(2)"
   ]
  },
  {
   "cell_type": "code",
   "execution_count": 26,
   "metadata": {
    "collapsed": false
   },
   "outputs": [
    {
     "data": {
      "text/plain": [
       "(Index([u'2009-01', u'2009-02', u'2009-03', u'2009-04', u'2009-05', u'2009-12',\n",
       "        u'2010-01', u'2010-02'],\n",
       "       dtype='object', name=u'CohortGroup'),\n",
       " Int64Index([1, 2, 3, 4, 5, 6, 7, 8, 9, 10, 11, 12, 13, 14, 15], dtype='int64', name=u'CohortPeriod'))"
      ]
     },
     "execution_count": 26,
     "metadata": {},
     "output_type": "execute_result"
    }
   ],
   "source": [
    "retention_t.index, retention_t.columns"
   ]
  },
  {
   "cell_type": "code",
   "execution_count": 27,
   "metadata": {
    "collapsed": true
   },
   "outputs": [],
   "source": [
    "import seaborn as sns"
   ]
  },
  {
   "cell_type": "code",
   "execution_count": 30,
   "metadata": {
    "collapsed": false
   },
   "outputs": [
    {
     "data": {
      "image/png": "[encoded data removed]",
      "text/plain": [
       "<matplotlib.figure.Figure at 0x1162d5a90>"
      ]
     },
     "metadata": {},
     "output_type": "display_data"
    }
   ],
   "source": [
    "plt.figure(figsize=(12, 8))\n",
    "sns.heatmap(retention_t,\n",
    "             mask=retention_t.isnull(), annot=True, fmt='.0%')\n",
    "plt.ylabel('cohort group')\n",
    "x = range(len(retention_t.index))\n",
    "plt.yticks(x, retention_t.index, rotation = 30)\n",
    "plt.show()"
   ]
  },
  {
   "cell_type": "code",
   "execution_count": 31,
   "metadata": {
    "collapsed": false
   },
   "outputs": [
    {
     "data": {
      "image/png": "[encoded data removed]",
      "text/plain": [
       "<matplotlib.figure.Figure at 0x118b51410>"
      ]
     },
     "metadata": {},
     "output_type": "display_data"
    }
   ],
   "source": [
    "plt.figure(figsize=(12, 8))\n",
    "sns.heatmap(retention_t,\n",
    "            yticklabels= retention_t.index.values, # has to add.values\n",
    "            xticklabels = retention_t.columns.values\n",
    "           ,fmt = '.0%')\n",
    "\n",
    "plt.show()"
   ]
  },
  {
   "cell_type": "code",
   "execution_count": null,
   "metadata": {
    "collapsed": true
   },
   "outputs": [],
   "source": [
    "# Retention Rate"
   ]
  },
  {
   "cell_type": "code",
   "execution_count": 32,
   "metadata": {
    "collapsed": false
   },
   "outputs": [
    {
     "data": {
      "text/html": [
       "<div>\n",
       "<table border=\"1\" class=\"dataframe\">\n",
       "  <thead>\n",
       "    <tr style=\"text-align: right;\">\n",
       "      <th></th>\n",
       "      <th>Order Id</th>\n",
       "      <th>OrderDate</th>\n",
       "      <th>UserId</th>\n",
       "      <th>Total Charges</th>\n",
       "      <th>CommonId</th>\n",
       "      <th>PupId</th>\n",
       "      <th>PickupDate</th>\n",
       "      <th>OrderPeriod</th>\n",
       "      <th>CohortGroup</th>\n",
       "      <th>CohortPeriod</th>\n",
       "    </tr>\n",
       "  </thead>\n",
       "  <tbody>\n",
       "    <tr>\n",
       "      <th>0</th>\n",
       "      <td>262</td>\n",
       "      <td>2009-01-11</td>\n",
       "      <td>47</td>\n",
       "      <td>50.67</td>\n",
       "      <td>TRQKD</td>\n",
       "      <td>2</td>\n",
       "      <td>2009-01-12</td>\n",
       "      <td>2009-01</td>\n",
       "      <td>2009-01</td>\n",
       "      <td>1</td>\n",
       "    </tr>\n",
       "    <tr>\n",
       "      <th>1</th>\n",
       "      <td>278</td>\n",
       "      <td>2009-01-20</td>\n",
       "      <td>47</td>\n",
       "      <td>26.60</td>\n",
       "      <td>4HH2S</td>\n",
       "      <td>3</td>\n",
       "      <td>2009-01-20</td>\n",
       "      <td>2009-01</td>\n",
       "      <td>2009-01</td>\n",
       "      <td>1</td>\n",
       "    </tr>\n",
       "  </tbody>\n",
       "</table>\n",
       "</div>"
      ],
      "text/plain": [
       "   Order Id  OrderDate  UserId  Total Charges CommonId  PupId PickupDate  \\\n",
       "0       262 2009-01-11      47          50.67    TRQKD      2 2009-01-12   \n",
       "1       278 2009-01-20      47          26.60    4HH2S      3 2009-01-20   \n",
       "\n",
       "  OrderPeriod CohortGroup  CohortPeriod  \n",
       "0     2009-01     2009-01             1  \n",
       "1     2009-01     2009-01             1  "
      ]
     },
     "execution_count": 32,
     "metadata": {},
     "output_type": "execute_result"
    }
   ],
   "source": [
    "final.head(2)"
   ]
  },
  {
   "cell_type": "code",
   "execution_count": 33,
   "metadata": {
    "collapsed": true
   },
   "outputs": [],
   "source": [
    "grouped2 = final.groupby('CohortPeriod')"
   ]
  },
  {
   "cell_type": "code",
   "execution_count": 35,
   "metadata": {
    "collapsed": false
   },
   "outputs": [
    {
     "data": {
      "text/html": [
       "<div>\n",
       "<table border=\"1\" class=\"dataframe\">\n",
       "  <thead>\n",
       "    <tr style=\"text-align: right;\">\n",
       "      <th></th>\n",
       "      <th>Total Charges</th>\n",
       "      <th>UserId</th>\n",
       "    </tr>\n",
       "    <tr>\n",
       "      <th>CohortPeriod</th>\n",
       "      <th></th>\n",
       "      <th></th>\n",
       "    </tr>\n",
       "  </thead>\n",
       "  <tbody>\n",
       "    <tr>\n",
       "      <th>1</th>\n",
       "      <td>6187.4105</td>\n",
       "      <td>81</td>\n",
       "    </tr>\n",
       "    <tr>\n",
       "      <th>2</th>\n",
       "      <td>3349.9350</td>\n",
       "      <td>26</td>\n",
       "    </tr>\n",
       "    <tr>\n",
       "      <th>3</th>\n",
       "      <td>4290.6900</td>\n",
       "      <td>27</td>\n",
       "    </tr>\n",
       "  </tbody>\n",
       "</table>\n",
       "</div>"
      ],
      "text/plain": [
       "              Total Charges  UserId\n",
       "CohortPeriod                       \n",
       "1                 6187.4105      81\n",
       "2                 3349.9350      26\n",
       "3                 4290.6900      27"
      ]
     },
     "execution_count": 35,
     "metadata": {},
     "output_type": "execute_result"
    }
   ],
   "source": [
    "retention = grouped2.agg({'UserId': 'nunique',\n",
    "                         'Total Charges': 'sum'})\n",
    "retention.head(3)"
   ]
  },
  {
   "cell_type": "code",
   "execution_count": 39,
   "metadata": {
    "collapsed": false
   },
   "outputs": [
    {
     "data": {
      "text/plain": [
       "81.0"
      ]
     },
     "execution_count": 39,
     "metadata": {},
     "output_type": "execute_result"
    }
   ],
   "source": [
    "initial = retention.loc[1]['UserId']\n",
    "initial"
   ]
  },
  {
   "cell_type": "code",
   "execution_count": 47,
   "metadata": {
    "collapsed": false
   },
   "outputs": [
    {
     "data": {
      "image/png": "[encoded data removed]",
      "text/plain": [
       "<matplotlib.figure.Figure at 0x1193f3150>"
      ]
     },
     "metadata": {},
     "output_type": "display_data"
    }
   ],
   "source": [
    "retention_rate = retention['UserId']/initial\n",
    "plt.plot(retention_rate.index, retention_rate, marker = 'o', color = 'blue')\n",
    "plt.title('retention rate of users')\n",
    "plt.xlabel('cohort-experience time(month)')\n",
    "plt.ylabel('retention rate')\n",
    "plt.show()"
   ]
  },
  {
   "cell_type": "code",
   "execution_count": 54,
   "metadata": {
    "collapsed": false
   },
   "outputs": [
    {
     "data": {
      "image/png": "[encoded data removed]",
      "text/plain": [
       "<matplotlib.figure.Figure at 0x11845ba10>"
      ]
     },
     "metadata": {},
     "output_type": "display_data"
    }
   ],
   "source": [
    "fig = plt.figure()\n",
    "\n",
    "ax1 = fig.add_subplot(1,1,1)\n",
    "ax1.plot(retention_rate.index, retention_rate, marker = 'o',\n",
    "         label = 'user retention')\n",
    "ax1.set_ylabel('user retention rate')\n",
    "ax1.legend(loc = 'upper left')\n",
    "\n",
    "ax2 = ax1.twinx()\n",
    "ax2.plot(retention.index, retention['Total Charges'], label = 'revenue retention', color = 'green')\n",
    "ax2.set_ylabel('revenue retention')\n",
    "ax2.legend(loc = 'best')\n",
    "\n",
    "plt.show()"
   ]
  },
  {
   "cell_type": "code",
   "execution_count": null,
   "metadata": {
    "collapsed": true
   },
   "outputs": [],
   "source": []
  }
 ],
 "metadata": {
  "kernelspec": {
   "display_name": "Python [default]",
   "language": "python",
   "name": "python2"
  },
  "language_info": {
   "codemirror_mode": {
    "name": "ipython",
    "version": 2
   },
   "file_extension": ".py",
   "mimetype": "text/x-python",
   "name": "python",
   "nbconvert_exporter": "python",
   "pygments_lexer": "ipython2",
   "version": "2.7.13"
  }
 },
 "nbformat": 4,
 "nbformat_minor": 2
}
