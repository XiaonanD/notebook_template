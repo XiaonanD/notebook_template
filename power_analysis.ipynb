{
 "cells": [
  {
   "cell_type": "code",
   "execution_count": 1,
   "metadata": {
    "collapsed": true
   },
   "outputs": [],
   "source": [
    "import statsmodels.stats.power as smp"
   ]
  },
  {
   "cell_type": "markdown",
   "metadata": {},
   "source": [
    "Statsmodels is a Python module that provides functionality for conducting many statistical tests and analyses. It has been tested against R and other statistical packages, and implements R-style formulas with pandas dataframes or numpy functions to fit models."
   ]
  },
  {
   "cell_type": "markdown",
   "metadata": {},
   "source": [
    "# **1. CALCULATING SAMPLE SIZE FOR A 2 INDEPENDENT SAMPLE T-TEST**"
   ]
  },
  {
   "cell_type": "markdown",
   "metadata": {},
   "source": [
    "R-code version: \n",
    "---------------------------\n",
    "    install.packages(\"pwr\")\n",
    "    require(pwr)\n",
    "    \n",
    "    samplesize.ttest <- function(baseline.mean, baseline.SD, pct.change) {\n",
    "  if (missing(baseline.mean))\n",
    "    stop(\"Need to specify baseline mean of your metric for sample size calculations. Use AVG in redshift.\")\n",
    "  if (missing(baseline.SD))\n",
    "    stop(\"Need to specify baseline SD of your metric for sample size calculations; use STDDEV_POP in redshift\")\n",
    "  if (missing(pct.change))\n",
    "    stop(\"Need to specify expected % change, bounded ]-1,1[, of your metric for sample size calculations.\")\n",
    "  if(abs(pct.change) >= 1)\n",
    "    stop(\"pct.change must be between ]-1, 1[\")\n",
    "  \n",
    "  new.mean <- baseline.mean*(pct.change + 1)\n",
    " \n",
    "  effect_size = abs(new.mean - baseline.mean) / (baseline.SD)\n",
    "  result = suppressWarnings(pwr.t.test(n=NULL, d = effect_size, sig.level = 0.05, power = 0.8, type = \"two.sample\"))\n",
    "  print(result)\n",
    "  \n",
    "  message(\"You will require \", result$n, \" users per experiment group\")\n",
    "  }"
   ]
  },
  {
   "cell_type": "code",
   "execution_count": 2,
   "metadata": {},
   "outputs": [
    {
     "data": {
      "text/plain": [
       "1"
      ]
     },
     "execution_count": 2,
     "metadata": {},
     "output_type": "execute_result"
    }
   ],
   "source": [
    "# EG: baseline mean is 1.5, SD is 3, and i want a minimum sample size neessary to detect a 10% increase:\n",
    "# samplesize.ttest(1.5,3,0.1) --answer: 6280.049 per group"
   ]
  },
  {
   "cell_type": "markdown",
   "metadata": {},
   "source": [
    "good resource:\n",
    "1. https://scientificallysound.org/2017/07/20/python-calculating-sample-size-for-a-2-independent-sample-t-test/  \n",
    "2. https://www.youtube.com/watch?v=tTgouKMz-eI （cohen effect size)"
   ]
  },
  {
   "cell_type": "markdown",
   "metadata": {},
   "source": [
    "-- SQL query to get mean and stdev\n",
    "\n",
    "select partner_id\n",
    ", COUNT( unique_id)\n",
    ", STDDEV_POP(LT)\n",
    ", AVG(LT)\n",
    "FROM \n",
    "(select \n",
    "partner_id\n",
    ", unique_id\n",
    ", sum(listening_time::float/3600) as LT\n",
    "FROM f_device_activity_plus\n",
    "where partner_id in ( 500, 777)\n",
    "and device_create_date between '2016-08-16' and '2016-08-23'\n",
    "and activity_date between '2016-08-16' and '2016-08-30'\n",
    "group by 1,2\n",
    ")\n",
    "group by 1"
   ]
  },
  {
   "cell_type": "code",
   "execution_count": 1,
   "metadata": {},
   "outputs": [
    {
     "name": "stdout",
     "output_type": "stream",
     "text": [
      "You will require \u001b[1m38655.1320181\u001b[0;0m users per experiment group\n",
      "This is each groups sample size, not total\n"
     ]
    }
   ],
   "source": [
    "from statsmodels.stats.power import tt_ind_solve_power\n",
    "\n",
    "\n",
    "####enter parameters below for power analysis###############\n",
    "\n",
    "\n",
    "baseline_mean = 212   # baseline mean\n",
    "baseline_sd = 526     # baseline's standard deviation\n",
    "pct_change = 0.05      # pct relative change that you expected\n",
    "\n",
    "\n",
    "############################################################\n",
    "\n",
    "######Power analysis(no need to change below)###############\n",
    "\n",
    "############################################################\n",
    "\n",
    "def power_analysis_t_test(baseline_mean = baseline_mean, baseline_sd = baseline_sd, pct_change = pct_change):\n",
    "    new_mean = baseline_mean*(1 + pct_change)\n",
    "    mean_diff = (abs(new_mean - baseline_mean))\n",
    "    sd_diff = baseline_sd\n",
    "    std_effect_size = mean_diff / sd_diff\n",
    "    power = 0.8\n",
    "    alpha = 0.05\n",
    "    n = tt_ind_solve_power(effect_size=std_effect_size, \n",
    "                           alpha = alpha, power = power, ratio=1, alternative='two-sided')\n",
    "    start = \"\\033[1m\"\n",
    "    end = \"\\033[0;0m\"\n",
    "    print ('You will require %s users per experiment group' % (start + str(n) + end))\n",
    "    print ('This is each group''s sample size, not total')\n",
    "\n",
    "power_analysis_t_test(baseline_mean = baseline_mean, baseline_sd = baseline_sd, pct_change = pct_change)"
   ]
  },
  {
   "cell_type": "code",
   "execution_count": null,
   "metadata": {
    "collapsed": true
   },
   "outputs": [],
   "source": [
    "# 23098 per group "
   ]
  },
  {
   "cell_type": "code",
   "execution_count": null,
   "metadata": {
    "collapsed": true
   },
   "outputs": [],
   "source": []
  },
  {
   "cell_type": "markdown",
   "metadata": {},
   "source": [
    "# ** 2. CALCULATING SAMPLE SIZE FOR  2 proportions **"
   ]
  },
  {
   "cell_type": "markdown",
   "metadata": {},
   "source": [
    "good source:\n",
    " 1. - https://ncss-wpengine.netdna-ssl.com/wp-content/themes/ncss/pdf/Procedures/PASS/Tests_for_Two_Proportions_using_Effect_Size.pdf\n",
    " 2. - http://jpktd.blogspot.com/2013/03/statistical-power-in-statsmodels.html\n",
    " 3. - https://www.rdocumentation.org/packages/pwr/versions/1.2-0/topics/ES.h\n",
    "\n",
    "    \n",
    "As stated above, the effect size h is given by ℎ = 𝜑𝜑1 − 𝜑𝜑2. Cohen (1988) proposed the following interpretation\n",
    "of the h values.\n",
    " - An h near 0.2 is a small effect, \n",
    " - an h near 0.5 is a medium effect,\n",
    " - and an h near 0.8 is a large effect.\n",
    "These values for small, medium, and large effects are popular in the social sciences. "
   ]
  },
  {
   "cell_type": "markdown",
   "metadata": {},
   "source": [
    "R-code version: \n",
    "---------------------------\n",
    "\n",
    "samplesize.proptest <- function(baseline.pct, pct.change) {\n",
    "  if (missing(baseline.pct))\n",
    "    stop(\"Need to specify baseline pct of your metric for sample size calculations.\")\n",
    "  if (missing(pct.change))\n",
    "    stop(\"Need to specify expected % change, bounded ]-1,1[, of your metric for sample size calculations.\")\n",
    "  if(abs(pct.change) >= 1)\n",
    "    stop(\"pct.change must be between ]-1, 1[\")\n",
    "  if( (baseline.pct >= 1) | (baseline.pct <= 0) )\n",
    "    stop(\"baseline.pct must be between ]0, 1[\")\n",
    "   \n",
    "  new.pct <- baseline.pct*(pct.change + 1)\n",
    " \n",
    "  result = pwr.2p.test(h = ES.h(new.pct, baseline.pct),n=NULL , sig.level = 0.05, power=0.8)\n",
    "   \n",
    "  print(result)\n",
    "  message(\"You will require \", result$n, \" users per experiment group\")\n",
    "}"
   ]
  },
  {
   "cell_type": "code",
   "execution_count": null,
   "metadata": {
    "collapsed": true
   },
   "outputs": [],
   "source": [
    "# EG: baseline pct is 30%, and i want minimum sample size necessary to detect a 5% drop:\n",
    "# samplesize.proptest(0.3,-0.05) # You will require 14435.8539279507 users per experiment group --using R"
   ]
  },
  {
   "cell_type": "code",
   "execution_count": 32,
   "metadata": {},
   "outputs": [
    {
     "data": {
      "text/plain": [
       "0.3029142044215257"
      ]
     },
     "execution_count": 32,
     "metadata": {},
     "output_type": "execute_result"
    }
   ],
   "source": [
    "smp.NormalIndPower().solve_power(effect_size = 0.2, nobs1=1600, alpha=0.01, power=0.9, ratio=None, alternative='two-sided')"
   ]
  },
  {
   "cell_type": "code",
   "execution_count": 17,
   "metadata": {},
   "outputs": [
    {
     "data": {
      "text/plain": [
       "0.2553188921855437"
      ]
     },
     "execution_count": 17,
     "metadata": {},
     "output_type": "execute_result"
    }
   ],
   "source": [
    "# gives you ratio\n",
    "smp.NormalIndPower().solve_power(effect_size= 0.2, nobs1=1600, alpha=0.01, power=0.9, ratio=None, alternative='larger')"
   ]
  },
  {
   "cell_type": "code",
   "execution_count": null,
   "metadata": {
    "collapsed": true
   },
   "outputs": [],
   "source": [
    "# calculate effect size for proportions"
   ]
  },
  {
   "cell_type": "code",
   "execution_count": null,
   "metadata": {
    "collapsed": true
   },
   "outputs": [],
   "source": [
    "3.12%"
   ]
  },
  {
   "cell_type": "code",
   "execution_count": 1,
   "metadata": {},
   "outputs": [
    {
     "name": "stdout",
     "output_type": "stream",
     "text": [
      "You will require \u001b[1m19144.7632661\u001b[0;0m users per experiment group\n",
      "This is each groups sample size, not total\n"
     ]
    }
   ],
   "source": [
    "import math\n",
    "import statsmodels.stats.power as smp\n",
    "import numpy as np\n",
    "\n",
    "####enter parameters below for power analysis###############\n",
    "\n",
    "p1 = 0.25   # baseline proportion(rate)\n",
    "pct_change = 0.05 # pct relative change that you expected to see\n",
    "\n",
    "\n",
    "\n",
    "############################################################\n",
    "\n",
    "######Power analysis(no need to change below)###############\n",
    "\n",
    "############################################################\n",
    "\n",
    "def power_analysis_proportion(p1 = p1, pct_change = pct_change):\n",
    "    # calculate the p2\n",
    "    p2 = p1*(1+ pct_change)\n",
    "    # calculate effect_size\n",
    "    effect_size = 2*math.asin(np.sqrt(p1))-2*math.asin(np.sqrt(p2))\n",
    "    # power analysis\n",
    "    n = smp.NormalIndPower().solve_power(effect_size= effect_size, nobs1 = None,\n",
    "                                      alpha=0.05, power = 0.8, alternative='two-sided')\n",
    "    start = \"\\033[1m\"\n",
    "    end = \"\\033[0;0m\"\n",
    "    print ('You will require %s users per experiment group' % (start + str(n) + end))\n",
    "    print ('This is each group''s sample size, not total')\n",
    "\n",
    "power_analysis_proportion(p1 = p1, pct_change = pct_change)"
   ]
  },
  {
   "cell_type": "code",
   "execution_count": null,
   "metadata": {
    "collapsed": true
   },
   "outputs": [],
   "source": []
  },
  {
   "cell_type": "code",
   "execution_count": 7,
   "metadata": {},
   "outputs": [
    {
     "data": {
      "text/plain": [
       "1.2948777007679233"
      ]
     },
     "execution_count": 7,
     "metadata": {},
     "output_type": "execute_result"
    }
   ],
   "source": []
  },
  {
   "cell_type": "code",
   "execution_count": 12,
   "metadata": {},
   "outputs": [
    {
     "data": {
      "text/plain": [
       "1.0925581245225775"
      ]
     },
     "execution_count": 12,
     "metadata": {},
     "output_type": "execute_result"
    }
   ],
   "source": []
  },
  {
   "cell_type": "code",
   "execution_count": 2,
   "metadata": {},
   "outputs": [
    {
     "data": {
      "text/plain": [
       "12.486271575113076"
      ]
     },
     "execution_count": 2,
     "metadata": {},
     "output_type": "execute_result"
    }
   ],
   "source": []
  },
  {
   "cell_type": "code",
   "execution_count": 5,
   "metadata": {},
   "outputs": [
    {
     "data": {
      "text/plain": [
       "3.1948736116423557"
      ]
     },
     "execution_count": 5,
     "metadata": {},
     "output_type": "execute_result"
    }
   ],
   "source": []
  },
  {
   "cell_type": "markdown",
   "metadata": {},
   "source": [
    "# More detailed notes"
   ]
  },
  {
   "cell_type": "markdown",
   "metadata": {},
   "source": [
    " -- **1) #change two-sided power analysis to one-side (smaller or larger), sample size will decrease(see example below) **"
   ]
  },
  {
   "cell_type": "code",
   "execution_count": 18,
   "metadata": {},
   "outputs": [
    {
     "data": {
      "text/plain": [
       "14435.85467632959"
      ]
     },
     "execution_count": 18,
     "metadata": {},
     "output_type": "execute_result"
    }
   ],
   "source": [
    "smp.NormalIndPower().solve_power(effect_size= 0.03297593, nobs1 = None,\n",
    "                                  alpha=0.05, power = 0.8, alternative='two-sided')"
   ]
  },
  {
   "cell_type": "code",
   "execution_count": 22,
   "metadata": {},
   "outputs": [
    {
     "data": {
      "text/plain": [
       "11371.140769144427"
      ]
     },
     "execution_count": 22,
     "metadata": {},
     "output_type": "execute_result"
    }
   ],
   "source": [
    "smp.NormalIndPower().solve_power(effect_size= -0.03297593, nobs1 = None,\n",
    "                                  alpha=0.05, power = 0.8, alternative='smaller')"
   ]
  },
  {
   "cell_type": "markdown",
   "metadata": {
    "collapsed": true
   },
   "source": [
    "--** 2) if two sample size is not equal (ratio != 1), then it will get nobs1 (first sample size), use ratio to get second group size **"
   ]
  },
  {
   "cell_type": "code",
   "execution_count": 35,
   "metadata": {},
   "outputs": [
    {
     "data": {
      "text/plain": [
       "10826.891007281689"
      ]
     },
     "execution_count": 35,
     "metadata": {},
     "output_type": "execute_result"
    }
   ],
   "source": [
    "smp.NormalIndPower().solve_power(effect_size= 0.03297593, nobs1 = None, ratio = 2,\n",
    "                                  alpha=0.05, power = 0.8, alternative='two-sided')\n",
    "# this is nobs1"
   ]
  },
  {
   "cell_type": "code",
   "execution_count": 37,
   "metadata": {},
   "outputs": [
    {
     "data": {
      "text/plain": [
       "32480.67302184507"
      ]
     },
     "execution_count": 37,
     "metadata": {},
     "output_type": "execute_result"
    }
   ],
   "source": [
    "n1 = 10826.891007281689\n",
    "ratio = 2\n",
    "n2 = ratio *n1 # sample size for second group\n",
    "total = n1 + n2\n",
    "total"
   ]
  },
  {
   "cell_type": "markdown",
   "metadata": {
    "collapsed": true
   },
   "source": [
    "--** 3) solve power based on experiment result **"
   ]
  },
  {
   "cell_type": "code",
   "execution_count": 3,
   "metadata": {},
   "outputs": [
    {
     "data": {
      "text/plain": [
       "1.0"
      ]
     },
     "execution_count": 3,
     "metadata": {},
     "output_type": "execute_result"
    }
   ],
   "source": [
    "# this is for two sample t test\n",
    "smp.TTestIndPower().solve_power(effect_size = 2/2.8, nobs1=300, ratio=1, alpha=0.05, alternative='two-sided')\n"
   ]
  },
  {
   "cell_type": "code",
   "execution_count": 5,
   "metadata": {},
   "outputs": [
    {
     "data": {
      "text/plain": [
       "0.99956655910784831"
      ]
     },
     "execution_count": 5,
     "metadata": {},
     "output_type": "execute_result"
    }
   ],
   "source": [
    "# this is for two proportion test\n",
    "smp.NormalIndPower().solve_power(effect_size= 0.2, nobs1=1600, alpha=0.01, power=None, ratio=1, alternative='larger')"
   ]
  },
  {
   "cell_type": "code",
   "execution_count": null,
   "metadata": {
    "collapsed": true
   },
   "outputs": [],
   "source": []
  },
  {
   "cell_type": "code",
   "execution_count": null,
   "metadata": {
    "collapsed": true
   },
   "outputs": [],
   "source": [
    "# kim's experiment 566"
   ]
  },
  {
   "cell_type": "code",
   "execution_count": null,
   "metadata": {
    "collapsed": true
   },
   "outputs": [],
   "source": [
    "2005: Reg Wall\t1.0\t1.1%\t0.0%\t1640\t\n",
    "2006: No Reg Wall\t0.3968\t1.43%\t29.93%\t1683"
   ]
  },
  {
   "cell_type": "code",
   "execution_count": 14,
   "metadata": {},
   "outputs": [
    {
     "name": "stdout",
     "output_type": "stream",
     "text": [
      " power result: 0.135434538\n"
     ]
    }
   ],
   "source": [
    "import math\n",
    "import statsmodels.stats.power as smp\n",
    "import numpy as np\n",
    "\n",
    "# two proportion (subscriber rate)\n",
    "p1 = 1.1*0.01\n",
    "p2 = 1.43*0.01\n",
    "\n",
    "# calculate effect_size\n",
    "effect_size = 2*math.asin(np.sqrt(p1))-2*math.asin(np.sqrt(p2))\n",
    "nobs1 = 1640\n",
    "nobs2 = 1683\n",
    "ratio = nobs2/nobs1\n",
    "\n",
    "result_power = smp.NormalIndPower().solve_power(effect_size= effect_size, nobs1=nobs1, alpha=0.05, \n",
    "                                 power=None, ratio=ratio, alternative='two-sided')\n",
    "\n",
    "print(' power result: %.9f'% result_power)\n"
   ]
  },
  {
   "cell_type": "code",
   "execution_count": null,
   "metadata": {
    "collapsed": true
   },
   "outputs": [],
   "source": [
    "# listening minutes"
   ]
  },
  {
   "cell_type": "code",
   "execution_count": null,
   "metadata": {
    "collapsed": true
   },
   "outputs": [],
   "source": []
  },
  {
   "cell_type": "code",
   "execution_count": null,
   "metadata": {
    "collapsed": true
   },
   "outputs": [],
   "source": [
    "ab_test_name\tab_test_id\tpctl_listening_min\tstd_ev\n",
    "Reg Wall\t2005\t36.27936991869919\t81.16451374548281\n",
    "No Reg Wall\t2006\t37.88743315508022\t84.18743984166845"
   ]
  },
  {
   "cell_type": "code",
   "execution_count": 20,
   "metadata": {},
   "outputs": [
    {
     "name": "stdout",
     "output_type": "stream",
     "text": [
      "power result: 0.08621\n"
     ]
    }
   ],
   "source": [
    "# listening minutes \n",
    "baseline_mean = 36.2793699\n",
    "new_mean = 37.8874332\n",
    "mean_diff = (abs(new_mean - baseline_mean))\n",
    "baseline_sd = 81.1645\n",
    "new_sd = 84.1874\n",
    "sd_diff = (baseline_sd + new_sd)/2\n",
    "std_effect_size = mean_diff / sd_diff\n",
    "\n",
    "nobs1 = 1640\n",
    "nobs2 = 1683\n",
    "ratio = nobs2/nobs1\n",
    "\n",
    "alpha = 0.05\n",
    "\n",
    "\n",
    "power_result = smp.tt_ind_solve_power(effect_size=std_effect_size, nobs1 = nobs1,\n",
    "                           alpha = alpha, power = None, \n",
    "                           ratio=ratio, alternative='two-sided')\n",
    "print ('power result: %.5f'%power_result)"
   ]
  },
  {
   "cell_type": "code",
   "execution_count": null,
   "metadata": {
    "collapsed": true
   },
   "outputs": [],
   "source": []
  }
 ],
 "metadata": {
  "kernelspec": {
   "display_name": "Python 2",
   "language": "python",
   "name": "python2"
  },
  "language_info": {
   "codemirror_mode": {
    "name": "ipython",
    "version": 2
   },
   "file_extension": ".py",
   "mimetype": "text/x-python",
   "name": "python",
   "nbconvert_exporter": "python",
   "pygments_lexer": "ipython2",
   "version": "2.7.13"
  }
 },
 "nbformat": 4,
 "nbformat_minor": 2
}
