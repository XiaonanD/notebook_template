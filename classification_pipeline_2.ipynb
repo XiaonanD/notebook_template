{
 "cells": [
  {
   "cell_type": "code",
   "execution_count": 1,
   "metadata": {
    "collapsed": false
   },
   "outputs": [
    {
     "name": "stderr",
     "output_type": "stream",
     "text": [
      "/Users/Xiaonan/anaconda/lib/python2.7/site-packages/sklearn/cross_validation.py:44: DeprecationWarning: This module was deprecated in version 0.18 in favor of the model_selection module into which all the refactored classes and functions are moved. Also note that the interface of the new CV iterators are different from that of this module. This module will be removed in 0.20.\n",
      "  \"This module will be removed in 0.20.\", DeprecationWarning)\n"
     ]
    }
   ],
   "source": [
    "%matplotlib inline\n",
    "\n",
    "import pandas as pd\n",
    "from sklearn.cross_validation import train_test_split\n",
    "import matplotlib.pyplot as plt\n",
    "import numpy as np\n",
    "import time\n",
    "\n",
    "\n",
    "from skimage import color\n",
    "from skimage import io\n",
    "from os import path\n",
    "from skimage import img_as_float"
   ]
  },
  {
   "cell_type": "code",
   "execution_count": 2,
   "metadata": {
    "collapsed": true
   },
   "outputs": [],
   "source": [
    "from skimage import color\n",
    "from skimage import io\n",
    "from os import path\n",
    "from skimage import img_as_float"
   ]
  },
  {
   "cell_type": "code",
   "execution_count": 3,
   "metadata": {
    "collapsed": true
   },
   "outputs": [],
   "source": [
    "# this shoes_df_10000.pkl is actually 9971 items\n",
    "data_df = pd.read_pickle('shoes_df_10000.pkl')"
   ]
  },
  {
   "cell_type": "code",
   "execution_count": 4,
   "metadata": {
    "collapsed": true
   },
   "outputs": [],
   "source": [
    "item_lst = data_df.item_id  # list of item_id (9971  in total for now)\n",
    "target = data_df.label  # y- final classification label"
   ]
  },
  {
   "cell_type": "code",
   "execution_count": 5,
   "metadata": {
    "collapsed": false
   },
   "outputs": [
    {
     "data": {
      "text/plain": [
       "(9971,)"
      ]
     },
     "execution_count": 5,
     "metadata": {},
     "output_type": "execute_result"
    }
   ],
   "source": [
    "item_lst.shape"
   ]
  },
  {
   "cell_type": "code",
   "execution_count": 6,
   "metadata": {
    "collapsed": false
   },
   "outputs": [
    {
     "data": {
      "text/html": [
       "<div>\n",
       "<table border=\"1\" class=\"dataframe\">\n",
       "  <thead>\n",
       "    <tr style=\"text-align: right;\">\n",
       "      <th></th>\n",
       "      <th>item_id</th>\n",
       "      <th>cat_id</th>\n",
       "      <th>term</th>\n",
       "      <th>cnt_purchase</th>\n",
       "      <th>popularity</th>\n",
       "      <th>label</th>\n",
       "    </tr>\n",
       "  </thead>\n",
       "  <tbody>\n",
       "    <tr>\n",
       "      <th>0</th>\n",
       "      <td>516816</td>\n",
       "      <td>284</td>\n",
       "      <td>123950,175146,116593,70387,117664,56917,22837,...</td>\n",
       "      <td>121.0</td>\n",
       "      <td>very_popular</td>\n",
       "      <td>1</td>\n",
       "    </tr>\n",
       "    <tr>\n",
       "      <th>1</th>\n",
       "      <td>250737</td>\n",
       "      <td>284</td>\n",
       "      <td>56917,123950,129343,116593,22837,31897,83631,1...</td>\n",
       "      <td>40.0</td>\n",
       "      <td>very_popular</td>\n",
       "      <td>1</td>\n",
       "    </tr>\n",
       "    <tr>\n",
       "      <th>2</th>\n",
       "      <td>3209233</td>\n",
       "      <td>284</td>\n",
       "      <td>67965,67630,58018,136479,82230,158346,91747,12...</td>\n",
       "      <td>24.0</td>\n",
       "      <td>very_popular</td>\n",
       "      <td>1</td>\n",
       "    </tr>\n",
       "  </tbody>\n",
       "</table>\n",
       "</div>"
      ],
      "text/plain": [
       "   item_id  cat_id                                               term  \\\n",
       "0   516816     284  123950,175146,116593,70387,117664,56917,22837,...   \n",
       "1   250737     284  56917,123950,129343,116593,22837,31897,83631,1...   \n",
       "2  3209233     284  67965,67630,58018,136479,82230,158346,91747,12...   \n",
       "\n",
       "   cnt_purchase    popularity  label  \n",
       "0         121.0  very_popular      1  \n",
       "1          40.0  very_popular      1  \n",
       "2          24.0  very_popular      1  "
      ]
     },
     "execution_count": 6,
     "metadata": {},
     "output_type": "execute_result"
    }
   ],
   "source": [
    "data_df.head(3)"
   ]
  },
  {
   "cell_type": "code",
   "execution_count": 10,
   "metadata": {
    "collapsed": false
   },
   "outputs": [
    {
     "data": {
      "text/plain": [
       "count    9971.000000\n",
       "mean       40.181827\n",
       "std       107.902486\n",
       "min         1.000000\n",
       "25%         4.000000\n",
       "50%         6.000000\n",
       "75%        34.000000\n",
       "max      3038.000000\n",
       "Name: cnt_purchase, dtype: float64"
      ]
     },
     "execution_count": 10,
     "metadata": {},
     "output_type": "execute_result"
    }
   ],
   "source": [
    "data_df.cnt_purchase.describe()"
   ]
  },
  {
   "cell_type": "code",
   "execution_count": 12,
   "metadata": {
    "collapsed": false
   },
   "outputs": [
    {
     "data": {
      "image/png": "[encoded data removed]",
      "text/plain": [
       "<matplotlib.figure.Figure at 0x11ddd0550>"
      ]
     },
     "metadata": {},
     "output_type": "display_data"
    }
   ],
   "source": [
    "plt.hist(data_df.cnt_purchase, bins = 500, normed= True)\n",
    "plt.xlim([0,100])\n",
    "plt.show()"
   ]
  },
  {
   "cell_type": "markdown",
   "metadata": {},
   "source": [
    "# extract Daisy feature from images"
   ]
  },
  {
   "cell_type": "code",
   "execution_count": null,
   "metadata": {
    "collapsed": true
   },
   "outputs": [],
   "source": [
    "by running this, imageVectorized is obtained(daisy feature extraction from item_lst(100 item))\n",
    "with Steps:\n",
    "\n",
    "1) load original image.\n",
    "2) convert color to gray image and then resize to(300*300 = 90000 pixel).\n",
    "3) now convert to 9 DAISY descriptors extracted each part 104 features for each image\n",
    "(in total 3*3*104 = 936 feature/image).\n",
    "4) do it with n_sample = 100"
   ]
  },
  {
   "cell_type": "code",
   "execution_count": null,
   "metadata": {
    "collapsed": true
   },
   "outputs": [],
   "source": [
    "# loadImage function\n",
    "def loadImage(imagePath,imgId,type='.jpg'):\n",
    "    fullpath=imagePath+'/'+str(imgId)+type\n",
    "    if path.exists(fullpath): # check if this path exisits\n",
    "        image = io.imread(fullpath)\n",
    "        return image\n",
    "    else:\n",
    "        return None\n",
    "\n",
    "imgLoadPath=\"selected_image/lst_10000\""
   ]
  },
  {
   "cell_type": "code",
   "execution_count": null,
   "metadata": {
    "collapsed": true
   },
   "outputs": [],
   "source": [
    "start = time()\n",
    "\n",
    "for i in np.arange(len(item_lst)):\n",
    "    image=loadImage(imgLoadPath,item_lst[i],type='.jpg')\n",
    "    if image is not None:\n",
    "        # covert color image to gray(intensity will be in (0,1) range)\n",
    "        image=color.rgb2grey(image)\n",
    "        #resize image make sure they are all the same size\n",
    "        image=resize(image,(300,300), mode='reflect')\n",
    "        # extract Daisy feature( can tune this part later)\n",
    "        descs=daisy(image, step=100, radius=40, rings=2, histograms=6,\n",
    "                         orientations=8, visualize=False)\n",
    "        \n",
    "#        descs, descs_img=daisy(image, step=100, radius=40, rings=2, histograms=6,\n",
    "#                         orientations=8, visualize=True)\n",
    "        # show the image, could be commented for accelerating\n",
    "#        fig, ax = plt.subplots()\n",
    "#        ax.axis('off')\n",
    "#        ax.imshow(descs_img)\n",
    "#        plt.show()                \n",
    "        \n",
    "        descs=descs.reshape(1,-1)\n",
    "        if 'imageVectorized' not in globals(): # meaning it is empty\n",
    "            imageVectorized=descs\n",
    "        else:\n",
    "            imageVectorized=np.append(imageVectorized,descs,axis=0)\n",
    "    if i%500 == 0:\n",
    "        print i\n",
    "        \n",
    "print(\"this takes %.2f seconds\" %(time()-start)) "
   ]
  },
  {
   "cell_type": "code",
   "execution_count": null,
   "metadata": {
    "collapsed": true
   },
   "outputs": [],
   "source": [
    "# run this before, now just load"
   ]
  },
  {
   "cell_type": "code",
   "execution_count": 13,
   "metadata": {
    "collapsed": true
   },
   "outputs": [],
   "source": [
    "imageVectorized_10000 = np.load('imageVectorized_10000.npy')\n",
    "\n",
    "# imageVectorized_10000.shape: (9971, 936)"
   ]
  },
  {
   "cell_type": "code",
   "execution_count": null,
   "metadata": {
    "collapsed": true
   },
   "outputs": [],
   "source": [
    "pca = PCA(n_components=50)\n",
    "pca.fit(imageVectorized_10000)\n",
    "imagePCAed_10000 =pca.transform(imageVectorized_10000)"
   ]
  },
  {
   "cell_type": "code",
   "execution_count": 14,
   "metadata": {
    "collapsed": false
   },
   "outputs": [
    {
     "data": {
      "text/plain": [
       "(9971, 50)"
      ]
     },
     "execution_count": 14,
     "metadata": {},
     "output_type": "execute_result"
    }
   ],
   "source": [
    "# this is after PCA (50 components)\n",
    "imagePCAed_10000 = np.load('imagePCAed_10000.npy')\n",
    "imagePCAed_10000.shape"
   ]
  },
  {
   "cell_type": "code",
   "execution_count": 15,
   "metadata": {
    "collapsed": false
   },
   "outputs": [
    {
     "data": {
      "text/plain": [
       "(9971, 50)"
      ]
     },
     "execution_count": 15,
     "metadata": {},
     "output_type": "execute_result"
    }
   ],
   "source": [
    "daisy_PCA = pd.DataFrame(imagePCAed_10000)\n",
    "daisy_PCA.shape"
   ]
  },
  {
   "cell_type": "code",
   "execution_count": 16,
   "metadata": {
    "collapsed": true
   },
   "outputs": [],
   "source": [
    "daisy_PCA.columns = ['daisy_PCA_' + str(i) for i in np.arange(daisy_PCA.shape[1])]"
   ]
  },
  {
   "cell_type": "markdown",
   "metadata": {},
   "source": [
    "# Only train on daisy feature"
   ]
  },
  {
   "cell_type": "code",
   "execution_count": 17,
   "metadata": {
    "collapsed": false
   },
   "outputs": [
    {
     "name": "stdout",
     "output_type": "stream",
     "text": [
      "<class 'pandas.core.frame.DataFrame'> (9971, 50)\n",
      "<class 'pandas.core.series.Series'> (9971,)\n"
     ]
    }
   ],
   "source": [
    "X = daisy_PCA # 50 components\n",
    "y = target\n",
    "\n",
    "print type(X), X.shape\n",
    "print type(y), y.shape"
   ]
  },
  {
   "cell_type": "code",
   "execution_count": 18,
   "metadata": {
    "collapsed": false
   },
   "outputs": [
    {
     "name": "stdout",
     "output_type": "stream",
     "text": [
      "training size: 7976\n",
      "test size: 1995\n",
      "number of features: 50\n"
     ]
    }
   ],
   "source": [
    "from sklearn.cross_validation import train_test_split\n",
    "X_train, X_test, y_train, y_test = train_test_split(X, y, test_size=0.2, random_state=0)\n",
    "\n",
    "print (\"training size: %d\" % X_train.shape[0])\n",
    "print (\"test size: %d\" % X_test.shape[0])\n",
    "print ('number of features: %d' % X_train.shape[1])"
   ]
  },
  {
   "cell_type": "code",
   "execution_count": 20,
   "metadata": {
    "collapsed": false
   },
   "outputs": [
    {
     "name": "stderr",
     "output_type": "stream",
     "text": [
      "/Users/Xiaonan/anaconda/lib/python2.7/site-packages/sklearn/grid_search.py:43: DeprecationWarning: This module was deprecated in version 0.18 in favor of the model_selection module into which all the refactored classes and functions are moved. This module will be removed in 0.20.\n",
      "  DeprecationWarning)\n"
     ]
    }
   ],
   "source": [
    "from sklearn.pipeline import Pipeline\n",
    "from sklearn.preprocessing import Imputer\n",
    "from sklearn.ensemble import RandomForestClassifier\n",
    "from sklearn.linear_model import LogisticRegression\n",
    "from sklearn.preprocessing import StandardScaler\n",
    "from sklearn.grid_search import GridSearchCV"
   ]
  },
  {
   "cell_type": "code",
   "execution_count": 21,
   "metadata": {
    "collapsed": false
   },
   "outputs": [],
   "source": [
    "# plot feature importance\n",
    "\n",
    "scaler = StandardScaler(with_mean=True, with_std=True)\n",
    "\n",
    "X_train_standardized = scaler.fit_transform(X_train)\n",
    "\n",
    "# step 2: train on random forest with best parameters\n",
    "rf = RandomForestClassifier(n_estimators= 500, random_state= 1234, criterion='gini'\n",
    "                           ,bootstrap = True, max_features = 'sqrt')\n",
    "\n",
    "model = rf.fit(X_train, y_train)\n"
   ]
  },
  {
   "cell_type": "code",
   "execution_count": 22,
   "metadata": {
    "collapsed": false
   },
   "outputs": [
    {
     "name": "stdout",
     "output_type": "stream",
     "text": [
      "test dataset accuracy score: 0.540\n"
     ]
    }
   ],
   "source": [
    "# see the real accuracy on test dataset: 0.523(only daisy_PCA(50))\n",
    "\n",
    "from sklearn.metrics import accuracy_score\n",
    "\n",
    "y_pred = model.predict(X_test)\n",
    "\n",
    "score = accuracy_score(y_test, y_pred)\n",
    "\n",
    "print(\"test dataset accuracy score: %.3f\" %score)"
   ]
  },
  {
   "cell_type": "code",
   "execution_count": 23,
   "metadata": {
    "collapsed": false
   },
   "outputs": [
    {
     "name": "stdout",
     "output_type": "stream",
     "text": [
      "             precision    recall  f1-score   support\n",
      "\n",
      "  unpopular       0.56      0.53      0.54      1027\n",
      "    popular       0.52      0.55      0.54       968\n",
      "\n",
      "avg / total       0.54      0.54      0.54      1995\n",
      "\n"
     ]
    }
   ],
   "source": [
    "from sklearn.metrics import classification_report\n",
    "y_pred = model.predict(X_test)\n",
    "target_names = ['unpopular', 'popular']\n",
    "print(classification_report(y_test, y_pred, target_names=target_names))"
   ]
  },
  {
   "cell_type": "code",
   "execution_count": 26,
   "metadata": {
    "collapsed": true
   },
   "outputs": [],
   "source": [
    "from sklearn.metrics import roc_curve\n",
    "from sklearn.metrics import auc\n",
    "\n",
    "def plot_roc_curve(target_test, target_predicted_proba):\n",
    "    fpr, tpr, thresholds = roc_curve(target_test, target_predicted_proba[:, 1])\n",
    "    #target_predicted_proba[:, 1] is to use the right one for threshold\n",
    "    roc_auc = auc(fpr, tpr)\n",
    "    # Plot ROC curve\n",
    "    plt.plot(fpr, tpr, label='ROC curve (area = %0.2f)' % roc_auc)\n",
    "    plt.plot([0, 1], [0, 1], 'k--')  # random predictions curve\n",
    "    plt.xlim([0.0, 1.0])\n",
    "    plt.ylim([0.0, 1.0])\n",
    "    plt.xlabel('False Positive Rate or (1 - Specifity)')\n",
    "    plt.ylabel('True Positive Rate or (Sensitivity)')\n",
    "    plt.title('Receiver Operating Characteristic')\n",
    "    plt.legend(loc=\"lower right\")\n",
    "    plt.show();\n",
    "\n"
   ]
  },
  {
   "cell_type": "code",
   "execution_count": 27,
   "metadata": {
    "collapsed": false
   },
   "outputs": [
    {
     "data": {
      "image/png": "[encoded data removed]",
      "text/plain": [
       "<matplotlib.figure.Figure at 0x11e20c250>"
      ]
     },
     "metadata": {},
     "output_type": "display_data"
    }
   ],
   "source": [
    "y_pred_prob = model.predict_proba(X_test)\n",
    "plot_roc_curve(y_test, y_pred_prob)"
   ]
  },
  {
   "cell_type": "markdown",
   "metadata": {},
   "source": [
    "# Michelson contrast : \n",
    "(Imax - Imin)/(Imax + Imin)"
   ]
  },
  {
   "cell_type": "code",
   "execution_count": 28,
   "metadata": {
    "collapsed": true
   },
   "outputs": [],
   "source": [
    "def get_contrast(color_image): # this is essentially change color to black-white pictures\n",
    "    image = img_as_float(color_image)\n",
    "    brightness = np.dot(image, [0.2126,0.7152,0.0722])\n",
    "#     brightness = brightness.ravel() # make it a flatten list of black-white\n",
    "    contrast = (brightness.max()-brightness.min())/(brightness.max()+brightness.min())\n",
    "    return contrast"
   ]
  },
  {
   "cell_type": "code",
   "execution_count": 29,
   "metadata": {
    "collapsed": false
   },
   "outputs": [
    {
     "data": {
      "text/plain": [
       "(9971,)"
      ]
     },
     "execution_count": 29,
     "metadata": {},
     "output_type": "execute_result"
    }
   ],
   "source": [
    "item_lst.shape"
   ]
  },
  {
   "cell_type": "code",
   "execution_count": 31,
   "metadata": {
    "collapsed": true
   },
   "outputs": [],
   "source": [
    "from time import time\n",
    "# new path\n",
    "imgLoadPath=\"../selected_image/old_selected/lst_10000\""
   ]
  },
  {
   "cell_type": "code",
   "execution_count": 33,
   "metadata": {
    "collapsed": true
   },
   "outputs": [],
   "source": [
    "# loadImage function\n",
    "def loadImage(imagePath,imgId,type='.jpg'):\n",
    "    fullpath=imagePath+'/'+str(imgId)+type\n",
    "    if path.exists(fullpath): # check if this path exisits\n",
    "        image = io.imread(fullpath)\n",
    "        return image\n",
    "    else:\n",
    "        return None"
   ]
  },
  {
   "cell_type": "code",
   "execution_count": 34,
   "metadata": {
    "collapsed": false
   },
   "outputs": [
    {
     "name": "stdout",
     "output_type": "stream",
     "text": [
      "this takes 332.48 seconds\n"
     ]
    }
   ],
   "source": [
    "# Michelson contrast : \n",
    "# item_lst = data_df.item_id  # list of item_id ( 14947 in total for now)\n",
    "# target = data_df.label  # y- final classification label\n",
    "\n",
    "start = time()\n",
    "contrast = [] # this is the final np.array for all images\n",
    "\n",
    "for i in np.arange(len(item_lst)):\n",
    "    image=loadImage(imgLoadPath,item_lst[i],type='.jpg')\n",
    "    if image is not None:\n",
    "        result = get_contrast(image) # this is a list of length 2 feature\n",
    "    contrast.append(result)\n",
    "\n",
    "contrast = np.array(contrast)\n",
    "\n",
    "print(\"this takes %.2f seconds\" %(time()-start)) "
   ]
  },
  {
   "cell_type": "code",
   "execution_count": 35,
   "metadata": {
    "collapsed": false
   },
   "outputs": [
    {
     "data": {
      "text/plain": [
       "(9971,)"
      ]
     },
     "execution_count": 35,
     "metadata": {},
     "output_type": "execute_result"
    }
   ],
   "source": [
    "contrast.shape"
   ]
  },
  {
   "cell_type": "code",
   "execution_count": 36,
   "metadata": {
    "collapsed": true
   },
   "outputs": [],
   "source": [
    "contrast = pd.DataFrame(contrast)\n",
    "contrast.columns = ['contrast']"
   ]
  },
  {
   "cell_type": "code",
   "execution_count": 92,
   "metadata": {
    "collapsed": true
   },
   "outputs": [],
   "source": [
    "np.save('contrast_10000.npy',contrast)"
   ]
  },
  {
   "cell_type": "markdown",
   "metadata": {},
   "source": [
    "# RMScontrast"
   ]
  },
  {
   "cell_type": "code",
   "execution_count": 37,
   "metadata": {
    "collapsed": true
   },
   "outputs": [],
   "source": [
    "def get_RMScontrast(color_image): # this is essentially change color to black-white pictures\n",
    "    image = img_as_float(color_image)\n",
    "    brightness = np.dot(image, [0.2126,0.7152,0.0722])\n",
    "    brightness = brightness.ravel() # make it a flatten list of black-white\n",
    "    brightness_mean = brightness.mean()\n",
    "    RMScontrast = np.square(brightness - brightness_mean).sum()/len(brightness)\n",
    "    return RMScontrast"
   ]
  },
  {
   "cell_type": "code",
   "execution_count": 38,
   "metadata": {
    "collapsed": false
   },
   "outputs": [
    {
     "name": "stdout",
     "output_type": "stream",
     "text": [
      "this takes 341.52 seconds\n"
     ]
    }
   ],
   "source": [
    "# Michelson contrast : \n",
    "# item_lst = data_df.item_id  # list of item_id ( 14947 in total for now)\n",
    "# target = data_df.label  # y- final classification label\n",
    "\n",
    "start = time()\n",
    "RMScontrast = [] # this is the final np.array for all images\n",
    "\n",
    "for i in np.arange(len(item_lst)):\n",
    "    image=loadImage(imgLoadPath,item_lst[i],type='.jpg')\n",
    "    if image is not None:\n",
    "        result = get_RMScontrast(image) # this is a list of length 2 feature\n",
    "    RMScontrast.append(result)\n",
    "\n",
    "RMScontrast = np.array(RMScontrast)\n",
    "\n",
    "print(\"this takes %.2f seconds\" %(time()-start)) "
   ]
  },
  {
   "cell_type": "code",
   "execution_count": 39,
   "metadata": {
    "collapsed": false
   },
   "outputs": [
    {
     "data": {
      "text/plain": [
       "(9971,)"
      ]
     },
     "execution_count": 39,
     "metadata": {},
     "output_type": "execute_result"
    }
   ],
   "source": [
    "RMScontrast.shape"
   ]
  },
  {
   "cell_type": "code",
   "execution_count": 40,
   "metadata": {
    "collapsed": true
   },
   "outputs": [],
   "source": [
    "RMScontrast = pd.DataFrame(RMScontrast)\n",
    "RMScontrast.columns = ['contrast_' + str(i) for i in np.arange(contrast.shape[1])]"
   ]
  },
  {
   "cell_type": "code",
   "execution_count": 93,
   "metadata": {
    "collapsed": true
   },
   "outputs": [],
   "source": [
    "np.save('RMScontrast_10000.npy',RMScontrast)"
   ]
  },
  {
   "cell_type": "code",
   "execution_count": 320,
   "metadata": {
    "collapsed": true
   },
   "outputs": [],
   "source": [
    "RMScontrast.to_csv('saved_file/RMScontrast.csv', index = False)"
   ]
  },
  {
   "cell_type": "code",
   "execution_count": null,
   "metadata": {
    "collapsed": true
   },
   "outputs": [],
   "source": []
  },
  {
   "cell_type": "markdown",
   "metadata": {},
   "source": [
    "# Get HSV (hue, saturation and value features)"
   ]
  },
  {
   "cell_type": "code",
   "execution_count": 41,
   "metadata": {
    "collapsed": true
   },
   "outputs": [],
   "source": [
    "def get_HSV(color_image):\n",
    "    image = color.rgb2hsv(color_image)\n",
    "    hue = image[:,:,0].mean()\n",
    "    saturation = image[:,:,1].mean()\n",
    "    value = image[:,:,2].mean()\n",
    "    \n",
    "    result = [hue, saturation, value]\n",
    "    return result"
   ]
  },
  {
   "cell_type": "code",
   "execution_count": 42,
   "metadata": {
    "collapsed": false
   },
   "outputs": [
    {
     "name": "stdout",
     "output_type": "stream",
     "text": [
      "this takes 523.55 seconds\n"
     ]
    }
   ],
   "source": [
    "# item_lst = data_df.item_id  # list of item_id ( 14947 in total for now)\n",
    "# target = data_df.label  # y- final classification label\n",
    "\n",
    "start = time()\n",
    "HSV = [] # this is the final np.array for all images\n",
    "\n",
    "for i in np.arange(len(item_lst)):\n",
    "    image=loadImage(imgLoadPath,item_lst[i],type='.jpg')\n",
    "    if image is not None:\n",
    "        result = get_HSV(image) # this is a list of length 2 feature\n",
    "    HSV.append(result)\n",
    "\n",
    "HSV = np.array(HSV)\n",
    "\n",
    "print(\"this takes %.2f seconds\" %(time()-start)) "
   ]
  },
  {
   "cell_type": "code",
   "execution_count": 43,
   "metadata": {
    "collapsed": false
   },
   "outputs": [
    {
     "data": {
      "text/plain": [
       "(9971, 3)"
      ]
     },
     "execution_count": 43,
     "metadata": {},
     "output_type": "execute_result"
    }
   ],
   "source": [
    "HSV.shape"
   ]
  },
  {
   "cell_type": "code",
   "execution_count": 44,
   "metadata": {
    "collapsed": true
   },
   "outputs": [],
   "source": [
    "HSV = pd.DataFrame(HSV)\n",
    "HSV.columns = ['HSV_hue', 'HSV_saturation','HSV_value']"
   ]
  },
  {
   "cell_type": "code",
   "execution_count": 94,
   "metadata": {
    "collapsed": true
   },
   "outputs": [],
   "source": [
    "np.save('HSV_10000.npy',HSV)"
   ]
  },
  {
   "cell_type": "code",
   "execution_count": null,
   "metadata": {
    "collapsed": true
   },
   "outputs": [],
   "source": []
  },
  {
   "cell_type": "markdown",
   "metadata": {},
   "source": [
    "# get brightness"
   ]
  },
  {
   "cell_type": "code",
   "execution_count": 45,
   "metadata": {
    "collapsed": true
   },
   "outputs": [],
   "source": [
    "def get_brightness(color_image): # this is essentially change color to black-white pictures\n",
    "    image = img_as_float(color_image)\n",
    "    brightness = np.dot(image, [0.2126,0.7152,0.0722])\n",
    "    brightness = brightness.ravel() # make it a flatten list\n",
    "    result = [np.mean(brightness), np.median(brightness)]\n",
    "    return result"
   ]
  },
  {
   "cell_type": "code",
   "execution_count": 46,
   "metadata": {
    "collapsed": false
   },
   "outputs": [
    {
     "name": "stdout",
     "output_type": "stream",
     "text": [
      "this takes 303.78 seconds\n"
     ]
    }
   ],
   "source": [
    "# item_lst = data_df.item_id  # list of item_id ( 1995 in total for now)\n",
    "# target = data_df.label  # y- final classification label\n",
    "\n",
    "start = time()\n",
    "brightness = [] # this is the final np.array for all images\n",
    "\n",
    "for i in np.arange(len(item_lst)):\n",
    "    image=loadImage(imgLoadPath,item_lst[i],type='.jpg')\n",
    "    if image is not None:\n",
    "        bright = get_brightness(image) # this is a list of length 2 feature\n",
    "    brightness.append(bright)\n",
    "\n",
    "brightness = np.array(brightness)\n",
    "\n",
    "print(\"this takes %.2f seconds\" %(time()-start)) "
   ]
  },
  {
   "cell_type": "code",
   "execution_count": 47,
   "metadata": {
    "collapsed": false
   },
   "outputs": [
    {
     "data": {
      "text/plain": [
       "(9971, 2)"
      ]
     },
     "execution_count": 47,
     "metadata": {},
     "output_type": "execute_result"
    }
   ],
   "source": [
    "brightness.shape"
   ]
  },
  {
   "cell_type": "code",
   "execution_count": 48,
   "metadata": {
    "collapsed": true
   },
   "outputs": [],
   "source": [
    "brightness = pd.DataFrame(brightness)\n",
    "brightness.columns = ['brightness_mean', 'brightness_median']"
   ]
  },
  {
   "cell_type": "code",
   "execution_count": 49,
   "metadata": {
    "collapsed": false
   },
   "outputs": [
    {
     "data": {
      "text/html": [
       "<div>\n",
       "<table border=\"1\" class=\"dataframe\">\n",
       "  <thead>\n",
       "    <tr style=\"text-align: right;\">\n",
       "      <th></th>\n",
       "      <th>brightness_mean</th>\n",
       "      <th>brightness_median</th>\n",
       "    </tr>\n",
       "  </thead>\n",
       "  <tbody>\n",
       "    <tr>\n",
       "      <th>0</th>\n",
       "      <td>0.725045</td>\n",
       "      <td>0.767913</td>\n",
       "    </tr>\n",
       "  </tbody>\n",
       "</table>\n",
       "</div>"
      ],
      "text/plain": [
       "   brightness_mean  brightness_median\n",
       "0         0.725045           0.767913"
      ]
     },
     "execution_count": 49,
     "metadata": {},
     "output_type": "execute_result"
    }
   ],
   "source": [
    "brightness.head(1)"
   ]
  },
  {
   "cell_type": "code",
   "execution_count": 95,
   "metadata": {
    "collapsed": true
   },
   "outputs": [],
   "source": [
    "np.save('brightness.npy',brightness)"
   ]
  },
  {
   "cell_type": "code",
   "execution_count": 318,
   "metadata": {
    "collapsed": true
   },
   "outputs": [],
   "source": [
    "brightness.to_csv('saved_file/brightness.csv', index = False)"
   ]
  },
  {
   "cell_type": "code",
   "execution_count": 319,
   "metadata": {
    "collapsed": false
   },
   "outputs": [
    {
     "data": {
      "text/plain": [
       "(9971, 2)"
      ]
     },
     "execution_count": 319,
     "metadata": {},
     "output_type": "execute_result"
    }
   ],
   "source": [
    "brightness.shape"
   ]
  },
  {
   "cell_type": "markdown",
   "metadata": {},
   "source": [
    "# Get Color intensity Mean and median"
   ]
  },
  {
   "cell_type": "code",
   "execution_count": 50,
   "metadata": {
    "collapsed": true
   },
   "outputs": [],
   "source": [
    "def get_color_mean(color_image): \n",
    "    color_image = img_as_float(color_image)\n",
    "    red_image = color_image[:,:,0].ravel()\n",
    "    green_image = color_image[:,:,1].ravel()\n",
    "    blue_image = color_image[:,:,2].ravel()\n",
    "    \n",
    "    color_list = [red_image,green_image,blue_image]\n",
    "    \n",
    "    \n",
    "    color_mean = [] \n",
    "    \n",
    "    for single_color in color_list:\n",
    "        mean_single = [np.mean(single_color), np.median(single_color)]\n",
    "        color_mean += mean_single\n",
    "    return color_mean"
   ]
  },
  {
   "cell_type": "code",
   "execution_count": 51,
   "metadata": {
    "collapsed": false
   },
   "outputs": [
    {
     "name": "stdout",
     "output_type": "stream",
     "text": [
      "this takes 308.12 seconds\n"
     ]
    }
   ],
   "source": [
    "# item_lst = data_df.item_id  # list of item_id (9971 in total for now)\n",
    "# target = data_df.label  # y- final classification label\n",
    "\n",
    "start = time()\n",
    "color_mean = [] # this is the final np.array for all images\n",
    "\n",
    "for i in np.arange(len(item_lst)):\n",
    "    image=loadImage(imgLoadPath,item_lst[i],type='.jpg')\n",
    "    if image is not None:\n",
    "        result = get_color_mean(image) # this is a list of 6 features(mean and median for each color)\n",
    "    color_mean.append(result)\n",
    "\n",
    "color_mean = np.array(color_mean)\n",
    "\n",
    "print(\"this takes %.2f seconds\" %(time()-start)) "
   ]
  },
  {
   "cell_type": "code",
   "execution_count": 52,
   "metadata": {
    "collapsed": false
   },
   "outputs": [
    {
     "data": {
      "text/plain": [
       "(9971, 6)"
      ]
     },
     "execution_count": 52,
     "metadata": {},
     "output_type": "execute_result"
    }
   ],
   "source": [
    "color_mean.shape"
   ]
  },
  {
   "cell_type": "code",
   "execution_count": 53,
   "metadata": {
    "collapsed": true
   },
   "outputs": [],
   "source": [
    "color_mean = pd.DataFrame(color_mean)\n",
    "color_mean.columns = ['color_mean_red','color_median_red',\n",
    "                     'color_mean_green','color_median_green',\n",
    "                     'color_mean_blue','color_median_blue']"
   ]
  },
  {
   "cell_type": "code",
   "execution_count": 54,
   "metadata": {
    "collapsed": false
   },
   "outputs": [
    {
     "data": {
      "text/html": [
       "<div>\n",
       "<table border=\"1\" class=\"dataframe\">\n",
       "  <thead>\n",
       "    <tr style=\"text-align: right;\">\n",
       "      <th></th>\n",
       "      <th>color_mean_red</th>\n",
       "      <th>color_median_red</th>\n",
       "      <th>color_mean_green</th>\n",
       "      <th>color_median_green</th>\n",
       "      <th>color_mean_blue</th>\n",
       "      <th>color_median_blue</th>\n",
       "    </tr>\n",
       "  </thead>\n",
       "  <tbody>\n",
       "    <tr>\n",
       "      <th>0</th>\n",
       "      <td>0.734114</td>\n",
       "      <td>0.772549</td>\n",
       "      <td>0.723753</td>\n",
       "      <td>0.768627</td>\n",
       "      <td>0.711134</td>\n",
       "      <td>0.768627</td>\n",
       "    </tr>\n",
       "  </tbody>\n",
       "</table>\n",
       "</div>"
      ],
      "text/plain": [
       "   color_mean_red  color_median_red  color_mean_green  color_median_green  \\\n",
       "0        0.734114          0.772549          0.723753            0.768627   \n",
       "\n",
       "   color_mean_blue  color_median_blue  \n",
       "0         0.711134           0.768627  "
      ]
     },
     "execution_count": 54,
     "metadata": {},
     "output_type": "execute_result"
    }
   ],
   "source": [
    "color_mean.head(1)"
   ]
  },
  {
   "cell_type": "code",
   "execution_count": 96,
   "metadata": {
    "collapsed": true
   },
   "outputs": [],
   "source": [
    "np.save('color_mean.npy',color_mean)"
   ]
  },
  {
   "cell_type": "code",
   "execution_count": 317,
   "metadata": {
    "collapsed": true
   },
   "outputs": [],
   "source": [
    "color_mean.to_csv('saved_file/color_mean.csv', index = False)"
   ]
  },
  {
   "cell_type": "markdown",
   "metadata": {},
   "source": [
    "# Get color_features(RGB histogram)"
   ]
  },
  {
   "cell_type": "code",
   "execution_count": 55,
   "metadata": {
    "collapsed": true
   },
   "outputs": [],
   "source": [
    "# write a function to get a color image's RGB color histogram:\n",
    "# each color, we will have 4 values( 4 bins, value is its corresponding normalized cnt)\n",
    "def get_RGB_hist(color_image):\n",
    "    red_image = color_image[:,:,0].ravel()\n",
    "    green_image = color_image[:,:,1].ravel()\n",
    "    blue_image = color_image[:,:,2].ravel()\n",
    "    \n",
    "    color_list = [red_image,green_image,blue_image]\n",
    "    \n",
    "    #calculate histgram's value_counts for peaks in each color\n",
    "    color_hist_lst = [] # it will follow as red feature + green + blue(4*3 = 12 features)\n",
    "    \n",
    "    for single_color in color_list:\n",
    "        hist,bins = np.histogram(single_color,4,[0,256], normed= True, density= True)\n",
    "        unity_hist = hist / hist.sum()  # normalize it to make sure unity_hist.sum() = 1\n",
    "    \n",
    "        color_hist_lst += unity_hist.tolist()\n",
    "    \n",
    "    #return a 12 feature list(4*3)\n",
    "    return color_hist_lst"
   ]
  },
  {
   "cell_type": "code",
   "execution_count": 56,
   "metadata": {
    "collapsed": false
   },
   "outputs": [
    {
     "name": "stdout",
     "output_type": "stream",
     "text": [
      "this takes 335.38 seconds\n"
     ]
    }
   ],
   "source": [
    "# item_lst = data_df.item_id  # list of item_id (9971 in total for now)\n",
    "# target = data_df.label  # y- final classification label\n",
    "\n",
    "start = time()\n",
    "color_hist = [] # this is the final np.array for all images\n",
    "\n",
    "for i in np.arange(len(item_lst)):\n",
    "    image=loadImage(imgLoadPath,item_lst[i],type='.jpg')\n",
    "    if image is not None:\n",
    "        hue = get_RGB_hist(image) # this is a list of length 48 features\n",
    "    color_hist.append(hue)\n",
    "\n",
    "color_hist = np.array(color_hist)\n",
    "\n",
    "print(\"this takes %.2f seconds\" %(time()-start)) "
   ]
  },
  {
   "cell_type": "code",
   "execution_count": 57,
   "metadata": {
    "collapsed": true
   },
   "outputs": [],
   "source": [
    "color_hist = pd.DataFrame(color_hist)\n",
    "color_hist.columns = ['color_hist_' + str(i) for i in np.arange(color_hist.shape[1])]"
   ]
  },
  {
   "cell_type": "code",
   "execution_count": 58,
   "metadata": {
    "collapsed": false
   },
   "outputs": [
    {
     "data": {
      "text/html": [
       "<div>\n",
       "<table border=\"1\" class=\"dataframe\">\n",
       "  <thead>\n",
       "    <tr style=\"text-align: right;\">\n",
       "      <th></th>\n",
       "      <th>color_hist_0</th>\n",
       "      <th>color_hist_1</th>\n",
       "      <th>color_hist_2</th>\n",
       "      <th>color_hist_3</th>\n",
       "      <th>color_hist_4</th>\n",
       "      <th>color_hist_5</th>\n",
       "      <th>color_hist_6</th>\n",
       "      <th>color_hist_7</th>\n",
       "      <th>color_hist_8</th>\n",
       "      <th>color_hist_9</th>\n",
       "      <th>color_hist_10</th>\n",
       "      <th>color_hist_11</th>\n",
       "    </tr>\n",
       "  </thead>\n",
       "  <tbody>\n",
       "    <tr>\n",
       "      <th>0</th>\n",
       "      <td>0.036826</td>\n",
       "      <td>0.04415</td>\n",
       "      <td>0.329902</td>\n",
       "      <td>0.589121</td>\n",
       "      <td>0.035732</td>\n",
       "      <td>0.055645</td>\n",
       "      <td>0.352754</td>\n",
       "      <td>0.555869</td>\n",
       "      <td>0.048682</td>\n",
       "      <td>0.056621</td>\n",
       "      <td>0.35333</td>\n",
       "      <td>0.541367</td>\n",
       "    </tr>\n",
       "  </tbody>\n",
       "</table>\n",
       "</div>"
      ],
      "text/plain": [
       "   color_hist_0  color_hist_1  color_hist_2  color_hist_3  color_hist_4  \\\n",
       "0      0.036826       0.04415      0.329902      0.589121      0.035732   \n",
       "\n",
       "   color_hist_5  color_hist_6  color_hist_7  color_hist_8  color_hist_9  \\\n",
       "0      0.055645      0.352754      0.555869      0.048682      0.056621   \n",
       "\n",
       "   color_hist_10  color_hist_11  \n",
       "0        0.35333       0.541367  "
      ]
     },
     "execution_count": 58,
     "metadata": {},
     "output_type": "execute_result"
    }
   ],
   "source": [
    "color_hist.head(1)"
   ]
  },
  {
   "cell_type": "code",
   "execution_count": 59,
   "metadata": {
    "collapsed": false
   },
   "outputs": [
    {
     "data": {
      "text/plain": [
       "(9971, 12)"
      ]
     },
     "execution_count": 59,
     "metadata": {},
     "output_type": "execute_result"
    }
   ],
   "source": [
    "color_hist.shape"
   ]
  },
  {
   "cell_type": "code",
   "execution_count": 97,
   "metadata": {
    "collapsed": true
   },
   "outputs": [],
   "source": [
    "np.save('color_hist.npy',color_hist)"
   ]
  },
  {
   "cell_type": "code",
   "execution_count": 316,
   "metadata": {
    "collapsed": true
   },
   "outputs": [],
   "source": [
    "color_hist.to_csv('saved_file/color_hist.csv', index = False)"
   ]
  },
  {
   "cell_type": "markdown",
   "metadata": {},
   "source": [
    "# Training: use all features without daisy\n",
    "    "
   ]
  },
  {
   "cell_type": "markdown",
   "metadata": {},
   "source": [
    "    1) Michelson contrast --contrast\n",
    "    2) RMScontrast --RMScontrast\n",
    "    3) Get HSV (hue, saturation and value features) --HSV\n",
    "    4) get brightness --brightness\n",
    "    5) Get Color intensity Mean and median --color_mean\n",
    "    6) Get color_features(RGB histogram) --color_hist"
   ]
  },
  {
   "cell_type": "code",
   "execution_count": 60,
   "metadata": {
    "collapsed": false
   },
   "outputs": [
    {
     "name": "stdout",
     "output_type": "stream",
     "text": [
      "<class 'pandas.core.frame.DataFrame'> (9971, 25)\n",
      "<class 'pandas.core.series.Series'> (9971,)\n"
     ]
    }
   ],
   "source": [
    "# use 1)color_mean(6), 2)brightness(2), 3) HSV(3), 4)RMScontrast(1), 5) contrast(1) and 6) color_hist (12 features)\n",
    "X = pd.concat([color_hist, color_mean, brightness,\n",
    "              HSV, RMScontrast, contrast],axis = 1)\n",
    "\n",
    "y = target\n",
    "\n",
    "print type(X), X.shape\n",
    "print type(y), y.shape"
   ]
  },
  {
   "cell_type": "code",
   "execution_count": 61,
   "metadata": {
    "collapsed": false
   },
   "outputs": [
    {
     "name": "stdout",
     "output_type": "stream",
     "text": [
      "training size: 7976\n",
      "test size: 1995\n",
      "number of features: 25\n"
     ]
    }
   ],
   "source": [
    "from sklearn.cross_validation import train_test_split\n",
    "X_train, X_test, y_train, y_test = train_test_split(X, y, test_size=0.2, random_state=0)\n",
    "\n",
    "print (\"training size: %d\" % X_train.shape[0])\n",
    "print (\"test size: %d\" % X_test.shape[0])\n",
    "print ('number of features: %d' % X_train.shape[1])"
   ]
  },
  {
   "cell_type": "markdown",
   "metadata": {},
   "source": [
    "# Random Forest"
   ]
  },
  {
   "cell_type": "code",
   "execution_count": 62,
   "metadata": {
    "collapsed": true
   },
   "outputs": [],
   "source": [
    "# plot feature importance\n",
    "\n",
    "scaler = StandardScaler(with_mean=True, with_std=True)\n",
    "\n",
    "X_train_standardized = scaler.fit_transform(X_train)\n",
    "\n",
    "# step 2: train on random forest with best parameters\n",
    "rf = RandomForestClassifier(n_estimators= 500, random_state= 1234, criterion='gini'\n",
    "                           ,bootstrap = True, max_features = 'sqrt')\n",
    "\n",
    "model = rf.fit(X_train, y_train)"
   ]
  },
  {
   "cell_type": "code",
   "execution_count": 63,
   "metadata": {
    "collapsed": false
   },
   "outputs": [
    {
     "name": "stdout",
     "output_type": "stream",
     "text": [
      "test dataset accuracy score: 0.507\n"
     ]
    }
   ],
   "source": [
    "# see the real accuracy on test dataset: 0.513(only daisy_PCA(30))\n",
    "\n",
    "from sklearn.metrics import accuracy_score\n",
    "\n",
    "y_pred = model.predict(X_test)\n",
    "\n",
    "score = accuracy_score(y_test, y_pred)\n",
    "\n",
    "print(\"test dataset accuracy score: %.3f\" %score)"
   ]
  },
  {
   "cell_type": "code",
   "execution_count": 64,
   "metadata": {
    "collapsed": false
   },
   "outputs": [
    {
     "name": "stdout",
     "output_type": "stream",
     "text": [
      "             precision    recall  f1-score   support\n",
      "\n",
      "  unpopular       0.52      0.49      0.51      1027\n",
      "    popular       0.49      0.52      0.51       968\n",
      "\n",
      "avg / total       0.51      0.51      0.51      1995\n",
      "\n"
     ]
    }
   ],
   "source": [
    "from sklearn.metrics import classification_report\n",
    "y_pred = model.predict(X_test)\n",
    "target_names = ['unpopular', 'popular']\n",
    "print(classification_report(y_test, y_pred, target_names=target_names))"
   ]
  },
  {
   "cell_type": "code",
   "execution_count": 65,
   "metadata": {
    "collapsed": false
   },
   "outputs": [
    {
     "data": {
      "image/png": "[encoded data removed]",
      "text/plain": [
       "<matplotlib.figure.Figure at 0x11da71890>"
      ]
     },
     "metadata": {},
     "output_type": "display_data"
    }
   ],
   "source": [
    "y_pred_prob = model.predict_proba(X_test)\n",
    "plot_roc_curve(y_test, y_pred_prob)"
   ]
  },
  {
   "cell_type": "code",
   "execution_count": 67,
   "metadata": {
    "collapsed": true
   },
   "outputs": [],
   "source": [
    "# function to plot feature_importance.\n",
    "def plot_feature_importance(feature_importances,feature_names):\n",
    "    ftr_imp_df = pd.DataFrame(sorted(zip(feature_names,feature_importances)\n",
    "                          , key=lambda x: x[1], reverse = True)\n",
    "                   )\n",
    "    y_pos = np.arange(ftr_imp_df.shape[0])\n",
    "    # plot top 10 features \n",
    "    plt.barh(y_pos[:10], ftr_imp_df[1][:10], align='center', alpha=0.4)\n",
    "    plt.yticks(y_pos[:10], ftr_imp_df[0][:10])\n",
    "    plt.xlabel('Feature Importance')\n",
    "\n",
    "    plt.show()"
   ]
  },
  {
   "cell_type": "code",
   "execution_count": 68,
   "metadata": {
    "collapsed": false
   },
   "outputs": [
    {
     "data": {
      "image/png": "[encoded data removed]",
      "text/plain": [
       "<matplotlib.figure.Figure at 0x11e832410>"
      ]
     },
     "metadata": {},
     "output_type": "display_data"
    }
   ],
   "source": [
    "# make a plot of feature importance\n",
    "\n",
    "#Plot feature importance in rf\n",
    "feature_names = X.columns # the number here indicate to the vectorized PCA number\n",
    "plot_feature_importance(model.feature_importances_, feature_names)"
   ]
  },
  {
   "cell_type": "code",
   "execution_count": null,
   "metadata": {
    "collapsed": true
   },
   "outputs": [],
   "source": []
  },
  {
   "cell_type": "markdown",
   "metadata": {},
   "source": [
    "# Re-train: use all features including DaisyPCA"
   ]
  },
  {
   "cell_type": "code",
   "execution_count": 69,
   "metadata": {
    "collapsed": false
   },
   "outputs": [
    {
     "name": "stdout",
     "output_type": "stream",
     "text": [
      "<class 'pandas.core.frame.DataFrame'> (9971, 75)\n",
      "<class 'pandas.core.series.Series'> (9971,)\n"
     ]
    }
   ],
   "source": [
    "# use 1)color_mean(6), 2)brightness(2), 3) HSV(3), 4)RMScontrast(1),\n",
    "#   5) contrast(1) and 6) color_hist (12 features), 7)daisy_PCA\n",
    "X = pd.concat([daisy_PCA, color_hist, color_mean, brightness,\n",
    "              HSV, RMScontrast, contrast],axis = 1)\n",
    "\n",
    "y = target\n",
    "\n",
    "print type(X), X.shape\n",
    "print type(y), y.shape"
   ]
  },
  {
   "cell_type": "code",
   "execution_count": 70,
   "metadata": {
    "collapsed": false
   },
   "outputs": [
    {
     "name": "stdout",
     "output_type": "stream",
     "text": [
      "training size: 7976\n",
      "test size: 1995\n",
      "number of features: 75\n"
     ]
    }
   ],
   "source": [
    "from sklearn.cross_validation import train_test_split\n",
    "X_train, X_test, y_train, y_test = train_test_split(X, y, test_size=0.2, random_state=0)\n",
    "\n",
    "print (\"training size: %d\" % X_train.shape[0])\n",
    "print (\"test size: %d\" % X_test.shape[0])\n",
    "print ('number of features: %d' % X_train.shape[1])"
   ]
  },
  {
   "cell_type": "code",
   "execution_count": 98,
   "metadata": {
    "collapsed": true
   },
   "outputs": [],
   "source": [
    "#Random Forest"
   ]
  },
  {
   "cell_type": "code",
   "execution_count": 71,
   "metadata": {
    "collapsed": true
   },
   "outputs": [],
   "source": [
    "# plot feature importance\n",
    "\n",
    "scaler = StandardScaler(with_mean=True, with_std=True)\n",
    "\n",
    "X_train_standardized = scaler.fit_transform(X_train)\n",
    "\n",
    "# step 2: train on random forest with best parameters\n",
    "rf = RandomForestClassifier(n_estimators= 500, random_state= 1234, criterion='gini'\n",
    "                           ,bootstrap = True, max_features = 'sqrt')\n",
    "\n",
    "model = rf.fit(X_train, y_train)"
   ]
  },
  {
   "cell_type": "code",
   "execution_count": 72,
   "metadata": {
    "collapsed": false
   },
   "outputs": [
    {
     "name": "stdout",
     "output_type": "stream",
     "text": [
      "test dataset accuracy score: 0.533\n"
     ]
    }
   ],
   "source": [
    "# see the real accuracy on test dataset: 0.513(only daisy_PCA(30))\n",
    "\n",
    "from sklearn.metrics import accuracy_score\n",
    "\n",
    "y_pred = model.predict(X_test)\n",
    "\n",
    "score = accuracy_score(y_test, y_pred)\n",
    "\n",
    "print(\"test dataset accuracy score: %.3f\" %score)"
   ]
  },
  {
   "cell_type": "code",
   "execution_count": 73,
   "metadata": {
    "collapsed": false
   },
   "outputs": [
    {
     "name": "stdout",
     "output_type": "stream",
     "text": [
      "             precision    recall  f1-score   support\n",
      "\n",
      "  unpopular       0.55      0.53      0.54      1027\n",
      "    popular       0.52      0.54      0.53       968\n",
      "\n",
      "avg / total       0.53      0.53      0.53      1995\n",
      "\n"
     ]
    }
   ],
   "source": [
    "from sklearn.metrics import classification_report\n",
    "y_pred = model.predict(X_test)\n",
    "target_names = ['unpopular', 'popular']\n",
    "print(classification_report(y_test, y_pred, target_names=target_names))"
   ]
  },
  {
   "cell_type": "code",
   "execution_count": 74,
   "metadata": {
    "collapsed": false
   },
   "outputs": [
    {
     "data": {
      "image/png": "[encoded data removed]",
      "text/plain": [
       "<matplotlib.figure.Figure at 0x11dc3ffd0>"
      ]
     },
     "metadata": {},
     "output_type": "display_data"
    }
   ],
   "source": [
    "y_pred_prob = model.predict_proba(X_test)\n",
    "plot_roc_curve(y_test, y_pred_prob)"
   ]
  },
  {
   "cell_type": "code",
   "execution_count": 75,
   "metadata": {
    "collapsed": false
   },
   "outputs": [
    {
     "data": {
      "image/png": "[encoded data removed]",
      "text/plain": [
       "<matplotlib.figure.Figure at 0x11db81190>"
      ]
     },
     "metadata": {},
     "output_type": "display_data"
    }
   ],
   "source": [
    "# make a plot of feature importance\n",
    "\n",
    "#Plot feature importance in rf\n",
    "feature_names = X.columns # the number here indicate to the vectorized PCA number\n",
    "plot_feature_importance(model.feature_importances_, feature_names)"
   ]
  },
  {
   "cell_type": "code",
   "execution_count": 76,
   "metadata": {
    "collapsed": false
   },
   "outputs": [
    {
     "name": "stdout",
     "output_type": "stream",
     "text": [
      "test dataset accuracy score: 0.518\n"
     ]
    }
   ],
   "source": [
    "from sklearn.metrics import precision_score\n",
    "\n",
    "score = precision_score(y_test, y_pred)\n",
    "\n",
    "print(\"test dataset accuracy score: %.3f\" %score)"
   ]
  },
  {
   "cell_type": "markdown",
   "metadata": {},
   "source": [
    "# Logistic regression"
   ]
  },
  {
   "cell_type": "code",
   "execution_count": 87,
   "metadata": {
    "collapsed": true
   },
   "outputs": [],
   "source": [
    "scaler = StandardScaler(with_mean=True, with_std=True)\n",
    "\n",
    "X_train_standardized = scaler.fit_transform(X_train)\n",
    "\n",
    "# step 2: train on logreg with best parameters\n",
    "logreg = LogisticRegression(C = 5, random_state= 1234)\n",
    "model = logreg.fit(X_train, y_train)\n"
   ]
  },
  {
   "cell_type": "code",
   "execution_count": 88,
   "metadata": {
    "collapsed": false
   },
   "outputs": [
    {
     "name": "stdout",
     "output_type": "stream",
     "text": [
      "test dataset accuracy score: 0.545\n"
     ]
    }
   ],
   "source": [
    "# see the real accuracy on test dataset\n",
    "\n",
    "from sklearn.metrics import accuracy_score\n",
    "\n",
    "y_pred = model.predict(X_test)\n",
    "\n",
    "score = accuracy_score(y_test, y_pred)\n",
    "\n",
    "print(\"test dataset accuracy score: %.3f\" %score)"
   ]
  },
  {
   "cell_type": "code",
   "execution_count": 89,
   "metadata": {
    "collapsed": false
   },
   "outputs": [
    {
     "data": {
      "image/png": "[encoded data removed]",
      "text/plain": [
       "<matplotlib.figure.Figure at 0x11179ed50>"
      ]
     },
     "metadata": {},
     "output_type": "display_data"
    }
   ],
   "source": [
    "y_pred_prob = model.predict_proba(X_test)\n",
    "plot_roc_curve(y_test, y_pred_prob)"
   ]
  },
  {
   "cell_type": "code",
   "execution_count": 90,
   "metadata": {
    "collapsed": false
   },
   "outputs": [
    {
     "name": "stdout",
     "output_type": "stream",
     "text": [
      "             precision    recall  f1-score   support\n",
      "\n",
      "  unpopular       0.57      0.50      0.53      1027\n",
      "    popular       0.53      0.59      0.56       968\n",
      "\n",
      "avg / total       0.55      0.54      0.54      1995\n",
      "\n"
     ]
    }
   ],
   "source": [
    "from sklearn.metrics import classification_report\n",
    "y_pred = model.predict(X_test)\n",
    "target_names = ['unpopular', 'popular']\n",
    "print(classification_report(y_test, y_pred, target_names=target_names))"
   ]
  },
  {
   "cell_type": "code",
   "execution_count": 91,
   "metadata": {
    "collapsed": false
   },
   "outputs": [
    {
     "name": "stdout",
     "output_type": "stream",
     "text": [
      "test dataset accuracy score using logreg with three parts of features: 0.528\n"
     ]
    }
   ],
   "source": [
    "# see the real accuracy on test dataset\n",
    "\n",
    "from sklearn.metrics import precision_score\n",
    "\n",
    "y_pred = model.predict(X_test)\n",
    "\n",
    "score = precision_score(y_test, y_pred)\n",
    "\n",
    "print(\"test dataset accuracy score using logreg with three parts of features: %.3f\" %score)"
   ]
  },
  {
   "cell_type": "code",
   "execution_count": null,
   "metadata": {
    "collapsed": true
   },
   "outputs": [],
   "source": []
  },
  {
   "cell_type": "markdown",
   "metadata": {},
   "source": [
    "# New Daisy---extract Daisy feature from images\n",
    "# mask top :50, to extract partial Daisy -- did this Monday night"
   ]
  },
  {
   "cell_type": "code",
   "execution_count": 99,
   "metadata": {
    "collapsed": true
   },
   "outputs": [],
   "source": [
    "# loadImage function\n",
    "def loadImage(imagePath,imgId,type='.jpg'):\n",
    "    fullpath=imagePath+'/'+str(imgId)+type\n",
    "    if path.exists(fullpath): # check if this path exisits\n",
    "        image = io.imread(fullpath)\n",
    "        return image\n",
    "    else:\n",
    "        return None\n"
   ]
  },
  {
   "cell_type": "code",
   "execution_count": 273,
   "metadata": {
    "collapsed": true
   },
   "outputs": [],
   "source": [
    "imgLoadPath=\"../selected_image/old_selected/lst_10000\""
   ]
  },
  {
   "cell_type": "markdown",
   "metadata": {},
   "source": [
    "    Grid of DAISY descriptors for the given image as an array dimensionality (P, Q, R) where\n",
    "    P = ceil((M - radius*2) / step) \n",
    "    Q = ceil((N - radius*2) / step) \n",
    "    R = (rings* histograms + 1) * orientations\n",
    "    daisy(img, step=150, radius=33, rings=3, histograms=3, orientations=3, visualize=True)来提取图片，则会得到（2,2,30）"
   ]
  },
  {
   "cell_type": "code",
   "execution_count": 101,
   "metadata": {
    "collapsed": true
   },
   "outputs": [],
   "source": [
    "from skimage.transform import resize\n",
    "from skimage.feature import daisy"
   ]
  },
  {
   "cell_type": "code",
   "execution_count": null,
   "metadata": {
    "collapsed": true
   },
   "outputs": [],
   "source": [
    "partial = image[50:,:,:] # partial image\n",
    "image=color.rgb2grey(partial)\n",
    "#resize image make sure they are all the same size\n",
    "image=resize(image,(260,300), mode='reflect')\n",
    "# extract Daisy feature( can tune this part later)\n",
    "descs=daisy(image, step=100, radius=40, rings=2, histograms=6,\n",
    "                 orientations=8, visualize=False)\n",
    "descs.shape"
   ]
  },
  {
   "cell_type": "code",
   "execution_count": 277,
   "metadata": {
    "collapsed": false
   },
   "outputs": [
    {
     "name": "stdout",
     "output_type": "stream",
     "text": [
      "0\n",
      "500\n",
      "1000\n",
      "1500\n",
      "2000\n",
      "2500\n",
      "3000\n",
      "3500\n",
      "4000\n",
      "4500\n",
      "5000\n",
      "5500\n",
      "6000\n",
      "6500\n",
      "7000\n",
      "7500\n",
      "8000\n",
      "8500\n",
      "9000\n",
      "9500\n",
      "this takes 3802.35 seconds\n"
     ]
    }
   ],
   "source": [
    "start = time()\n",
    "\n",
    "for i in np.arange(len(item_lst)):\n",
    "    image=loadImage(imgLoadPath,item_lst[i],type='.jpg')\n",
    "    if image is not None:\n",
    "        # covert color image to gray(intensity will be in (0,1) range)\n",
    "        image=color.rgb2grey(image)\n",
    "        partial = image[50:,:] # partial image\n",
    "        #resize image make sure they are all the same size\n",
    "        partial=resize(partial,(250,300), mode='reflect')\n",
    "        # extract Daisy feature( can tune this part later)\n",
    "        descs=daisy(partial, step=100, radius=40, rings=2, histograms=6,\n",
    "                 orientations=8, visualize=False)\n",
    "#        descs, descs_img=daisy(image, step=100, radius=40, rings=2, histograms=6,\n",
    "#                         orientations=8, visualize=True)\n",
    "        # show the image, could be commented for accelerating\n",
    "#        fig, ax = plt.subplots()\n",
    "#        ax.axis('off')\n",
    "#        ax.imshow(descs_img)\n",
    "#        plt.show()                \n",
    "        \n",
    "        descs=descs.reshape(1,-1)\n",
    "        if 'imageVectorized_2' not in globals(): # meaning it is empty\n",
    "            imageVectorized_2=descs\n",
    "        else:\n",
    "            imageVectorized_2=np.append(imageVectorized_2,descs,axis=0)\n",
    "    if i%500 == 0:\n",
    "        print i\n",
    "        \n",
    "print(\"this takes %.2f seconds\" %(time()-start)) "
   ]
  },
  {
   "cell_type": "code",
   "execution_count": 109,
   "metadata": {
    "collapsed": false
   },
   "outputs": [
    {
     "data": {
      "text/plain": [
       "(9971, 120)"
      ]
     },
     "execution_count": 109,
     "metadata": {},
     "output_type": "execute_result"
    }
   ],
   "source": [
    "imageVectorized_new.shape # not so good compare with old 936 features one"
   ]
  },
  {
   "cell_type": "code",
   "execution_count": 104,
   "metadata": {
    "collapsed": false
   },
   "outputs": [
    {
     "data": {
      "text/plain": [
       "(9971,)"
      ]
     },
     "execution_count": 104,
     "metadata": {},
     "output_type": "execute_result"
    }
   ],
   "source": [
    "item_lst.shape"
   ]
  },
  {
   "cell_type": "code",
   "execution_count": 278,
   "metadata": {
    "collapsed": false
   },
   "outputs": [
    {
     "data": {
      "text/plain": [
       "(9971, 624)"
      ]
     },
     "execution_count": 278,
     "metadata": {},
     "output_type": "execute_result"
    }
   ],
   "source": [
    "imageVectorized_2.shape"
   ]
  },
  {
   "cell_type": "code",
   "execution_count": 279,
   "metadata": {
    "collapsed": false
   },
   "outputs": [],
   "source": [
    "from sklearn.decomposition import PCA\n",
    "pca = PCA(n_components=50)\n",
    "pca.fit(imageVectorized_2)\n",
    "imagePCAed_2 =pca.transform(imageVectorized_2)"
   ]
  },
  {
   "cell_type": "code",
   "execution_count": 280,
   "metadata": {
    "collapsed": false
   },
   "outputs": [
    {
     "data": {
      "text/plain": [
       "(9971, 50)"
      ]
     },
     "execution_count": 280,
     "metadata": {},
     "output_type": "execute_result"
    }
   ],
   "source": [
    "daisy_PCA_2 = pd.DataFrame(imagePCAed_2)\n",
    "daisy_PCA_2.shape"
   ]
  },
  {
   "cell_type": "code",
   "execution_count": 281,
   "metadata": {
    "collapsed": true
   },
   "outputs": [],
   "source": [
    "daisy_PCA_2.columns = ['daisy_PCA2_' + str(i) for i in np.arange(daisy_PCA_2.shape[1])]"
   ]
  },
  {
   "cell_type": "markdown",
   "metadata": {},
   "source": [
    "# Only train on Daisy_PCA_2 -not as good as Daisy_PCA\n",
    "# now try a new one, mask to the top :50 to get new Daisy partial"
   ]
  },
  {
   "cell_type": "code",
   "execution_count": 282,
   "metadata": {
    "collapsed": false
   },
   "outputs": [
    {
     "name": "stdout",
     "output_type": "stream",
     "text": [
      "<class 'pandas.core.frame.DataFrame'> (9971, 50)\n",
      "<class 'pandas.core.series.Series'> (9971,)\n"
     ]
    }
   ],
   "source": [
    "X = daisy_PCA_2 # 50 components\n",
    "y = target\n",
    "\n",
    "print type(X), X.shape\n",
    "print type(y), y.shape"
   ]
  },
  {
   "cell_type": "code",
   "execution_count": 283,
   "metadata": {
    "collapsed": false
   },
   "outputs": [
    {
     "name": "stdout",
     "output_type": "stream",
     "text": [
      "training size: 7976\n",
      "test size: 1995\n",
      "number of features: 50\n"
     ]
    }
   ],
   "source": [
    "from sklearn.cross_validation import train_test_split\n",
    "X_train, X_test, y_train, y_test = train_test_split(X, y, test_size=0.2, random_state=0)\n",
    "\n",
    "print (\"training size: %d\" % X_train.shape[0])\n",
    "print (\"test size: %d\" % X_test.shape[0])\n",
    "print ('number of features: %d' % X_train.shape[1])"
   ]
  },
  {
   "cell_type": "code",
   "execution_count": null,
   "metadata": {
    "collapsed": true
   },
   "outputs": [],
   "source": [
    "#Logistic regression"
   ]
  },
  {
   "cell_type": "code",
   "execution_count": 284,
   "metadata": {
    "collapsed": true
   },
   "outputs": [],
   "source": [
    "scaler = StandardScaler(with_mean=True, with_std=True)\n",
    "\n",
    "X_train_standardized = scaler.fit_transform(X_train)\n",
    "\n",
    "# step 2: train on logreg with best parameters\n",
    "logreg = LogisticRegression(C = 5, random_state= 1234)\n",
    "model = logreg.fit(X_train, y_train)\n"
   ]
  },
  {
   "cell_type": "code",
   "execution_count": 285,
   "metadata": {
    "collapsed": false
   },
   "outputs": [
    {
     "name": "stdout",
     "output_type": "stream",
     "text": [
      "test dataset accuracy score: 0.524\n"
     ]
    }
   ],
   "source": [
    "# see the real accuracy on test dataset: 0.52--logistic regression-Daisy_PCA_2\n",
    "\n",
    "from sklearn.metrics import accuracy_score\n",
    "\n",
    "y_pred = model.predict(X_test)\n",
    "\n",
    "score = accuracy_score(y_test, y_pred)\n",
    "\n",
    "print(\"test dataset accuracy score: %.3f\" %score)"
   ]
  },
  {
   "cell_type": "markdown",
   "metadata": {},
   "source": [
    "#Random forest"
   ]
  },
  {
   "cell_type": "code",
   "execution_count": 286,
   "metadata": {
    "collapsed": true
   },
   "outputs": [],
   "source": [
    "# plot feature importance\n",
    "\n",
    "scaler = StandardScaler(with_mean=True, with_std=True)\n",
    "\n",
    "X_train_standardized = scaler.fit_transform(X_train)\n",
    "\n",
    "# step 2: train on random forest with best parameters\n",
    "rf = RandomForestClassifier(n_estimators= 500, random_state= 1234, criterion='gini'\n",
    "                           ,bootstrap = True, max_features = 'sqrt')\n",
    "\n",
    "model = rf.fit(X_train, y_train)\n"
   ]
  },
  {
   "cell_type": "code",
   "execution_count": 287,
   "metadata": {
    "collapsed": false
   },
   "outputs": [
    {
     "name": "stdout",
     "output_type": "stream",
     "text": [
      "test dataset accuracy score: 0.541\n"
     ]
    }
   ],
   "source": [
    "# see the real accuracy on test dataset: 0.52--logistic regression-Daisy_PCA_2\n",
    "\n",
    "from sklearn.metrics import accuracy_score\n",
    "\n",
    "y_pred = model.predict(X_test)\n",
    "\n",
    "score = accuracy_score(y_test, y_pred)\n",
    "\n",
    "print(\"test dataset accuracy score: %.3f\" %score)"
   ]
  },
  {
   "cell_type": "code",
   "execution_count": 288,
   "metadata": {
    "collapsed": false
   },
   "outputs": [
    {
     "name": "stdout",
     "output_type": "stream",
     "text": [
      "             precision    recall  f1-score   support\n",
      "\n",
      "  unpopular       0.56      0.53      0.55      1027\n",
      "    popular       0.53      0.55      0.54       968\n",
      "\n",
      "avg / total       0.54      0.54      0.54      1995\n",
      "\n"
     ]
    }
   ],
   "source": [
    "from sklearn.metrics import classification_report\n",
    "y_pred = model.predict(X_test)\n",
    "target_names = ['unpopular', 'popular']\n",
    "print(classification_report(y_test, y_pred, target_names=target_names))"
   ]
  },
  {
   "cell_type": "code",
   "execution_count": 289,
   "metadata": {
    "collapsed": false
   },
   "outputs": [
    {
     "data": {
      "image/png": "[encoded data removed]",
      "text/plain": [
       "<matplotlib.figure.Figure at 0x11e850790>"
      ]
     },
     "metadata": {},
     "output_type": "display_data"
    }
   ],
   "source": [
    "y_pred_prob = model.predict_proba(X_test)\n",
    "plot_roc_curve(y_test, y_pred_prob)"
   ]
  },
  {
   "cell_type": "markdown",
   "metadata": {},
   "source": [
    "# Get Hue's histogram data as a new feature"
   ]
  },
  {
   "cell_type": "code",
   "execution_count": 105,
   "metadata": {
    "collapsed": true
   },
   "outputs": [],
   "source": [
    "def get_Hue_hist(color_image):\n",
    "    image = color.rgb2hsv(color_image)\n",
    "    hue = image[:,:,0].ravel()\n",
    "    hist,bins = np.histogram(hue, 4,[0,1], normed= True, density= True) #this will have 4 bins\n",
    "    hue_unity_hist = hist / hist.sum()  # normalize it to make sure unity_hist.sum() = 1\n",
    "    \n",
    "    return hue_unity_hist"
   ]
  },
  {
   "cell_type": "code",
   "execution_count": 106,
   "metadata": {
    "collapsed": false
   },
   "outputs": [
    {
     "name": "stdout",
     "output_type": "stream",
     "text": [
      "this takes 460.11 seconds\n"
     ]
    }
   ],
   "source": [
    "# item_lst = data_df.item_id  # list of item_id (9971 in total for now)\n",
    "# target = data_df.label  # y- final classification label\n",
    "\n",
    "start = time()\n",
    "hue_hist = [] # this is the final np.array for all images\n",
    "\n",
    "for i in np.arange(len(item_lst)):\n",
    "    image=loadImage(imgLoadPath,item_lst[i],type='.jpg')\n",
    "    if image is not None:\n",
    "        hue = get_Hue_hist(image) # this is a list of length 48 features\n",
    "    hue_hist.append(hue)\n",
    "\n",
    "hue_hist = np.array(hue_hist)\n",
    "\n",
    "print(\"this takes %.2f seconds\" %(time()-start)) "
   ]
  },
  {
   "cell_type": "code",
   "execution_count": 107,
   "metadata": {
    "collapsed": false
   },
   "outputs": [
    {
     "data": {
      "text/plain": [
       "(9971, 4)"
      ]
     },
     "execution_count": 107,
     "metadata": {},
     "output_type": "execute_result"
    }
   ],
   "source": [
    "hue_hist.shape"
   ]
  },
  {
   "cell_type": "code",
   "execution_count": 108,
   "metadata": {
    "collapsed": true
   },
   "outputs": [],
   "source": [
    "hue_hist = pd.DataFrame(hue_hist)\n",
    "hue_hist.columns = ['hue_hist_' + str(i) for i in np.arange(hue_hist.shape[1])]"
   ]
  },
  {
   "cell_type": "code",
   "execution_count": 321,
   "metadata": {
    "collapsed": true
   },
   "outputs": [],
   "source": [
    "hue_hist.to_csv('saved_file/hue_hist.csv', index = False)"
   ]
  },
  {
   "cell_type": "code",
   "execution_count": 322,
   "metadata": {
    "collapsed": false
   },
   "outputs": [
    {
     "data": {
      "text/plain": [
       "(9971, 4)"
      ]
     },
     "execution_count": 322,
     "metadata": {},
     "output_type": "execute_result"
    }
   ],
   "source": [
    "hue_hist.shape"
   ]
  },
  {
   "cell_type": "markdown",
   "metadata": {},
   "source": [
    "# Retrain model-- with more features"
   ]
  },
  {
   "cell_type": "code",
   "execution_count": 122,
   "metadata": {
    "collapsed": false
   },
   "outputs": [
    {
     "name": "stdout",
     "output_type": "stream",
     "text": [
      "<class 'pandas.core.frame.DataFrame'> (9971, 79)\n",
      "<class 'pandas.core.series.Series'> (9971,)\n"
     ]
    }
   ],
   "source": [
    "# use 1)color_mean(6), 2)brightness(2), 3) HSV(3), 4)RMScontrast(1),\n",
    "#   5) contrast(1) and 6) color_hist (12 features), 7)daisy_PCA, 8) hue_hist\n",
    "X = pd.concat([daisy_PCA, color_hist, color_mean,\n",
    "               brightness, HSV, RMScontrast, \n",
    "               contrast, hue_hist],axis = 1)\n",
    "\n",
    "y = target\n",
    "\n",
    "print type(X), X.shape\n",
    "print type(y), y.shape"
   ]
  },
  {
   "cell_type": "code",
   "execution_count": 123,
   "metadata": {
    "collapsed": false
   },
   "outputs": [
    {
     "name": "stdout",
     "output_type": "stream",
     "text": [
      "training size: 7976\n",
      "test size: 1995\n",
      "number of features: 79\n"
     ]
    }
   ],
   "source": [
    "from sklearn.cross_validation import train_test_split\n",
    "X_train, X_test, y_train, y_test = train_test_split(X, y, test_size=0.2, random_state=0)\n",
    "\n",
    "print (\"training size: %d\" % X_train.shape[0])\n",
    "print (\"test size: %d\" % X_test.shape[0])\n",
    "print ('number of features: %d' % X_train.shape[1])"
   ]
  },
  {
   "cell_type": "markdown",
   "metadata": {},
   "source": [
    "# Train on Random Forest"
   ]
  },
  {
   "cell_type": "code",
   "execution_count": 124,
   "metadata": {
    "collapsed": true
   },
   "outputs": [],
   "source": [
    "# plot feature importance\n",
    "\n",
    "scaler = StandardScaler(with_mean=True, with_std=True)\n",
    "\n",
    "X_train_standardized = scaler.fit_transform(X_train)\n",
    "\n",
    "# step 2: train on random forest with best parameters\n",
    "rf = RandomForestClassifier(n_estimators= 500, random_state= 1234, criterion='gini'\n",
    "                           ,bootstrap = True, max_features = 'sqrt')\n",
    "\n",
    "model = rf.fit(X_train, y_train)\n"
   ]
  },
  {
   "cell_type": "code",
   "execution_count": 125,
   "metadata": {
    "collapsed": false
   },
   "outputs": [
    {
     "name": "stdout",
     "output_type": "stream",
     "text": [
      "test dataset accuracy score: 0.535\n"
     ]
    }
   ],
   "source": [
    "# see the real accuracy on test dataset: 0.54 --logistic regression-Daisy_PCA_2\n",
    "\n",
    "from sklearn.metrics import accuracy_score\n",
    "\n",
    "y_pred = model.predict(X_test)\n",
    "\n",
    "score = accuracy_score(y_test, y_pred)\n",
    "\n",
    "print(\"test dataset accuracy score: %.3f\" %score)"
   ]
  },
  {
   "cell_type": "code",
   "execution_count": 126,
   "metadata": {
    "collapsed": false
   },
   "outputs": [
    {
     "name": "stdout",
     "output_type": "stream",
     "text": [
      "             precision    recall  f1-score   support\n",
      "\n",
      "  unpopular       0.55      0.53      0.54      1027\n",
      "    popular       0.52      0.54      0.53       968\n",
      "\n",
      "avg / total       0.54      0.53      0.53      1995\n",
      "\n"
     ]
    }
   ],
   "source": [
    "from sklearn.metrics import classification_report\n",
    "y_pred = model.predict(X_test)\n",
    "target_names = ['unpopular', 'popular']\n",
    "print(classification_report(y_test, y_pred, target_names=target_names))"
   ]
  },
  {
   "cell_type": "code",
   "execution_count": null,
   "metadata": {
    "collapsed": true
   },
   "outputs": [],
   "source": []
  },
  {
   "cell_type": "code",
   "execution_count": 127,
   "metadata": {
    "collapsed": false
   },
   "outputs": [
    {
     "data": {
      "image/png": "[encoded data removed]",
      "text/plain": [
       "<matplotlib.figure.Figure at 0x11daaa7d0>"
      ]
     },
     "metadata": {},
     "output_type": "display_data"
    }
   ],
   "source": [
    "y_pred_prob = model.predict_proba(X_test)\n",
    "plot_roc_curve(y_test, y_pred_prob)"
   ]
  },
  {
   "cell_type": "code",
   "execution_count": 128,
   "metadata": {
    "collapsed": false
   },
   "outputs": [
    {
     "data": {
      "image/png": "[encoded data removed]",
      "text/plain": [
       "<matplotlib.figure.Figure at 0x11d855b90>"
      ]
     },
     "metadata": {},
     "output_type": "display_data"
    }
   ],
   "source": [
    "# make a plot of feature importance\n",
    "\n",
    "#Plot feature importance in rf\n",
    "feature_names = X.columns # the number here indicate to the vectorized PCA number\n",
    "plot_feature_importance(model.feature_importances_, feature_names)"
   ]
  },
  {
   "cell_type": "markdown",
   "metadata": {},
   "source": [
    "# logistic regression"
   ]
  },
  {
   "cell_type": "code",
   "execution_count": 129,
   "metadata": {
    "collapsed": false
   },
   "outputs": [
    {
     "name": "stdout",
     "output_type": "stream",
     "text": [
      "test dataset accuracy score: 0.548\n"
     ]
    }
   ],
   "source": [
    "scaler = StandardScaler(with_mean=True, with_std=True)\n",
    "\n",
    "X_train_standardized = scaler.fit_transform(X_train)\n",
    "\n",
    "# step 2: train on logreg with best parameters\n",
    "logreg = LogisticRegression(C = 5, random_state= 1234)\n",
    "model = logreg.fit(X_train, y_train)\n",
    "\n",
    "# see the real accuracy on test dataset: 0.54 --logistic regression-Daisy_PCA_2\n",
    "\n",
    "from sklearn.metrics import accuracy_score\n",
    "\n",
    "y_pred = model.predict(X_test)\n",
    "\n",
    "score = accuracy_score(y_test, y_pred)\n",
    "\n",
    "print(\"test dataset accuracy score: %.3f\" %score)\n"
   ]
  },
  {
   "cell_type": "code",
   "execution_count": 130,
   "metadata": {
    "collapsed": false
   },
   "outputs": [
    {
     "data": {
      "image/png": "[encoded data removed]",
      "text/plain": [
       "<matplotlib.figure.Figure at 0x11e428f90>"
      ]
     },
     "metadata": {},
     "output_type": "display_data"
    }
   ],
   "source": [
    "y_pred_prob = model.predict_proba(X_test)\n",
    "plot_roc_curve(y_test, y_pred_prob)"
   ]
  },
  {
   "cell_type": "code",
   "execution_count": 131,
   "metadata": {
    "collapsed": false
   },
   "outputs": [
    {
     "name": "stdout",
     "output_type": "stream",
     "text": [
      "             precision    recall  f1-score   support\n",
      "\n",
      "  unpopular       0.57      0.51      0.54      1027\n",
      "    popular       0.53      0.59      0.56       968\n",
      "\n",
      "avg / total       0.55      0.55      0.55      1995\n",
      "\n"
     ]
    }
   ],
   "source": [
    "from sklearn.metrics import classification_report\n",
    "y_pred = model.predict(X_test)\n",
    "target_names = ['unpopular', 'popular']\n",
    "print(classification_report(y_test, y_pred, target_names=target_names))"
   ]
  },
  {
   "cell_type": "code",
   "execution_count": 136,
   "metadata": {
    "collapsed": false
   },
   "outputs": [
    {
     "data": {
      "text/plain": [
       "(79,)"
      ]
     },
     "execution_count": 136,
     "metadata": {},
     "output_type": "execute_result"
    }
   ],
   "source": [
    "X.columns.shape"
   ]
  },
  {
   "cell_type": "code",
   "execution_count": 133,
   "metadata": {
    "collapsed": false,
    "scrolled": true
   },
   "outputs": [
    {
     "data": {
      "text/plain": [
       "array([[-0.30688868, -0.70503308, -0.5002983 , -0.38870709, -0.71653733,\n",
       "         1.41749676, -1.33012758, -1.59845363, -0.29855152, -0.54863182,\n",
       "         0.28437491,  2.38274412,  0.12074026, -0.97635139,  0.13776711,\n",
       "         0.95007474,  1.75267161, -1.16377134, -0.10481892,  0.95809062,\n",
       "        -0.4275962 , -0.04811872, -1.80253266,  0.31447434,  2.55001033,\n",
       "        -1.02440306, -1.20331171,  0.60258342,  0.13462899, -1.17096397,\n",
       "         0.3904507 ,  1.38662613,  0.44277549, -2.60596762,  0.73568985,\n",
       "        -1.4634847 , -0.79973295,  0.51776956,  0.19315275, -2.22011056,\n",
       "        -1.10539538, -0.44056603, -0.13029564,  1.32613128,  0.26880693,\n",
       "         1.05213636, -0.39427288, -0.00901893, -0.46956658,  1.26085623,\n",
       "        -0.00574248, -0.0669964 , -0.05444538, -1.04030583, -0.59505732,\n",
       "        -0.9571826 , -0.37134428,  0.75609411,  0.18965574,  0.23660667,\n",
       "        -0.51275166, -1.08100084,  0.01535794,  0.89730916, -0.41077033,\n",
       "         0.01437539,  2.15133458,  0.29552954, -0.13519148, -1.07510827,\n",
       "         1.68411502,  0.33498223, -0.98892824,  0.34254647,  1.20181183,\n",
       "         0.39230736, -0.30705055, -0.75467603, -0.49807087]])"
      ]
     },
     "execution_count": 133,
     "metadata": {},
     "output_type": "execute_result"
    }
   ],
   "source": [
    "model.coef_ #shape: 1,79"
   ]
  },
  {
   "cell_type": "code",
   "execution_count": 149,
   "metadata": {
    "collapsed": false
   },
   "outputs": [
    {
     "data": {
      "text/plain": [
       "(79,)"
      ]
     },
     "execution_count": 149,
     "metadata": {},
     "output_type": "execute_result"
    }
   ],
   "source": [
    "abs(model.coef_)[0].shape # give them an absolute value"
   ]
  },
  {
   "cell_type": "code",
   "execution_count": 150,
   "metadata": {
    "collapsed": false
   },
   "outputs": [
    {
     "data": {
      "text/plain": [
       "(79, 2)"
      ]
     },
     "execution_count": 150,
     "metadata": {},
     "output_type": "execute_result"
    }
   ],
   "source": [
    "feature_importances = abs(model.coef_)[0]\n",
    "feature_names = X.columns\n",
    "sorted_feature = pd.DataFrame(sorted(zip(feature_importances, feature_names), \n",
    "                                         key = lambda x:x[0], reverse = True)\n",
    "                                 )\n",
    "sorted_feature.shape"
   ]
  },
  {
   "cell_type": "code",
   "execution_count": 158,
   "metadata": {
    "collapsed": false
   },
   "outputs": [
    {
     "data": {
      "text/plain": [
       "0        daisy_PCA_33\n",
       "1        daisy_PCA_24\n",
       "2        daisy_PCA_11\n",
       "3        daisy_PCA_39\n",
       "4     color_mean_blue\n",
       "5        daisy_PCA_22\n",
       "6        daisy_PCA_16\n",
       "7             HSV_hue\n",
       "8         daisy_PCA_7\n",
       "9        daisy_PCA_35\n",
       "10        daisy_PCA_5\n",
       "11       daisy_PCA_31\n",
       "12        daisy_PCA_6\n",
       "13       daisy_PCA_43\n",
       "14       daisy_PCA_49\n",
       "15       daisy_PCA_26\n",
       "16           contrast\n",
       "17       daisy_PCA_29\n",
       "18       daisy_PCA_17\n",
       "19       daisy_PCA_40\n",
       "Name: 1, dtype: object"
      ]
     },
     "execution_count": 158,
     "metadata": {},
     "output_type": "execute_result"
    }
   ],
   "source": [
    "sorted_feature[1][:20]"
   ]
  },
  {
   "cell_type": "code",
   "execution_count": 155,
   "metadata": {
    "collapsed": false
   },
   "outputs": [
    {
     "data": {
      "text/plain": [
       "0     2.605968\n",
       "1     2.550010\n",
       "2     2.382744\n",
       "3     2.220111\n",
       "4     2.151335\n",
       "5     1.802533\n",
       "6     1.752672\n",
       "7     1.684115\n",
       "8     1.598454\n",
       "9     1.463485\n",
       "10    1.417497\n",
       "11    1.386626\n",
       "12    1.330128\n",
       "13    1.326131\n",
       "14    1.260856\n",
       "Name: 0, dtype: float64"
      ]
     },
     "execution_count": 155,
     "metadata": {},
     "output_type": "execute_result"
    }
   ],
   "source": [
    "sorted_feature[0][:15]"
   ]
  },
  {
   "cell_type": "code",
   "execution_count": null,
   "metadata": {
    "collapsed": true
   },
   "outputs": [],
   "source": []
  },
  {
   "cell_type": "code",
   "execution_count": 156,
   "metadata": {
    "collapsed": true
   },
   "outputs": [],
   "source": [
    "# function to plot feature_importance.\n",
    "def plot_feature_importance_logreg(feature_importances,feature_names):\n",
    "    feature_importances = abs(feature_importances)[0]\n",
    "    sorted_feature = pd.DataFrame(sorted(zip(feature_importances, feature_names), \n",
    "                                         key = lambda x:x[0], reverse = True)\n",
    "                                 )\n",
    "    \n",
    "    y_pos = np.arange(sorted_feature.shape[0])\n",
    "    # plot top 10 features \n",
    "    plt.barh(y_pos[:10], sorted_feature[0][:10], align='center', alpha=0.4)\n",
    "    plt.yticks(y_pos[:10], sorted_feature[1][:10])\n",
    "    plt.xlabel('Feature Importance')\n",
    "\n",
    "    plt.show()"
   ]
  },
  {
   "cell_type": "code",
   "execution_count": 157,
   "metadata": {
    "collapsed": false
   },
   "outputs": [
    {
     "data": {
      "image/png": "[encoded data removed]",
      "text/plain": [
       "<matplotlib.figure.Figure at 0x11e892a90>"
      ]
     },
     "metadata": {},
     "output_type": "display_data"
    }
   ],
   "source": [
    "feature_names = X.columns # plot logistic regression importance\n",
    "plot_feature_importance_logreg(model.coef_, feature_names)"
   ]
  },
  {
   "cell_type": "code",
   "execution_count": null,
   "metadata": {
    "collapsed": true
   },
   "outputs": [],
   "source": []
  },
  {
   "cell_type": "code",
   "execution_count": null,
   "metadata": {
    "collapsed": true
   },
   "outputs": [],
   "source": []
  },
  {
   "cell_type": "markdown",
   "metadata": {},
   "source": [
    "# Training: use all features without daisy(logistic regression)"
   ]
  },
  {
   "cell_type": "code",
   "execution_count": 159,
   "metadata": {
    "collapsed": false
   },
   "outputs": [
    {
     "name": "stdout",
     "output_type": "stream",
     "text": [
      "<class 'pandas.core.frame.DataFrame'> (9971, 29)\n",
      "<class 'pandas.core.series.Series'> (9971,)\n"
     ]
    }
   ],
   "source": [
    "X = pd.concat([color_hist, color_mean,\n",
    "               brightness, HSV, RMScontrast, \n",
    "               contrast, hue_hist],axis = 1)\n",
    "\n",
    "y = target\n",
    "\n",
    "print type(X), X.shape\n",
    "print type(y), y.shape"
   ]
  },
  {
   "cell_type": "code",
   "execution_count": 160,
   "metadata": {
    "collapsed": false
   },
   "outputs": [
    {
     "name": "stdout",
     "output_type": "stream",
     "text": [
      "training size: 7976\n",
      "test size: 1995\n",
      "number of features: 29\n"
     ]
    }
   ],
   "source": [
    "from sklearn.cross_validation import train_test_split\n",
    "X_train, X_test, y_train, y_test = train_test_split(X, y, test_size=0.2, random_state=0)\n",
    "\n",
    "print (\"training size: %d\" % X_train.shape[0])\n",
    "print (\"test size: %d\" % X_test.shape[0])\n",
    "print ('number of features: %d' % X_train.shape[1])"
   ]
  },
  {
   "cell_type": "code",
   "execution_count": 161,
   "metadata": {
    "collapsed": false
   },
   "outputs": [
    {
     "name": "stdout",
     "output_type": "stream",
     "text": [
      "test dataset accuracy score: 0.530\n"
     ]
    }
   ],
   "source": [
    "scaler = StandardScaler(with_mean=True, with_std=True)\n",
    "\n",
    "X_train_standardized = scaler.fit_transform(X_train)\n",
    "\n",
    "# step 2: train on logreg with best parameters\n",
    "logreg = LogisticRegression(C = 5, random_state= 1234)\n",
    "model = logreg.fit(X_train, y_train)\n",
    "\n",
    "# see the real accuracy on test dataset: 0.54 --logistic regression-Daisy_PCA_2\n",
    "\n",
    "from sklearn.metrics import accuracy_score\n",
    "\n",
    "y_pred = model.predict(X_test)\n",
    "\n",
    "score = accuracy_score(y_test, y_pred)\n",
    "\n",
    "print(\"test dataset accuracy score: %.3f\" %score)\n"
   ]
  },
  {
   "cell_type": "code",
   "execution_count": 162,
   "metadata": {
    "collapsed": false
   },
   "outputs": [
    {
     "data": {
      "image/png": "[encoded data removed]",
      "text/plain": [
       "<matplotlib.figure.Figure at 0x11e1b2650>"
      ]
     },
     "metadata": {},
     "output_type": "display_data"
    }
   ],
   "source": [
    "y_pred_prob = model.predict_proba(X_test)\n",
    "plot_roc_curve(y_test, y_pred_prob)"
   ]
  },
  {
   "cell_type": "code",
   "execution_count": 163,
   "metadata": {
    "collapsed": false
   },
   "outputs": [
    {
     "name": "stdout",
     "output_type": "stream",
     "text": [
      "             precision    recall  f1-score   support\n",
      "\n",
      "  unpopular       0.54      0.53      0.54      1027\n",
      "    popular       0.52      0.53      0.52       968\n",
      "\n",
      "avg / total       0.53      0.53      0.53      1995\n",
      "\n"
     ]
    }
   ],
   "source": [
    "from sklearn.metrics import classification_report\n",
    "y_pred = model.predict(X_test)\n",
    "target_names = ['unpopular', 'popular']\n",
    "print(classification_report(y_test, y_pred, target_names=target_names))"
   ]
  },
  {
   "cell_type": "code",
   "execution_count": 164,
   "metadata": {
    "collapsed": false
   },
   "outputs": [
    {
     "data": {
      "image/png": "[encoded data removed]",
      "text/plain": [
       "<matplotlib.figure.Figure at 0x11dda3d90>"
      ]
     },
     "metadata": {},
     "output_type": "display_data"
    }
   ],
   "source": [
    "feature_names = X.columns # plot logistic regression importance\n",
    "plot_feature_importance_logreg(model.coef_, feature_names)"
   ]
  },
  {
   "cell_type": "code",
   "execution_count": null,
   "metadata": {
    "collapsed": true
   },
   "outputs": [],
   "source": []
  },
  {
   "cell_type": "markdown",
   "metadata": {},
   "source": [
    "# Try a new PCA on Daisy_feature(old one 936s to get 10 components)"
   ]
  },
  {
   "cell_type": "code",
   "execution_count": 166,
   "metadata": {
    "collapsed": true
   },
   "outputs": [],
   "source": [
    "imageVectorized_10000 = np.load('imageVectorized_10000.npy')\n",
    "\n",
    "# imageVectorized_10000.shape: (9971, 936)\n"
   ]
  },
  {
   "cell_type": "code",
   "execution_count": 167,
   "metadata": {
    "collapsed": true
   },
   "outputs": [],
   "source": [
    "# PCA to 10 components\n",
    "\n",
    "pca = PCA(n_components=10) \n",
    "pca.fit(imageVectorized_10000)\n",
    "imagePCAed_10 =pca.transform(imageVectorized_10000)"
   ]
  },
  {
   "cell_type": "code",
   "execution_count": 168,
   "metadata": {
    "collapsed": false
   },
   "outputs": [
    {
     "data": {
      "text/plain": [
       "(9971, 10)"
      ]
     },
     "execution_count": 168,
     "metadata": {},
     "output_type": "execute_result"
    }
   ],
   "source": [
    "daisy_PCA_10 = pd.DataFrame(imagePCAed_10)\n",
    "daisy_PCA_10.shape"
   ]
  },
  {
   "cell_type": "code",
   "execution_count": 169,
   "metadata": {
    "collapsed": true
   },
   "outputs": [],
   "source": [
    "daisy_PCA_10.columns = ['daisy_PCA10_' + str(i) for i in np.arange(daisy_PCA_10.shape[1])]"
   ]
  },
  {
   "cell_type": "code",
   "execution_count": 170,
   "metadata": {
    "collapsed": false
   },
   "outputs": [
    {
     "name": "stdout",
     "output_type": "stream",
     "text": [
      "<class 'pandas.core.frame.DataFrame'> (9971, 10)\n",
      "<class 'pandas.core.series.Series'> (9971,)\n",
      "training size: 7976\n",
      "test size: 1995\n",
      "number of features: 10\n"
     ]
    }
   ],
   "source": [
    "X = daisy_PCA_10 # 50 components\n",
    "y = target\n",
    "\n",
    "print type(X), X.shape\n",
    "print type(y), y.shape\n",
    "\n",
    "from sklearn.cross_validation import train_test_split\n",
    "X_train, X_test, y_train, y_test = train_test_split(X, y, test_size=0.2, random_state=0)\n",
    "\n",
    "print (\"training size: %d\" % X_train.shape[0])\n",
    "print (\"test size: %d\" % X_test.shape[0])\n",
    "print ('number of features: %d' % X_train.shape[1])"
   ]
  },
  {
   "cell_type": "code",
   "execution_count": 171,
   "metadata": {
    "collapsed": false
   },
   "outputs": [
    {
     "name": "stdout",
     "output_type": "stream",
     "text": [
      "test dataset accuracy score: 0.532\n"
     ]
    }
   ],
   "source": [
    "scaler = StandardScaler(with_mean=True, with_std=True)\n",
    "\n",
    "X_train_standardized = scaler.fit_transform(X_train)\n",
    "\n",
    "# step 2: train on logreg with best parameters\n",
    "logreg = LogisticRegression(C = 5, random_state= 1234)\n",
    "model = logreg.fit(X_train, y_train)\n",
    "\n",
    "# see the real accuracy on test dataset: 0.54 --logistic regression-Daisy_PCA_2\n",
    "\n",
    "from sklearn.metrics import accuracy_score\n",
    "\n",
    "y_pred = model.predict(X_test)\n",
    "\n",
    "score = accuracy_score(y_test, y_pred)\n",
    "\n",
    "print(\"test dataset accuracy score: %.3f\" %score)\n"
   ]
  },
  {
   "cell_type": "code",
   "execution_count": 172,
   "metadata": {
    "collapsed": false
   },
   "outputs": [
    {
     "data": {
      "image/png": "[encoded data removed]",
      "text/plain": [
       "<matplotlib.figure.Figure at 0x11df7e250>"
      ]
     },
     "metadata": {},
     "output_type": "display_data"
    }
   ],
   "source": [
    "y_pred_prob = model.predict_proba(X_test)\n",
    "plot_roc_curve(y_test, y_pred_prob)"
   ]
  },
  {
   "cell_type": "code",
   "execution_count": 173,
   "metadata": {
    "collapsed": false
   },
   "outputs": [
    {
     "data": {
      "image/png": "[encoded data removed]",
      "text/plain": [
       "<matplotlib.figure.Figure at 0x11e9bff50>"
      ]
     },
     "metadata": {},
     "output_type": "display_data"
    }
   ],
   "source": [
    "feature_names = X.columns # plot logistic regression importance\n",
    "plot_feature_importance_logreg(model.coef_, feature_names)"
   ]
  },
  {
   "cell_type": "code",
   "execution_count": null,
   "metadata": {
    "collapsed": true
   },
   "outputs": [],
   "source": []
  },
  {
   "cell_type": "markdown",
   "metadata": {},
   "source": [
    "# Combine all features together for logistic regression (new_daisy(different components from 936 features)) --components (10, 8, 5)"
   ]
  },
  {
   "cell_type": "code",
   "execution_count": 189,
   "metadata": {
    "collapsed": true
   },
   "outputs": [],
   "source": [
    "pca = PCA(n_components=5) \n",
    "pca.fit(imageVectorized_10000)\n",
    "imagePCAed_5 =pca.transform(imageVectorized_10000)"
   ]
  },
  {
   "cell_type": "code",
   "execution_count": 190,
   "metadata": {
    "collapsed": true
   },
   "outputs": [],
   "source": [
    "daisy_PCA_5 = pd.DataFrame(imagePCAed_5)\n",
    "daisy_PCA_5.shape\n",
    "daisy_PCA_5.columns = ['daisy_PCA5_' + str(i) for i in np.arange(daisy_PCA_5.shape[1])]"
   ]
  },
  {
   "cell_type": "code",
   "execution_count": 224,
   "metadata": {
    "collapsed": false
   },
   "outputs": [
    {
     "name": "stdout",
     "output_type": "stream",
     "text": [
      "<class 'pandas.core.frame.DataFrame'> (9971, 34)\n",
      "<class 'pandas.core.series.Series'> (9971,)\n"
     ]
    }
   ],
   "source": [
    "X = pd.concat([color_hist, color_mean,\n",
    "               brightness, HSV, RMScontrast, \n",
    "               contrast, hue_hist,daisy_PCA_5 ],axis = 1)\n",
    "\n",
    "y = target\n",
    "\n",
    "print type(X), X.shape\n",
    "print type(y), y.shape"
   ]
  },
  {
   "cell_type": "code",
   "execution_count": 225,
   "metadata": {
    "collapsed": false
   },
   "outputs": [
    {
     "name": "stdout",
     "output_type": "stream",
     "text": [
      "training size: 7976\n",
      "test size: 1995\n",
      "number of features: 34\n"
     ]
    }
   ],
   "source": [
    "from sklearn.cross_validation import train_test_split\n",
    "X_train, X_test, y_train, y_test = train_test_split(X, y, test_size=0.2, random_state=0)\n",
    "\n",
    "print (\"training size: %d\" % X_train.shape[0])\n",
    "print (\"test size: %d\" % X_test.shape[0])\n",
    "print ('number of features: %d' % X_train.shape[1])"
   ]
  },
  {
   "cell_type": "code",
   "execution_count": 226,
   "metadata": {
    "collapsed": false
   },
   "outputs": [
    {
     "name": "stdout",
     "output_type": "stream",
     "text": [
      "test dataset accuracy score: 0.553\n"
     ]
    }
   ],
   "source": [
    "scaler = StandardScaler(with_mean=True, with_std=True)\n",
    "\n",
    "X_train_standardized = scaler.fit_transform(X_train)\n",
    "\n",
    "# step 2: train on logreg with best parameters\n",
    "logreg = LogisticRegression(C = 10, random_state= 1234)\n",
    "model = logreg.fit(X_train, y_train)\n",
    "\n",
    "# see the real accuracy on test dataset: 0.54 --logistic regression-Daisy_PCA_2\n",
    "\n",
    "from sklearn.metrics import accuracy_score\n",
    "\n",
    "y_pred = model.predict(X_test)\n",
    "\n",
    "score = accuracy_score(y_test, y_pred)\n",
    "\n",
    "print(\"test dataset accuracy score: %.3f\" %score)\n"
   ]
  },
  {
   "cell_type": "code",
   "execution_count": 227,
   "metadata": {
    "collapsed": false
   },
   "outputs": [
    {
     "data": {
      "image/png": "[encoded data removed]",
      "text/plain": [
       "<matplotlib.figure.Figure at 0x11f192590>"
      ]
     },
     "metadata": {},
     "output_type": "display_data"
    }
   ],
   "source": [
    "y_pred_prob = model.predict_proba(X_test)\n",
    "plot_roc_curve(y_test, y_pred_prob)"
   ]
  },
  {
   "cell_type": "code",
   "execution_count": 228,
   "metadata": {
    "collapsed": false
   },
   "outputs": [
    {
     "data": {
      "image/png": "[encoded data removed]",
      "text/plain": [
       "<matplotlib.figure.Figure at 0x11f1da190>"
      ]
     },
     "metadata": {},
     "output_type": "display_data"
    }
   ],
   "source": [
    "feature_names = X.columns # plot logistic regression importance\n",
    "plot_feature_importance_logreg(model.coef_, feature_names)"
   ]
  },
  {
   "cell_type": "code",
   "execution_count": 229,
   "metadata": {
    "collapsed": false
   },
   "outputs": [
    {
     "data": {
      "text/html": [
       "<div>\n",
       "<table border=\"1\" class=\"dataframe\">\n",
       "  <thead>\n",
       "    <tr style=\"text-align: right;\">\n",
       "      <th></th>\n",
       "      <th>color_mean_red</th>\n",
       "      <th>color_median_red</th>\n",
       "      <th>color_mean_green</th>\n",
       "      <th>color_median_green</th>\n",
       "      <th>color_mean_blue</th>\n",
       "      <th>color_median_blue</th>\n",
       "      <th>brightness_mean</th>\n",
       "      <th>brightness_median</th>\n",
       "      <th>HSV_hue</th>\n",
       "      <th>HSV_saturation</th>\n",
       "      <th>HSV_value</th>\n",
       "      <th>contrast</th>\n",
       "      <th>label</th>\n",
       "    </tr>\n",
       "  </thead>\n",
       "  <tbody>\n",
       "    <tr>\n",
       "      <th>0</th>\n",
       "      <td>0.734114</td>\n",
       "      <td>0.772549</td>\n",
       "      <td>0.723753</td>\n",
       "      <td>0.768627</td>\n",
       "      <td>0.711134</td>\n",
       "      <td>0.768627</td>\n",
       "      <td>0.725045</td>\n",
       "      <td>0.767913</td>\n",
       "      <td>0.326814</td>\n",
       "      <td>0.098899</td>\n",
       "      <td>0.754419</td>\n",
       "      <td>1.0</td>\n",
       "      <td>1</td>\n",
       "    </tr>\n",
       "    <tr>\n",
       "      <th>1</th>\n",
       "      <td>0.315651</td>\n",
       "      <td>0.286275</td>\n",
       "      <td>0.293695</td>\n",
       "      <td>0.274510</td>\n",
       "      <td>0.298740</td>\n",
       "      <td>0.294118</td>\n",
       "      <td>0.298727</td>\n",
       "      <td>0.279292</td>\n",
       "      <td>0.466457</td>\n",
       "      <td>0.190440</td>\n",
       "      <td>0.334175</td>\n",
       "      <td>1.0</td>\n",
       "      <td>1</td>\n",
       "    </tr>\n",
       "    <tr>\n",
       "      <th>2</th>\n",
       "      <td>0.449377</td>\n",
       "      <td>0.486275</td>\n",
       "      <td>0.392159</td>\n",
       "      <td>0.321569</td>\n",
       "      <td>0.357678</td>\n",
       "      <td>0.258824</td>\n",
       "      <td>0.401834</td>\n",
       "      <td>0.352980</td>\n",
       "      <td>0.307869</td>\n",
       "      <td>0.332056</td>\n",
       "      <td>0.467410</td>\n",
       "      <td>1.0</td>\n",
       "      <td>1</td>\n",
       "    </tr>\n",
       "  </tbody>\n",
       "</table>\n",
       "</div>"
      ],
      "text/plain": [
       "   color_mean_red  color_median_red  color_mean_green  color_median_green  \\\n",
       "0        0.734114          0.772549          0.723753            0.768627   \n",
       "1        0.315651          0.286275          0.293695            0.274510   \n",
       "2        0.449377          0.486275          0.392159            0.321569   \n",
       "\n",
       "   color_mean_blue  color_median_blue  brightness_mean  brightness_median  \\\n",
       "0         0.711134           0.768627         0.725045           0.767913   \n",
       "1         0.298740           0.294118         0.298727           0.279292   \n",
       "2         0.357678           0.258824         0.401834           0.352980   \n",
       "\n",
       "    HSV_hue  HSV_saturation  HSV_value  contrast  label  \n",
       "0  0.326814        0.098899   0.754419       1.0      1  \n",
       "1  0.466457        0.190440   0.334175       1.0      1  \n",
       "2  0.307869        0.332056   0.467410       1.0      1  "
      ]
     },
     "execution_count": 229,
     "metadata": {},
     "output_type": "execute_result"
    }
   ],
   "source": [
    "# dive deep for insights on HSV_hue\n",
    "insight1 = pd.concat([color_mean,\n",
    "               brightness, HSV,contrast, target], axis = 1)\n",
    "\n",
    "insight1.head(3)"
   ]
  },
  {
   "cell_type": "code",
   "execution_count": 230,
   "metadata": {
    "collapsed": false
   },
   "outputs": [
    {
     "data": {
      "text/html": [
       "<div>\n",
       "<table border=\"1\" class=\"dataframe\">\n",
       "  <thead>\n",
       "    <tr style=\"text-align: right;\">\n",
       "      <th></th>\n",
       "      <th>color_mean_red</th>\n",
       "      <th>color_median_red</th>\n",
       "      <th>color_mean_green</th>\n",
       "      <th>color_median_green</th>\n",
       "      <th>color_mean_blue</th>\n",
       "      <th>color_median_blue</th>\n",
       "      <th>brightness_mean</th>\n",
       "      <th>brightness_median</th>\n",
       "      <th>HSV_hue</th>\n",
       "      <th>HSV_saturation</th>\n",
       "      <th>HSV_value</th>\n",
       "      <th>contrast</th>\n",
       "    </tr>\n",
       "    <tr>\n",
       "      <th>label</th>\n",
       "      <th></th>\n",
       "      <th></th>\n",
       "      <th></th>\n",
       "      <th></th>\n",
       "      <th></th>\n",
       "      <th></th>\n",
       "      <th></th>\n",
       "      <th></th>\n",
       "      <th></th>\n",
       "      <th></th>\n",
       "      <th></th>\n",
       "      <th></th>\n",
       "    </tr>\n",
       "  </thead>\n",
       "  <tbody>\n",
       "    <tr>\n",
       "      <th>0</th>\n",
       "      <td>0.678373</td>\n",
       "      <td>0.739401</td>\n",
       "      <td>0.614180</td>\n",
       "      <td>0.672535</td>\n",
       "      <td>0.585579</td>\n",
       "      <td>0.633756</td>\n",
       "      <td>0.625762</td>\n",
       "      <td>0.682390</td>\n",
       "      <td>0.267260</td>\n",
       "      <td>0.228546</td>\n",
       "      <td>0.694461</td>\n",
       "      <td>0.991428</td>\n",
       "    </tr>\n",
       "    <tr>\n",
       "      <th>1</th>\n",
       "      <td>0.658465</td>\n",
       "      <td>0.715193</td>\n",
       "      <td>0.594478</td>\n",
       "      <td>0.646625</td>\n",
       "      <td>0.569065</td>\n",
       "      <td>0.611053</td>\n",
       "      <td>0.606246</td>\n",
       "      <td>0.656882</td>\n",
       "      <td>0.286308</td>\n",
       "      <td>0.236594</td>\n",
       "      <td>0.675187</td>\n",
       "      <td>0.992902</td>\n",
       "    </tr>\n",
       "  </tbody>\n",
       "</table>\n",
       "</div>"
      ],
      "text/plain": [
       "       color_mean_red  color_median_red  color_mean_green  color_median_green  \\\n",
       "label                                                                           \n",
       "0            0.678373          0.739401          0.614180            0.672535   \n",
       "1            0.658465          0.715193          0.594478            0.646625   \n",
       "\n",
       "       color_mean_blue  color_median_blue  brightness_mean  brightness_median  \\\n",
       "label                                                                           \n",
       "0             0.585579           0.633756         0.625762           0.682390   \n",
       "1             0.569065           0.611053         0.606246           0.656882   \n",
       "\n",
       "        HSV_hue  HSV_saturation  HSV_value  contrast  \n",
       "label                                                 \n",
       "0      0.267260        0.228546   0.694461  0.991428  \n",
       "1      0.286308        0.236594   0.675187  0.992902  "
      ]
     },
     "execution_count": 230,
     "metadata": {},
     "output_type": "execute_result"
    }
   ],
   "source": [
    "insight1.groupby('label').mean()"
   ]
  },
  {
   "cell_type": "code",
   "execution_count": 232,
   "metadata": {
    "collapsed": false
   },
   "outputs": [
    {
     "data": {
      "text/html": [
       "<div>\n",
       "<table border=\"1\" class=\"dataframe\">\n",
       "  <thead>\n",
       "    <tr style=\"text-align: right;\">\n",
       "      <th></th>\n",
       "      <th>color_mean_red</th>\n",
       "      <th>color_median_red</th>\n",
       "      <th>color_mean_green</th>\n",
       "      <th>color_median_green</th>\n",
       "      <th>color_mean_blue</th>\n",
       "      <th>color_median_blue</th>\n",
       "      <th>brightness_mean</th>\n",
       "      <th>brightness_median</th>\n",
       "      <th>HSV_hue</th>\n",
       "      <th>HSV_saturation</th>\n",
       "      <th>HSV_value</th>\n",
       "      <th>contrast</th>\n",
       "    </tr>\n",
       "    <tr>\n",
       "      <th>label</th>\n",
       "      <th></th>\n",
       "      <th></th>\n",
       "      <th></th>\n",
       "      <th></th>\n",
       "      <th></th>\n",
       "      <th></th>\n",
       "      <th></th>\n",
       "      <th></th>\n",
       "      <th></th>\n",
       "      <th></th>\n",
       "      <th></th>\n",
       "      <th></th>\n",
       "    </tr>\n",
       "  </thead>\n",
       "  <tbody>\n",
       "    <tr>\n",
       "      <th>0</th>\n",
       "      <td>0.696355</td>\n",
       "      <td>0.788235</td>\n",
       "      <td>0.628998</td>\n",
       "      <td>0.709804</td>\n",
       "      <td>0.592446</td>\n",
       "      <td>0.650980</td>\n",
       "      <td>0.640735</td>\n",
       "      <td>0.718718</td>\n",
       "      <td>0.233820</td>\n",
       "      <td>0.209901</td>\n",
       "      <td>0.711015</td>\n",
       "      <td>1.0</td>\n",
       "    </tr>\n",
       "    <tr>\n",
       "      <th>1</th>\n",
       "      <td>0.671017</td>\n",
       "      <td>0.760784</td>\n",
       "      <td>0.600689</td>\n",
       "      <td>0.678431</td>\n",
       "      <td>0.569745</td>\n",
       "      <td>0.623529</td>\n",
       "      <td>0.612130</td>\n",
       "      <td>0.692410</td>\n",
       "      <td>0.253611</td>\n",
       "      <td>0.218112</td>\n",
       "      <td>0.686005</td>\n",
       "      <td>1.0</td>\n",
       "    </tr>\n",
       "  </tbody>\n",
       "</table>\n",
       "</div>"
      ],
      "text/plain": [
       "       color_mean_red  color_median_red  color_mean_green  color_median_green  \\\n",
       "label                                                                           \n",
       "0            0.696355          0.788235          0.628998            0.709804   \n",
       "1            0.671017          0.760784          0.600689            0.678431   \n",
       "\n",
       "       color_mean_blue  color_median_blue  brightness_mean  brightness_median  \\\n",
       "label                                                                           \n",
       "0             0.592446           0.650980         0.640735           0.718718   \n",
       "1             0.569745           0.623529         0.612130           0.692410   \n",
       "\n",
       "        HSV_hue  HSV_saturation  HSV_value  contrast  \n",
       "label                                                 \n",
       "0      0.233820        0.209901   0.711015       1.0  \n",
       "1      0.253611        0.218112   0.686005       1.0  "
      ]
     },
     "execution_count": 232,
     "metadata": {},
     "output_type": "execute_result"
    }
   ],
   "source": [
    "insight1.groupby('label').median()"
   ]
  },
  {
   "cell_type": "code",
   "execution_count": 231,
   "metadata": {
    "collapsed": false
   },
   "outputs": [
    {
     "data": {
      "text/html": [
       "<div>\n",
       "<table border=\"1\" class=\"dataframe\">\n",
       "  <thead>\n",
       "    <tr style=\"text-align: right;\">\n",
       "      <th></th>\n",
       "      <th>color_mean_red</th>\n",
       "      <th>color_median_red</th>\n",
       "      <th>color_mean_green</th>\n",
       "      <th>color_median_green</th>\n",
       "      <th>color_mean_blue</th>\n",
       "      <th>color_median_blue</th>\n",
       "      <th>brightness_mean</th>\n",
       "      <th>brightness_median</th>\n",
       "      <th>HSV_hue</th>\n",
       "      <th>HSV_saturation</th>\n",
       "      <th>HSV_value</th>\n",
       "      <th>contrast</th>\n",
       "    </tr>\n",
       "    <tr>\n",
       "      <th>label</th>\n",
       "      <th></th>\n",
       "      <th></th>\n",
       "      <th></th>\n",
       "      <th></th>\n",
       "      <th></th>\n",
       "      <th></th>\n",
       "      <th></th>\n",
       "      <th></th>\n",
       "      <th></th>\n",
       "      <th></th>\n",
       "      <th></th>\n",
       "      <th></th>\n",
       "    </tr>\n",
       "  </thead>\n",
       "  <tbody>\n",
       "    <tr>\n",
       "      <th>0</th>\n",
       "      <td>0.151098</td>\n",
       "      <td>0.201176</td>\n",
       "      <td>0.153257</td>\n",
       "      <td>0.217194</td>\n",
       "      <td>0.157792</td>\n",
       "      <td>0.223709</td>\n",
       "      <td>0.150673</td>\n",
       "      <td>0.211567</td>\n",
       "      <td>0.154627</td>\n",
       "      <td>0.123945</td>\n",
       "      <td>0.146367</td>\n",
       "      <td>0.030165</td>\n",
       "    </tr>\n",
       "    <tr>\n",
       "      <th>1</th>\n",
       "      <td>0.153805</td>\n",
       "      <td>0.208169</td>\n",
       "      <td>0.157854</td>\n",
       "      <td>0.224695</td>\n",
       "      <td>0.158845</td>\n",
       "      <td>0.225797</td>\n",
       "      <td>0.154624</td>\n",
       "      <td>0.218008</td>\n",
       "      <td>0.162096</td>\n",
       "      <td>0.124259</td>\n",
       "      <td>0.150956</td>\n",
       "      <td>0.025435</td>\n",
       "    </tr>\n",
       "  </tbody>\n",
       "</table>\n",
       "</div>"
      ],
      "text/plain": [
       "       color_mean_red  color_median_red  color_mean_green  color_median_green  \\\n",
       "label                                                                           \n",
       "0            0.151098          0.201176          0.153257            0.217194   \n",
       "1            0.153805          0.208169          0.157854            0.224695   \n",
       "\n",
       "       color_mean_blue  color_median_blue  brightness_mean  brightness_median  \\\n",
       "label                                                                           \n",
       "0             0.157792           0.223709         0.150673           0.211567   \n",
       "1             0.158845           0.225797         0.154624           0.218008   \n",
       "\n",
       "        HSV_hue  HSV_saturation  HSV_value  contrast  \n",
       "label                                                 \n",
       "0      0.154627        0.123945   0.146367  0.030165  \n",
       "1      0.162096        0.124259   0.150956  0.025435  "
      ]
     },
     "execution_count": 231,
     "metadata": {},
     "output_type": "execute_result"
    }
   ],
   "source": [
    "insight1.groupby('label').std()"
   ]
  },
  {
   "cell_type": "code",
   "execution_count": 197,
   "metadata": {
    "collapsed": false
   },
   "outputs": [
    {
     "data": {
      "text/html": [
       "<div>\n",
       "<table border=\"1\" class=\"dataframe\">\n",
       "  <thead>\n",
       "    <tr style=\"text-align: right;\">\n",
       "      <th></th>\n",
       "      <th>0</th>\n",
       "      <th>1</th>\n",
       "    </tr>\n",
       "  </thead>\n",
       "  <tbody>\n",
       "    <tr>\n",
       "      <th>0</th>\n",
       "      <td>2.118153</td>\n",
       "      <td>color_mean_blue</td>\n",
       "    </tr>\n",
       "    <tr>\n",
       "      <th>1</th>\n",
       "      <td>1.687500</td>\n",
       "      <td>HSV_hue</td>\n",
       "    </tr>\n",
       "    <tr>\n",
       "      <th>2</th>\n",
       "      <td>1.274579</td>\n",
       "      <td>contrast</td>\n",
       "    </tr>\n",
       "    <tr>\n",
       "      <th>3</th>\n",
       "      <td>0.881395</td>\n",
       "      <td>color_median_red</td>\n",
       "    </tr>\n",
       "    <tr>\n",
       "      <th>4</th>\n",
       "      <td>0.814303</td>\n",
       "      <td>color_hist_7</td>\n",
       "    </tr>\n",
       "    <tr>\n",
       "      <th>5</th>\n",
       "      <td>0.641601</td>\n",
       "      <td>contrast_0</td>\n",
       "    </tr>\n",
       "    <tr>\n",
       "      <th>6</th>\n",
       "      <td>0.356482</td>\n",
       "      <td>hue_hist_0</td>\n",
       "    </tr>\n",
       "    <tr>\n",
       "      <th>7</th>\n",
       "      <td>0.316009</td>\n",
       "      <td>HSV_saturation</td>\n",
       "    </tr>\n",
       "    <tr>\n",
       "      <th>8</th>\n",
       "      <td>0.259382</td>\n",
       "      <td>color_hist_9</td>\n",
       "    </tr>\n",
       "    <tr>\n",
       "      <th>9</th>\n",
       "      <td>0.248974</td>\n",
       "      <td>color_median_blue</td>\n",
       "    </tr>\n",
       "    <tr>\n",
       "      <th>10</th>\n",
       "      <td>0.161813</td>\n",
       "      <td>color_hist_8</td>\n",
       "    </tr>\n",
       "    <tr>\n",
       "      <th>11</th>\n",
       "      <td>0.080501</td>\n",
       "      <td>color_mean_red</td>\n",
       "    </tr>\n",
       "    <tr>\n",
       "      <th>12</th>\n",
       "      <td>0.048679</td>\n",
       "      <td>color_hist_0</td>\n",
       "    </tr>\n",
       "    <tr>\n",
       "      <th>13</th>\n",
       "      <td>-0.011925</td>\n",
       "      <td>color_median_green</td>\n",
       "    </tr>\n",
       "    <tr>\n",
       "      <th>14</th>\n",
       "      <td>-0.060410</td>\n",
       "      <td>color_hist_1</td>\n",
       "    </tr>\n",
       "    <tr>\n",
       "      <th>15</th>\n",
       "      <td>-0.098866</td>\n",
       "      <td>color_hist_2</td>\n",
       "    </tr>\n",
       "    <tr>\n",
       "      <th>16</th>\n",
       "      <td>-0.214441</td>\n",
       "      <td>brightness_mean</td>\n",
       "    </tr>\n",
       "    <tr>\n",
       "      <th>17</th>\n",
       "      <td>-0.237625</td>\n",
       "      <td>daisy_PCA5_0</td>\n",
       "    </tr>\n",
       "    <tr>\n",
       "      <th>18</th>\n",
       "      <td>-0.290313</td>\n",
       "      <td>hue_hist_1</td>\n",
       "    </tr>\n",
       "    <tr>\n",
       "      <th>19</th>\n",
       "      <td>-0.342048</td>\n",
       "      <td>color_hist_6</td>\n",
       "    </tr>\n",
       "    <tr>\n",
       "      <th>20</th>\n",
       "      <td>-0.395435</td>\n",
       "      <td>daisy_PCA5_3</td>\n",
       "    </tr>\n",
       "    <tr>\n",
       "      <th>21</th>\n",
       "      <td>-0.472753</td>\n",
       "      <td>hue_hist_3</td>\n",
       "    </tr>\n",
       "    <tr>\n",
       "      <th>22</th>\n",
       "      <td>-0.484452</td>\n",
       "      <td>daisy_PCA5_2</td>\n",
       "    </tr>\n",
       "    <tr>\n",
       "      <th>23</th>\n",
       "      <td>-0.506619</td>\n",
       "      <td>color_hist_10</td>\n",
       "    </tr>\n",
       "    <tr>\n",
       "      <th>24</th>\n",
       "      <td>-0.537593</td>\n",
       "      <td>color_mean_green</td>\n",
       "    </tr>\n",
       "    <tr>\n",
       "      <th>25</th>\n",
       "      <td>-0.655632</td>\n",
       "      <td>color_hist_4</td>\n",
       "    </tr>\n",
       "    <tr>\n",
       "      <th>26</th>\n",
       "      <td>-0.742981</td>\n",
       "      <td>daisy_PCA5_1</td>\n",
       "    </tr>\n",
       "    <tr>\n",
       "      <th>27</th>\n",
       "      <td>-0.755059</td>\n",
       "      <td>daisy_PCA5_4</td>\n",
       "    </tr>\n",
       "    <tr>\n",
       "      <th>28</th>\n",
       "      <td>-0.772194</td>\n",
       "      <td>hue_hist_2</td>\n",
       "    </tr>\n",
       "    <tr>\n",
       "      <th>29</th>\n",
       "      <td>-0.881155</td>\n",
       "      <td>HSV_value</td>\n",
       "    </tr>\n",
       "    <tr>\n",
       "      <th>30</th>\n",
       "      <td>-0.995401</td>\n",
       "      <td>color_hist_5</td>\n",
       "    </tr>\n",
       "    <tr>\n",
       "      <th>31</th>\n",
       "      <td>-1.024855</td>\n",
       "      <td>brightness_median</td>\n",
       "    </tr>\n",
       "    <tr>\n",
       "      <th>32</th>\n",
       "      <td>-1.068181</td>\n",
       "      <td>color_hist_3</td>\n",
       "    </tr>\n",
       "    <tr>\n",
       "      <th>33</th>\n",
       "      <td>-1.093353</td>\n",
       "      <td>color_hist_11</td>\n",
       "    </tr>\n",
       "  </tbody>\n",
       "</table>\n",
       "</div>"
      ],
      "text/plain": [
       "           0                   1\n",
       "0   2.118153     color_mean_blue\n",
       "1   1.687500             HSV_hue\n",
       "2   1.274579            contrast\n",
       "3   0.881395    color_median_red\n",
       "4   0.814303        color_hist_7\n",
       "5   0.641601          contrast_0\n",
       "6   0.356482          hue_hist_0\n",
       "7   0.316009      HSV_saturation\n",
       "8   0.259382        color_hist_9\n",
       "9   0.248974   color_median_blue\n",
       "10  0.161813        color_hist_8\n",
       "11  0.080501      color_mean_red\n",
       "12  0.048679        color_hist_0\n",
       "13 -0.011925  color_median_green\n",
       "14 -0.060410        color_hist_1\n",
       "15 -0.098866        color_hist_2\n",
       "16 -0.214441     brightness_mean\n",
       "17 -0.237625        daisy_PCA5_0\n",
       "18 -0.290313          hue_hist_1\n",
       "19 -0.342048        color_hist_6\n",
       "20 -0.395435        daisy_PCA5_3\n",
       "21 -0.472753          hue_hist_3\n",
       "22 -0.484452        daisy_PCA5_2\n",
       "23 -0.506619       color_hist_10\n",
       "24 -0.537593    color_mean_green\n",
       "25 -0.655632        color_hist_4\n",
       "26 -0.742981        daisy_PCA5_1\n",
       "27 -0.755059        daisy_PCA5_4\n",
       "28 -0.772194          hue_hist_2\n",
       "29 -0.881155           HSV_value\n",
       "30 -0.995401        color_hist_5\n",
       "31 -1.024855   brightness_median\n",
       "32 -1.068181        color_hist_3\n",
       "33 -1.093353       color_hist_11"
      ]
     },
     "execution_count": 197,
     "metadata": {},
     "output_type": "execute_result"
    }
   ],
   "source": [
    "feature_importances = model.coef_[0]\n",
    "feature_names = X.columns\n",
    "sorted_feature = pd.DataFrame(sorted(zip(feature_importances, feature_names), \n",
    "                                         key = lambda x:x[0], reverse = True)\n",
    "                                 )\n",
    "sorted_feature"
   ]
  },
  {
   "cell_type": "markdown",
   "metadata": {},
   "source": [
    "    # Insights from these features:\n",
    "    1) color_mean(blue, red, green) : positive coefficient-- lighter color - more popular\n",
    "    2) HSV_hue: positive coefficient--higher HSV, more popular\n",
    "    3) contrast: positive coefficient--higher, more popular"
   ]
  },
  {
   "cell_type": "markdown",
   "metadata": {},
   "source": [
    "# get gray_histgram of image"
   ]
  },
  {
   "cell_type": "code",
   "execution_count": 208,
   "metadata": {
    "collapsed": true
   },
   "outputs": [],
   "source": [
    "# write a function to get a color image's RGB color histogram:\n",
    "# each color, we will have 4 values( 4 bins, value is its corresponding normalized cnt)\n",
    "def get_gray_hist(color_image):\n",
    "    image = color.rgb2gray(color_image)\n",
    "\n",
    "#     #calculate histgram's value_counts for peaks in each color\n",
    "#     gray_hist_lst = [] # it will follow as gray picture for 4 features)\n",
    "    \n",
    "    \n",
    "    hist,bins = np.histogram(image,4,[0,1], normed= True, density= True)\n",
    "    unity_hist = hist / hist.sum()  # normalize it to make sure unity_hist.sum() = 1\n",
    "    \n",
    "    #return a 4 feature list\n",
    "    return unity_hist"
   ]
  },
  {
   "cell_type": "code",
   "execution_count": 211,
   "metadata": {
    "collapsed": false
   },
   "outputs": [
    {
     "name": "stdout",
     "output_type": "stream",
     "text": [
      "this takes 192.28 seconds\n"
     ]
    }
   ],
   "source": [
    "# item_lst = data_df.item_id  # list of item_id (9971 in total for now)\n",
    "# target = data_df.label  # y- final classification label\n",
    "\n",
    "start = time()\n",
    "gray_hist = [] # this is the final np.array for all images\n",
    "\n",
    "for i in np.arange(len(item_lst)):\n",
    "    image=loadImage(imgLoadPath,item_lst[i],type='.jpg')\n",
    "    if image is not None:\n",
    "        hue = get_gray_hist(image) # this is a list of length 48 features\n",
    "    gray_hist.append(hue)\n",
    "\n",
    "gray_hist = np.array(gray_hist)\n",
    "\n",
    "print(\"this takes %.2f seconds\" %(time()-start)) "
   ]
  },
  {
   "cell_type": "code",
   "execution_count": 212,
   "metadata": {
    "collapsed": false
   },
   "outputs": [
    {
     "data": {
      "text/plain": [
       "(9971, 4)"
      ]
     },
     "execution_count": 212,
     "metadata": {},
     "output_type": "execute_result"
    }
   ],
   "source": [
    "gray_hist.shape"
   ]
  },
  {
   "cell_type": "code",
   "execution_count": 213,
   "metadata": {
    "collapsed": true
   },
   "outputs": [],
   "source": [
    "\n",
    "gray_hist = pd.DataFrame(gray_hist)\n",
    "gray_hist.columns = ['gray_hist_' + str(i) for i in np.arange(gray_hist.shape[1])]"
   ]
  },
  {
   "cell_type": "code",
   "execution_count": null,
   "metadata": {
    "collapsed": true
   },
   "outputs": [],
   "source": [
    "# reduce some features and see the outcome"
   ]
  },
  {
   "cell_type": "code",
   "execution_count": null,
   "metadata": {
    "collapsed": true
   },
   "outputs": [],
   "source": []
  },
  {
   "cell_type": "code",
   "execution_count": null,
   "metadata": {
    "collapsed": true
   },
   "outputs": [],
   "source": []
  },
  {
   "cell_type": "code",
   "execution_count": 214,
   "metadata": {
    "collapsed": false
   },
   "outputs": [
    {
     "name": "stdout",
     "output_type": "stream",
     "text": [
      "<class 'pandas.core.frame.DataFrame'> (9971, 26)\n",
      "<class 'pandas.core.series.Series'> (9971,)\n",
      "training size: 7976\n",
      "test size: 1995\n",
      "number of features: 26\n"
     ]
    }
   ],
   "source": [
    "X = pd.concat([gray_hist, color_mean,\n",
    "               brightness, HSV, RMScontrast, \n",
    "               contrast, hue_hist,daisy_PCA_5 ],axis = 1)\n",
    "\n",
    "y = target\n",
    "\n",
    "print type(X), X.shape\n",
    "print type(y), y.shape\n",
    "from sklearn.cross_validation import train_test_split\n",
    "X_train, X_test, y_train, y_test = train_test_split(X, y, test_size=0.2, random_state=0)\n",
    "\n",
    "print (\"training size: %d\" % X_train.shape[0])\n",
    "print (\"test size: %d\" % X_test.shape[0])\n",
    "print ('number of features: %d' % X_train.shape[1])\n"
   ]
  },
  {
   "cell_type": "code",
   "execution_count": 221,
   "metadata": {
    "collapsed": false
   },
   "outputs": [
    {
     "name": "stdout",
     "output_type": "stream",
     "text": [
      "test dataset accuracy score: 0.542\n"
     ]
    }
   ],
   "source": [
    "scaler = StandardScaler(with_mean=True, with_std=True)\n",
    "\n",
    "X_train_standardized = scaler.fit_transform(X_train)\n",
    "\n",
    "# step 2: train on logreg with best parameters\n",
    "logreg = LogisticRegression(C = 10, random_state= 1234)\n",
    "model = logreg.fit(X_train, y_train)\n",
    "\n",
    "# see the real accuracy on test dataset: 0.54 --logistic regression-Daisy_PCA_2\n",
    "\n",
    "from sklearn.metrics import accuracy_score\n",
    "\n",
    "y_pred = model.predict(X_test)\n",
    "\n",
    "score = accuracy_score(y_test, y_pred)\n",
    "\n",
    "print(\"test dataset accuracy score: %.3f\" %score)"
   ]
  },
  {
   "cell_type": "code",
   "execution_count": 222,
   "metadata": {
    "collapsed": false
   },
   "outputs": [
    {
     "data": {
      "image/png": "[encoded data removed]",
      "text/plain": [
       "<matplotlib.figure.Figure at 0x11de6e6d0>"
      ]
     },
     "metadata": {},
     "output_type": "display_data"
    }
   ],
   "source": [
    "y_pred_prob = model.predict_proba(X_test)\n",
    "plot_roc_curve(y_test, y_pred_prob)"
   ]
  },
  {
   "cell_type": "code",
   "execution_count": 223,
   "metadata": {
    "collapsed": false
   },
   "outputs": [
    {
     "data": {
      "image/png": "[encoded data removed]",
      "text/plain": [
       "<matplotlib.figure.Figure at 0x11ec39c90>"
      ]
     },
     "metadata": {},
     "output_type": "display_data"
    }
   ],
   "source": [
    "feature_names = X.columns # plot logistic regression importance\n",
    "plot_feature_importance_logreg(model.coef_, feature_names)"
   ]
  },
  {
   "cell_type": "code",
   "execution_count": null,
   "metadata": {
    "collapsed": true
   },
   "outputs": [],
   "source": []
  },
  {
   "cell_type": "code",
   "execution_count": null,
   "metadata": {
    "collapsed": true
   },
   "outputs": [],
   "source": [
    "# get "
   ]
  },
  {
   "cell_type": "code",
   "execution_count": 263,
   "metadata": {
    "collapsed": false
   },
   "outputs": [
    {
     "name": "stdout",
     "output_type": "stream",
     "text": [
      "<class 'pandas.core.frame.DataFrame'> (9971, 15)\n",
      "<class 'pandas.core.series.Series'> (9971,)\n"
     ]
    }
   ],
   "source": [
    "X = pd.concat([ brightness,\n",
    "#                 gray_hist,\n",
    "               HSV, \n",
    "                RMScontrast, \n",
    "                hue_hist,\n",
    "                daisy_PCA_5 ],axis = 1)\n",
    "\n",
    "y = target\n",
    "\n",
    "print type(X), X.shape\n",
    "print type(y), y.shape"
   ]
  },
  {
   "cell_type": "code",
   "execution_count": 264,
   "metadata": {
    "collapsed": false
   },
   "outputs": [
    {
     "name": "stdout",
     "output_type": "stream",
     "text": [
      "training size: 7976\n",
      "test size: 1995\n",
      "number of features: 15\n"
     ]
    }
   ],
   "source": [
    "from sklearn.cross_validation import train_test_split\n",
    "X_train, X_test, y_train, y_test = train_test_split(X, y, test_size=0.2, random_state=0)\n",
    "\n",
    "print (\"training size: %d\" % X_train.shape[0])\n",
    "print (\"test size: %d\" % X_test.shape[0])\n",
    "print ('number of features: %d' % X_train.shape[1])"
   ]
  },
  {
   "cell_type": "code",
   "execution_count": 265,
   "metadata": {
    "collapsed": false
   },
   "outputs": [
    {
     "name": "stdout",
     "output_type": "stream",
     "text": [
      "test dataset accuracy score: 0.540\n"
     ]
    }
   ],
   "source": [
    "scaler = StandardScaler(with_mean=True, with_std=True)\n",
    "\n",
    "X_train_standardized = scaler.fit_transform(X_train)\n",
    "\n",
    "# step 2: train on logreg with best parameters\n",
    "logreg = LogisticRegression(C = 10, random_state= 1234)\n",
    "model = logreg.fit(X_train, y_train)\n",
    "\n",
    "# see the real accuracy on test dataset: 0.54 --logistic regression-Daisy_PCA_2\n",
    "\n",
    "from sklearn.metrics import accuracy_score\n",
    "\n",
    "y_pred = model.predict(X_test)\n",
    "\n",
    "score = accuracy_score(y_test, y_pred)\n",
    "\n",
    "print(\"test dataset accuracy score: %.3f\" %score)\n"
   ]
  },
  {
   "cell_type": "code",
   "execution_count": 266,
   "metadata": {
    "collapsed": false
   },
   "outputs": [
    {
     "data": {
      "image/png": "[encoded data removed]",
      "text/plain": [
       "<matplotlib.figure.Figure at 0x11df7ef10>"
      ]
     },
     "metadata": {},
     "output_type": "display_data"
    }
   ],
   "source": [
    "y_pred_prob = model.predict_proba(X_test)\n",
    "plot_roc_curve(y_test, y_pred_prob)"
   ]
  },
  {
   "cell_type": "code",
   "execution_count": 267,
   "metadata": {
    "collapsed": false
   },
   "outputs": [
    {
     "data": {
      "image/png": "[encoded data removed]",
      "text/plain": [
       "<matplotlib.figure.Figure at 0x11dfaae10>"
      ]
     },
     "metadata": {},
     "output_type": "display_data"
    }
   ],
   "source": [
    "feature_names = X.columns # plot logistic regression importance\n",
    "plot_feature_importance_logreg(model.coef_, feature_names)"
   ]
  },
  {
   "cell_type": "code",
   "execution_count": 268,
   "metadata": {
    "collapsed": false
   },
   "outputs": [
    {
     "data": {
      "text/html": [
       "<div>\n",
       "<table border=\"1\" class=\"dataframe\">\n",
       "  <thead>\n",
       "    <tr style=\"text-align: right;\">\n",
       "      <th></th>\n",
       "      <th>0</th>\n",
       "      <th>1</th>\n",
       "    </tr>\n",
       "  </thead>\n",
       "  <tbody>\n",
       "    <tr>\n",
       "      <th>0</th>\n",
       "      <td>1.725612</td>\n",
       "      <td>contrast_0</td>\n",
       "    </tr>\n",
       "    <tr>\n",
       "      <th>1</th>\n",
       "      <td>1.703473</td>\n",
       "      <td>HSV_hue</td>\n",
       "    </tr>\n",
       "    <tr>\n",
       "      <th>2</th>\n",
       "      <td>1.491018</td>\n",
       "      <td>brightness_mean</td>\n",
       "    </tr>\n",
       "    <tr>\n",
       "      <th>3</th>\n",
       "      <td>0.413970</td>\n",
       "      <td>hue_hist_0</td>\n",
       "    </tr>\n",
       "    <tr>\n",
       "      <th>4</th>\n",
       "      <td>0.340621</td>\n",
       "      <td>HSV_saturation</td>\n",
       "    </tr>\n",
       "    <tr>\n",
       "      <th>5</th>\n",
       "      <td>-0.010101</td>\n",
       "      <td>daisy_PCA5_0</td>\n",
       "    </tr>\n",
       "    <tr>\n",
       "      <th>6</th>\n",
       "      <td>-0.036954</td>\n",
       "      <td>hue_hist_1</td>\n",
       "    </tr>\n",
       "    <tr>\n",
       "      <th>7</th>\n",
       "      <td>-0.110010</td>\n",
       "      <td>brightness_median</td>\n",
       "    </tr>\n",
       "    <tr>\n",
       "      <th>8</th>\n",
       "      <td>-0.255403</td>\n",
       "      <td>hue_hist_3</td>\n",
       "    </tr>\n",
       "    <tr>\n",
       "      <th>9</th>\n",
       "      <td>-0.419605</td>\n",
       "      <td>daisy_PCA5_3</td>\n",
       "    </tr>\n",
       "    <tr>\n",
       "      <th>10</th>\n",
       "      <td>-0.524688</td>\n",
       "      <td>hue_hist_2</td>\n",
       "    </tr>\n",
       "    <tr>\n",
       "      <th>11</th>\n",
       "      <td>-0.579051</td>\n",
       "      <td>daisy_PCA5_2</td>\n",
       "    </tr>\n",
       "    <tr>\n",
       "      <th>12</th>\n",
       "      <td>-0.808793</td>\n",
       "      <td>daisy_PCA5_1</td>\n",
       "    </tr>\n",
       "    <tr>\n",
       "      <th>13</th>\n",
       "      <td>-0.843370</td>\n",
       "      <td>daisy_PCA5_4</td>\n",
       "    </tr>\n",
       "    <tr>\n",
       "      <th>14</th>\n",
       "      <td>-1.852336</td>\n",
       "      <td>HSV_value</td>\n",
       "    </tr>\n",
       "  </tbody>\n",
       "</table>\n",
       "</div>"
      ],
      "text/plain": [
       "           0                  1\n",
       "0   1.725612         contrast_0\n",
       "1   1.703473            HSV_hue\n",
       "2   1.491018    brightness_mean\n",
       "3   0.413970         hue_hist_0\n",
       "4   0.340621     HSV_saturation\n",
       "5  -0.010101       daisy_PCA5_0\n",
       "6  -0.036954         hue_hist_1\n",
       "7  -0.110010  brightness_median\n",
       "8  -0.255403         hue_hist_3\n",
       "9  -0.419605       daisy_PCA5_3\n",
       "10 -0.524688         hue_hist_2\n",
       "11 -0.579051       daisy_PCA5_2\n",
       "12 -0.808793       daisy_PCA5_1\n",
       "13 -0.843370       daisy_PCA5_4\n",
       "14 -1.852336          HSV_value"
      ]
     },
     "execution_count": 268,
     "metadata": {},
     "output_type": "execute_result"
    }
   ],
   "source": [
    "feature_importances = model.coef_[0]\n",
    "feature_names = X.columns\n",
    "sorted_feature = pd.DataFrame(sorted(zip(feature_importances, feature_names), \n",
    "                                         key = lambda x:x[0], reverse = True)\n",
    "                                 )\n",
    "sorted_feature"
   ]
  },
  {
   "cell_type": "markdown",
   "metadata": {},
   "source": [
    "# another try without HSV(maybe easier to explain)"
   ]
  },
  {
   "cell_type": "code",
   "execution_count": null,
   "metadata": {
    "collapsed": true
   },
   "outputs": [],
   "source": [
    "Save this dataset as pd.Dataframe"
   ]
  },
  {
   "cell_type": "code",
   "execution_count": 312,
   "metadata": {
    "collapsed": false
   },
   "outputs": [
    {
     "data": {
      "text/plain": [
       "(9971,)"
      ]
     },
     "execution_count": 312,
     "metadata": {},
     "output_type": "execute_result"
    }
   ],
   "source": [
    "# X = pd.concat([color_hist, color_mean,\n",
    "#                brightness, RMScontrast, \n",
    "#               hue_hist,daisy_PCA_5],axis = 1)\n",
    "\n",
    "# y = target\n",
    "\n",
    "X.to_csv('saved_file/training_1.csv', index = False)\n",
    "y.to_csv('saved_file/label.csv', index = False)\n",
    "\n",
    "X.shape\n",
    "y.shape"
   ]
  },
  {
   "cell_type": "code",
   "execution_count": 313,
   "metadata": {
    "collapsed": false
   },
   "outputs": [
    {
     "data": {
      "text/html": [
       "<div>\n",
       "<table border=\"1\" class=\"dataframe\">\n",
       "  <thead>\n",
       "    <tr style=\"text-align: right;\">\n",
       "      <th></th>\n",
       "      <th>brightness_mean</th>\n",
       "      <th>brightness_median</th>\n",
       "    </tr>\n",
       "  </thead>\n",
       "  <tbody>\n",
       "    <tr>\n",
       "      <th>0</th>\n",
       "      <td>0.725045</td>\n",
       "      <td>0.767913</td>\n",
       "    </tr>\n",
       "    <tr>\n",
       "      <th>1</th>\n",
       "      <td>0.298727</td>\n",
       "      <td>0.279292</td>\n",
       "    </tr>\n",
       "  </tbody>\n",
       "</table>\n",
       "</div>"
      ],
      "text/plain": [
       "   brightness_mean  brightness_median\n",
       "0         0.725045           0.767913\n",
       "1         0.298727           0.279292"
      ]
     },
     "execution_count": 313,
     "metadata": {},
     "output_type": "execute_result"
    }
   ],
   "source": [
    "brightness.head(2)"
   ]
  },
  {
   "cell_type": "code",
   "execution_count": 315,
   "metadata": {
    "collapsed": false
   },
   "outputs": [
    {
     "data": {
      "text/html": [
       "<div>\n",
       "<table border=\"1\" class=\"dataframe\">\n",
       "  <thead>\n",
       "    <tr style=\"text-align: right;\">\n",
       "      <th></th>\n",
       "      <th>color_mean_red</th>\n",
       "      <th>color_median_red</th>\n",
       "      <th>color_mean_green</th>\n",
       "      <th>color_median_green</th>\n",
       "      <th>color_mean_blue</th>\n",
       "      <th>color_median_blue</th>\n",
       "    </tr>\n",
       "  </thead>\n",
       "  <tbody>\n",
       "    <tr>\n",
       "      <th>0</th>\n",
       "      <td>0.734114</td>\n",
       "      <td>0.772549</td>\n",
       "      <td>0.723753</td>\n",
       "      <td>0.768627</td>\n",
       "      <td>0.711134</td>\n",
       "      <td>0.768627</td>\n",
       "    </tr>\n",
       "    <tr>\n",
       "      <th>1</th>\n",
       "      <td>0.315651</td>\n",
       "      <td>0.286275</td>\n",
       "      <td>0.293695</td>\n",
       "      <td>0.274510</td>\n",
       "      <td>0.298740</td>\n",
       "      <td>0.294118</td>\n",
       "    </tr>\n",
       "    <tr>\n",
       "      <th>2</th>\n",
       "      <td>0.449377</td>\n",
       "      <td>0.486275</td>\n",
       "      <td>0.392159</td>\n",
       "      <td>0.321569</td>\n",
       "      <td>0.357678</td>\n",
       "      <td>0.258824</td>\n",
       "    </tr>\n",
       "  </tbody>\n",
       "</table>\n",
       "</div>"
      ],
      "text/plain": [
       "   color_mean_red  color_median_red  color_mean_green  color_median_green  \\\n",
       "0        0.734114          0.772549          0.723753            0.768627   \n",
       "1        0.315651          0.286275          0.293695            0.274510   \n",
       "2        0.449377          0.486275          0.392159            0.321569   \n",
       "\n",
       "   color_mean_blue  color_median_blue  \n",
       "0         0.711134           0.768627  \n",
       "1         0.298740           0.294118  \n",
       "2         0.357678           0.258824  "
      ]
     },
     "execution_count": 315,
     "metadata": {},
     "output_type": "execute_result"
    }
   ],
   "source": [
    "color_mean.head(3)"
   ]
  },
  {
   "cell_type": "code",
   "execution_count": 306,
   "metadata": {
    "collapsed": false
   },
   "outputs": [
    {
     "name": "stdout",
     "output_type": "stream",
     "text": [
      "<class 'pandas.core.frame.DataFrame'> (9971, 30)\n",
      "<class 'pandas.core.series.Series'> (9971,)\n",
      "training size: 7976\n",
      "test size: 1995\n",
      "number of features: 30\n"
     ]
    }
   ],
   "source": [
    "X = pd.concat([color_hist, color_mean,\n",
    "               brightness, RMScontrast, \n",
    "              hue_hist,daisy_PCA_5],axis = 1)\n",
    "\n",
    "y = target\n",
    "\n",
    "print type(X), X.shape\n",
    "print type(y), y.shape\n",
    "from sklearn.cross_validation import train_test_split\n",
    "X_train, X_test, y_train, y_test = train_test_split(X, y, test_size=0.2, random_state=0)\n",
    "\n",
    "print (\"training size: %d\" % X_train.shape[0])\n",
    "print (\"test size: %d\" % X_test.shape[0])\n",
    "print ('number of features: %d' % X_train.shape[1])\n"
   ]
  },
  {
   "cell_type": "code",
   "execution_count": 307,
   "metadata": {
    "collapsed": false
   },
   "outputs": [
    {
     "name": "stdout",
     "output_type": "stream",
     "text": [
      "test dataset accuracy score: 0.548\n"
     ]
    }
   ],
   "source": [
    "scaler = StandardScaler(with_mean=True, with_std=True)\n",
    "\n",
    "X_train_standardized = scaler.fit_transform(X_train)\n",
    "\n",
    "# step 2: train on logreg with best parameters\n",
    "logreg = LogisticRegression(C = 9, random_state= 1234)\n",
    "model = logreg.fit(X_train, y_train)\n",
    "\n",
    "# see the real accuracy on test dataset: 0.54 --logistic regression-Daisy_PCA_2\n",
    "\n",
    "from sklearn.metrics import accuracy_score\n",
    "\n",
    "y_pred = model.predict(X_test)\n",
    "\n",
    "score = accuracy_score(y_test, y_pred)\n",
    "\n",
    "print(\"test dataset accuracy score: %.3f\" %score)"
   ]
  },
  {
   "cell_type": "code",
   "execution_count": 308,
   "metadata": {
    "collapsed": false
   },
   "outputs": [
    {
     "data": {
      "image/png": "[encoded data removed]",
      "text/plain": [
       "<matplotlib.figure.Figure at 0x11e40c410>"
      ]
     },
     "metadata": {},
     "output_type": "display_data"
    }
   ],
   "source": [
    "y_pred_prob = model.predict_proba(X_test)\n",
    "plot_roc_curve(y_test, y_pred_prob)"
   ]
  },
  {
   "cell_type": "code",
   "execution_count": 309,
   "metadata": {
    "collapsed": false
   },
   "outputs": [
    {
     "data": {
      "image/png": "[encoded data removed]",
      "text/plain": [
       "<matplotlib.figure.Figure at 0x11db81450>"
      ]
     },
     "metadata": {},
     "output_type": "display_data"
    }
   ],
   "source": [
    "feature_names = X.columns # plot logistic regression importance\n",
    "plot_feature_importance_logreg(model.coef_, feature_names)"
   ]
  },
  {
   "cell_type": "code",
   "execution_count": 310,
   "metadata": {
    "collapsed": false
   },
   "outputs": [
    {
     "name": "stdout",
     "output_type": "stream",
     "text": [
      "             precision    recall  f1-score   support\n",
      "\n",
      "  unpopular       0.56      0.53      0.55      1027\n",
      "    popular       0.53      0.56      0.55       968\n",
      "\n",
      "avg / total       0.55      0.55      0.55      1995\n",
      "\n"
     ]
    }
   ],
   "source": [
    "from sklearn.metrics import classification_report\n",
    "y_pred = model.predict(X_test)\n",
    "target_names = ['unpopular', 'popular']\n",
    "print(classification_report(y_test, y_pred, target_names=target_names))"
   ]
  },
  {
   "cell_type": "code",
   "execution_count": null,
   "metadata": {
    "collapsed": true
   },
   "outputs": [],
   "source": []
  },
  {
   "cell_type": "code",
   "execution_count": 305,
   "metadata": {
    "collapsed": true
   },
   "outputs": [],
   "source": [
    "# try new daisy_PCA_2 (new Daisy-50 components) --not so good\n"
   ]
  },
  {
   "cell_type": "code",
   "execution_count": null,
   "metadata": {
    "collapsed": true
   },
   "outputs": [],
   "source": []
  }
 ],
 "metadata": {
  "kernelspec": {
   "display_name": "Python [default]",
   "language": "python",
   "name": "python2"
  },
  "language_info": {
   "codemirror_mode": {
    "name": "ipython",
    "version": 2
   },
   "file_extension": ".py",
   "mimetype": "text/x-python",
   "name": "python",
   "nbconvert_exporter": "python",
   "pygments_lexer": "ipython2",
   "version": "2.7.13"
  }
 },
 "nbformat": 4,
 "nbformat_minor": 2
}
